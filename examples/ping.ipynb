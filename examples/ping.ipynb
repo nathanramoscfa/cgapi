{
 "cells": [
  {
   "cell_type": "markdown",
   "id": "3911fc36-6219-4a26-bfc9-77f94e6feb38",
   "metadata": {},
   "source": [
    "# Ping"
   ]
  },
  {
   "cell_type": "code",
   "execution_count": 1,
   "id": "e615a559-cdc4-4440-b1a0-8dc0494e328a",
   "metadata": {},
   "outputs": [],
   "source": [
    "import sys\n",
    "sys.path.append('..')  # Add the parent directory to the Python path\n",
    "\n",
    "import keyring\n",
    "from pycgapi import CoinGeckoAPI"
   ]
  },
  {
   "cell_type": "code",
   "execution_count": 2,
   "id": "9536e1f4-52be-4ddb-ad12-8ced596b5264",
   "metadata": {
    "tags": []
   },
   "outputs": [],
   "source": [
    "# Fetch the API key securely using keyring\n",
    "api_key = keyring.get_password('coingecko', 'analyst_api_key')\n",
    "\n",
    "# Initialize the CoinGeckoAPI class\n",
    "cg = CoinGeckoAPI(api_key, pro_api=True)"
   ]
  },
  {
   "cell_type": "markdown",
   "id": "913c27c2-20b6-402e-b3bd-888ffc67b2e2",
   "metadata": {},
   "source": [
    "## /ping\n",
    "https://docs.coingecko.com/reference/ping-server"
   ]
  },
  {
   "cell_type": "code",
   "execution_count": 3,
   "id": "01c2bb9c-84df-4f5c-a596-b94de2f342e3",
   "metadata": {},
   "outputs": [
    {
     "name": "stdout",
     "output_type": "stream",
     "text": [
      "API Server Status: {'gecko_says': '(V3) To the Moon!'}\n"
     ]
    }
   ],
   "source": [
    "# Use the ping method to check the API server status\n",
    "status = cg.ping.ping()\n",
    "\n",
    "# Print the status to see the API response\n",
    "print(\"API Server Status:\", status)"
   ]
  },
  {
   "cell_type": "markdown",
   "id": "3dd96ba1-d591-41e4-9735-4e0f9ae601c0",
   "metadata": {},
   "source": [
    "## Close Session"
   ]
  },
  {
   "cell_type": "code",
   "execution_count": 4,
   "id": "ad5f12a7-c9ba-4058-b7be-db7287b34a7e",
   "metadata": {},
   "outputs": [
    {
     "data": {
      "text/plain": [
       "'Session closed successfully.'"
      ]
     },
     "execution_count": 4,
     "metadata": {},
     "output_type": "execute_result"
    }
   ],
   "source": [
    "cg.end_session()"
   ]
  },
  {
   "cell_type": "code",
   "execution_count": null,
   "id": "a2c9effe-4557-49e3-90f9-fc2d0ed4ebfc",
   "metadata": {},
   "outputs": [],
   "source": []
  }
 ],
 "metadata": {
  "kernelspec": {
   "display_name": "Python 3 (ipykernel)",
   "language": "python",
   "name": "python3"
  },
  "language_info": {
   "codemirror_mode": {
    "name": "ipython",
    "version": 3
   },
   "file_extension": ".py",
   "mimetype": "text/x-python",
   "name": "python",
   "nbconvert_exporter": "python",
   "pygments_lexer": "ipython3",
   "version": "3.11.3"
  }
 },
 "nbformat": 4,
 "nbformat_minor": 5
}
