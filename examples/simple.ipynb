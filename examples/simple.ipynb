{
 "cells": [
  {
   "cell_type": "markdown",
   "id": "d60fdc10-34d8-4d82-aedf-f3cdd1bafd35",
   "metadata": {},
   "source": [
    "# simple"
   ]
  },
  {
   "cell_type": "code",
   "execution_count": 1,
   "id": "c405bdab-79f0-400f-b1d7-4dfb64d3e02c",
   "metadata": {
    "ExecuteTime": {
     "end_time": "2024-01-06T06:58:42.761489800Z",
     "start_time": "2024-01-06T06:58:42.755982700Z"
    },
    "tags": []
   },
   "outputs": [],
   "source": [
    "import sys\n",
    "sys.path.append('..')  # This adds the parent directory to the Python path"
   ]
  },
  {
   "cell_type": "code",
   "execution_count": 2,
   "id": "af047fcc-1a38-41e1-a1ca-00e07867e109",
   "metadata": {
    "ExecuteTime": {
     "end_time": "2024-01-06T06:58:43.335078500Z",
     "start_time": "2024-01-06T06:58:42.761489800Z"
    }
   },
   "outputs": [],
   "source": [
    "import keyring\n",
    "from pycgapi import CoinGeckoAPI"
   ]
  },
  {
   "cell_type": "code",
   "execution_count": 3,
   "id": "183a92e4-2c5d-4a9f-bfde-3d3cf46d41ca",
   "metadata": {
    "ExecuteTime": {
     "end_time": "2024-01-06T06:58:45.516320800Z",
     "start_time": "2024-01-06T06:58:43.336078900Z"
    },
    "tags": []
   },
   "outputs": [],
   "source": [
    "api_key = keyring.get_password('coingecko', 'analyst_api_key')"
   ]
  },
  {
   "cell_type": "code",
   "execution_count": 4,
   "id": "7fbbf057-9b1d-4d2b-92e4-1915dc8f80ff",
   "metadata": {
    "ExecuteTime": {
     "end_time": "2024-01-06T06:58:46.058598400Z",
     "start_time": "2024-01-06T06:58:45.518319200Z"
    },
    "tags": []
   },
   "outputs": [
    {
     "name": "stdout",
     "output_type": "stream",
     "text": [
      "API Server Status: {'gecko_says': '(V3) To the Moon!'}\n"
     ]
    }
   ],
   "source": [
    "api = CoinGeckoAPI(api_key, pro_api=True)\n",
    "status = api.status_check()\n",
    "print(\"API Server Status:\", status)"
   ]
  },
  {
   "cell_type": "code",
   "execution_count": 5,
   "id": "48476495d15b1359",
   "metadata": {
    "collapsed": false,
    "jupyter": {
     "outputs_hidden": false
    }
   },
   "outputs": [],
   "source": [
    "coin_ids = ['bitcoin', 'ethereum', 'tether', 'binancecoin', 'solana']"
   ]
  },
  {
   "cell_type": "markdown",
   "id": "f38c6795bf3e52ba",
   "metadata": {},
   "source": [
    "## /simple/price"
   ]
  },
  {
   "cell_type": "code",
   "execution_count": 6,
   "id": "d9027c9f-456a-4f3f-a959-d8d4d3bb7229",
   "metadata": {
    "ExecuteTime": {
     "end_time": "2024-01-06T06:58:46.190696900Z",
     "start_time": "2024-01-06T06:58:46.059603100Z"
    },
    "tags": []
   },
   "outputs": [
    {
     "data": {
      "text/html": [
       "<div>\n",
       "<style scoped>\n",
       "    .dataframe tbody tr th:only-of-type {\n",
       "        vertical-align: middle;\n",
       "    }\n",
       "\n",
       "    .dataframe tbody tr th {\n",
       "        vertical-align: top;\n",
       "    }\n",
       "\n",
       "    .dataframe thead th {\n",
       "        text-align: right;\n",
       "    }\n",
       "</style>\n",
       "<table border=\"1\" class=\"dataframe\">\n",
       "  <thead>\n",
       "    <tr style=\"text-align: right;\">\n",
       "      <th></th>\n",
       "      <th>usd</th>\n",
       "    </tr>\n",
       "  </thead>\n",
       "  <tbody>\n",
       "    <tr>\n",
       "      <th>binancecoin</th>\n",
       "      <td>307.240</td>\n",
       "    </tr>\n",
       "    <tr>\n",
       "      <th>bitcoin</th>\n",
       "      <td>43899.000</td>\n",
       "    </tr>\n",
       "    <tr>\n",
       "      <th>ethereum</th>\n",
       "      <td>2241.540</td>\n",
       "    </tr>\n",
       "    <tr>\n",
       "      <th>solana</th>\n",
       "      <td>94.440</td>\n",
       "    </tr>\n",
       "    <tr>\n",
       "      <th>tether</th>\n",
       "      <td>1.001</td>\n",
       "    </tr>\n",
       "  </tbody>\n",
       "</table>\n",
       "</div>"
      ],
      "text/plain": [
       "                   usd\n",
       "binancecoin    307.240\n",
       "bitcoin      43899.000\n",
       "ethereum      2241.540\n",
       "solana          94.440\n",
       "tether           1.001"
      ]
     },
     "execution_count": 6,
     "metadata": {},
     "output_type": "execute_result"
    }
   ],
   "source": [
    "current_prices_default = api.simple_prices(coin_ids)\n",
    "current_prices_default"
   ]
  },
  {
   "cell_type": "markdown",
   "id": "f46d84ba-bd5c-4de2-ba27-bd13eb7cce2e",
   "metadata": {},
   "source": [
    "## /simple/token_price{id}"
   ]
  },
  {
   "cell_type": "code",
   "execution_count": 7,
   "id": "88eac18c-9633-41c1-a721-fd19bb57592e",
   "metadata": {
    "ExecuteTime": {
     "end_time": "2024-01-06T06:58:46.343499100Z",
     "start_time": "2024-01-06T06:58:46.188696900Z"
    },
    "tags": []
   },
   "outputs": [
    {
     "data": {
      "text/html": [
       "<div>\n",
       "<style scoped>\n",
       "    .dataframe tbody tr th:only-of-type {\n",
       "        vertical-align: middle;\n",
       "    }\n",
       "\n",
       "    .dataframe tbody tr th {\n",
       "        vertical-align: top;\n",
       "    }\n",
       "\n",
       "    .dataframe thead th {\n",
       "        text-align: right;\n",
       "    }\n",
       "</style>\n",
       "<table border=\"1\" class=\"dataframe\">\n",
       "  <thead>\n",
       "    <tr style=\"text-align: right;\">\n",
       "      <th></th>\n",
       "      <th>usd</th>\n",
       "    </tr>\n",
       "  </thead>\n",
       "  <tbody>\n",
       "    <tr>\n",
       "      <th>0x5a98fcbea516cf06857215779fd812ca3bef1b32</th>\n",
       "      <td>3.15</td>\n",
       "    </tr>\n",
       "  </tbody>\n",
       "</table>\n",
       "</div>"
      ],
      "text/plain": [
       "                                             usd\n",
       "0x5a98fcbea516cf06857215779fd812ca3bef1b32  3.15"
      ]
     },
     "execution_count": 7,
     "metadata": {},
     "output_type": "execute_result"
    }
   ],
   "source": [
    "ldo_contract_address = '0x5a98fcbea516cf06857215779fd812ca3bef1b32'  # LDO token contract address\n",
    "\n",
    "current_prices_by_contract = api.simple_prices(\n",
    "    coin_ids, \n",
    "    platform_id='ethereum', \n",
    "    contract_addresses=ldo_contract_address\n",
    ")\n",
    "current_prices_by_contract"
   ]
  },
  {
   "cell_type": "markdown",
   "id": "2a86e3c7-b978-4736-a868-0cb0b19e819c",
   "metadata": {},
   "source": [
    "## /simple/supported_vs_currencies"
   ]
  },
  {
   "cell_type": "code",
   "execution_count": 8,
   "id": "d4afb719-4354-486e-af0d-9afbb19f035d",
   "metadata": {
    "ExecuteTime": {
     "end_time": "2024-01-06T06:58:46.431436700Z",
     "start_time": "2024-01-06T06:58:46.340499500Z"
    },
    "tags": []
   },
   "outputs": [
    {
     "name": "stdout",
     "output_type": "stream",
     "text": [
      "Available Vs. Currencies: ['aed', 'ars', 'aud', 'bch', 'bdt', 'bhd', 'bits', 'bmd', 'bnb', 'brl', 'btc', 'cad', 'chf', 'clp', 'cny', 'czk', 'dkk', 'dot', 'eos', 'eth', 'eur', 'gbp', 'gel', 'hkd', 'huf', 'idr', 'ils', 'inr', 'jpy', 'krw', 'kwd', 'link', 'lkr', 'ltc', 'mmk', 'mxn', 'myr', 'ngn', 'nok', 'nzd', 'php', 'pkr', 'pln', 'rub', 'sar', 'sats', 'sek', 'sgd', 'thb', 'try', 'twd', 'uah', 'usd', 'vef', 'vnd', 'xag', 'xau', 'xdr', 'xlm', 'xrp', 'yfi', 'zar']\n"
     ]
    }
   ],
   "source": [
    "supported_vs_currencies = api.supported_currencies()\n",
    "print('Available Vs. Currencies: {}'.format(sorted(supported_vs_currencies)))"
   ]
  },
  {
   "cell_type": "code",
   "execution_count": 9,
   "id": "07812be9-48a8-4469-b117-1ffd1c673898",
   "metadata": {
    "ExecuteTime": {
     "end_time": "2024-01-06T06:58:46.431436700Z",
     "start_time": "2024-01-06T06:58:46.424969400Z"
    },
    "tags": []
   },
   "outputs": [
    {
     "data": {
      "text/plain": [
       "'Session closed successfully.'"
      ]
     },
     "execution_count": 9,
     "metadata": {},
     "output_type": "execute_result"
    }
   ],
   "source": [
    "api.end_session()"
   ]
  },
  {
   "cell_type": "code",
   "execution_count": null,
   "id": "5033d735-9279-44b2-adff-be3c4444e788",
   "metadata": {
    "ExecuteTime": {
     "end_time": "2024-01-06T06:58:46.431436700Z",
     "start_time": "2024-01-06T06:58:46.429928500Z"
    }
   },
   "outputs": [],
   "source": []
  }
 ],
 "metadata": {
  "kernelspec": {
   "display_name": "Python 3 (ipykernel)",
   "language": "python",
   "name": "python3"
  },
  "language_info": {
   "codemirror_mode": {
    "name": "ipython",
    "version": 3
   },
   "file_extension": ".py",
   "mimetype": "text/x-python",
   "name": "python",
   "nbconvert_exporter": "python",
   "pygments_lexer": "ipython3",
   "version": "3.11.3"
  }
 },
 "nbformat": 4,
 "nbformat_minor": 5
}
