{
 "cells": [
  {
   "cell_type": "markdown",
   "id": "0d730105-90a4-4d38-84e4-6e53792817a6",
   "metadata": {},
   "source": [
    "# simple"
   ]
  },
  {
   "cell_type": "code",
   "execution_count": 1,
   "id": "7d025e2b-ec99-4d08-a99e-aaaed2cdbf9b",
   "metadata": {},
   "outputs": [],
   "source": [
    "import sys\n",
    "from datetime import datetime, timedelta\n",
    "\n",
    "import keyring\n",
    "\n",
    "sys.path.append('../')\n",
    "\n",
    "from pycgapi import CoinGeckoAPI"
   ]
  },
  {
   "cell_type": "code",
   "execution_count": 2,
   "id": "1ce50dae-1f58-40ae-9fa2-2b6e3d00d04a",
   "metadata": {},
   "outputs": [],
   "source": [
    "# Fetch the API key securely using keyring\n",
    "api_key = keyring.get_password('coingecko', 'analyst_api_key')\n",
    "\n",
    "# Initialize the ContractData class with the fetched API key\n",
    "cg = CoinGeckoAPI(api_key, pro_api=True)"
   ]
  },
  {
   "cell_type": "code",
   "execution_count": 3,
   "id": "ba87738e-069f-42ae-b43c-5938a21235d1",
   "metadata": {},
   "outputs": [],
   "source": [
    "# Coins to look up\n",
    "coin_id = 'bitcoin'\n",
    "coin_ids = ['bitcoin', 'ethereum', 'solana']\n",
    "contract_address = '0x5a98fcbea516cf06857215779fd812ca3bef1b32'"
   ]
  },
  {
   "cell_type": "markdown",
   "id": "c5ad1f71-b6c2-40e7-bac2-9eed2b80139b",
   "metadata": {},
   "source": [
    "## /simple/price\n",
    "https://docs.coingecko.com/reference/simple-price"
   ]
  },
  {
   "cell_type": "code",
   "execution_count": 4,
   "id": "6e6e8fce-796f-4b50-a25e-9d3c8268b046",
   "metadata": {
    "tags": []
   },
   "outputs": [
    {
     "data": {
      "text/html": [
       "<div>\n",
       "<style scoped>\n",
       "    .dataframe tbody tr th:only-of-type {\n",
       "        vertical-align: middle;\n",
       "    }\n",
       "\n",
       "    .dataframe tbody tr th {\n",
       "        vertical-align: top;\n",
       "    }\n",
       "\n",
       "    .dataframe thead th {\n",
       "        text-align: right;\n",
       "    }\n",
       "</style>\n",
       "<table border=\"1\" class=\"dataframe\">\n",
       "  <thead>\n",
       "    <tr style=\"text-align: right;\">\n",
       "      <th></th>\n",
       "      <th>usd</th>\n",
       "    </tr>\n",
       "  </thead>\n",
       "  <tbody>\n",
       "    <tr>\n",
       "      <th>bitcoin</th>\n",
       "      <td>65063</td>\n",
       "    </tr>\n",
       "  </tbody>\n",
       "</table>\n",
       "</div>"
      ],
      "text/plain": [
       "           usd\n",
       "bitcoin  65063"
      ]
     },
     "execution_count": 4,
     "metadata": {},
     "output_type": "execute_result"
    }
   ],
   "source": [
    "# Fetch simple prices data for single ticker\n",
    "simple_price_single = cg.simple.simple_prices(coin_id)\n",
    "simple_price_single"
   ]
  },
  {
   "cell_type": "code",
   "execution_count": 5,
   "id": "3a491127-0bb2-4466-8ffd-11946f8645d1",
   "metadata": {},
   "outputs": [
    {
     "data": {
      "text/html": [
       "<div>\n",
       "<style scoped>\n",
       "    .dataframe tbody tr th:only-of-type {\n",
       "        vertical-align: middle;\n",
       "    }\n",
       "\n",
       "    .dataframe tbody tr th {\n",
       "        vertical-align: top;\n",
       "    }\n",
       "\n",
       "    .dataframe thead th {\n",
       "        text-align: right;\n",
       "    }\n",
       "</style>\n",
       "<table border=\"1\" class=\"dataframe\">\n",
       "  <thead>\n",
       "    <tr style=\"text-align: right;\">\n",
       "      <th></th>\n",
       "      <th>usd</th>\n",
       "    </tr>\n",
       "  </thead>\n",
       "  <tbody>\n",
       "    <tr>\n",
       "      <th>bitcoin</th>\n",
       "      <td>65063.00</td>\n",
       "    </tr>\n",
       "    <tr>\n",
       "      <th>ethereum</th>\n",
       "      <td>3152.92</td>\n",
       "    </tr>\n",
       "    <tr>\n",
       "      <th>solana</th>\n",
       "      <td>150.19</td>\n",
       "    </tr>\n",
       "  </tbody>\n",
       "</table>\n",
       "</div>"
      ],
      "text/plain": [
       "               usd\n",
       "bitcoin   65063.00\n",
       "ethereum   3152.92\n",
       "solana      150.19"
      ]
     },
     "execution_count": 5,
     "metadata": {},
     "output_type": "execute_result"
    }
   ],
   "source": [
    "# Fetch simple prices data for multiple tickers\n",
    "simple_prices_multiple = cg.simple.simple_prices(coin_ids)\n",
    "simple_prices_multiple"
   ]
  },
  {
   "cell_type": "markdown",
   "id": "72cc68cd-c494-4099-965e-00119f36105e",
   "metadata": {},
   "source": [
    "## /simple/token_price/{id}\n",
    "https://docs.coingecko.com/reference/simple-token-price"
   ]
  },
  {
   "cell_type": "code",
   "execution_count": 6,
   "id": "589d50d6-814b-4cfd-a719-8b55b5e6f40a",
   "metadata": {},
   "outputs": [
    {
     "data": {
      "text/html": [
       "<div>\n",
       "<style scoped>\n",
       "    .dataframe tbody tr th:only-of-type {\n",
       "        vertical-align: middle;\n",
       "    }\n",
       "\n",
       "    .dataframe tbody tr th {\n",
       "        vertical-align: top;\n",
       "    }\n",
       "\n",
       "    .dataframe thead th {\n",
       "        text-align: right;\n",
       "    }\n",
       "</style>\n",
       "<table border=\"1\" class=\"dataframe\">\n",
       "  <thead>\n",
       "    <tr style=\"text-align: right;\">\n",
       "      <th></th>\n",
       "      <th>usd</th>\n",
       "    </tr>\n",
       "  </thead>\n",
       "  <tbody>\n",
       "    <tr>\n",
       "      <th>0x5a98fcbea516cf06857215779fd812ca3bef1b32</th>\n",
       "      <td>2.12</td>\n",
       "    </tr>\n",
       "  </tbody>\n",
       "</table>\n",
       "</div>"
      ],
      "text/plain": [
       "                                             usd\n",
       "0x5a98fcbea516cf06857215779fd812ca3bef1b32  2.12"
      ]
     },
     "execution_count": 6,
     "metadata": {},
     "output_type": "execute_result"
    }
   ],
   "source": [
    "# Fetch simple prices data by coin contract address\n",
    "simple_prices_multiple = cg.simple.simple_prices(\n",
    "    platform_id='ethereum', \n",
    "    contract_addresses=contract_address\n",
    ")\n",
    "simple_prices_multiple"
   ]
  },
  {
   "cell_type": "markdown",
   "id": "4976fb4b-bad5-4331-800a-18982dc99f3d",
   "metadata": {},
   "source": [
    "## /simple/supported_vs_currencies\n",
    "https://docs.coingecko.com/reference/simple-supported-currencies"
   ]
  },
  {
   "cell_type": "code",
   "execution_count": 7,
   "id": "ccdaba61-e33c-4e5b-8150-17e0bfe078f6",
   "metadata": {
    "tags": []
   },
   "outputs": [
    {
     "name": "stdout",
     "output_type": "stream",
     "text": [
      "Available Vs. Currencies: ['aed', 'ars', 'aud', 'bch', 'bdt', 'bhd', 'bits', 'bmd', 'bnb', 'brl', 'btc', 'cad', 'chf', 'clp', 'cny', 'czk', 'dkk', 'dot', 'eos', 'eth', 'eur', 'gbp', 'gel', 'hkd', 'huf', 'idr', 'ils', 'inr', 'jpy', 'krw', 'kwd', 'link', 'lkr', 'ltc', 'mmk', 'mxn', 'myr', 'ngn', 'nok', 'nzd', 'php', 'pkr', 'pln', 'rub', 'sar', 'sats', 'sek', 'sgd', 'thb', 'try', 'twd', 'uah', 'usd', 'vef', 'vnd', 'xag', 'xau', 'xdr', 'xlm', 'xrp', 'yfi', 'zar']\n"
     ]
    }
   ],
   "source": [
    "# Fetch supported vs_currencies\n",
    "supported_currencies = cg.simple.supported_currencies()\n",
    "print('Available Vs. Currencies: {}'.format(sorted(supported_currencies)))"
   ]
  },
  {
   "cell_type": "markdown",
   "id": "f0d4eee4-6d4b-472a-bfeb-a32e5992f3b2",
   "metadata": {},
   "source": [
    "## Close Session"
   ]
  },
  {
   "cell_type": "code",
   "execution_count": 8,
   "id": "33c0fb21-83ef-45e6-ab64-078c7bd56363",
   "metadata": {},
   "outputs": [
    {
     "data": {
      "text/plain": [
       "'Session closed successfully.'"
      ]
     },
     "execution_count": 8,
     "metadata": {},
     "output_type": "execute_result"
    }
   ],
   "source": [
    "cg.end_session()"
   ]
  },
  {
   "cell_type": "code",
   "execution_count": null,
   "id": "c18d4a26-2c47-423f-951a-69a58087f520",
   "metadata": {},
   "outputs": [],
   "source": []
  }
 ],
 "metadata": {
  "kernelspec": {
   "display_name": "Python 3 (ipykernel)",
   "language": "python",
   "name": "python3"
  },
  "language_info": {
   "codemirror_mode": {
    "name": "ipython",
    "version": 3
   },
   "file_extension": ".py",
   "mimetype": "text/x-python",
   "name": "python",
   "nbconvert_exporter": "python",
   "pygments_lexer": "ipython3",
   "version": "3.11.3"
  }
 },
 "nbformat": 4,
 "nbformat_minor": 5
}
