{
 "cells": [
  {
   "cell_type": "markdown",
   "id": "83392765-5258-41f6-84c6-fda09011c214",
   "metadata": {},
   "source": [
    "# asset_platforms"
   ]
  },
  {
   "cell_type": "code",
   "execution_count": 1,
   "id": "ffe32cea-5a77-4928-ba2e-41863bb07e87",
   "metadata": {
    "ExecuteTime": {
     "end_time": "2024-01-06T07:21:27.742938400Z",
     "start_time": "2024-01-06T07:21:27.739151300Z"
    },
    "tags": []
   },
   "outputs": [],
   "source": [
    "import sys\n",
    "sys.path.append('..')  # This adds the parent directory to the Python path"
   ]
  },
  {
   "cell_type": "code",
   "execution_count": 2,
   "id": "0193ec7d-530d-465a-8706-fed03fe072d9",
   "metadata": {
    "ExecuteTime": {
     "end_time": "2024-01-06T07:21:28.300963400Z",
     "start_time": "2024-01-06T07:21:27.742938400Z"
    }
   },
   "outputs": [],
   "source": [
    "import keyring\n",
    "from coingeckoapi import CoinGeckoAPI"
   ]
  },
  {
   "cell_type": "code",
   "execution_count": 3,
   "id": "944a0a6a-444e-4d5e-a8a3-6aa6360fe93e",
   "metadata": {
    "ExecuteTime": {
     "end_time": "2024-01-06T07:21:30.493242200Z",
     "start_time": "2024-01-06T07:21:28.301963600Z"
    },
    "tags": []
   },
   "outputs": [],
   "source": [
    "api_key = keyring.get_password('coingecko', 'analyst_api_key')"
   ]
  },
  {
   "cell_type": "code",
   "execution_count": 4,
   "id": "cf74c8cc-d46f-4983-b8c7-c9b14d921dbb",
   "metadata": {
    "ExecuteTime": {
     "end_time": "2024-01-06T07:21:31.135196Z",
     "start_time": "2024-01-06T07:21:30.495750800Z"
    },
    "tags": []
   },
   "outputs": [
    {
     "name": "stdout",
     "output_type": "stream",
     "text": [
      "API Server Status: {'gecko_says': '(V3) To the Moon!'}\n"
     ]
    }
   ],
   "source": [
    "api = CoinGeckoAPI(api_key, pro_api=True)\n",
    "status = api.status_check()\n",
    "print(\"API Server Status:\", status)"
   ]
  },
  {
   "cell_type": "markdown",
   "id": "0d78cbc3-9bc8-4f3d-9fc6-6c051be9bc98",
   "metadata": {},
   "source": [
    "## /asset_platforms"
   ]
  },
  {
   "cell_type": "code",
   "execution_count": 5,
   "id": "1ecd2dcb-5882-4c23-ae74-5fe8d44c121f",
   "metadata": {
    "ExecuteTime": {
     "end_time": "2024-01-06T07:21:31.220077500Z",
     "start_time": "2024-01-06T07:21:31.133669200Z"
    },
    "tags": []
   },
   "outputs": [
    {
     "data": {
      "text/html": [
       "<div>\n",
       "<style scoped>\n",
       "    .dataframe tbody tr th:only-of-type {\n",
       "        vertical-align: middle;\n",
       "    }\n",
       "\n",
       "    .dataframe tbody tr th {\n",
       "        vertical-align: top;\n",
       "    }\n",
       "\n",
       "    .dataframe thead th {\n",
       "        text-align: right;\n",
       "    }\n",
       "</style>\n",
       "<table border=\"1\" class=\"dataframe\">\n",
       "  <thead>\n",
       "    <tr style=\"text-align: right;\">\n",
       "      <th></th>\n",
       "      <th>id</th>\n",
       "      <th>chain_identifier</th>\n",
       "      <th>name</th>\n",
       "      <th>shortname</th>\n",
       "      <th>native_coin_id</th>\n",
       "    </tr>\n",
       "  </thead>\n",
       "  <tbody>\n",
       "    <tr>\n",
       "      <th>0</th>\n",
       "      <td>flow</td>\n",
       "      <td>NaN</td>\n",
       "      <td>Flow</td>\n",
       "      <td></td>\n",
       "      <td>flow</td>\n",
       "    </tr>\n",
       "    <tr>\n",
       "      <th>1</th>\n",
       "      <td></td>\n",
       "      <td>NaN</td>\n",
       "      <td>Picasso</td>\n",
       "      <td></td>\n",
       "      <td>picasso</td>\n",
       "    </tr>\n",
       "    <tr>\n",
       "      <th>2</th>\n",
       "      <td>factom</td>\n",
       "      <td>NaN</td>\n",
       "      <td>Factom</td>\n",
       "      <td></td>\n",
       "      <td>factom</td>\n",
       "    </tr>\n",
       "    <tr>\n",
       "      <th>3</th>\n",
       "      <td>klay-token</td>\n",
       "      <td>NaN</td>\n",
       "      <td>Klaytn</td>\n",
       "      <td></td>\n",
       "      <td>klay-token</td>\n",
       "    </tr>\n",
       "    <tr>\n",
       "      <th>4</th>\n",
       "      <td>findora</td>\n",
       "      <td>NaN</td>\n",
       "      <td>Findora</td>\n",
       "      <td></td>\n",
       "      <td>findora</td>\n",
       "    </tr>\n",
       "    <tr>\n",
       "      <th>...</th>\n",
       "      <td>...</td>\n",
       "      <td>...</td>\n",
       "      <td>...</td>\n",
       "      <td>...</td>\n",
       "      <td>...</td>\n",
       "    </tr>\n",
       "    <tr>\n",
       "      <th>182</th>\n",
       "      <td>cronos</td>\n",
       "      <td>25.0</td>\n",
       "      <td>Cronos</td>\n",
       "      <td>CRO</td>\n",
       "      <td>crypto-com-chain</td>\n",
       "    </tr>\n",
       "    <tr>\n",
       "      <th>183</th>\n",
       "      <td>apex</td>\n",
       "      <td>NaN</td>\n",
       "      <td>Apex</td>\n",
       "      <td></td>\n",
       "      <td>omniaverse</td>\n",
       "    </tr>\n",
       "    <tr>\n",
       "      <th>184</th>\n",
       "      <td>scroll</td>\n",
       "      <td>NaN</td>\n",
       "      <td>Scroll</td>\n",
       "      <td></td>\n",
       "      <td>weth</td>\n",
       "    </tr>\n",
       "    <tr>\n",
       "      <th>185</th>\n",
       "      <td>osmosis</td>\n",
       "      <td>NaN</td>\n",
       "      <td>Osmosis</td>\n",
       "      <td>Osmo</td>\n",
       "      <td>osmosis</td>\n",
       "    </tr>\n",
       "    <tr>\n",
       "      <th>186</th>\n",
       "      <td>elrond</td>\n",
       "      <td>NaN</td>\n",
       "      <td>MultiversX</td>\n",
       "      <td>elrond</td>\n",
       "      <td>elrond-erd-2</td>\n",
       "    </tr>\n",
       "  </tbody>\n",
       "</table>\n",
       "<p>187 rows × 5 columns</p>\n",
       "</div>"
      ],
      "text/plain": [
       "             id  chain_identifier        name shortname    native_coin_id\n",
       "0          flow               NaN        Flow                        flow\n",
       "1                             NaN     Picasso                     picasso\n",
       "2        factom               NaN      Factom                      factom\n",
       "3    klay-token               NaN      Klaytn                  klay-token\n",
       "4       findora               NaN     Findora                     findora\n",
       "..          ...               ...         ...       ...               ...\n",
       "182      cronos              25.0      Cronos       CRO  crypto-com-chain\n",
       "183        apex               NaN        Apex                  omniaverse\n",
       "184      scroll               NaN      Scroll                        weth\n",
       "185     osmosis               NaN     Osmosis      Osmo           osmosis\n",
       "186      elrond               NaN  MultiversX    elrond      elrond-erd-2\n",
       "\n",
       "[187 rows x 5 columns]"
      ]
     },
     "execution_count": 5,
     "metadata": {},
     "output_type": "execute_result"
    }
   ],
   "source": [
    "asset_platforms = api.asset_platforms_list()\n",
    "asset_platforms"
   ]
  },
  {
   "cell_type": "code",
   "execution_count": 6,
   "id": "6dc30566-d5e7-44d0-a353-80201258742e",
   "metadata": {
    "ExecuteTime": {
     "end_time": "2024-01-06T07:21:31.222647900Z",
     "start_time": "2024-01-06T07:21:31.218077400Z"
    },
    "tags": []
   },
   "outputs": [
    {
     "data": {
      "text/plain": [
       "'Session closed successfully.'"
      ]
     },
     "execution_count": 6,
     "metadata": {},
     "output_type": "execute_result"
    }
   ],
   "source": [
    "api.end_session()"
   ]
  },
  {
   "cell_type": "code",
   "execution_count": 6,
   "id": "16225ee1-c3cb-4c08-8fae-c02b080b4c21",
   "metadata": {
    "ExecuteTime": {
     "end_time": "2024-01-06T07:21:31.225157Z",
     "start_time": "2024-01-06T07:21:31.222647900Z"
    }
   },
   "outputs": [],
   "source": []
  }
 ],
 "metadata": {
  "kernelspec": {
   "display_name": "Python 3 (ipykernel)",
   "language": "python",
   "name": "python3"
  },
  "language_info": {
   "codemirror_mode": {
    "name": "ipython",
    "version": 3
   },
   "file_extension": ".py",
   "mimetype": "text/x-python",
   "name": "python",
   "nbconvert_exporter": "python",
   "pygments_lexer": "ipython3",
   "version": "3.11.3"
  }
 },
 "nbformat": 4,
 "nbformat_minor": 5
}
