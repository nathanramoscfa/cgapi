{
 "cells": [
  {
   "cell_type": "markdown",
   "id": "6428be45-d4d0-4479-ab88-59320a346de6",
   "metadata": {},
   "source": [
    "# Asset Platforms"
   ]
  },
  {
   "cell_type": "code",
   "execution_count": 1,
   "id": "ef1ea4a3-1e4e-41c5-a988-63ec0b879fe0",
   "metadata": {
    "tags": []
   },
   "outputs": [],
   "source": [
    "import sys\n",
    "sys.path.append('..')  # Add the parent directory to the Python path\n",
    "\n",
    "import keyring\n",
    "from pycgapi import CoinGeckoAPI"
   ]
  },
  {
   "cell_type": "code",
   "execution_count": 2,
   "id": "42027faa-5528-4f1a-a5ff-e840e6789d55",
   "metadata": {},
   "outputs": [],
   "source": [
    "# Fetch the API key securely using keyring\n",
    "api_key = keyring.get_password('coingecko', 'analyst_api_key')\n",
    "\n",
    "# Initialize the CoinGeckoAPI class\n",
    "cg = CoinGeckoAPI(api_key, pro_api=True)"
   ]
  },
  {
   "cell_type": "markdown",
   "id": "259965db-92ed-43e6-8bd4-8def74230c7c",
   "metadata": {},
   "source": [
    "## /asset_platforms\n",
    "https://docs.coingecko.com/reference/asset-platforms-list"
   ]
  },
  {
   "cell_type": "code",
   "execution_count": 3,
   "id": "626fb38c-f162-46a5-9c2f-9ed81a425544",
   "metadata": {},
   "outputs": [
    {
     "name": "stdout",
     "output_type": "stream",
     "text": [
      "        id  chain_identifier     name shortname native_coin_id\n",
      "0  valobit               NaN  Valobit                  valobit\n",
      "1                        NaN  Picasso                  picasso\n",
      "2   factom               NaN   Factom                   factom\n",
      "3  fraxtal               NaN  Fraxtal                  fraxtal\n",
      "4  findora               NaN  Findora                  findora\n"
     ]
    }
   ],
   "source": [
    "# Fetch a list of all asset platforms\n",
    "platforms_list = cg.asset_platforms.asset_platforms_list()\n",
    "print(platforms_list.head())"
   ]
  },
  {
   "cell_type": "code",
   "execution_count": 4,
   "id": "5f4c4843-0bd3-4ced-b0c3-388475553608",
   "metadata": {
    "tags": []
   },
   "outputs": [
    {
     "name": "stdout",
     "output_type": "stream",
     "text": [
      "            id  chain_identifier         name shortname native_coin_id\n",
      "0  polygon-pos             137.0  Polygon POS     MATIC  matic-network\n",
      "1     ethereum               1.0     Ethereum  Ethereum       ethereum\n",
      "2     stargaze               NaN     Stargaze                 stargaze\n",
      "3   klay-token               NaN       Klaytn               klay-token\n",
      "4        ronin               NaN        Ronin       ron          ronin\n"
     ]
    }
   ],
   "source": [
    "# Fetch a list of asset platforms with NFT support\n",
    "nft_platforms = cg.asset_platforms.asset_platforms_list(platform_filter='nft')\n",
    "print(nft_platforms.head())"
   ]
  },
  {
   "cell_type": "markdown",
   "id": "6f5fb8b8-ef1f-4896-a378-9ea7e9f62490",
   "metadata": {},
   "source": [
    "## /token_lists/{asset_platform_id}/all.json\n",
    "https://docs.coingecko.com/reference/token-lists"
   ]
  },
  {
   "cell_type": "code",
   "execution_count": 5,
   "id": "b2dd7f90-2464-45e8-9d28-81488128fdf0",
   "metadata": {},
   "outputs": [
    {
     "name": "stdout",
     "output_type": "stream",
     "text": [
      "   chainId                                     address                   name  \\\n",
      "0        1  0xd2877702675e6ceb975b4a1dff9fb7baf4c91ea9  Wrapped Terra Classic   \n",
      "1        1  0x5bb29c33c4a3c29f56f8aca40b4db91d8a5fe2c5              One Share   \n",
      "2        1  0xd49ff13661451313ca1553fd6954bd1d9b6e02b9         Electrify Asia   \n",
      "3        1  0x77c6e4a580c0dce4e5c7a17d0bc077188a83a059          Swerve fi USD   \n",
      "4        1  0x9cb2f26a23b8d89973f08c957c4d7cdf75cd341c           Digital Rand   \n",
      "\n",
      "  symbol  decimals                                            logoURI  \n",
      "0   LUNC        18  https://assets.coingecko.com/coins/images/1362...  \n",
      "1    ONS        18  https://assets.coingecko.com/coins/images/1353...  \n",
      "2   ELEC        18  https://assets.coingecko.com/coins/images/3415...  \n",
      "3  SWUSD        18  https://assets.coingecko.com/coins/images/1291...  \n",
      "4   DZAR         6  https://assets.coingecko.com/coins/images/9841...  \n"
     ]
    }
   ],
   "source": [
    "# Fetching all tokens for a specific blockchain network, e.g., Ethereum\n",
    "tokens_df = cg.asset_platforms.all_tokens_list(asset_platform_id='ethereum')\n",
    "print(tokens_df.head())"
   ]
  },
  {
   "cell_type": "markdown",
   "id": "13108572-b933-4db0-a503-cee2ccaf6136",
   "metadata": {},
   "source": [
    "## Close Session"
   ]
  },
  {
   "cell_type": "code",
   "execution_count": 6,
   "id": "1cd3b1f1-fb22-44dd-8ebd-6c559dd2f2e9",
   "metadata": {},
   "outputs": [
    {
     "data": {
      "text/plain": [
       "'Session closed successfully.'"
      ]
     },
     "execution_count": 6,
     "metadata": {},
     "output_type": "execute_result"
    }
   ],
   "source": [
    "cg.end_session()"
   ]
  },
  {
   "cell_type": "code",
   "execution_count": null,
   "id": "c3e0b250-18b0-4e60-963c-11f73a889c6f",
   "metadata": {},
   "outputs": [],
   "source": []
  }
 ],
 "metadata": {
  "kernelspec": {
   "display_name": "Python 3 (ipykernel)",
   "language": "python",
   "name": "python3"
  },
  "language_info": {
   "codemirror_mode": {
    "name": "ipython",
    "version": 3
   },
   "file_extension": ".py",
   "mimetype": "text/x-python",
   "name": "python",
   "nbconvert_exporter": "python",
   "pygments_lexer": "ipython3",
   "version": "3.11.3"
  }
 },
 "nbformat": 4,
 "nbformat_minor": 5
}
