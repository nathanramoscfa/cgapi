{
 "cells": [
  {
   "cell_type": "markdown",
   "id": "d51c22fb-e995-4154-b91b-07dd6414b773",
   "metadata": {},
   "source": [
    "# Enterprise Plan Endpoints"
   ]
  },
  {
   "cell_type": "code",
   "execution_count": 1,
   "id": "d4c4287d-2fc7-4e54-ad28-cf1250762175",
   "metadata": {
    "ExecuteTime": {
     "end_time": "2024-01-06T07:48:07.761035900Z",
     "start_time": "2024-01-06T07:48:07.757013500Z"
    },
    "tags": []
   },
   "outputs": [],
   "source": [
    "import sys\n",
    "sys.path.append('..')  # This adds the parent directory to the Python path"
   ]
  },
  {
   "cell_type": "code",
   "execution_count": 2,
   "id": "ae6b4676-88a0-429a-a530-9b37edd0870f",
   "metadata": {
    "ExecuteTime": {
     "end_time": "2024-01-06T07:48:08.371007700Z",
     "start_time": "2024-01-06T07:48:07.762035300Z"
    }
   },
   "outputs": [],
   "source": [
    "import keyring\n",
    "from cgapi import CoinGeckoAPI"
   ]
  },
  {
   "cell_type": "code",
   "execution_count": 3,
   "id": "4c8b0594-2546-4757-af7b-8d809436335f",
   "metadata": {
    "ExecuteTime": {
     "end_time": "2024-01-06T07:48:10.562014800Z",
     "start_time": "2024-01-06T07:48:08.372008100Z"
    },
    "tags": []
   },
   "outputs": [],
   "source": [
    "api_key = keyring.get_password('coingecko', 'analyst_api_key')"
   ]
  },
  {
   "cell_type": "code",
   "execution_count": 4,
   "id": "6f6ce3f2-1a8e-44bb-b311-8caddaaf5cc6",
   "metadata": {
    "ExecuteTime": {
     "end_time": "2024-01-06T07:48:11.113685400Z",
     "start_time": "2024-01-06T07:48:10.563015200Z"
    },
    "tags": []
   },
   "outputs": [
    {
     "name": "stdout",
     "output_type": "stream",
     "text": [
      "API Server Status: {'gecko_says': '(V3) To the Moon!'}\n"
     ]
    }
   ],
   "source": [
    "api = CoinGeckoAPI(api_key, pro_api=True)\n",
    "status = api.status_check()\n",
    "print(\"API Server Status:\", status)"
   ]
  },
  {
   "cell_type": "markdown",
   "id": "b9d341b0-8d4d-4de6-bfcb-5401e22e2fcf",
   "metadata": {},
   "source": [
    "## /coins/{id}/circulating_supply_chart"
   ]
  },
  {
   "cell_type": "code",
   "execution_count": 5,
   "id": "50fad9ed-e94a-428a-93d2-dda42e8e7101",
   "metadata": {
    "ExecuteTime": {
     "end_time": "2024-01-06T07:48:11.211975200Z",
     "start_time": "2024-01-06T07:48:11.111681Z"
    },
    "tags": []
   },
   "outputs": [
    {
     "data": {
      "text/html": [
       "<div>\n",
       "<style scoped>\n",
       "    .dataframe tbody tr th:only-of-type {\n",
       "        vertical-align: middle;\n",
       "    }\n",
       "\n",
       "    .dataframe tbody tr th {\n",
       "        vertical-align: top;\n",
       "    }\n",
       "\n",
       "    .dataframe thead th {\n",
       "        text-align: right;\n",
       "    }\n",
       "</style>\n",
       "<table border=\"1\" class=\"dataframe\">\n",
       "  <thead>\n",
       "    <tr style=\"text-align: right;\">\n",
       "      <th></th>\n",
       "      <th>circulating_supply</th>\n",
       "    </tr>\n",
       "    <tr>\n",
       "      <th>timestamp</th>\n",
       "      <th></th>\n",
       "    </tr>\n",
       "  </thead>\n",
       "  <tbody>\n",
       "    <tr>\n",
       "      <th>2023-12-31 00:00:00</th>\n",
       "      <td>19585162.0</td>\n",
       "    </tr>\n",
       "    <tr>\n",
       "      <th>2024-01-01 00:00:00</th>\n",
       "      <td>19586150.0</td>\n",
       "    </tr>\n",
       "    <tr>\n",
       "      <th>2024-01-02 00:00:00</th>\n",
       "      <td>19587106.0</td>\n",
       "    </tr>\n",
       "    <tr>\n",
       "      <th>2024-01-03 00:00:00</th>\n",
       "      <td>19587918.0</td>\n",
       "    </tr>\n",
       "    <tr>\n",
       "      <th>2024-01-04 00:00:00</th>\n",
       "      <td>19588875.0</td>\n",
       "    </tr>\n",
       "    <tr>\n",
       "      <th>2024-01-05 00:00:00</th>\n",
       "      <td>19589981.0</td>\n",
       "    </tr>\n",
       "    <tr>\n",
       "      <th>2024-01-06 00:00:00</th>\n",
       "      <td>19590850.0</td>\n",
       "    </tr>\n",
       "    <tr>\n",
       "      <th>2024-01-06 22:26:40</th>\n",
       "      <td>19591675.0</td>\n",
       "    </tr>\n",
       "  </tbody>\n",
       "</table>\n",
       "</div>"
      ],
      "text/plain": [
       "                    circulating_supply\n",
       "timestamp                             \n",
       "2023-12-31 00:00:00         19585162.0\n",
       "2024-01-01 00:00:00         19586150.0\n",
       "2024-01-02 00:00:00         19587106.0\n",
       "2024-01-03 00:00:00         19587918.0\n",
       "2024-01-04 00:00:00         19588875.0\n",
       "2024-01-05 00:00:00         19589981.0\n",
       "2024-01-06 00:00:00         19590850.0\n",
       "2024-01-06 22:26:40         19591675.0"
      ]
     },
     "execution_count": 5,
     "metadata": {},
     "output_type": "execute_result"
    }
   ],
   "source": [
    "coin_circulating_supply_data = api.coin_circulating_supply_history(\n",
    "    coin_id='bitcoin', \n",
    "    days=7, \n",
    "    interval='daily'\n",
    ")\n",
    "coin_circulating_supply_data"
   ]
  },
  {
   "cell_type": "markdown",
   "id": "746e46e4-8c6c-4cd7-bff6-c5b8eb7572bc",
   "metadata": {},
   "source": [
    "## /coins/{id}/circulating_supply_chart/range"
   ]
  },
  {
   "cell_type": "code",
   "execution_count": 6,
   "id": "e51927ee-da86-4c23-8980-072f258d26ce",
   "metadata": {
    "ExecuteTime": {
     "end_time": "2024-01-06T07:48:11.314969100Z",
     "start_time": "2024-01-06T07:48:11.209965700Z"
    }
   },
   "outputs": [
    {
     "data": {
      "text/html": [
       "<div>\n",
       "<style scoped>\n",
       "    .dataframe tbody tr th:only-of-type {\n",
       "        vertical-align: middle;\n",
       "    }\n",
       "\n",
       "    .dataframe tbody tr th {\n",
       "        vertical-align: top;\n",
       "    }\n",
       "\n",
       "    .dataframe thead th {\n",
       "        text-align: right;\n",
       "    }\n",
       "</style>\n",
       "<table border=\"1\" class=\"dataframe\">\n",
       "  <thead>\n",
       "    <tr style=\"text-align: right;\">\n",
       "      <th></th>\n",
       "      <th>circulating_supply</th>\n",
       "    </tr>\n",
       "    <tr>\n",
       "      <th>timestamp</th>\n",
       "      <th></th>\n",
       "    </tr>\n",
       "  </thead>\n",
       "  <tbody>\n",
       "    <tr>\n",
       "      <th>2023-01-02</th>\n",
       "      <td>19249618.0</td>\n",
       "    </tr>\n",
       "    <tr>\n",
       "      <th>2023-01-03</th>\n",
       "      <td>19250593.0</td>\n",
       "    </tr>\n",
       "    <tr>\n",
       "      <th>2023-01-04</th>\n",
       "      <td>19251531.0</td>\n",
       "    </tr>\n",
       "    <tr>\n",
       "      <th>2023-01-05</th>\n",
       "      <td>19252456.0</td>\n",
       "    </tr>\n",
       "    <tr>\n",
       "      <th>2023-01-06</th>\n",
       "      <td>19253412.0</td>\n",
       "    </tr>\n",
       "    <tr>\n",
       "      <th>...</th>\n",
       "      <td>...</td>\n",
       "    </tr>\n",
       "    <tr>\n",
       "      <th>2023-12-27</th>\n",
       "      <td>19581706.0</td>\n",
       "    </tr>\n",
       "    <tr>\n",
       "      <th>2023-12-28</th>\n",
       "      <td>19582562.0</td>\n",
       "    </tr>\n",
       "    <tr>\n",
       "      <th>2023-12-29</th>\n",
       "      <td>19583318.0</td>\n",
       "    </tr>\n",
       "    <tr>\n",
       "      <th>2023-12-30</th>\n",
       "      <td>19584275.0</td>\n",
       "    </tr>\n",
       "    <tr>\n",
       "      <th>2023-12-31</th>\n",
       "      <td>19585162.0</td>\n",
       "    </tr>\n",
       "  </tbody>\n",
       "</table>\n",
       "<p>364 rows × 1 columns</p>\n",
       "</div>"
      ],
      "text/plain": [
       "           circulating_supply\n",
       "timestamp                    \n",
       "2023-01-02         19249618.0\n",
       "2023-01-03         19250593.0\n",
       "2023-01-04         19251531.0\n",
       "2023-01-05         19252456.0\n",
       "2023-01-06         19253412.0\n",
       "...                       ...\n",
       "2023-12-27         19581706.0\n",
       "2023-12-28         19582562.0\n",
       "2023-12-29         19583318.0\n",
       "2023-12-30         19584275.0\n",
       "2023-12-31         19585162.0\n",
       "\n",
       "[364 rows x 1 columns]"
      ]
     },
     "execution_count": 6,
     "metadata": {},
     "output_type": "execute_result"
    }
   ],
   "source": [
    "coin_circulating_supply_chart_range = api.coin_circulating_supply_history(\n",
    "    coin_id='bitcoin', \n",
    "    from_date='01-01-2023', \n",
    "    to_date='12-31-2023'\n",
    ")\n",
    "coin_circulating_supply_chart_range"
   ]
  },
  {
   "cell_type": "markdown",
   "id": "e47414ae-34f0-4e52-b38c-d0eb7f2acf45",
   "metadata": {},
   "source": [
    "## /coins/{id}/total_supply_chart"
   ]
  },
  {
   "cell_type": "code",
   "execution_count": 7,
   "id": "ea289239-68fc-4f66-adff-bb8ee3632336",
   "metadata": {
    "ExecuteTime": {
     "end_time": "2024-01-06T07:48:11.443292700Z",
     "start_time": "2024-01-06T07:48:11.309962400Z"
    }
   },
   "outputs": [
    {
     "data": {
      "text/html": [
       "<div>\n",
       "<style scoped>\n",
       "    .dataframe tbody tr th:only-of-type {\n",
       "        vertical-align: middle;\n",
       "    }\n",
       "\n",
       "    .dataframe tbody tr th {\n",
       "        vertical-align: top;\n",
       "    }\n",
       "\n",
       "    .dataframe thead th {\n",
       "        text-align: right;\n",
       "    }\n",
       "</style>\n",
       "<table border=\"1\" class=\"dataframe\">\n",
       "  <thead>\n",
       "    <tr style=\"text-align: right;\">\n",
       "      <th></th>\n",
       "      <th>total_supply</th>\n",
       "    </tr>\n",
       "    <tr>\n",
       "      <th>timestamp</th>\n",
       "      <th></th>\n",
       "    </tr>\n",
       "  </thead>\n",
       "  <tbody>\n",
       "    <tr>\n",
       "      <th>2023-12-31 00:00:00</th>\n",
       "      <td>21000000.0</td>\n",
       "    </tr>\n",
       "    <tr>\n",
       "      <th>2024-01-01 00:00:00</th>\n",
       "      <td>21000000.0</td>\n",
       "    </tr>\n",
       "    <tr>\n",
       "      <th>2024-01-02 00:00:00</th>\n",
       "      <td>21000000.0</td>\n",
       "    </tr>\n",
       "    <tr>\n",
       "      <th>2024-01-03 00:00:00</th>\n",
       "      <td>21000000.0</td>\n",
       "    </tr>\n",
       "    <tr>\n",
       "      <th>2024-01-04 00:00:00</th>\n",
       "      <td>21000000.0</td>\n",
       "    </tr>\n",
       "    <tr>\n",
       "      <th>2024-01-05 00:00:00</th>\n",
       "      <td>21000000.0</td>\n",
       "    </tr>\n",
       "    <tr>\n",
       "      <th>2024-01-06 00:00:00</th>\n",
       "      <td>21000000.0</td>\n",
       "    </tr>\n",
       "    <tr>\n",
       "      <th>2024-01-06 22:27:04</th>\n",
       "      <td>21000000.0</td>\n",
       "    </tr>\n",
       "  </tbody>\n",
       "</table>\n",
       "</div>"
      ],
      "text/plain": [
       "                    total_supply\n",
       "timestamp                       \n",
       "2023-12-31 00:00:00   21000000.0\n",
       "2024-01-01 00:00:00   21000000.0\n",
       "2024-01-02 00:00:00   21000000.0\n",
       "2024-01-03 00:00:00   21000000.0\n",
       "2024-01-04 00:00:00   21000000.0\n",
       "2024-01-05 00:00:00   21000000.0\n",
       "2024-01-06 00:00:00   21000000.0\n",
       "2024-01-06 22:27:04   21000000.0"
      ]
     },
     "execution_count": 7,
     "metadata": {},
     "output_type": "execute_result"
    }
   ],
   "source": [
    "coin_total_supply_data = api.coin_total_supply_history(\n",
    "    coin_id='bitcoin', \n",
    "    days=7, \n",
    "    interval='daily'\n",
    ")\n",
    "coin_total_supply_data"
   ]
  },
  {
   "cell_type": "markdown",
   "id": "baeebee0-76e3-48fb-bd67-2c9c3454ef2b",
   "metadata": {},
   "source": [
    "## /coins/{id}/total_supply_chart/range"
   ]
  },
  {
   "cell_type": "code",
   "execution_count": 8,
   "id": "9d6efd28-af21-4d84-b3af-c5b1ae8c337a",
   "metadata": {
    "ExecuteTime": {
     "end_time": "2024-01-06T07:48:11.550856800Z",
     "start_time": "2024-01-06T07:48:11.440263Z"
    }
   },
   "outputs": [
    {
     "data": {
      "text/html": [
       "<div>\n",
       "<style scoped>\n",
       "    .dataframe tbody tr th:only-of-type {\n",
       "        vertical-align: middle;\n",
       "    }\n",
       "\n",
       "    .dataframe tbody tr th {\n",
       "        vertical-align: top;\n",
       "    }\n",
       "\n",
       "    .dataframe thead th {\n",
       "        text-align: right;\n",
       "    }\n",
       "</style>\n",
       "<table border=\"1\" class=\"dataframe\">\n",
       "  <thead>\n",
       "    <tr style=\"text-align: right;\">\n",
       "      <th></th>\n",
       "      <th>total_supply</th>\n",
       "    </tr>\n",
       "    <tr>\n",
       "      <th>timestamp</th>\n",
       "      <th></th>\n",
       "    </tr>\n",
       "  </thead>\n",
       "  <tbody>\n",
       "    <tr>\n",
       "      <th>2023-01-02</th>\n",
       "      <td>21000000.0</td>\n",
       "    </tr>\n",
       "    <tr>\n",
       "      <th>2023-01-03</th>\n",
       "      <td>21000000.0</td>\n",
       "    </tr>\n",
       "    <tr>\n",
       "      <th>2023-01-04</th>\n",
       "      <td>21000000.0</td>\n",
       "    </tr>\n",
       "    <tr>\n",
       "      <th>2023-01-05</th>\n",
       "      <td>21000000.0</td>\n",
       "    </tr>\n",
       "    <tr>\n",
       "      <th>2023-01-06</th>\n",
       "      <td>21000000.0</td>\n",
       "    </tr>\n",
       "    <tr>\n",
       "      <th>...</th>\n",
       "      <td>...</td>\n",
       "    </tr>\n",
       "    <tr>\n",
       "      <th>2023-12-27</th>\n",
       "      <td>21000000.0</td>\n",
       "    </tr>\n",
       "    <tr>\n",
       "      <th>2023-12-28</th>\n",
       "      <td>21000000.0</td>\n",
       "    </tr>\n",
       "    <tr>\n",
       "      <th>2023-12-29</th>\n",
       "      <td>21000000.0</td>\n",
       "    </tr>\n",
       "    <tr>\n",
       "      <th>2023-12-30</th>\n",
       "      <td>21000000.0</td>\n",
       "    </tr>\n",
       "    <tr>\n",
       "      <th>2023-12-31</th>\n",
       "      <td>21000000.0</td>\n",
       "    </tr>\n",
       "  </tbody>\n",
       "</table>\n",
       "<p>364 rows × 1 columns</p>\n",
       "</div>"
      ],
      "text/plain": [
       "           total_supply\n",
       "timestamp              \n",
       "2023-01-02   21000000.0\n",
       "2023-01-03   21000000.0\n",
       "2023-01-04   21000000.0\n",
       "2023-01-05   21000000.0\n",
       "2023-01-06   21000000.0\n",
       "...                 ...\n",
       "2023-12-27   21000000.0\n",
       "2023-12-28   21000000.0\n",
       "2023-12-29   21000000.0\n",
       "2023-12-30   21000000.0\n",
       "2023-12-31   21000000.0\n",
       "\n",
       "[364 rows x 1 columns]"
      ]
     },
     "execution_count": 8,
     "metadata": {},
     "output_type": "execute_result"
    }
   ],
   "source": [
    "coin_total_supply_chart_range = api.coin_total_supply_history(\n",
    "    coin_id='bitcoin', \n",
    "    from_date='01-01-2023', \n",
    "    to_date='12-31-2023'\n",
    ")\n",
    "coin_total_supply_chart_range"
   ]
  },
  {
   "cell_type": "markdown",
   "id": "b1a847a8-d89f-46ae-84a8-b1f16e3adfc9",
   "metadata": {},
   "source": [
    "## /token_lists/{asset_platform_id}/all.json"
   ]
  },
  {
   "cell_type": "code",
   "execution_count": 9,
   "id": "5bdba716b6ba22bc",
   "metadata": {
    "ExecuteTime": {
     "end_time": "2024-01-06T07:48:12.507224600Z",
     "start_time": "2024-01-06T07:48:11.538283100Z"
    },
    "collapsed": false
   },
   "outputs": [
    {
     "data": {
      "text/html": [
       "<div>\n",
       "<style scoped>\n",
       "    .dataframe tbody tr th:only-of-type {\n",
       "        vertical-align: middle;\n",
       "    }\n",
       "\n",
       "    .dataframe tbody tr th {\n",
       "        vertical-align: top;\n",
       "    }\n",
       "\n",
       "    .dataframe thead th {\n",
       "        text-align: right;\n",
       "    }\n",
       "</style>\n",
       "<table border=\"1\" class=\"dataframe\">\n",
       "  <thead>\n",
       "    <tr style=\"text-align: right;\">\n",
       "      <th></th>\n",
       "      <th>chainId</th>\n",
       "      <th>address</th>\n",
       "      <th>name</th>\n",
       "      <th>symbol</th>\n",
       "      <th>decimals</th>\n",
       "      <th>logoURI</th>\n",
       "    </tr>\n",
       "  </thead>\n",
       "  <tbody>\n",
       "    <tr>\n",
       "      <th>0</th>\n",
       "      <td>1</td>\n",
       "      <td>0x1ccf27211e8bf052f6255329ed641b4e94e80603</td>\n",
       "      <td>Metababy</td>\n",
       "      <td>BABY</td>\n",
       "      <td>18</td>\n",
       "      <td>https://assets.coingecko.com/coins/images/2717...</td>\n",
       "    </tr>\n",
       "    <tr>\n",
       "      <th>1</th>\n",
       "      <td>1</td>\n",
       "      <td>0x2001f2a0cf801ecfda622f6c28fb6e10d803d969</td>\n",
       "      <td>CoinLoan</td>\n",
       "      <td>CLT</td>\n",
       "      <td>8</td>\n",
       "      <td>https://assets.coingecko.com/coins/images/1713...</td>\n",
       "    </tr>\n",
       "    <tr>\n",
       "      <th>2</th>\n",
       "      <td>1</td>\n",
       "      <td>0xdd974d5c2e2928dea5f71b9825b8b646686bd200</td>\n",
       "      <td>Kyber Network Crystal Legacy</td>\n",
       "      <td>KNCL</td>\n",
       "      <td>18</td>\n",
       "      <td>https://assets.coingecko.com/coins/images/947/...</td>\n",
       "    </tr>\n",
       "    <tr>\n",
       "      <th>3</th>\n",
       "      <td>1</td>\n",
       "      <td>0x3da434f76226b9489ed4277eb6fdccdf03ff190e</td>\n",
       "      <td>Zion Token</td>\n",
       "      <td>ZION</td>\n",
       "      <td>18</td>\n",
       "      <td>https://assets.coingecko.com/coins/images/3050...</td>\n",
       "    </tr>\n",
       "    <tr>\n",
       "      <th>4</th>\n",
       "      <td>1</td>\n",
       "      <td>0x96f6ef951840721adbf46ac996b59e0235cb985c</td>\n",
       "      <td>Ondo US Dollar Yield</td>\n",
       "      <td>USDY</td>\n",
       "      <td>18</td>\n",
       "      <td>https://assets.coingecko.com/coins/images/3170...</td>\n",
       "    </tr>\n",
       "    <tr>\n",
       "      <th>...</th>\n",
       "      <td>...</td>\n",
       "      <td>...</td>\n",
       "      <td>...</td>\n",
       "      <td>...</td>\n",
       "      <td>...</td>\n",
       "      <td>...</td>\n",
       "    </tr>\n",
       "    <tr>\n",
       "      <th>4822</th>\n",
       "      <td>1</td>\n",
       "      <td>0xa719cb79af39a9c10eda2755e0938bce35e9de24</td>\n",
       "      <td>Starfish Finance</td>\n",
       "      <td>SEAN</td>\n",
       "      <td>18</td>\n",
       "      <td>https://assets.coingecko.com/coins/images/2753...</td>\n",
       "    </tr>\n",
       "    <tr>\n",
       "      <th>4823</th>\n",
       "      <td>1</td>\n",
       "      <td>0x3b79a28264fc52c7b4cea90558aa0b162f7faf57</td>\n",
       "      <td>Wonderful Memories</td>\n",
       "      <td>WMEMO</td>\n",
       "      <td>18</td>\n",
       "      <td>https://assets.coingecko.com/coins/images/2239...</td>\n",
       "    </tr>\n",
       "    <tr>\n",
       "      <th>4824</th>\n",
       "      <td>1</td>\n",
       "      <td>0x19b22dbadc298c359a1d1b59e35f352a2b40e33c</td>\n",
       "      <td>tPLATINUM</td>\n",
       "      <td>TXPT</td>\n",
       "      <td>18</td>\n",
       "      <td>https://assets.coingecko.com/coins/images/2783...</td>\n",
       "    </tr>\n",
       "    <tr>\n",
       "      <th>4825</th>\n",
       "      <td>1</td>\n",
       "      <td>0xe4a6f23fb9e00fca037aa0ea0a6954de0a6c53bf</td>\n",
       "      <td>tGOLD</td>\n",
       "      <td>TXAU</td>\n",
       "      <td>18</td>\n",
       "      <td>https://assets.coingecko.com/coins/images/2782...</td>\n",
       "    </tr>\n",
       "    <tr>\n",
       "      <th>4826</th>\n",
       "      <td>1</td>\n",
       "      <td>0x34abce75d2f8f33940c721dca0f562617787bff3</td>\n",
       "      <td>tSILVER</td>\n",
       "      <td>TXAG</td>\n",
       "      <td>18</td>\n",
       "      <td>https://assets.coingecko.com/coins/images/2782...</td>\n",
       "    </tr>\n",
       "  </tbody>\n",
       "</table>\n",
       "<p>4827 rows × 6 columns</p>\n",
       "</div>"
      ],
      "text/plain": [
       "      chainId                                     address  \\\n",
       "0           1  0x1ccf27211e8bf052f6255329ed641b4e94e80603   \n",
       "1           1  0x2001f2a0cf801ecfda622f6c28fb6e10d803d969   \n",
       "2           1  0xdd974d5c2e2928dea5f71b9825b8b646686bd200   \n",
       "3           1  0x3da434f76226b9489ed4277eb6fdccdf03ff190e   \n",
       "4           1  0x96f6ef951840721adbf46ac996b59e0235cb985c   \n",
       "...       ...                                         ...   \n",
       "4822        1  0xa719cb79af39a9c10eda2755e0938bce35e9de24   \n",
       "4823        1  0x3b79a28264fc52c7b4cea90558aa0b162f7faf57   \n",
       "4824        1  0x19b22dbadc298c359a1d1b59e35f352a2b40e33c   \n",
       "4825        1  0xe4a6f23fb9e00fca037aa0ea0a6954de0a6c53bf   \n",
       "4826        1  0x34abce75d2f8f33940c721dca0f562617787bff3   \n",
       "\n",
       "                              name symbol  decimals  \\\n",
       "0                         Metababy   BABY        18   \n",
       "1                         CoinLoan    CLT         8   \n",
       "2     Kyber Network Crystal Legacy   KNCL        18   \n",
       "3                       Zion Token   ZION        18   \n",
       "4             Ondo US Dollar Yield   USDY        18   \n",
       "...                            ...    ...       ...   \n",
       "4822              Starfish Finance   SEAN        18   \n",
       "4823            Wonderful Memories  WMEMO        18   \n",
       "4824                     tPLATINUM   TXPT        18   \n",
       "4825                         tGOLD   TXAU        18   \n",
       "4826                       tSILVER   TXAG        18   \n",
       "\n",
       "                                                logoURI  \n",
       "0     https://assets.coingecko.com/coins/images/2717...  \n",
       "1     https://assets.coingecko.com/coins/images/1713...  \n",
       "2     https://assets.coingecko.com/coins/images/947/...  \n",
       "3     https://assets.coingecko.com/coins/images/3050...  \n",
       "4     https://assets.coingecko.com/coins/images/3170...  \n",
       "...                                                 ...  \n",
       "4822  https://assets.coingecko.com/coins/images/2753...  \n",
       "4823  https://assets.coingecko.com/coins/images/2239...  \n",
       "4824  https://assets.coingecko.com/coins/images/2783...  \n",
       "4825  https://assets.coingecko.com/coins/images/2782...  \n",
       "4826  https://assets.coingecko.com/coins/images/2782...  \n",
       "\n",
       "[4827 rows x 6 columns]"
      ]
     },
     "execution_count": 9,
     "metadata": {},
     "output_type": "execute_result"
    }
   ],
   "source": [
    "tokens_list = api.all_tokens_list(asset_platform_id='ethereum')\n",
    "tokens_list"
   ]
  },
  {
   "cell_type": "code",
   "execution_count": 10,
   "id": "07812be9-48a8-4469-b117-1ffd1c673898",
   "metadata": {
    "ExecuteTime": {
     "end_time": "2024-01-06T07:48:12.518756Z",
     "start_time": "2024-01-06T07:48:12.506225100Z"
    },
    "tags": []
   },
   "outputs": [
    {
     "data": {
      "text/plain": [
       "'Session closed successfully.'"
      ]
     },
     "execution_count": 10,
     "metadata": {},
     "output_type": "execute_result"
    }
   ],
   "source": [
    "api.end_session()"
   ]
  },
  {
   "cell_type": "code",
   "execution_count": null,
   "id": "86708846-3aee-4901-96d9-dd0bed85de79",
   "metadata": {
    "ExecuteTime": {
     "end_time": "2024-01-06T07:48:12.518756Z",
     "start_time": "2024-01-06T07:48:12.510246900Z"
    }
   },
   "outputs": [],
   "source": []
  }
 ],
 "metadata": {
  "kernelspec": {
   "display_name": "Python 3 (ipykernel)",
   "language": "python",
   "name": "python3"
  },
  "language_info": {
   "codemirror_mode": {
    "name": "ipython",
    "version": 3
   },
   "file_extension": ".py",
   "mimetype": "text/x-python",
   "name": "python",
   "nbconvert_exporter": "python",
   "pygments_lexer": "ipython3",
   "version": "3.11.3"
  }
 },
 "nbformat": 4,
 "nbformat_minor": 5
}
