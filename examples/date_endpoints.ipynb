{
 "cells": [
  {
   "cell_type": "code",
   "execution_count": 1,
   "id": "4af8b722-423e-414d-9e9a-4a36b145f4ce",
   "metadata": {
    "tags": [],
    "ExecuteTime": {
     "end_time": "2024-01-06T07:57:02.747693Z",
     "start_time": "2024-01-06T07:57:02.745225900Z"
    }
   },
   "outputs": [],
   "source": [
    "import sys\n",
    "sys.path.append('..')  # This adds the parent directory to the Python path"
   ]
  },
  {
   "cell_type": "code",
   "execution_count": 2,
   "id": "d76bf97e-6812-40d3-b204-59949b38bb40",
   "metadata": {
    "ExecuteTime": {
     "end_time": "2024-01-06T07:57:03.334377300Z",
     "start_time": "2024-01-06T07:57:02.748693200Z"
    }
   },
   "outputs": [],
   "source": [
    "import keyring\n",
    "from cgapi import CoinGeckoAPI"
   ]
  },
  {
   "cell_type": "code",
   "execution_count": 3,
   "id": "2e258c4b-bb67-48e1-97e8-66e0326303f8",
   "metadata": {
    "tags": [],
    "ExecuteTime": {
     "end_time": "2024-01-06T07:57:05.527898200Z",
     "start_time": "2024-01-06T07:57:03.335376600Z"
    }
   },
   "outputs": [],
   "source": [
    "api_key = keyring.get_password('coingecko', 'analyst_api_key')"
   ]
  },
  {
   "cell_type": "code",
   "execution_count": 4,
   "id": "b4afbd7a-8b93-43a0-b867-fcee6d6ae24f",
   "metadata": {
    "tags": [],
    "ExecuteTime": {
     "end_time": "2024-01-06T07:57:06.107927300Z",
     "start_time": "2024-01-06T07:57:05.529402400Z"
    }
   },
   "outputs": [
    {
     "name": "stdout",
     "output_type": "stream",
     "text": [
      "API Server Status: {'gecko_says': '(V3) To the Moon!'}\n"
     ]
    }
   ],
   "source": [
    "api = CoinGeckoAPI(api_key, pro_api=True)\n",
    "status = api.status_check()\n",
    "print(\"API Server Status:\", status)"
   ]
  },
  {
   "cell_type": "code",
   "execution_count": 5,
   "id": "e2a0f4b0-8007-43b6-8ac6-46024c0c3056",
   "metadata": {
    "ExecuteTime": {
     "end_time": "2024-01-06T07:57:06.110437500Z",
     "start_time": "2024-01-06T07:57:06.107927300Z"
    }
   },
   "outputs": [],
   "source": [
    "coin_id = 'bitcoin'"
   ]
  },
  {
   "cell_type": "code",
   "execution_count": 6,
   "id": "9d8e949b-71a1-412b-8a5f-b860a46e8886",
   "metadata": {
    "ExecuteTime": {
     "end_time": "2024-01-06T07:57:06.124546400Z",
     "start_time": "2024-01-06T07:57:06.111442500Z"
    }
   },
   "outputs": [],
   "source": [
    "coin_ids = ['bitcoin', 'ethereum', 'tether', 'binancecoin', 'solana']"
   ]
  },
  {
   "cell_type": "code",
   "execution_count": 7,
   "id": "67436b59-4421-41c0-962e-1a379226cb8f",
   "metadata": {
    "ExecuteTime": {
     "end_time": "2024-01-06T07:57:06.230764100Z",
     "start_time": "2024-01-06T07:57:06.124546400Z"
    }
   },
   "outputs": [],
   "source": [
    "platform_id = 'ethereum'"
   ]
  },
  {
   "cell_type": "code",
   "execution_count": 8,
   "id": "4e0e0327-e6b8-4c12-bc5f-fef3036fd623",
   "metadata": {
    "tags": [],
    "ExecuteTime": {
     "end_time": "2024-01-06T07:57:06.242275900Z",
     "start_time": "2024-01-06T07:57:06.230764100Z"
    }
   },
   "outputs": [],
   "source": [
    "exchange_id='gdax'"
   ]
  },
  {
   "cell_type": "code",
   "execution_count": 9,
   "id": "c61f3006-4de8-4d10-8a69-eab1044d85cb",
   "metadata": {
    "ExecuteTime": {
     "end_time": "2024-01-06T07:57:06.315655700Z",
     "start_time": "2024-01-06T07:57:06.243273Z"
    }
   },
   "outputs": [],
   "source": [
    "ldo_contract_address = '0x5a98fcbea516cf06857215779fd812ca3bef1b32'\n",
    "mkr_contract_address = '0x9f8F72aA9304c8B593d555F12eF6589cC3A579A2'\n",
    "aave_contract_address = '0x7Fc66500c84A76Ad7e9c93437bFc5Ac33E2DDaE9'"
   ]
  },
  {
   "cell_type": "code",
   "execution_count": 10,
   "id": "20955850-e225-4d9f-9731-1d39da99b7d3",
   "metadata": {
    "ExecuteTime": {
     "end_time": "2024-01-06T07:57:06.328237100Z",
     "start_time": "2024-01-06T07:57:06.315655700Z"
    }
   },
   "outputs": [],
   "source": [
    "start_date = '12-31-2022'\n",
    "end_date = '12-31-2023'"
   ]
  },
  {
   "cell_type": "code",
   "execution_count": 11,
   "id": "7876a55e-48b7-4905-9e5a-6b02bb554fdb",
   "metadata": {
    "ExecuteTime": {
     "end_time": "2024-01-06T07:57:06.561785600Z",
     "start_time": "2024-01-06T07:57:06.328237100Z"
    }
   },
   "outputs": [
    {
     "name": "stdout",
     "output_type": "stream",
     "text": [
      "Available Keys: ['community_data', 'developer_data', 'id', 'image', 'localization', 'market_data', 'name', 'public_interest_stats', 'symbol']\n"
     ]
    }
   ],
   "source": [
    "coin_history_on_date_dict = api.coin_historical_on_date(coin_id, date=start_date)\n",
    "print('Available Keys: {}'.format(sorted(coin_history_on_date_dict.keys())))"
   ]
  },
  {
   "cell_type": "code",
   "execution_count": 12,
   "id": "2ac05fa4-36fa-4e3b-b190-1e78dda19afd",
   "metadata": {
    "ExecuteTime": {
     "end_time": "2024-01-06T07:57:06.654636100Z",
     "start_time": "2024-01-06T07:57:06.559780400Z"
    }
   },
   "outputs": [
    {
     "data": {
      "text/plain": "                                  price    market_cap  total_volume\ntimestamp                                                          \n2023-01-01 00:00:00+00:00  16540.693625  3.182783e+11  1.201325e+10\n2023-01-02 00:00:00+00:00  16615.969318  3.198320e+11  9.799253e+09\n2023-01-03 00:00:00+00:00  16674.342536  3.214865e+11  1.302386e+10\n2023-01-04 00:00:00+00:00  16677.646186  3.210808e+11  1.536717e+10\n2023-01-05 00:00:00+00:00  16855.174739  3.243976e+11  2.083656e+10\n...                                 ...           ...           ...\n2023-12-27 00:00:00+00:00  42516.426940  8.324716e+11  2.047774e+10\n2023-12-28 00:00:00+00:00  43418.467775  8.491942e+11  2.324475e+10\n2023-12-29 00:00:00+00:00  42600.650633  8.360735e+11  2.033657e+10\n2023-12-30 00:00:00+00:00  42074.707156  8.229340e+11  2.483240e+10\n2023-12-31 00:00:00+00:00  42220.611401  8.266092e+11  1.472722e+10\n\n[365 rows x 3 columns]",
      "text/html": "<div>\n<style scoped>\n    .dataframe tbody tr th:only-of-type {\n        vertical-align: middle;\n    }\n\n    .dataframe tbody tr th {\n        vertical-align: top;\n    }\n\n    .dataframe thead th {\n        text-align: right;\n    }\n</style>\n<table border=\"1\" class=\"dataframe\">\n  <thead>\n    <tr style=\"text-align: right;\">\n      <th></th>\n      <th>price</th>\n      <th>market_cap</th>\n      <th>total_volume</th>\n    </tr>\n    <tr>\n      <th>timestamp</th>\n      <th></th>\n      <th></th>\n      <th></th>\n    </tr>\n  </thead>\n  <tbody>\n    <tr>\n      <th>2023-01-01 00:00:00+00:00</th>\n      <td>16540.693625</td>\n      <td>3.182783e+11</td>\n      <td>1.201325e+10</td>\n    </tr>\n    <tr>\n      <th>2023-01-02 00:00:00+00:00</th>\n      <td>16615.969318</td>\n      <td>3.198320e+11</td>\n      <td>9.799253e+09</td>\n    </tr>\n    <tr>\n      <th>2023-01-03 00:00:00+00:00</th>\n      <td>16674.342536</td>\n      <td>3.214865e+11</td>\n      <td>1.302386e+10</td>\n    </tr>\n    <tr>\n      <th>2023-01-04 00:00:00+00:00</th>\n      <td>16677.646186</td>\n      <td>3.210808e+11</td>\n      <td>1.536717e+10</td>\n    </tr>\n    <tr>\n      <th>2023-01-05 00:00:00+00:00</th>\n      <td>16855.174739</td>\n      <td>3.243976e+11</td>\n      <td>2.083656e+10</td>\n    </tr>\n    <tr>\n      <th>...</th>\n      <td>...</td>\n      <td>...</td>\n      <td>...</td>\n    </tr>\n    <tr>\n      <th>2023-12-27 00:00:00+00:00</th>\n      <td>42516.426940</td>\n      <td>8.324716e+11</td>\n      <td>2.047774e+10</td>\n    </tr>\n    <tr>\n      <th>2023-12-28 00:00:00+00:00</th>\n      <td>43418.467775</td>\n      <td>8.491942e+11</td>\n      <td>2.324475e+10</td>\n    </tr>\n    <tr>\n      <th>2023-12-29 00:00:00+00:00</th>\n      <td>42600.650633</td>\n      <td>8.360735e+11</td>\n      <td>2.033657e+10</td>\n    </tr>\n    <tr>\n      <th>2023-12-30 00:00:00+00:00</th>\n      <td>42074.707156</td>\n      <td>8.229340e+11</td>\n      <td>2.483240e+10</td>\n    </tr>\n    <tr>\n      <th>2023-12-31 00:00:00+00:00</th>\n      <td>42220.611401</td>\n      <td>8.266092e+11</td>\n      <td>1.472722e+10</td>\n    </tr>\n  </tbody>\n</table>\n<p>365 rows × 3 columns</p>\n</div>"
     },
     "execution_count": 12,
     "metadata": {},
     "output_type": "execute_result"
    }
   ],
   "source": [
    "coin_historical_data_between_dates = api.coin_historical_market_data(\n",
    "    coin_id, \n",
    "    from_date=start_date, \n",
    "    to_date=end_date\n",
    ")\n",
    "coin_historical_data_between_dates"
   ]
  },
  {
   "cell_type": "code",
   "execution_count": 13,
   "id": "5cd8906a-9b84-4f51-aea1-3a7dc9b279cf",
   "metadata": {
    "ExecuteTime": {
     "end_time": "2024-01-06T07:57:07.663849400Z",
     "start_time": "2024-01-06T07:57:06.653636500Z"
    }
   },
   "outputs": [
    {
     "name": "stderr",
     "output_type": "stream",
     "text": [
      "100%|██████████| 5/5 [00:00<00:00,  5.03it/s]"
     ]
    },
    {
     "name": "stdout",
     "output_type": "stream",
     "text": [
      "Available Keys: ['market_cap', 'price', 'total_volume']\n"
     ]
    },
    {
     "name": "stderr",
     "output_type": "stream",
     "text": [
      "\n"
     ]
    },
    {
     "data": {
      "text/plain": "                                bitcoin     ethereum    tether  binancecoin  \\\ntimestamp                                                                     \n2023-01-01 00:00:00+00:00  16540.693625  1196.613065  1.000126   246.659361   \n2023-01-02 00:00:00+00:00  16615.969318  1200.659217  1.000564   244.064567   \n2023-01-03 00:00:00+00:00  16674.342536  1214.378946  1.000179   245.429756   \n2023-01-04 00:00:00+00:00  16677.646186  1214.760969  1.000054   246.211471   \n2023-01-05 00:00:00+00:00  16855.174739  1256.436604  1.000169   259.128116   \n\n                              solana  \ntimestamp                             \n2023-01-01 00:00:00+00:00   9.961463  \n2023-01-02 00:00:00+00:00   9.973949  \n2023-01-03 00:00:00+00:00  11.266377  \n2023-01-04 00:00:00+00:00  13.355392  \n2023-01-05 00:00:00+00:00  13.456293  ",
      "text/html": "<div>\n<style scoped>\n    .dataframe tbody tr th:only-of-type {\n        vertical-align: middle;\n    }\n\n    .dataframe tbody tr th {\n        vertical-align: top;\n    }\n\n    .dataframe thead th {\n        text-align: right;\n    }\n</style>\n<table border=\"1\" class=\"dataframe\">\n  <thead>\n    <tr style=\"text-align: right;\">\n      <th></th>\n      <th>bitcoin</th>\n      <th>ethereum</th>\n      <th>tether</th>\n      <th>binancecoin</th>\n      <th>solana</th>\n    </tr>\n    <tr>\n      <th>timestamp</th>\n      <th></th>\n      <th></th>\n      <th></th>\n      <th></th>\n      <th></th>\n    </tr>\n  </thead>\n  <tbody>\n    <tr>\n      <th>2023-01-01 00:00:00+00:00</th>\n      <td>16540.693625</td>\n      <td>1196.613065</td>\n      <td>1.000126</td>\n      <td>246.659361</td>\n      <td>9.961463</td>\n    </tr>\n    <tr>\n      <th>2023-01-02 00:00:00+00:00</th>\n      <td>16615.969318</td>\n      <td>1200.659217</td>\n      <td>1.000564</td>\n      <td>244.064567</td>\n      <td>9.973949</td>\n    </tr>\n    <tr>\n      <th>2023-01-03 00:00:00+00:00</th>\n      <td>16674.342536</td>\n      <td>1214.378946</td>\n      <td>1.000179</td>\n      <td>245.429756</td>\n      <td>11.266377</td>\n    </tr>\n    <tr>\n      <th>2023-01-04 00:00:00+00:00</th>\n      <td>16677.646186</td>\n      <td>1214.760969</td>\n      <td>1.000054</td>\n      <td>246.211471</td>\n      <td>13.355392</td>\n    </tr>\n    <tr>\n      <th>2023-01-05 00:00:00+00:00</th>\n      <td>16855.174739</td>\n      <td>1256.436604</td>\n      <td>1.000169</td>\n      <td>259.128116</td>\n      <td>13.456293</td>\n    </tr>\n  </tbody>\n</table>\n</div>"
     },
     "execution_count": 13,
     "metadata": {},
     "output_type": "execute_result"
    }
   ],
   "source": [
    "coins_historical_data = api.multiple_coins_historical_data(coin_ids, from_date=start_date, to_date=end_date)\n",
    "print('Available Keys: {}'.format(sorted(coins_historical_data.keys())))\n",
    "coins_historical_data['price'].head()"
   ]
  },
  {
   "cell_type": "code",
   "execution_count": 14,
   "id": "d3f85d7d-10eb-44f3-9c93-6f034dd85016",
   "metadata": {
    "ExecuteTime": {
     "end_time": "2024-01-06T07:57:07.779529600Z",
     "start_time": "2024-01-06T07:57:07.665854700Z"
    }
   },
   "outputs": [
    {
     "data": {
      "text/plain": "                              price    market_cap  total_volume\ntimestamp                                                      \n2023-01-01 00:00:00+00:00  0.951811  7.880108e+08  8.415353e+06\n2023-01-02 00:00:00+00:00  1.077925  8.908959e+08  6.985973e+07\n2023-01-03 00:00:00+00:00  1.211534  1.007538e+09  9.012206e+07\n2023-01-04 00:00:00+00:00  1.201550  9.950221e+08  5.963762e+07\n2023-01-05 00:00:00+00:00  1.373185  1.138099e+09  1.037322e+08\n...                             ...           ...           ...\n2023-12-27 00:00:00+00:00  2.414790  2.149743e+09  1.045843e+08\n2023-12-28 00:00:00+00:00  2.834848  2.523409e+09  1.616723e+08\n2023-12-29 00:00:00+00:00  2.707796  2.417343e+09  1.720521e+08\n2023-12-30 00:00:00+00:00  2.891217  2.567556e+09  1.221432e+08\n2023-12-31 00:00:00+00:00  2.737411  2.438736e+09  1.123191e+08\n\n[365 rows x 3 columns]",
      "text/html": "<div>\n<style scoped>\n    .dataframe tbody tr th:only-of-type {\n        vertical-align: middle;\n    }\n\n    .dataframe tbody tr th {\n        vertical-align: top;\n    }\n\n    .dataframe thead th {\n        text-align: right;\n    }\n</style>\n<table border=\"1\" class=\"dataframe\">\n  <thead>\n    <tr style=\"text-align: right;\">\n      <th></th>\n      <th>price</th>\n      <th>market_cap</th>\n      <th>total_volume</th>\n    </tr>\n    <tr>\n      <th>timestamp</th>\n      <th></th>\n      <th></th>\n      <th></th>\n    </tr>\n  </thead>\n  <tbody>\n    <tr>\n      <th>2023-01-01 00:00:00+00:00</th>\n      <td>0.951811</td>\n      <td>7.880108e+08</td>\n      <td>8.415353e+06</td>\n    </tr>\n    <tr>\n      <th>2023-01-02 00:00:00+00:00</th>\n      <td>1.077925</td>\n      <td>8.908959e+08</td>\n      <td>6.985973e+07</td>\n    </tr>\n    <tr>\n      <th>2023-01-03 00:00:00+00:00</th>\n      <td>1.211534</td>\n      <td>1.007538e+09</td>\n      <td>9.012206e+07</td>\n    </tr>\n    <tr>\n      <th>2023-01-04 00:00:00+00:00</th>\n      <td>1.201550</td>\n      <td>9.950221e+08</td>\n      <td>5.963762e+07</td>\n    </tr>\n    <tr>\n      <th>2023-01-05 00:00:00+00:00</th>\n      <td>1.373185</td>\n      <td>1.138099e+09</td>\n      <td>1.037322e+08</td>\n    </tr>\n    <tr>\n      <th>...</th>\n      <td>...</td>\n      <td>...</td>\n      <td>...</td>\n    </tr>\n    <tr>\n      <th>2023-12-27 00:00:00+00:00</th>\n      <td>2.414790</td>\n      <td>2.149743e+09</td>\n      <td>1.045843e+08</td>\n    </tr>\n    <tr>\n      <th>2023-12-28 00:00:00+00:00</th>\n      <td>2.834848</td>\n      <td>2.523409e+09</td>\n      <td>1.616723e+08</td>\n    </tr>\n    <tr>\n      <th>2023-12-29 00:00:00+00:00</th>\n      <td>2.707796</td>\n      <td>2.417343e+09</td>\n      <td>1.720521e+08</td>\n    </tr>\n    <tr>\n      <th>2023-12-30 00:00:00+00:00</th>\n      <td>2.891217</td>\n      <td>2.567556e+09</td>\n      <td>1.221432e+08</td>\n    </tr>\n    <tr>\n      <th>2023-12-31 00:00:00+00:00</th>\n      <td>2.737411</td>\n      <td>2.438736e+09</td>\n      <td>1.123191e+08</td>\n    </tr>\n  </tbody>\n</table>\n<p>365 rows × 3 columns</p>\n</div>"
     },
     "execution_count": 14,
     "metadata": {},
     "output_type": "execute_result"
    }
   ],
   "source": [
    "historical_data_by_contract_from_to_date = api.contract_historical_market_data(\n",
    "    platform_id, \n",
    "    ldo_contract_address, \n",
    "    from_date=start_date,\n",
    "    to_date=end_date\n",
    ")\n",
    "historical_data_by_contract_from_to_date"
   ]
  },
  {
   "cell_type": "code",
   "execution_count": 15,
   "id": "6dae8402-6a92-4aec-839e-4321813be21b",
   "metadata": {
    "tags": [],
    "ExecuteTime": {
     "end_time": "2024-01-06T07:57:08.117934400Z",
     "start_time": "2024-01-06T07:57:07.766019800Z"
    }
   },
   "outputs": [
    {
     "data": {
      "text/plain": "                            volume\ntimestamp                         \n2023-12-08 07:50:00   60358.810402\n2023-12-09 07:50:00   56968.599408\n2023-12-10 07:50:00   36863.821019\n2023-12-11 07:50:00   52179.292328\n2023-12-12 07:50:00   68677.747485\n2023-12-13 07:50:00   56247.034333\n2023-12-14 07:50:00   59771.951409\n2023-12-15 07:50:00   58895.405237\n2023-12-16 07:50:00   51697.406168\n2023-12-17 07:50:00   34048.611766\n2023-12-18 07:50:00   37746.699173\n2023-12-19 07:50:00   53171.753249\n2023-12-20 07:50:00   46834.165746\n2023-12-21 07:50:00   70958.482457\n2023-12-22 07:50:00   67342.302683\n2023-12-23 07:50:00   54113.442503\n2023-12-24 07:50:00   43699.541332\n2023-12-25 07:50:00   38661.255710\n2023-12-26 07:50:00   44738.943969\n2023-12-27 07:50:00   58349.048923\n2023-12-28 07:50:00   76204.851414\n2023-12-29 07:50:00   63513.759543\n2023-12-30 07:50:00   59838.376155\n2023-12-31 07:50:00   36581.640901\n2024-01-01 07:50:00   41962.561251\n2024-01-02 07:50:00   53236.333158\n2024-01-03 07:50:00   93370.969272\n2024-01-04 07:50:00  108192.562511\n2024-01-05 07:50:00   68142.527313\n2024-01-06 07:50:00   50893.140089",
      "text/html": "<div>\n<style scoped>\n    .dataframe tbody tr th:only-of-type {\n        vertical-align: middle;\n    }\n\n    .dataframe tbody tr th {\n        vertical-align: top;\n    }\n\n    .dataframe thead th {\n        text-align: right;\n    }\n</style>\n<table border=\"1\" class=\"dataframe\">\n  <thead>\n    <tr style=\"text-align: right;\">\n      <th></th>\n      <th>volume</th>\n    </tr>\n    <tr>\n      <th>timestamp</th>\n      <th></th>\n    </tr>\n  </thead>\n  <tbody>\n    <tr>\n      <th>2023-12-08 07:50:00</th>\n      <td>60358.810402</td>\n    </tr>\n    <tr>\n      <th>2023-12-09 07:50:00</th>\n      <td>56968.599408</td>\n    </tr>\n    <tr>\n      <th>2023-12-10 07:50:00</th>\n      <td>36863.821019</td>\n    </tr>\n    <tr>\n      <th>2023-12-11 07:50:00</th>\n      <td>52179.292328</td>\n    </tr>\n    <tr>\n      <th>2023-12-12 07:50:00</th>\n      <td>68677.747485</td>\n    </tr>\n    <tr>\n      <th>2023-12-13 07:50:00</th>\n      <td>56247.034333</td>\n    </tr>\n    <tr>\n      <th>2023-12-14 07:50:00</th>\n      <td>59771.951409</td>\n    </tr>\n    <tr>\n      <th>2023-12-15 07:50:00</th>\n      <td>58895.405237</td>\n    </tr>\n    <tr>\n      <th>2023-12-16 07:50:00</th>\n      <td>51697.406168</td>\n    </tr>\n    <tr>\n      <th>2023-12-17 07:50:00</th>\n      <td>34048.611766</td>\n    </tr>\n    <tr>\n      <th>2023-12-18 07:50:00</th>\n      <td>37746.699173</td>\n    </tr>\n    <tr>\n      <th>2023-12-19 07:50:00</th>\n      <td>53171.753249</td>\n    </tr>\n    <tr>\n      <th>2023-12-20 07:50:00</th>\n      <td>46834.165746</td>\n    </tr>\n    <tr>\n      <th>2023-12-21 07:50:00</th>\n      <td>70958.482457</td>\n    </tr>\n    <tr>\n      <th>2023-12-22 07:50:00</th>\n      <td>67342.302683</td>\n    </tr>\n    <tr>\n      <th>2023-12-23 07:50:00</th>\n      <td>54113.442503</td>\n    </tr>\n    <tr>\n      <th>2023-12-24 07:50:00</th>\n      <td>43699.541332</td>\n    </tr>\n    <tr>\n      <th>2023-12-25 07:50:00</th>\n      <td>38661.255710</td>\n    </tr>\n    <tr>\n      <th>2023-12-26 07:50:00</th>\n      <td>44738.943969</td>\n    </tr>\n    <tr>\n      <th>2023-12-27 07:50:00</th>\n      <td>58349.048923</td>\n    </tr>\n    <tr>\n      <th>2023-12-28 07:50:00</th>\n      <td>76204.851414</td>\n    </tr>\n    <tr>\n      <th>2023-12-29 07:50:00</th>\n      <td>63513.759543</td>\n    </tr>\n    <tr>\n      <th>2023-12-30 07:50:00</th>\n      <td>59838.376155</td>\n    </tr>\n    <tr>\n      <th>2023-12-31 07:50:00</th>\n      <td>36581.640901</td>\n    </tr>\n    <tr>\n      <th>2024-01-01 07:50:00</th>\n      <td>41962.561251</td>\n    </tr>\n    <tr>\n      <th>2024-01-02 07:50:00</th>\n      <td>53236.333158</td>\n    </tr>\n    <tr>\n      <th>2024-01-03 07:50:00</th>\n      <td>93370.969272</td>\n    </tr>\n    <tr>\n      <th>2024-01-04 07:50:00</th>\n      <td>108192.562511</td>\n    </tr>\n    <tr>\n      <th>2024-01-05 07:50:00</th>\n      <td>68142.527313</td>\n    </tr>\n    <tr>\n      <th>2024-01-06 07:50:00</th>\n      <td>50893.140089</td>\n    </tr>\n  </tbody>\n</table>\n</div>"
     },
     "execution_count": 15,
     "metadata": {},
     "output_type": "execute_result"
    }
   ],
   "source": [
    "exchange_volume_rolling_data = api.exchange_historical_volume(exchange_id)\n",
    "exchange_volume_rolling_data"
   ]
  },
  {
   "cell_type": "code",
   "execution_count": 16,
   "id": "f1a33014-9756-4c08-9181-3ab761c563e7",
   "metadata": {
    "ExecuteTime": {
     "end_time": "2024-01-06T07:57:08.308795100Z",
     "start_time": "2024-01-06T07:57:08.115935700Z"
    }
   },
   "outputs": [
    {
     "data": {
      "text/plain": "           circulating_supply\ntimestamp                    \n2023-01-01         19248656.0\n2023-01-02         19249618.0\n2023-01-03         19250593.0\n2023-01-04         19251531.0\n2023-01-05         19252456.0\n...                       ...\n2023-12-27         19581706.0\n2023-12-28         19582562.0\n2023-12-29         19583318.0\n2023-12-30         19584275.0\n2023-12-31         19585162.0\n\n[365 rows x 1 columns]",
      "text/html": "<div>\n<style scoped>\n    .dataframe tbody tr th:only-of-type {\n        vertical-align: middle;\n    }\n\n    .dataframe tbody tr th {\n        vertical-align: top;\n    }\n\n    .dataframe thead th {\n        text-align: right;\n    }\n</style>\n<table border=\"1\" class=\"dataframe\">\n  <thead>\n    <tr style=\"text-align: right;\">\n      <th></th>\n      <th>circulating_supply</th>\n    </tr>\n    <tr>\n      <th>timestamp</th>\n      <th></th>\n    </tr>\n  </thead>\n  <tbody>\n    <tr>\n      <th>2023-01-01</th>\n      <td>19248656.0</td>\n    </tr>\n    <tr>\n      <th>2023-01-02</th>\n      <td>19249618.0</td>\n    </tr>\n    <tr>\n      <th>2023-01-03</th>\n      <td>19250593.0</td>\n    </tr>\n    <tr>\n      <th>2023-01-04</th>\n      <td>19251531.0</td>\n    </tr>\n    <tr>\n      <th>2023-01-05</th>\n      <td>19252456.0</td>\n    </tr>\n    <tr>\n      <th>...</th>\n      <td>...</td>\n    </tr>\n    <tr>\n      <th>2023-12-27</th>\n      <td>19581706.0</td>\n    </tr>\n    <tr>\n      <th>2023-12-28</th>\n      <td>19582562.0</td>\n    </tr>\n    <tr>\n      <th>2023-12-29</th>\n      <td>19583318.0</td>\n    </tr>\n    <tr>\n      <th>2023-12-30</th>\n      <td>19584275.0</td>\n    </tr>\n    <tr>\n      <th>2023-12-31</th>\n      <td>19585162.0</td>\n    </tr>\n  </tbody>\n</table>\n<p>365 rows × 1 columns</p>\n</div>"
     },
     "execution_count": 16,
     "metadata": {},
     "output_type": "execute_result"
    }
   ],
   "source": [
    "coin_circulating_supply_history = api.coin_circulating_supply_history(\n",
    "    coin_id='bitcoin', \n",
    "    from_date=start_date, \n",
    "    to_date=end_date\n",
    ")\n",
    "coin_circulating_supply_history"
   ]
  },
  {
   "cell_type": "code",
   "execution_count": 17,
   "outputs": [
    {
     "data": {
      "text/plain": "           total_supply\ntimestamp              \n2023-01-01   21000000.0\n2023-01-02   21000000.0\n2023-01-03   21000000.0\n2023-01-04   21000000.0\n2023-01-05   21000000.0\n...                 ...\n2023-12-27   21000000.0\n2023-12-28   21000000.0\n2023-12-29   21000000.0\n2023-12-30   21000000.0\n2023-12-31   21000000.0\n\n[365 rows x 1 columns]",
      "text/html": "<div>\n<style scoped>\n    .dataframe tbody tr th:only-of-type {\n        vertical-align: middle;\n    }\n\n    .dataframe tbody tr th {\n        vertical-align: top;\n    }\n\n    .dataframe thead th {\n        text-align: right;\n    }\n</style>\n<table border=\"1\" class=\"dataframe\">\n  <thead>\n    <tr style=\"text-align: right;\">\n      <th></th>\n      <th>total_supply</th>\n    </tr>\n    <tr>\n      <th>timestamp</th>\n      <th></th>\n    </tr>\n  </thead>\n  <tbody>\n    <tr>\n      <th>2023-01-01</th>\n      <td>21000000.0</td>\n    </tr>\n    <tr>\n      <th>2023-01-02</th>\n      <td>21000000.0</td>\n    </tr>\n    <tr>\n      <th>2023-01-03</th>\n      <td>21000000.0</td>\n    </tr>\n    <tr>\n      <th>2023-01-04</th>\n      <td>21000000.0</td>\n    </tr>\n    <tr>\n      <th>2023-01-05</th>\n      <td>21000000.0</td>\n    </tr>\n    <tr>\n      <th>...</th>\n      <td>...</td>\n    </tr>\n    <tr>\n      <th>2023-12-27</th>\n      <td>21000000.0</td>\n    </tr>\n    <tr>\n      <th>2023-12-28</th>\n      <td>21000000.0</td>\n    </tr>\n    <tr>\n      <th>2023-12-29</th>\n      <td>21000000.0</td>\n    </tr>\n    <tr>\n      <th>2023-12-30</th>\n      <td>21000000.0</td>\n    </tr>\n    <tr>\n      <th>2023-12-31</th>\n      <td>21000000.0</td>\n    </tr>\n  </tbody>\n</table>\n<p>365 rows × 1 columns</p>\n</div>"
     },
     "execution_count": 17,
     "metadata": {},
     "output_type": "execute_result"
    }
   ],
   "source": [
    "coin_total_supply_history = api.coin_total_supply_history(\n",
    "    coin_id='bitcoin', \n",
    "    from_date=start_date, \n",
    "    to_date=end_date\n",
    ")\n",
    "coin_total_supply_history"
   ],
   "metadata": {
    "collapsed": false,
    "ExecuteTime": {
     "end_time": "2024-01-06T07:57:08.412270700Z",
     "start_time": "2024-01-06T07:57:08.311327600Z"
    }
   },
   "id": "8bf0f3a8f2d39ef2"
  },
  {
   "cell_type": "code",
   "execution_count": 18,
   "outputs": [
    {
     "data": {
      "text/plain": "'Session closed successfully.'"
     },
     "execution_count": 18,
     "metadata": {},
     "output_type": "execute_result"
    }
   ],
   "source": [
    "api.end_session()"
   ],
   "metadata": {
    "collapsed": false,
    "ExecuteTime": {
     "end_time": "2024-01-06T07:57:08.413271Z",
     "start_time": "2024-01-06T07:57:08.407755500Z"
    }
   },
   "id": "898a252fecb8fedd"
  }
 ],
 "metadata": {
  "kernelspec": {
   "display_name": "Python 3 (ipykernel)",
   "language": "python",
   "name": "python3"
  },
  "language_info": {
   "codemirror_mode": {
    "name": "ipython",
    "version": 3
   },
   "file_extension": ".py",
   "mimetype": "text/x-python",
   "name": "python",
   "nbconvert_exporter": "python",
   "pygments_lexer": "ipython3",
   "version": "3.11.3"
  }
 },
 "nbformat": 4,
 "nbformat_minor": 5
}
