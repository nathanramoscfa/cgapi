{
 "cells": [
  {
   "cell_type": "markdown",
   "id": "35d118cb-7333-4f9e-a953-d3e3caa3db1d",
   "metadata": {},
   "source": [
    "# Trending"
   ]
  },
  {
   "cell_type": "code",
   "execution_count": 1,
   "id": "9850e4bd-6675-4629-b793-5f06f248c64b",
   "metadata": {},
   "outputs": [],
   "source": [
    "import sys\n",
    "from datetime import datetime, timedelta\n",
    "\n",
    "import keyring\n",
    "\n",
    "sys.path.append('../')\n",
    "\n",
    "from pycgapi import CoinGeckoAPI"
   ]
  },
  {
   "cell_type": "code",
   "execution_count": 2,
   "id": "67952b64-08cb-4221-9755-143620a1b97e",
   "metadata": {},
   "outputs": [],
   "source": [
    "# Fetch the API key securely using keyring\n",
    "api_key = keyring.get_password('coingecko', 'analyst_api_key')\n",
    "\n",
    "# Initialize the ContractData class with the fetched API key\n",
    "cg = CoinGeckoAPI(api_key, pro_api=True)"
   ]
  },
  {
   "cell_type": "markdown",
   "id": "36809157-04a0-4963-945a-74c4707c931e",
   "metadata": {},
   "source": [
    "## /search/trending\n",
    "https://docs.coingecko.com/reference/trending-search"
   ]
  },
  {
   "cell_type": "code",
   "execution_count": 3,
   "id": "cb217fe0-3e52-4b42-997c-adb28d4006b5",
   "metadata": {},
   "outputs": [
    {
     "name": "stdout",
     "output_type": "stream",
     "text": [
      "Trending Coins:\n",
      "                   coin_id               name symbol  market_cap_rank  \\\n",
      "id                                                                      \n",
      "based-brett          35529              Brett  BRETT              147   \n",
      "bobacat              31777            BobaCat   PSPS              976   \n",
      "gala                 12493               GALA   GALA               58   \n",
      "only1                17501              Only1   LIKE              792   \n",
      "non-playable-coin    31193  Non-Playable Coin    NPC              765   \n",
      "\n",
      "                                                               thumb  \\\n",
      "id                                                                     \n",
      "based-brett        https://assets.coingecko.com/coins/images/3552...   \n",
      "bobacat            https://assets.coingecko.com/coins/images/3177...   \n",
      "gala               https://assets.coingecko.com/coins/images/1249...   \n",
      "only1              https://assets.coingecko.com/coins/images/1750...   \n",
      "non-playable-coin  https://assets.coingecko.com/coins/images/3119...   \n",
      "\n",
      "                                                               small  \\\n",
      "id                                                                     \n",
      "based-brett        https://assets.coingecko.com/coins/images/3552...   \n",
      "bobacat            https://assets.coingecko.com/coins/images/3177...   \n",
      "gala               https://assets.coingecko.com/coins/images/1249...   \n",
      "only1              https://assets.coingecko.com/coins/images/1750...   \n",
      "non-playable-coin  https://assets.coingecko.com/coins/images/3119...   \n",
      "\n",
      "                                                               large  \\\n",
      "id                                                                     \n",
      "based-brett        https://assets.coingecko.com/coins/images/3552...   \n",
      "bobacat            https://assets.coingecko.com/coins/images/3177...   \n",
      "gala               https://assets.coingecko.com/coins/images/1249...   \n",
      "only1              https://assets.coingecko.com/coins/images/1750...   \n",
      "non-playable-coin  https://assets.coingecko.com/coins/images/3119...   \n",
      "\n",
      "                                slug     price_btc  score  \\\n",
      "id                                                          \n",
      "based-brett                  brett-2  1.071996e-06      0   \n",
      "bobacat                      bobacat  7.127093e-07      1   \n",
      "gala                            gala  7.671882e-07      2   \n",
      "only1                          only1  2.258222e-06      3   \n",
      "non-playable-coin  non-playable-coin  8.190496e-08      4   \n",
      "\n",
      "                                                                data  \n",
      "id                                                                    \n",
      "based-brett        {'price': 0.06967133845165592, 'price_btc': '0...  \n",
      "bobacat            {'price': 0.04632052117348091, 'price_btc': '0...  \n",
      "gala               {'price': 0.049860863745523364, 'price_btc': '...  \n",
      "only1              {'price': 0.14676674847568613, 'price_btc': '0...  \n",
      "non-playable-coin  {'price': 0.005323181088426599, 'price_btc': '...  \n"
     ]
    }
   ],
   "source": [
    "# Perform the trending search\n",
    "trending_results = cg.trending.trending_searches()\n",
    "print(\"Trending Coins:\")\n",
    "print(trending_results.head())"
   ]
  },
  {
   "cell_type": "markdown",
   "id": "6e097786-f7ab-4891-8b50-10b5b9d41210",
   "metadata": {},
   "source": [
    "## Close Session"
   ]
  },
  {
   "cell_type": "code",
   "execution_count": 4,
   "id": "1f117d7a-0b70-4865-b45d-7611c0aace5b",
   "metadata": {
    "ExecuteTime": {
     "end_time": "2024-01-06T07:32:52.944344Z",
     "start_time": "2024-01-06T07:32:52.932167100Z"
    },
    "tags": []
   },
   "outputs": [
    {
     "data": {
      "text/plain": [
       "'Session closed successfully.'"
      ]
     },
     "execution_count": 4,
     "metadata": {},
     "output_type": "execute_result"
    }
   ],
   "source": [
    "cg.end_session()"
   ]
  },
  {
   "cell_type": "code",
   "execution_count": null,
   "id": "d560a443-be6c-4e34-9672-6c8fdc6d2e9c",
   "metadata": {},
   "outputs": [],
   "source": []
  }
 ],
 "metadata": {
  "kernelspec": {
   "display_name": "Python 3 (ipykernel)",
   "language": "python",
   "name": "python3"
  },
  "language_info": {
   "codemirror_mode": {
    "name": "ipython",
    "version": 3
   },
   "file_extension": ".py",
   "mimetype": "text/x-python",
   "name": "python",
   "nbconvert_exporter": "python",
   "pygments_lexer": "ipython3",
   "version": "3.11.3"
  }
 },
 "nbformat": 4,
 "nbformat_minor": 5
}
