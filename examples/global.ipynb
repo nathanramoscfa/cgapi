{
 "cells": [
  {
   "cell_type": "markdown",
   "id": "b57c91cb-b72c-4aee-9248-61333bc4b3ff",
   "metadata": {},
   "source": [
    "# Global"
   ]
  },
  {
   "cell_type": "code",
   "execution_count": 1,
   "id": "f51aeee4-31fe-4479-94c3-ddd30b16f9bd",
   "metadata": {},
   "outputs": [],
   "source": [
    "import sys\n",
    "from datetime import datetime, timedelta\n",
    "\n",
    "import keyring\n",
    "\n",
    "sys.path.append('../')\n",
    "\n",
    "from pycgapi import CoinGeckoAPI"
   ]
  },
  {
   "cell_type": "code",
   "execution_count": 2,
   "id": "6ced70f4-6450-4eba-9b01-35a9b56f5e6b",
   "metadata": {},
   "outputs": [],
   "source": [
    "# Fetch the API key securely using keyring\n",
    "api_key = keyring.get_password('coingecko', 'analyst_api_key')\n",
    "\n",
    "# Initialize the ContractData class with the fetched API key\n",
    "cg = CoinGeckoAPI(api_key, pro_api=True)"
   ]
  },
  {
   "cell_type": "markdown",
   "id": "382f458c-01c5-4fe2-8bac-4cf71e307587",
   "metadata": {},
   "source": [
    "## /global\n",
    "https://docs.coingecko.com/reference/crypto-global"
   ]
  },
  {
   "cell_type": "code",
   "execution_count": 3,
   "id": "5ba7218a-8efd-4773-83d1-6e6a7b5ebdf2",
   "metadata": {},
   "outputs": [
    {
     "name": "stdout",
     "output_type": "stream",
     "text": [
      "Available Keys: dict_keys(['global_data', 'market_cap_percentage', 'total_market_cap', 'total_volume'])\n"
     ]
    }
   ],
   "source": [
    "# Fetch global cryptocurrency stats\n",
    "global_stats = cg.global_data.global_crypto_stats()\n",
    "print(\"Available Keys: {}\".format(global_stats.keys()))"
   ]
  },
  {
   "cell_type": "code",
   "execution_count": 4,
   "id": "773a80bd-dcb6-4841-9589-c9cf9a9a1339",
   "metadata": {
    "tags": []
   },
   "outputs": [
    {
     "data": {
      "text/html": [
       "<div>\n",
       "<style scoped>\n",
       "    .dataframe tbody tr th:only-of-type {\n",
       "        vertical-align: middle;\n",
       "    }\n",
       "\n",
       "    .dataframe tbody tr th {\n",
       "        vertical-align: top;\n",
       "    }\n",
       "\n",
       "    .dataframe thead th {\n",
       "        text-align: right;\n",
       "    }\n",
       "</style>\n",
       "<table border=\"1\" class=\"dataframe\">\n",
       "  <thead>\n",
       "    <tr style=\"text-align: right;\">\n",
       "      <th></th>\n",
       "      <th>global_data</th>\n",
       "    </tr>\n",
       "  </thead>\n",
       "  <tbody>\n",
       "    <tr>\n",
       "      <th>active_cryptocurrencies</th>\n",
       "      <td>13973</td>\n",
       "    </tr>\n",
       "    <tr>\n",
       "      <th>upcoming_icos</th>\n",
       "      <td>0</td>\n",
       "    </tr>\n",
       "    <tr>\n",
       "      <th>ongoing_icos</th>\n",
       "      <td>49</td>\n",
       "    </tr>\n",
       "    <tr>\n",
       "      <th>ended_icos</th>\n",
       "      <td>3376</td>\n",
       "    </tr>\n",
       "    <tr>\n",
       "      <th>markets</th>\n",
       "      <td>1057</td>\n",
       "    </tr>\n",
       "    <tr>\n",
       "      <th>market_cap_change_percentage_24h_usd</th>\n",
       "      <td>2.050197</td>\n",
       "    </tr>\n",
       "    <tr>\n",
       "      <th>updated_at</th>\n",
       "      <td>1713660178</td>\n",
       "    </tr>\n",
       "  </tbody>\n",
       "</table>\n",
       "</div>"
      ],
      "text/plain": [
       "                                     global_data\n",
       "active_cryptocurrencies                    13973\n",
       "upcoming_icos                                  0\n",
       "ongoing_icos                                  49\n",
       "ended_icos                                  3376\n",
       "markets                                     1057\n",
       "market_cap_change_percentage_24h_usd    2.050197\n",
       "updated_at                            1713660178"
      ]
     },
     "execution_count": 4,
     "metadata": {},
     "output_type": "execute_result"
    }
   ],
   "source": [
    "global_stats['global_data']"
   ]
  },
  {
   "cell_type": "code",
   "execution_count": 5,
   "id": "777ecd1f-60de-4868-bb79-f34eeb5d52b1",
   "metadata": {
    "tags": []
   },
   "outputs": [
    {
     "data": {
      "text/html": [
       "<div>\n",
       "<style scoped>\n",
       "    .dataframe tbody tr th:only-of-type {\n",
       "        vertical-align: middle;\n",
       "    }\n",
       "\n",
       "    .dataframe tbody tr th {\n",
       "        vertical-align: top;\n",
       "    }\n",
       "\n",
       "    .dataframe thead th {\n",
       "        text-align: right;\n",
       "    }\n",
       "</style>\n",
       "<table border=\"1\" class=\"dataframe\">\n",
       "  <thead>\n",
       "    <tr style=\"text-align: right;\">\n",
       "      <th></th>\n",
       "      <th>market_cap_percentage</th>\n",
       "    </tr>\n",
       "  </thead>\n",
       "  <tbody>\n",
       "    <tr>\n",
       "      <th>btc</th>\n",
       "      <td>51.009670</td>\n",
       "    </tr>\n",
       "    <tr>\n",
       "      <th>eth</th>\n",
       "      <td>15.071695</td>\n",
       "    </tr>\n",
       "    <tr>\n",
       "      <th>usdt</th>\n",
       "      <td>4.383526</td>\n",
       "    </tr>\n",
       "    <tr>\n",
       "      <th>bnb</th>\n",
       "      <td>3.496086</td>\n",
       "    </tr>\n",
       "    <tr>\n",
       "      <th>sol</th>\n",
       "      <td>2.674047</td>\n",
       "    </tr>\n",
       "    <tr>\n",
       "      <th>usdc</th>\n",
       "      <td>1.355809</td>\n",
       "    </tr>\n",
       "    <tr>\n",
       "      <th>steth</th>\n",
       "      <td>1.171427</td>\n",
       "    </tr>\n",
       "    <tr>\n",
       "      <th>xrp</th>\n",
       "      <td>1.156303</td>\n",
       "    </tr>\n",
       "    <tr>\n",
       "      <th>doge</th>\n",
       "      <td>0.922470</td>\n",
       "    </tr>\n",
       "    <tr>\n",
       "      <th>ton</th>\n",
       "      <td>0.859952</td>\n",
       "    </tr>\n",
       "  </tbody>\n",
       "</table>\n",
       "</div>"
      ],
      "text/plain": [
       "       market_cap_percentage\n",
       "btc                51.009670\n",
       "eth                15.071695\n",
       "usdt                4.383526\n",
       "bnb                 3.496086\n",
       "sol                 2.674047\n",
       "usdc                1.355809\n",
       "steth               1.171427\n",
       "xrp                 1.156303\n",
       "doge                0.922470\n",
       "ton                 0.859952"
      ]
     },
     "execution_count": 5,
     "metadata": {},
     "output_type": "execute_result"
    }
   ],
   "source": [
    "global_stats['market_cap_percentage']"
   ]
  },
  {
   "cell_type": "code",
   "execution_count": 6,
   "id": "444b16b4-f803-4d0b-a7b9-bf133edcf55a",
   "metadata": {
    "tags": []
   },
   "outputs": [
    {
     "data": {
      "text/html": [
       "<div>\n",
       "<style scoped>\n",
       "    .dataframe tbody tr th:only-of-type {\n",
       "        vertical-align: middle;\n",
       "    }\n",
       "\n",
       "    .dataframe tbody tr th {\n",
       "        vertical-align: top;\n",
       "    }\n",
       "\n",
       "    .dataframe thead th {\n",
       "        text-align: right;\n",
       "    }\n",
       "</style>\n",
       "<table border=\"1\" class=\"dataframe\">\n",
       "  <thead>\n",
       "    <tr style=\"text-align: right;\">\n",
       "      <th></th>\n",
       "      <th>total_market_cap</th>\n",
       "    </tr>\n",
       "  </thead>\n",
       "  <tbody>\n",
       "    <tr>\n",
       "      <th>btc</th>\n",
       "      <td>3.859642e+07</td>\n",
       "    </tr>\n",
       "    <tr>\n",
       "      <th>eth</th>\n",
       "      <td>7.966731e+08</td>\n",
       "    </tr>\n",
       "    <tr>\n",
       "      <th>ltc</th>\n",
       "      <td>2.961659e+10</td>\n",
       "    </tr>\n",
       "    <tr>\n",
       "      <th>bch</th>\n",
       "      <td>4.924074e+09</td>\n",
       "    </tr>\n",
       "    <tr>\n",
       "      <th>bnb</th>\n",
       "      <td>4.400648e+09</td>\n",
       "    </tr>\n",
       "    <tr>\n",
       "      <th>...</th>\n",
       "      <td>...</td>\n",
       "    </tr>\n",
       "    <tr>\n",
       "      <th>xdr</th>\n",
       "      <td>1.891544e+12</td>\n",
       "    </tr>\n",
       "    <tr>\n",
       "      <th>xag</th>\n",
       "      <td>8.707264e+10</td>\n",
       "    </tr>\n",
       "    <tr>\n",
       "      <th>xau</th>\n",
       "      <td>1.044162e+09</td>\n",
       "    </tr>\n",
       "    <tr>\n",
       "      <th>bits</th>\n",
       "      <td>3.859642e+13</td>\n",
       "    </tr>\n",
       "    <tr>\n",
       "      <th>sats</th>\n",
       "      <td>3.859642e+15</td>\n",
       "    </tr>\n",
       "  </tbody>\n",
       "</table>\n",
       "<p>62 rows × 1 columns</p>\n",
       "</div>"
      ],
      "text/plain": [
       "      total_market_cap\n",
       "btc       3.859642e+07\n",
       "eth       7.966731e+08\n",
       "ltc       2.961659e+10\n",
       "bch       4.924074e+09\n",
       "bnb       4.400648e+09\n",
       "...                ...\n",
       "xdr       1.891544e+12\n",
       "xag       8.707264e+10\n",
       "xau       1.044162e+09\n",
       "bits      3.859642e+13\n",
       "sats      3.859642e+15\n",
       "\n",
       "[62 rows x 1 columns]"
      ]
     },
     "execution_count": 6,
     "metadata": {},
     "output_type": "execute_result"
    }
   ],
   "source": [
    "global_stats['total_market_cap']"
   ]
  },
  {
   "cell_type": "code",
   "execution_count": 7,
   "id": "3fa5ffc5-e9a8-4e1f-b94a-4a698eb3970e",
   "metadata": {
    "tags": []
   },
   "outputs": [
    {
     "data": {
      "text/html": [
       "<div>\n",
       "<style scoped>\n",
       "    .dataframe tbody tr th:only-of-type {\n",
       "        vertical-align: middle;\n",
       "    }\n",
       "\n",
       "    .dataframe tbody tr th {\n",
       "        vertical-align: top;\n",
       "    }\n",
       "\n",
       "    .dataframe thead th {\n",
       "        text-align: right;\n",
       "    }\n",
       "</style>\n",
       "<table border=\"1\" class=\"dataframe\">\n",
       "  <thead>\n",
       "    <tr style=\"text-align: right;\">\n",
       "      <th></th>\n",
       "      <th>total_volume</th>\n",
       "    </tr>\n",
       "  </thead>\n",
       "  <tbody>\n",
       "    <tr>\n",
       "      <th>btc</th>\n",
       "      <td>1.095753e+06</td>\n",
       "    </tr>\n",
       "    <tr>\n",
       "      <th>eth</th>\n",
       "      <td>2.261757e+07</td>\n",
       "    </tr>\n",
       "    <tr>\n",
       "      <th>ltc</th>\n",
       "      <td>8.408159e+08</td>\n",
       "    </tr>\n",
       "    <tr>\n",
       "      <th>bch</th>\n",
       "      <td>1.397946e+08</td>\n",
       "    </tr>\n",
       "    <tr>\n",
       "      <th>bnb</th>\n",
       "      <td>1.249345e+08</td>\n",
       "    </tr>\n",
       "    <tr>\n",
       "      <th>...</th>\n",
       "      <td>...</td>\n",
       "    </tr>\n",
       "    <tr>\n",
       "      <th>xdr</th>\n",
       "      <td>5.370098e+10</td>\n",
       "    </tr>\n",
       "    <tr>\n",
       "      <th>xag</th>\n",
       "      <td>2.471995e+09</td>\n",
       "    </tr>\n",
       "    <tr>\n",
       "      <th>xau</th>\n",
       "      <td>2.964378e+07</td>\n",
       "    </tr>\n",
       "    <tr>\n",
       "      <th>bits</th>\n",
       "      <td>1.095753e+12</td>\n",
       "    </tr>\n",
       "    <tr>\n",
       "      <th>sats</th>\n",
       "      <td>1.095753e+14</td>\n",
       "    </tr>\n",
       "  </tbody>\n",
       "</table>\n",
       "<p>62 rows × 1 columns</p>\n",
       "</div>"
      ],
      "text/plain": [
       "      total_volume\n",
       "btc   1.095753e+06\n",
       "eth   2.261757e+07\n",
       "ltc   8.408159e+08\n",
       "bch   1.397946e+08\n",
       "bnb   1.249345e+08\n",
       "...            ...\n",
       "xdr   5.370098e+10\n",
       "xag   2.471995e+09\n",
       "xau   2.964378e+07\n",
       "bits  1.095753e+12\n",
       "sats  1.095753e+14\n",
       "\n",
       "[62 rows x 1 columns]"
      ]
     },
     "execution_count": 7,
     "metadata": {},
     "output_type": "execute_result"
    }
   ],
   "source": [
    "global_stats['total_volume']"
   ]
  },
  {
   "cell_type": "markdown",
   "id": "c47585c8-17b0-4f0a-a3d9-377cc6e9f200",
   "metadata": {},
   "source": [
    "## /global/decentralized_finance_defi\n",
    "https://docs.coingecko.com/reference/global-defi"
   ]
  },
  {
   "cell_type": "code",
   "execution_count": 8,
   "id": "4c840cfb-9b71-48e6-b0ad-842d93e32658",
   "metadata": {},
   "outputs": [
    {
     "name": "stdout",
     "output_type": "stream",
     "text": [
      "                                                         global_defi_stats\n",
      "                                                                          \n",
      "defi_market_cap                            90158481690.4662283016714857487\n",
      "eth_market_cap                            375814355340.3269755262322109717\n",
      "defi_to_eth_ratio        23.9901644014692380152377095628223655317101437...\n",
      "trading_volume_24h                        4104077089.750377287097841354343\n",
      "defi_dominance           3.61446345969167048897646103403024914116364044...\n",
      "top_coin_name                                            Lido Staked Ether\n",
      "top_coin_defi_dominance                                          32.400769\n"
     ]
    }
   ],
   "source": [
    "# Fetch global DeFi stats\n",
    "defi_stats = cg.global_data.global_defi_stats()\n",
    "print(defi_stats)"
   ]
  },
  {
   "cell_type": "markdown",
   "id": "7676934e-cd7e-40e5-be4b-786f9162e4f1",
   "metadata": {},
   "source": [
    "## global/market_cap_chart\n",
    "https://docs.coingecko.com/reference/global-market-cap-chart"
   ]
  },
  {
   "cell_type": "code",
   "execution_count": 9,
   "id": "66b88f4a-d85d-4ef2-b819-ffad2976453e",
   "metadata": {},
   "outputs": [],
   "source": [
    "# Fetch historical market cap\n",
    "market_cap_df, volume_df = cg.global_data.historical_global_market_cap()"
   ]
  },
  {
   "cell_type": "code",
   "execution_count": 10,
   "id": "03622ab8-8498-4980-a0fb-0cf7e82e8b6b",
   "metadata": {},
   "outputs": [
    {
     "name": "stdout",
     "output_type": "stream",
     "text": [
      "              market_cap\n",
      "timestamp               \n",
      "2013-04-29  1.661442e+09\n",
      "2013-04-30  1.592765e+09\n",
      "2013-05-01  1.378705e+09\n",
      "2013-05-02  1.220763e+09\n",
      "2013-05-03  1.075224e+09\n",
      "...                  ...\n",
      "2024-04-16  2.427375e+12\n",
      "2024-04-17  2.362634e+12\n",
      "2024-04-18  2.426393e+12\n",
      "2024-04-19  2.446656e+12\n",
      "2024-04-20  2.501584e+12\n",
      "\n",
      "[3988 rows x 1 columns]\n"
     ]
    }
   ],
   "source": [
    "print(market_cap_df)"
   ]
  },
  {
   "cell_type": "code",
   "execution_count": 11,
   "id": "1bcd015e-f435-462a-b910-4637729dd3b1",
   "metadata": {},
   "outputs": [
    {
     "name": "stdout",
     "output_type": "stream",
     "text": [
      "                  volume\n",
      "timestamp               \n",
      "2013-04-29  0.000000e+00\n",
      "2013-04-30  0.000000e+00\n",
      "2013-05-01  0.000000e+00\n",
      "2013-05-02  0.000000e+00\n",
      "2013-05-03  0.000000e+00\n",
      "...                  ...\n",
      "2024-04-16  1.240335e+11\n",
      "2024-04-17  1.130565e+11\n",
      "2024-04-18  1.023932e+11\n",
      "2024-04-19  1.310581e+11\n",
      "2024-04-20  7.673433e+10\n",
      "\n",
      "[3988 rows x 1 columns]\n"
     ]
    }
   ],
   "source": [
    "print(volume_df)"
   ]
  },
  {
   "cell_type": "markdown",
   "id": "a9e28c7c-4155-4b93-b700-55b74d90e9d7",
   "metadata": {},
   "source": [
    "## Close Session"
   ]
  },
  {
   "cell_type": "code",
   "execution_count": 12,
   "id": "b90f5b6c-d02b-421b-bc80-c899f5a5f82d",
   "metadata": {
    "ExecuteTime": {
     "end_time": "2024-01-06T07:32:52.944344Z",
     "start_time": "2024-01-06T07:32:52.932167100Z"
    },
    "tags": []
   },
   "outputs": [
    {
     "data": {
      "text/plain": [
       "'Session closed successfully.'"
      ]
     },
     "execution_count": 12,
     "metadata": {},
     "output_type": "execute_result"
    }
   ],
   "source": [
    "cg.end_session()"
   ]
  },
  {
   "cell_type": "code",
   "execution_count": null,
   "id": "528c82d4-31e4-4894-b271-ff29e51418c6",
   "metadata": {},
   "outputs": [],
   "source": []
  }
 ],
 "metadata": {
  "kernelspec": {
   "display_name": "Python 3 (ipykernel)",
   "language": "python",
   "name": "python3"
  },
  "language_info": {
   "codemirror_mode": {
    "name": "ipython",
    "version": 3
   },
   "file_extension": ".py",
   "mimetype": "text/x-python",
   "name": "python",
   "nbconvert_exporter": "python",
   "pygments_lexer": "ipython3",
   "version": "3.11.3"
  }
 },
 "nbformat": 4,
 "nbformat_minor": 5
}
