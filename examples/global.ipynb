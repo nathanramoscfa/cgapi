{
 "cells": [
  {
   "cell_type": "markdown",
   "id": "849f169a-062e-4bf7-aef3-b06197f02420",
   "metadata": {},
   "source": [
    "# global"
   ]
  },
  {
   "cell_type": "code",
   "execution_count": 1,
   "id": "4bad7028-2676-4969-920b-751e65fbcbad",
   "metadata": {
    "ExecuteTime": {
     "end_time": "2024-01-06T07:39:52.759517800Z",
     "start_time": "2024-01-06T07:39:52.756660500Z"
    },
    "tags": []
   },
   "outputs": [],
   "source": [
    "import sys\n",
    "sys.path.append('..')  # This adds the parent directory to the Python path"
   ]
  },
  {
   "cell_type": "code",
   "execution_count": 2,
   "id": "5503215d-3d11-4ec3-a16f-e4584966a95b",
   "metadata": {
    "ExecuteTime": {
     "end_time": "2024-01-06T07:39:53.522197900Z",
     "start_time": "2024-01-06T07:39:52.759517800Z"
    }
   },
   "outputs": [],
   "source": [
    "import keyring\n",
    "from cgapi import CoinGeckoAPI"
   ]
  },
  {
   "cell_type": "code",
   "execution_count": 3,
   "id": "44d55956-94e8-40a2-acf7-c4a2044ec81b",
   "metadata": {
    "ExecuteTime": {
     "end_time": "2024-01-06T07:39:55.725378900Z",
     "start_time": "2024-01-06T07:39:53.522197900Z"
    },
    "tags": []
   },
   "outputs": [],
   "source": [
    "api_key = keyring.get_password('coingecko', 'analyst_api_key')"
   ]
  },
  {
   "cell_type": "code",
   "execution_count": 4,
   "id": "b52852d2-5c13-4297-a218-a1949782dba1",
   "metadata": {
    "ExecuteTime": {
     "end_time": "2024-01-06T07:39:56.267756800Z",
     "start_time": "2024-01-06T07:39:55.726379500Z"
    },
    "tags": []
   },
   "outputs": [
    {
     "name": "stdout",
     "output_type": "stream",
     "text": [
      "API Server Status: {'gecko_says': '(V3) To the Moon!'}\n"
     ]
    }
   ],
   "source": [
    "api = CoinGeckoAPI(api_key, pro_api=True)\n",
    "status = api.status_check()\n",
    "print(\"API Server Status:\", status)"
   ]
  },
  {
   "cell_type": "markdown",
   "id": "c2715714-3027-4886-8762-2f16602bf3b6",
   "metadata": {},
   "source": [
    "## /global"
   ]
  },
  {
   "cell_type": "code",
   "execution_count": 5,
   "id": "cc35ed66-baba-4072-9f4e-3bceabbe1dd6",
   "metadata": {
    "ExecuteTime": {
     "end_time": "2024-01-06T07:39:56.347371500Z",
     "start_time": "2024-01-06T07:39:56.265756500Z"
    },
    "tags": []
   },
   "outputs": [],
   "source": [
    "global_crypto_data, market_cap_percentage, total_market_cap, total_volume = api.global_crypto_stats()"
   ]
  },
  {
   "cell_type": "code",
   "execution_count": 6,
   "id": "76fec7ae-5a79-4434-91f7-46538036a138",
   "metadata": {
    "ExecuteTime": {
     "end_time": "2024-01-06T07:39:56.359066200Z",
     "start_time": "2024-01-06T07:39:56.348365600Z"
    },
    "tags": []
   },
   "outputs": [
    {
     "data": {
      "text/html": [
       "<div>\n",
       "<style scoped>\n",
       "    .dataframe tbody tr th:only-of-type {\n",
       "        vertical-align: middle;\n",
       "    }\n",
       "\n",
       "    .dataframe tbody tr th {\n",
       "        vertical-align: top;\n",
       "    }\n",
       "\n",
       "    .dataframe thead th {\n",
       "        text-align: right;\n",
       "    }\n",
       "</style>\n",
       "<table border=\"1\" class=\"dataframe\">\n",
       "  <thead>\n",
       "    <tr style=\"text-align: right;\">\n",
       "      <th></th>\n",
       "      <th>data</th>\n",
       "    </tr>\n",
       "  </thead>\n",
       "  <tbody>\n",
       "    <tr>\n",
       "      <th>active_cryptocurrencies</th>\n",
       "      <td>12009</td>\n",
       "    </tr>\n",
       "    <tr>\n",
       "      <th>ended_icos</th>\n",
       "      <td>3376</td>\n",
       "    </tr>\n",
       "    <tr>\n",
       "      <th>market_cap_change_percentage_24h_usd</th>\n",
       "      <td>-1.828075</td>\n",
       "    </tr>\n",
       "    <tr>\n",
       "      <th>market_cap_percentage</th>\n",
       "      <td>{'btc': 49.8939737005797, 'eth': 15.6446466129...</td>\n",
       "    </tr>\n",
       "    <tr>\n",
       "      <th>markets</th>\n",
       "      <td>965</td>\n",
       "    </tr>\n",
       "    <tr>\n",
       "      <th>ongoing_icos</th>\n",
       "      <td>49</td>\n",
       "    </tr>\n",
       "    <tr>\n",
       "      <th>total_market_cap</th>\n",
       "      <td>{'btc': 39265637.81468037, 'eth': 767808506.88...</td>\n",
       "    </tr>\n",
       "    <tr>\n",
       "      <th>total_volume</th>\n",
       "      <td>{'btc': 1991550.7440519135, 'eth': 38943200.42...</td>\n",
       "    </tr>\n",
       "    <tr>\n",
       "      <th>upcoming_icos</th>\n",
       "      <td>0</td>\n",
       "    </tr>\n",
       "    <tr>\n",
       "      <th>updated_at</th>\n",
       "      <td>1704526273</td>\n",
       "    </tr>\n",
       "  </tbody>\n",
       "</table>\n",
       "</div>"
      ],
      "text/plain": [
       "                                                                                   data\n",
       "active_cryptocurrencies                                                           12009\n",
       "ended_icos                                                                         3376\n",
       "market_cap_change_percentage_24h_usd                                          -1.828075\n",
       "market_cap_percentage                 {'btc': 49.8939737005797, 'eth': 15.6446466129...\n",
       "markets                                                                             965\n",
       "ongoing_icos                                                                         49\n",
       "total_market_cap                      {'btc': 39265637.81468037, 'eth': 767808506.88...\n",
       "total_volume                          {'btc': 1991550.7440519135, 'eth': 38943200.42...\n",
       "upcoming_icos                                                                         0\n",
       "updated_at                                                                   1704526273"
      ]
     },
     "execution_count": 6,
     "metadata": {},
     "output_type": "execute_result"
    }
   ],
   "source": [
    "global_crypto_data"
   ]
  },
  {
   "cell_type": "code",
   "execution_count": 7,
   "id": "e42c78aa-5648-4f6a-a2d6-f2ffe893d48d",
   "metadata": {
    "ExecuteTime": {
     "end_time": "2024-01-06T07:39:56.369046700Z",
     "start_time": "2024-01-06T07:39:56.358065600Z"
    },
    "tags": []
   },
   "outputs": [
    {
     "data": {
      "text/html": [
       "<div>\n",
       "<style scoped>\n",
       "    .dataframe tbody tr th:only-of-type {\n",
       "        vertical-align: middle;\n",
       "    }\n",
       "\n",
       "    .dataframe tbody tr th {\n",
       "        vertical-align: top;\n",
       "    }\n",
       "\n",
       "    .dataframe thead th {\n",
       "        text-align: right;\n",
       "    }\n",
       "</style>\n",
       "<table border=\"1\" class=\"dataframe\">\n",
       "  <thead>\n",
       "    <tr style=\"text-align: right;\">\n",
       "      <th></th>\n",
       "      <th>market_cap_percentage</th>\n",
       "    </tr>\n",
       "  </thead>\n",
       "  <tbody>\n",
       "    <tr>\n",
       "      <th>btc</th>\n",
       "      <td>49.893974</td>\n",
       "    </tr>\n",
       "    <tr>\n",
       "      <th>eth</th>\n",
       "      <td>15.644647</td>\n",
       "    </tr>\n",
       "    <tr>\n",
       "      <th>usdt</th>\n",
       "      <td>5.468228</td>\n",
       "    </tr>\n",
       "    <tr>\n",
       "      <th>bnb</th>\n",
       "      <td>2.715711</td>\n",
       "    </tr>\n",
       "    <tr>\n",
       "      <th>sol</th>\n",
       "      <td>2.334836</td>\n",
       "    </tr>\n",
       "    <tr>\n",
       "      <th>xrp</th>\n",
       "      <td>1.781187</td>\n",
       "    </tr>\n",
       "    <tr>\n",
       "      <th>usdc</th>\n",
       "      <td>1.486582</td>\n",
       "    </tr>\n",
       "    <tr>\n",
       "      <th>steth</th>\n",
       "      <td>1.204744</td>\n",
       "    </tr>\n",
       "    <tr>\n",
       "      <th>ada</th>\n",
       "      <td>1.052740</td>\n",
       "    </tr>\n",
       "    <tr>\n",
       "      <th>avax</th>\n",
       "      <td>0.728423</td>\n",
       "    </tr>\n",
       "  </tbody>\n",
       "</table>\n",
       "</div>"
      ],
      "text/plain": [
       "       market_cap_percentage\n",
       "btc                49.893974\n",
       "eth                15.644647\n",
       "usdt                5.468228\n",
       "bnb                 2.715711\n",
       "sol                 2.334836\n",
       "xrp                 1.781187\n",
       "usdc                1.486582\n",
       "steth               1.204744\n",
       "ada                 1.052740\n",
       "avax                0.728423"
      ]
     },
     "execution_count": 7,
     "metadata": {},
     "output_type": "execute_result"
    }
   ],
   "source": [
    "market_cap_percentage"
   ]
  },
  {
   "cell_type": "code",
   "execution_count": 8,
   "id": "abd485ee-2387-4a1f-a4ff-aa865a4cb7cf",
   "metadata": {
    "ExecuteTime": {
     "end_time": "2024-01-06T07:39:56.458457200Z",
     "start_time": "2024-01-06T07:39:56.367047Z"
    }
   },
   "outputs": [
    {
     "data": {
      "text/html": [
       "<div>\n",
       "<style scoped>\n",
       "    .dataframe tbody tr th:only-of-type {\n",
       "        vertical-align: middle;\n",
       "    }\n",
       "\n",
       "    .dataframe tbody tr th {\n",
       "        vertical-align: top;\n",
       "    }\n",
       "\n",
       "    .dataframe thead th {\n",
       "        text-align: right;\n",
       "    }\n",
       "</style>\n",
       "<table border=\"1\" class=\"dataframe\">\n",
       "  <thead>\n",
       "    <tr style=\"text-align: right;\">\n",
       "      <th></th>\n",
       "      <th>total_market_cap</th>\n",
       "    </tr>\n",
       "  </thead>\n",
       "  <tbody>\n",
       "    <tr>\n",
       "      <th>btc</th>\n",
       "      <td>3.926564e+07</td>\n",
       "    </tr>\n",
       "    <tr>\n",
       "      <th>eth</th>\n",
       "      <td>7.678085e+08</td>\n",
       "    </tr>\n",
       "    <tr>\n",
       "      <th>ltc</th>\n",
       "      <td>2.662313e+10</td>\n",
       "    </tr>\n",
       "    <tr>\n",
       "      <th>bch</th>\n",
       "      <td>7.320318e+09</td>\n",
       "    </tr>\n",
       "    <tr>\n",
       "      <th>bnb</th>\n",
       "      <td>5.665410e+09</td>\n",
       "    </tr>\n",
       "    <tr>\n",
       "      <th>...</th>\n",
       "      <td>...</td>\n",
       "    </tr>\n",
       "    <tr>\n",
       "      <th>xdr</th>\n",
       "      <td>1.277305e+12</td>\n",
       "    </tr>\n",
       "    <tr>\n",
       "      <th>xag</th>\n",
       "      <td>7.389677e+10</td>\n",
       "    </tr>\n",
       "    <tr>\n",
       "      <th>xau</th>\n",
       "      <td>8.378330e+08</td>\n",
       "    </tr>\n",
       "    <tr>\n",
       "      <th>bits</th>\n",
       "      <td>3.926564e+13</td>\n",
       "    </tr>\n",
       "    <tr>\n",
       "      <th>sats</th>\n",
       "      <td>3.926564e+15</td>\n",
       "    </tr>\n",
       "  </tbody>\n",
       "</table>\n",
       "<p>62 rows × 1 columns</p>\n",
       "</div>"
      ],
      "text/plain": [
       "      total_market_cap\n",
       "btc       3.926564e+07\n",
       "eth       7.678085e+08\n",
       "ltc       2.662313e+10\n",
       "bch       7.320318e+09\n",
       "bnb       5.665410e+09\n",
       "...                ...\n",
       "xdr       1.277305e+12\n",
       "xag       7.389677e+10\n",
       "xau       8.378330e+08\n",
       "bits      3.926564e+13\n",
       "sats      3.926564e+15\n",
       "\n",
       "[62 rows x 1 columns]"
      ]
     },
     "execution_count": 8,
     "metadata": {},
     "output_type": "execute_result"
    }
   ],
   "source": [
    "total_market_cap"
   ]
  },
  {
   "cell_type": "code",
   "execution_count": 9,
   "id": "77470b61-8115-42d0-8a62-7e0a1fef6798",
   "metadata": {
    "ExecuteTime": {
     "end_time": "2024-01-06T07:39:56.479114100Z",
     "start_time": "2024-01-06T07:39:56.447288200Z"
    }
   },
   "outputs": [
    {
     "data": {
      "text/html": [
       "<div>\n",
       "<style scoped>\n",
       "    .dataframe tbody tr th:only-of-type {\n",
       "        vertical-align: middle;\n",
       "    }\n",
       "\n",
       "    .dataframe tbody tr th {\n",
       "        vertical-align: top;\n",
       "    }\n",
       "\n",
       "    .dataframe thead th {\n",
       "        text-align: right;\n",
       "    }\n",
       "</style>\n",
       "<table border=\"1\" class=\"dataframe\">\n",
       "  <thead>\n",
       "    <tr style=\"text-align: right;\">\n",
       "      <th></th>\n",
       "      <th>total_volume</th>\n",
       "    </tr>\n",
       "  </thead>\n",
       "  <tbody>\n",
       "    <tr>\n",
       "      <th>btc</th>\n",
       "      <td>1.991551e+06</td>\n",
       "    </tr>\n",
       "    <tr>\n",
       "      <th>eth</th>\n",
       "      <td>3.894320e+07</td>\n",
       "    </tr>\n",
       "    <tr>\n",
       "      <th>ltc</th>\n",
       "      <td>1.350324e+09</td>\n",
       "    </tr>\n",
       "    <tr>\n",
       "      <th>bch</th>\n",
       "      <td>3.712861e+08</td>\n",
       "    </tr>\n",
       "    <tr>\n",
       "      <th>bnb</th>\n",
       "      <td>2.873492e+08</td>\n",
       "    </tr>\n",
       "    <tr>\n",
       "      <th>...</th>\n",
       "      <td>...</td>\n",
       "    </tr>\n",
       "    <tr>\n",
       "      <th>xdr</th>\n",
       "      <td>6.478485e+10</td>\n",
       "    </tr>\n",
       "    <tr>\n",
       "      <th>xag</th>\n",
       "      <td>3.748039e+09</td>\n",
       "    </tr>\n",
       "    <tr>\n",
       "      <th>xau</th>\n",
       "      <td>4.249484e+07</td>\n",
       "    </tr>\n",
       "    <tr>\n",
       "      <th>bits</th>\n",
       "      <td>1.991551e+12</td>\n",
       "    </tr>\n",
       "    <tr>\n",
       "      <th>sats</th>\n",
       "      <td>1.991551e+14</td>\n",
       "    </tr>\n",
       "  </tbody>\n",
       "</table>\n",
       "<p>62 rows × 1 columns</p>\n",
       "</div>"
      ],
      "text/plain": [
       "      total_volume\n",
       "btc   1.991551e+06\n",
       "eth   3.894320e+07\n",
       "ltc   1.350324e+09\n",
       "bch   3.712861e+08\n",
       "bnb   2.873492e+08\n",
       "...            ...\n",
       "xdr   6.478485e+10\n",
       "xag   3.748039e+09\n",
       "xau   4.249484e+07\n",
       "bits  1.991551e+12\n",
       "sats  1.991551e+14\n",
       "\n",
       "[62 rows x 1 columns]"
      ]
     },
     "execution_count": 9,
     "metadata": {},
     "output_type": "execute_result"
    }
   ],
   "source": [
    "total_volume"
   ]
  },
  {
   "cell_type": "markdown",
   "id": "3f3ce9ba-ff43-4f00-854c-8a088838ae57",
   "metadata": {},
   "source": [
    "## /global/decentralized_finance_defi"
   ]
  },
  {
   "cell_type": "code",
   "execution_count": 10,
   "id": "33071cee-4d2d-4340-8fbc-61721f3ef14b",
   "metadata": {
    "ExecuteTime": {
     "end_time": "2024-01-06T07:39:56.884769400Z",
     "start_time": "2024-01-06T07:39:56.464465100Z"
    },
    "tags": []
   },
   "outputs": [
    {
     "data": {
      "text/html": [
       "<div>\n",
       "<style scoped>\n",
       "    .dataframe tbody tr th:only-of-type {\n",
       "        vertical-align: middle;\n",
       "    }\n",
       "\n",
       "    .dataframe tbody tr th {\n",
       "        vertical-align: top;\n",
       "    }\n",
       "\n",
       "    .dataframe thead th {\n",
       "        text-align: right;\n",
       "    }\n",
       "</style>\n",
       "<table border=\"1\" class=\"dataframe\">\n",
       "  <thead>\n",
       "    <tr style=\"text-align: right;\">\n",
       "      <th></th>\n",
       "      <th>data</th>\n",
       "    </tr>\n",
       "  </thead>\n",
       "  <tbody>\n",
       "    <tr>\n",
       "      <th>defi_dominance</th>\n",
       "      <td>4.10598171561394382904877658404023747962912926...</td>\n",
       "    </tr>\n",
       "    <tr>\n",
       "      <th>defi_market_cap</th>\n",
       "      <td>70316151831.4625875604840398256</td>\n",
       "    </tr>\n",
       "    <tr>\n",
       "      <th>defi_to_eth_ratio</th>\n",
       "      <td>26.2418829470905200290584643759127566167948088...</td>\n",
       "    </tr>\n",
       "    <tr>\n",
       "      <th>eth_market_cap</th>\n",
       "      <td>267953911589.4831508252514412619</td>\n",
       "    </tr>\n",
       "    <tr>\n",
       "      <th>top_coin_defi_dominance</th>\n",
       "      <td>29.326094</td>\n",
       "    </tr>\n",
       "    <tr>\n",
       "      <th>top_coin_name</th>\n",
       "      <td>Lido Staked Ether</td>\n",
       "    </tr>\n",
       "    <tr>\n",
       "      <th>trading_volume_24h</th>\n",
       "      <td>4603421302.30278583156678843332</td>\n",
       "    </tr>\n",
       "  </tbody>\n",
       "</table>\n",
       "</div>"
      ],
      "text/plain": [
       "                                                                      data\n",
       "defi_dominance           4.10598171561394382904877658404023747962912926...\n",
       "defi_market_cap                            70316151831.4625875604840398256\n",
       "defi_to_eth_ratio        26.2418829470905200290584643759127566167948088...\n",
       "eth_market_cap                            267953911589.4831508252514412619\n",
       "top_coin_defi_dominance                                          29.326094\n",
       "top_coin_name                                            Lido Staked Ether\n",
       "trading_volume_24h                         4603421302.30278583156678843332"
      ]
     },
     "execution_count": 10,
     "metadata": {},
     "output_type": "execute_result"
    }
   ],
   "source": [
    "global_defi_data = api.global_defi_stats()\n",
    "global_defi_data"
   ]
  },
  {
   "cell_type": "code",
   "execution_count": 11,
   "id": "7f78bacf-3da1-4734-8054-6d93bb765e69",
   "metadata": {
    "ExecuteTime": {
     "end_time": "2024-01-06T07:39:56.885688Z",
     "start_time": "2024-01-06T07:39:56.880276400Z"
    },
    "tags": []
   },
   "outputs": [
    {
     "data": {
      "text/plain": [
       "'Session closed successfully.'"
      ]
     },
     "execution_count": 11,
     "metadata": {},
     "output_type": "execute_result"
    }
   ],
   "source": [
    "api.end_session()"
   ]
  },
  {
   "cell_type": "code",
   "execution_count": 11,
   "id": "fd8974d0-7e2d-40ea-8aa7-429afb29d0b5",
   "metadata": {
    "ExecuteTime": {
     "end_time": "2024-01-06T07:39:56.892443800Z",
     "start_time": "2024-01-06T07:39:56.884769400Z"
    }
   },
   "outputs": [],
   "source": []
  }
 ],
 "metadata": {
  "kernelspec": {
   "display_name": "Python 3 (ipykernel)",
   "language": "python",
   "name": "python3"
  },
  "language_info": {
   "codemirror_mode": {
    "name": "ipython",
    "version": 3
   },
   "file_extension": ".py",
   "mimetype": "text/x-python",
   "name": "python",
   "nbconvert_exporter": "python",
   "pygments_lexer": "ipython3",
   "version": "3.11.3"
  }
 },
 "nbformat": 4,
 "nbformat_minor": 5
}
