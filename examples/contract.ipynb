{
 "cells": [
  {
   "cell_type": "markdown",
   "id": "1190508e-23c6-4eaa-ae2a-6859b2fccb3f",
   "metadata": {},
   "source": [
    "# contract"
   ]
  },
  {
   "cell_type": "code",
   "execution_count": 1,
   "id": "c405bdab-79f0-400f-b1d7-4dfb64d3e02c",
   "metadata": {
    "ExecuteTime": {
     "end_time": "2024-01-06T07:18:52.754432900Z",
     "start_time": "2024-01-06T07:18:52.750634600Z"
    },
    "tags": []
   },
   "outputs": [],
   "source": [
    "import sys\n",
    "sys.path.append('..')  # This adds the parent directory to the Python path"
   ]
  },
  {
   "cell_type": "code",
   "execution_count": 2,
   "id": "af047fcc-1a38-41e1-a1ca-00e07867e109",
   "metadata": {
    "ExecuteTime": {
     "end_time": "2024-01-06T07:18:53.332816200Z",
     "start_time": "2024-01-06T07:18:52.754432900Z"
    }
   },
   "outputs": [],
   "source": [
    "import keyring\n",
    "from coingeckoapi import CoinGeckoAPI"
   ]
  },
  {
   "cell_type": "code",
   "execution_count": 3,
   "id": "183a92e4-2c5d-4a9f-bfde-3d3cf46d41ca",
   "metadata": {
    "ExecuteTime": {
     "end_time": "2024-01-06T07:18:55.533098500Z",
     "start_time": "2024-01-06T07:18:53.332816200Z"
    },
    "tags": []
   },
   "outputs": [],
   "source": [
    "api_key = keyring.get_password('coingecko', 'analyst_api_key')"
   ]
  },
  {
   "cell_type": "code",
   "execution_count": 4,
   "id": "7fbbf057-9b1d-4d2b-92e4-1915dc8f80ff",
   "metadata": {
    "ExecuteTime": {
     "end_time": "2024-01-06T07:18:56.076873100Z",
     "start_time": "2024-01-06T07:18:55.533098500Z"
    },
    "tags": []
   },
   "outputs": [
    {
     "name": "stdout",
     "output_type": "stream",
     "text": [
      "API Server Status: {'gecko_says': '(V3) To the Moon!'}\n"
     ]
    }
   ],
   "source": [
    "api = CoinGeckoAPI(api_key, pro_api=True)\n",
    "status = api.status_check()\n",
    "print(\"API Server Status:\", status)"
   ]
  },
  {
   "cell_type": "code",
   "execution_count": 5,
   "id": "f14ed84a-d807-42a1-9b33-4c33824a5405",
   "metadata": {
    "ExecuteTime": {
     "end_time": "2024-01-06T07:18:56.081965600Z",
     "start_time": "2024-01-06T07:18:56.076873100Z"
    }
   },
   "outputs": [],
   "source": [
    "platform_id = 'ethereum'\n",
    "ldo_contract_address = '0x5a98fcbea516cf06857215779fd812ca3bef1b32'  # LDO token contract address"
   ]
  },
  {
   "cell_type": "markdown",
   "id": "7762af42-264b-49cb-bde7-ce582d8aeb17",
   "metadata": {},
   "source": [
    "## /coins/{id}/contract/{contract_address}"
   ]
  },
  {
   "cell_type": "code",
   "execution_count": 6,
   "id": "cf261619-dc4b-494b-ae8e-4500188ad520",
   "metadata": {
    "ExecuteTime": {
     "end_time": "2024-01-06T07:18:56.255660200Z",
     "start_time": "2024-01-06T07:18:56.080965900Z"
    }
   },
   "outputs": [
    {
     "name": "stdout",
     "output_type": "stream",
     "text": [
      "Available Keys: ['additional_notices', 'asset_platform_id', 'block_time_in_minutes', 'categories', 'community_data', 'contract_address', 'country_origin', 'description', 'detail_platforms', 'developer_data', 'genesis_date', 'hashing_algorithm', 'id', 'image', 'last_updated', 'links', 'localization', 'market_cap_rank', 'market_data', 'name', 'platforms', 'preview_listing', 'public_notice', 'sentiment_votes_down_percentage', 'sentiment_votes_up_percentage', 'status_updates', 'symbol', 'tickers', 'watchlist_portfolio_users', 'web_slug']\n"
     ]
    }
   ],
   "source": [
    "coin_info_by_contract = api.coin_by_contract(platform_id, ldo_contract_address)\n",
    "print('Available Keys: {}'.format(sorted(coin_info_by_contract.keys())))"
   ]
  },
  {
   "cell_type": "markdown",
   "id": "595957a2-97fe-459f-bd1a-64a09e7e257f",
   "metadata": {},
   "source": [
    "## /coins/{id}/contract/{contract_address}/market_chart"
   ]
  },
  {
   "cell_type": "code",
   "execution_count": 7,
   "id": "3c072c50-35bf-4749-8993-9f9beab4e6cf",
   "metadata": {
    "ExecuteTime": {
     "end_time": "2024-01-06T07:18:56.374788200Z",
     "start_time": "2024-01-06T07:18:56.253149800Z"
    }
   },
   "outputs": [
    {
     "data": {
      "text/html": [
       "<div>\n",
       "<style scoped>\n",
       "    .dataframe tbody tr th:only-of-type {\n",
       "        vertical-align: middle;\n",
       "    }\n",
       "\n",
       "    .dataframe tbody tr th {\n",
       "        vertical-align: top;\n",
       "    }\n",
       "\n",
       "    .dataframe thead th {\n",
       "        text-align: right;\n",
       "    }\n",
       "</style>\n",
       "<table border=\"1\" class=\"dataframe\">\n",
       "  <thead>\n",
       "    <tr style=\"text-align: right;\">\n",
       "      <th></th>\n",
       "      <th>price</th>\n",
       "      <th>market_cap</th>\n",
       "      <th>total_volume</th>\n",
       "    </tr>\n",
       "    <tr>\n",
       "      <th>timestamp</th>\n",
       "      <th></th>\n",
       "      <th></th>\n",
       "      <th></th>\n",
       "    </tr>\n",
       "  </thead>\n",
       "  <tbody>\n",
       "    <tr>\n",
       "      <th>2021-01-05 00:00:00+00:00</th>\n",
       "      <td>1.750891</td>\n",
       "      <td>5.193326e+06</td>\n",
       "      <td>1.258283e+07</td>\n",
       "    </tr>\n",
       "    <tr>\n",
       "      <th>2021-01-06 00:00:00+00:00</th>\n",
       "      <td>1.750891</td>\n",
       "      <td>5.193326e+06</td>\n",
       "      <td>1.258283e+07</td>\n",
       "    </tr>\n",
       "    <tr>\n",
       "      <th>2021-01-07 00:00:00+00:00</th>\n",
       "      <td>1.760411</td>\n",
       "      <td>5.667692e+06</td>\n",
       "      <td>6.423586e+06</td>\n",
       "    </tr>\n",
       "    <tr>\n",
       "      <th>2021-01-08 00:00:00+00:00</th>\n",
       "      <td>1.426809</td>\n",
       "      <td>4.586996e+06</td>\n",
       "      <td>2.079384e+06</td>\n",
       "    </tr>\n",
       "    <tr>\n",
       "      <th>2021-01-09 00:00:00+00:00</th>\n",
       "      <td>1.495403</td>\n",
       "      <td>4.803312e+06</td>\n",
       "      <td>1.086875e+06</td>\n",
       "    </tr>\n",
       "    <tr>\n",
       "      <th>...</th>\n",
       "      <td>...</td>\n",
       "      <td>...</td>\n",
       "      <td>...</td>\n",
       "    </tr>\n",
       "    <tr>\n",
       "      <th>2024-01-03 00:00:00+00:00</th>\n",
       "      <td>2.868838</td>\n",
       "      <td>2.544126e+09</td>\n",
       "      <td>1.210114e+08</td>\n",
       "    </tr>\n",
       "    <tr>\n",
       "      <th>2024-01-04 00:00:00+00:00</th>\n",
       "      <td>3.056284</td>\n",
       "      <td>2.721660e+09</td>\n",
       "      <td>3.648256e+08</td>\n",
       "    </tr>\n",
       "    <tr>\n",
       "      <th>2024-01-05 00:00:00+00:00</th>\n",
       "      <td>3.129506</td>\n",
       "      <td>2.784442e+09</td>\n",
       "      <td>2.028637e+08</td>\n",
       "    </tr>\n",
       "    <tr>\n",
       "      <th>2024-01-06 00:00:00+00:00</th>\n",
       "      <td>3.521935</td>\n",
       "      <td>3.147664e+09</td>\n",
       "      <td>2.367199e+08</td>\n",
       "    </tr>\n",
       "    <tr>\n",
       "      <th>2024-01-06 00:00:00+00:00</th>\n",
       "      <td>3.256713</td>\n",
       "      <td>2.901381e+09</td>\n",
       "      <td>2.733259e+08</td>\n",
       "    </tr>\n",
       "  </tbody>\n",
       "</table>\n",
       "<p>1098 rows × 3 columns</p>\n",
       "</div>"
      ],
      "text/plain": [
       "                              price    market_cap  total_volume\n",
       "timestamp                                                      \n",
       "2021-01-05 00:00:00+00:00  1.750891  5.193326e+06  1.258283e+07\n",
       "2021-01-06 00:00:00+00:00  1.750891  5.193326e+06  1.258283e+07\n",
       "2021-01-07 00:00:00+00:00  1.760411  5.667692e+06  6.423586e+06\n",
       "2021-01-08 00:00:00+00:00  1.426809  4.586996e+06  2.079384e+06\n",
       "2021-01-09 00:00:00+00:00  1.495403  4.803312e+06  1.086875e+06\n",
       "...                             ...           ...           ...\n",
       "2024-01-03 00:00:00+00:00  2.868838  2.544126e+09  1.210114e+08\n",
       "2024-01-04 00:00:00+00:00  3.056284  2.721660e+09  3.648256e+08\n",
       "2024-01-05 00:00:00+00:00  3.129506  2.784442e+09  2.028637e+08\n",
       "2024-01-06 00:00:00+00:00  3.521935  3.147664e+09  2.367199e+08\n",
       "2024-01-06 00:00:00+00:00  3.256713  2.901381e+09  2.733259e+08\n",
       "\n",
       "[1098 rows x 3 columns]"
      ]
     },
     "execution_count": 7,
     "metadata": {},
     "output_type": "execute_result"
    }
   ],
   "source": [
    "historical_data_by_contract = api.contract_historical_market_data(\n",
    "    platform_id, \n",
    "    ldo_contract_address\n",
    ")\n",
    "historical_data_by_contract"
   ]
  },
  {
   "cell_type": "markdown",
   "id": "0f5b7ed6-d02c-4dce-a12c-2bb665f001a4",
   "metadata": {},
   "source": [
    "## /coins/{id}/contract/{contract_address}/market_chart/range"
   ]
  },
  {
   "cell_type": "code",
   "execution_count": 8,
   "id": "c851c8bd-e966-4228-94be-5e5292c3b057",
   "metadata": {
    "ExecuteTime": {
     "end_time": "2024-01-06T07:18:56.477579200Z",
     "start_time": "2024-01-06T07:18:56.369283100Z"
    }
   },
   "outputs": [
    {
     "data": {
      "text/html": [
       "<div>\n",
       "<style scoped>\n",
       "    .dataframe tbody tr th:only-of-type {\n",
       "        vertical-align: middle;\n",
       "    }\n",
       "\n",
       "    .dataframe tbody tr th {\n",
       "        vertical-align: top;\n",
       "    }\n",
       "\n",
       "    .dataframe thead th {\n",
       "        text-align: right;\n",
       "    }\n",
       "</style>\n",
       "<table border=\"1\" class=\"dataframe\">\n",
       "  <thead>\n",
       "    <tr style=\"text-align: right;\">\n",
       "      <th></th>\n",
       "      <th>price</th>\n",
       "      <th>market_cap</th>\n",
       "      <th>total_volume</th>\n",
       "    </tr>\n",
       "    <tr>\n",
       "      <th>timestamp</th>\n",
       "      <th></th>\n",
       "      <th></th>\n",
       "      <th></th>\n",
       "    </tr>\n",
       "  </thead>\n",
       "  <tbody>\n",
       "    <tr>\n",
       "      <th>2023-01-02 00:00:00+00:00</th>\n",
       "      <td>1.077925</td>\n",
       "      <td>8.908959e+08</td>\n",
       "      <td>6.985973e+07</td>\n",
       "    </tr>\n",
       "    <tr>\n",
       "      <th>2023-01-03 00:00:00+00:00</th>\n",
       "      <td>1.211534</td>\n",
       "      <td>1.007538e+09</td>\n",
       "      <td>9.012206e+07</td>\n",
       "    </tr>\n",
       "    <tr>\n",
       "      <th>2023-01-04 00:00:00+00:00</th>\n",
       "      <td>1.201550</td>\n",
       "      <td>9.950221e+08</td>\n",
       "      <td>5.963762e+07</td>\n",
       "    </tr>\n",
       "    <tr>\n",
       "      <th>2023-01-05 00:00:00+00:00</th>\n",
       "      <td>1.373185</td>\n",
       "      <td>1.138099e+09</td>\n",
       "      <td>1.037322e+08</td>\n",
       "    </tr>\n",
       "    <tr>\n",
       "      <th>2023-01-06 00:00:00+00:00</th>\n",
       "      <td>1.344360</td>\n",
       "      <td>1.118011e+09</td>\n",
       "      <td>7.260070e+07</td>\n",
       "    </tr>\n",
       "    <tr>\n",
       "      <th>...</th>\n",
       "      <td>...</td>\n",
       "      <td>...</td>\n",
       "      <td>...</td>\n",
       "    </tr>\n",
       "    <tr>\n",
       "      <th>2023-12-27 00:00:00+00:00</th>\n",
       "      <td>2.414790</td>\n",
       "      <td>2.149743e+09</td>\n",
       "      <td>1.045843e+08</td>\n",
       "    </tr>\n",
       "    <tr>\n",
       "      <th>2023-12-28 00:00:00+00:00</th>\n",
       "      <td>2.834848</td>\n",
       "      <td>2.523409e+09</td>\n",
       "      <td>1.616723e+08</td>\n",
       "    </tr>\n",
       "    <tr>\n",
       "      <th>2023-12-29 00:00:00+00:00</th>\n",
       "      <td>2.707796</td>\n",
       "      <td>2.417343e+09</td>\n",
       "      <td>1.720521e+08</td>\n",
       "    </tr>\n",
       "    <tr>\n",
       "      <th>2023-12-30 00:00:00+00:00</th>\n",
       "      <td>2.891217</td>\n",
       "      <td>2.567556e+09</td>\n",
       "      <td>1.221432e+08</td>\n",
       "    </tr>\n",
       "    <tr>\n",
       "      <th>2023-12-31 00:00:00+00:00</th>\n",
       "      <td>2.737411</td>\n",
       "      <td>2.438736e+09</td>\n",
       "      <td>1.123191e+08</td>\n",
       "    </tr>\n",
       "  </tbody>\n",
       "</table>\n",
       "<p>364 rows × 3 columns</p>\n",
       "</div>"
      ],
      "text/plain": [
       "                              price    market_cap  total_volume\n",
       "timestamp                                                      \n",
       "2023-01-02 00:00:00+00:00  1.077925  8.908959e+08  6.985973e+07\n",
       "2023-01-03 00:00:00+00:00  1.211534  1.007538e+09  9.012206e+07\n",
       "2023-01-04 00:00:00+00:00  1.201550  9.950221e+08  5.963762e+07\n",
       "2023-01-05 00:00:00+00:00  1.373185  1.138099e+09  1.037322e+08\n",
       "2023-01-06 00:00:00+00:00  1.344360  1.118011e+09  7.260070e+07\n",
       "...                             ...           ...           ...\n",
       "2023-12-27 00:00:00+00:00  2.414790  2.149743e+09  1.045843e+08\n",
       "2023-12-28 00:00:00+00:00  2.834848  2.523409e+09  1.616723e+08\n",
       "2023-12-29 00:00:00+00:00  2.707796  2.417343e+09  1.720521e+08\n",
       "2023-12-30 00:00:00+00:00  2.891217  2.567556e+09  1.221432e+08\n",
       "2023-12-31 00:00:00+00:00  2.737411  2.438736e+09  1.123191e+08\n",
       "\n",
       "[364 rows x 3 columns]"
      ]
     },
     "execution_count": 8,
     "metadata": {},
     "output_type": "execute_result"
    }
   ],
   "source": [
    "from_date = '01-01-2023'\n",
    "to_date = '12-31-2023'\n",
    "\n",
    "historical_data_by_contract_from_to_date = api.contract_historical_market_data(\n",
    "    platform_id, \n",
    "    ldo_contract_address, \n",
    "    from_date=from_date,\n",
    "    to_date=to_date\n",
    ")\n",
    "historical_data_by_contract_from_to_date"
   ]
  },
  {
   "cell_type": "code",
   "execution_count": 9,
   "id": "07812be9-48a8-4469-b117-1ffd1c673898",
   "metadata": {
    "ExecuteTime": {
     "end_time": "2024-01-06T07:18:56.477579200Z",
     "start_time": "2024-01-06T07:18:56.467053300Z"
    },
    "tags": []
   },
   "outputs": [
    {
     "data": {
      "text/plain": [
       "'Session closed successfully.'"
      ]
     },
     "execution_count": 9,
     "metadata": {},
     "output_type": "execute_result"
    }
   ],
   "source": [
    "api.end_session()"
   ]
  },
  {
   "cell_type": "code",
   "execution_count": null,
   "id": "b3eb63d8-364f-4821-a8ff-8db0e502ba7f",
   "metadata": {
    "ExecuteTime": {
     "end_time": "2024-01-06T07:18:56.478579400Z",
     "start_time": "2024-01-06T07:18:56.471799200Z"
    }
   },
   "outputs": [],
   "source": []
  }
 ],
 "metadata": {
  "kernelspec": {
   "display_name": "Python 3 (ipykernel)",
   "language": "python",
   "name": "python3"
  },
  "language_info": {
   "codemirror_mode": {
    "name": "ipython",
    "version": 3
   },
   "file_extension": ".py",
   "mimetype": "text/x-python",
   "name": "python",
   "nbconvert_exporter": "python",
   "pygments_lexer": "ipython3",
   "version": "3.11.3"
  }
 },
 "nbformat": 4,
 "nbformat_minor": 5
}
