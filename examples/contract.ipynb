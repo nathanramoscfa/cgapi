{
 "cells": [
  {
   "cell_type": "markdown",
   "id": "0c02ff2c-4fde-4ce2-9b06-61df89e3737c",
   "metadata": {},
   "source": [
    "# Contract"
   ]
  },
  {
   "cell_type": "code",
   "execution_count": 1,
   "id": "eabb0f7d-bd12-4d5e-a579-db066fe7df5b",
   "metadata": {},
   "outputs": [],
   "source": [
    "import sys\n",
    "from datetime import datetime, timedelta\n",
    "\n",
    "import keyring\n",
    "\n",
    "sys.path.append('../')\n",
    "\n",
    "from pycgapi import CoinGeckoAPI"
   ]
  },
  {
   "cell_type": "code",
   "execution_count": 2,
   "id": "3b30973f-2379-4189-8432-ea91242de9aa",
   "metadata": {},
   "outputs": [],
   "source": [
    "# Fetch the API key securely using keyring\n",
    "api_key = keyring.get_password('coingecko', 'analyst_api_key')\n",
    "\n",
    "# Initialize the ContractData class with the fetched API key\n",
    "cg = CoinGeckoAPI(api_key, pro_api=True)"
   ]
  },
  {
   "cell_type": "markdown",
   "id": "70dd6a10-7a47-48be-80e2-cceb49d75645",
   "metadata": {},
   "source": [
    "## /coins/{id}/contract/{contract_address}\n",
    "https://docs.coingecko.com/reference/coins-contract-address"
   ]
  },
  {
   "cell_type": "code",
   "execution_count": 3,
   "id": "4031f4ef-12de-4cc4-b8b5-5168fab6f833",
   "metadata": {},
   "outputs": [
    {
     "name": "stdout",
     "output_type": "stream",
     "text": [
      "Available Keys: ['additional_notices', 'asset_platform_id', 'block_time_in_minutes', 'categories', 'community_data', 'contract_address', 'country_origin', 'description', 'detail_platforms', 'developer_data', 'genesis_date', 'hashing_algorithm', 'id', 'image', 'last_updated', 'links', 'localization', 'market_cap_rank', 'market_data', 'name', 'platforms', 'preview_listing', 'public_notice', 'sentiment_votes_down_percentage', 'sentiment_votes_up_percentage', 'status_updates', 'symbol', 'tickers', 'watchlist_portfolio_users', 'web_slug']\n"
     ]
    }
   ],
   "source": [
    "# Example Ethereum token contract address\n",
    "platform_id = 'ethereum'\n",
    "contract_address = '0xdac17f958d2ee523a2206206994597c13d831ec7'  # USDT on Ethereum\n",
    "\n",
    "# Fetch coin information by contract address\n",
    "coin_info = cg.contract.coin_by_contract(platform_id, contract_address)\n",
    "print('Available Keys: {}'.format(sorted(coin_info.keys())))"
   ]
  },
  {
   "cell_type": "markdown",
   "id": "7ad3a735-85be-4b2b-bd04-f3c9c857b9b9",
   "metadata": {},
   "source": [
    "## /coins/{id}/contract/{contract_address}/market_chart\n",
    "https://docs.coingecko.com/reference/contract-address-market-chart"
   ]
  },
  {
   "cell_type": "code",
   "execution_count": 4,
   "id": "0e1e3275-5660-4fbd-be58-0a318bf72a28",
   "metadata": {},
   "outputs": [
    {
     "data": {
      "text/html": [
       "<div>\n",
       "<style scoped>\n",
       "    .dataframe tbody tr th:only-of-type {\n",
       "        vertical-align: middle;\n",
       "    }\n",
       "\n",
       "    .dataframe tbody tr th {\n",
       "        vertical-align: top;\n",
       "    }\n",
       "\n",
       "    .dataframe thead th {\n",
       "        text-align: right;\n",
       "    }\n",
       "</style>\n",
       "<table border=\"1\" class=\"dataframe\">\n",
       "  <thead>\n",
       "    <tr style=\"text-align: right;\">\n",
       "      <th></th>\n",
       "      <th>price</th>\n",
       "      <th>market_cap</th>\n",
       "      <th>total_volume</th>\n",
       "    </tr>\n",
       "    <tr>\n",
       "      <th>timestamp</th>\n",
       "      <th></th>\n",
       "      <th></th>\n",
       "      <th></th>\n",
       "    </tr>\n",
       "  </thead>\n",
       "  <tbody>\n",
       "    <tr>\n",
       "      <th>2024-03-21 00:00:00+00:00</th>\n",
       "      <td>1.000999</td>\n",
       "      <td>1.039714e+11</td>\n",
       "      <td>8.442110e+10</td>\n",
       "    </tr>\n",
       "    <tr>\n",
       "      <th>2024-03-21 00:00:00+00:00</th>\n",
       "      <td>0.999082</td>\n",
       "      <td>1.039364e+11</td>\n",
       "      <td>6.662646e+10</td>\n",
       "    </tr>\n",
       "    <tr>\n",
       "      <th>2024-03-22 00:00:00+00:00</th>\n",
       "      <td>0.999777</td>\n",
       "      <td>1.039249e+11</td>\n",
       "      <td>6.816247e+10</td>\n",
       "    </tr>\n",
       "    <tr>\n",
       "      <th>2024-03-22 00:00:00+00:00</th>\n",
       "      <td>1.000119</td>\n",
       "      <td>1.041836e+11</td>\n",
       "      <td>5.380982e+10</td>\n",
       "    </tr>\n",
       "    <tr>\n",
       "      <th>2024-03-22 00:00:00+00:00</th>\n",
       "      <td>0.997885</td>\n",
       "      <td>1.037207e+11</td>\n",
       "      <td>7.834301e+10</td>\n",
       "    </tr>\n",
       "    <tr>\n",
       "      <th>...</th>\n",
       "      <td>...</td>\n",
       "      <td>...</td>\n",
       "      <td>...</td>\n",
       "    </tr>\n",
       "    <tr>\n",
       "      <th>2024-04-20 00:00:00+00:00</th>\n",
       "      <td>1.000766</td>\n",
       "      <td>1.097421e+11</td>\n",
       "      <td>3.174292e+10</td>\n",
       "    </tr>\n",
       "    <tr>\n",
       "      <th>2024-04-20 00:00:00+00:00</th>\n",
       "      <td>1.000551</td>\n",
       "      <td>1.097204e+11</td>\n",
       "      <td>4.141003e+10</td>\n",
       "    </tr>\n",
       "    <tr>\n",
       "      <th>2024-04-20 00:00:00+00:00</th>\n",
       "      <td>1.000208</td>\n",
       "      <td>1.097237e+11</td>\n",
       "      <td>2.777940e+10</td>\n",
       "    </tr>\n",
       "    <tr>\n",
       "      <th>2024-04-20 00:00:00+00:00</th>\n",
       "      <td>1.000228</td>\n",
       "      <td>1.097801e+11</td>\n",
       "      <td>4.117476e+10</td>\n",
       "    </tr>\n",
       "    <tr>\n",
       "      <th>2024-04-20 00:00:00+00:00</th>\n",
       "      <td>1.000145</td>\n",
       "      <td>1.096703e+11</td>\n",
       "      <td>4.055775e+10</td>\n",
       "    </tr>\n",
       "  </tbody>\n",
       "</table>\n",
       "<p>721 rows × 3 columns</p>\n",
       "</div>"
      ],
      "text/plain": [
       "                              price    market_cap  total_volume\n",
       "timestamp                                                      \n",
       "2024-03-21 00:00:00+00:00  1.000999  1.039714e+11  8.442110e+10\n",
       "2024-03-21 00:00:00+00:00  0.999082  1.039364e+11  6.662646e+10\n",
       "2024-03-22 00:00:00+00:00  0.999777  1.039249e+11  6.816247e+10\n",
       "2024-03-22 00:00:00+00:00  1.000119  1.041836e+11  5.380982e+10\n",
       "2024-03-22 00:00:00+00:00  0.997885  1.037207e+11  7.834301e+10\n",
       "...                             ...           ...           ...\n",
       "2024-04-20 00:00:00+00:00  1.000766  1.097421e+11  3.174292e+10\n",
       "2024-04-20 00:00:00+00:00  1.000551  1.097204e+11  4.141003e+10\n",
       "2024-04-20 00:00:00+00:00  1.000208  1.097237e+11  2.777940e+10\n",
       "2024-04-20 00:00:00+00:00  1.000228  1.097801e+11  4.117476e+10\n",
       "2024-04-20 00:00:00+00:00  1.000145  1.096703e+11  4.055775e+10\n",
       "\n",
       "[721 rows x 3 columns]"
      ]
     },
     "execution_count": 4,
     "metadata": {},
     "output_type": "execute_result"
    }
   ],
   "source": [
    "historical_data_by_contract = cg.contract.contract_historical_market_data(\n",
    "    platform_id, \n",
    "    contract_address,\n",
    "    days=30\n",
    ")\n",
    "historical_data_by_contract"
   ]
  },
  {
   "cell_type": "markdown",
   "id": "3e316685-f2b0-447b-8d62-312f0eade2e8",
   "metadata": {},
   "source": [
    "## /coins/{id}/contract/{contract_address}/market_chart/range\n",
    "https://docs.coingecko.com/reference/contract-address-market-chart-range"
   ]
  },
  {
   "cell_type": "code",
   "execution_count": 5,
   "id": "14e8ce9a-a19c-4c9c-9708-64e25b7957c7",
   "metadata": {
    "tags": []
   },
   "outputs": [
    {
     "name": "stdout",
     "output_type": "stream",
     "text": [
      "                              price    market_cap  total_volume\n",
      "timestamp                                                      \n",
      "2024-03-21 00:00:00+00:00  0.999999  1.039040e+11  1.103852e+11\n",
      "2024-03-21 00:00:00+00:00  1.003227  1.041573e+11  9.946135e+10\n",
      "2024-03-21 00:00:00+00:00  1.000506  1.039345e+11  8.117666e+10\n",
      "2024-03-21 00:00:00+00:00  1.000534  1.039090e+11  1.053555e+11\n",
      "2024-03-21 00:00:00+00:00  0.999209  1.039546e+11  1.057778e+11\n"
     ]
    }
   ],
   "source": [
    "# Get historical market data for the same contract\n",
    "# Using an arbitrary range for demonstration\n",
    "from_date = (datetime.now() - timedelta(days=30)).strftime('%m-%d-%Y')\n",
    "to_date = datetime.now().strftime('%m-%d-%Y')\n",
    "historical_data_by_date = cg.contract.contract_historical_market_data(\n",
    "    platform_id, contract_address, vs_currency='usd', from_date=from_date, to_date=to_date\n",
    ")\n",
    "print(historical_data_by_date.head())"
   ]
  },
  {
   "cell_type": "markdown",
   "id": "0f955ede-449e-4557-ac9a-aab2c2721672",
   "metadata": {},
   "source": [
    "## Close Session"
   ]
  },
  {
   "cell_type": "code",
   "execution_count": 6,
   "id": "88b10fd9-883d-435c-8fac-275529c6f8af",
   "metadata": {},
   "outputs": [
    {
     "data": {
      "text/plain": [
       "'Session closed successfully.'"
      ]
     },
     "execution_count": 6,
     "metadata": {},
     "output_type": "execute_result"
    }
   ],
   "source": [
    "cg.end_session()"
   ]
  },
  {
   "cell_type": "code",
   "execution_count": null,
   "id": "d4b96307-58ed-4cf1-9d4b-48939d487a27",
   "metadata": {},
   "outputs": [],
   "source": []
  }
 ],
 "metadata": {
  "kernelspec": {
   "display_name": "Python 3 (ipykernel)",
   "language": "python",
   "name": "python3"
  },
  "language_info": {
   "codemirror_mode": {
    "name": "ipython",
    "version": 3
   },
   "file_extension": ".py",
   "mimetype": "text/x-python",
   "name": "python",
   "nbconvert_exporter": "python",
   "pygments_lexer": "ipython3",
   "version": "3.11.3"
  }
 },
 "nbformat": 4,
 "nbformat_minor": 5
}
