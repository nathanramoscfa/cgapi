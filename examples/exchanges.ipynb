{
 "cells": [
  {
   "cell_type": "markdown",
   "id": "a9563003-501f-4b5a-bf48-dc187943fc07",
   "metadata": {},
   "source": [
    "# Exchanges"
   ]
  },
  {
   "cell_type": "code",
   "execution_count": 1,
   "id": "6e8ebf09-72ec-4367-8278-6308c8bef613",
   "metadata": {},
   "outputs": [],
   "source": [
    "import sys\n",
    "from datetime import datetime, timedelta\n",
    "\n",
    "import keyring\n",
    "\n",
    "sys.path.append('../')\n",
    "\n",
    "from pycgapi import CoinGeckoAPI"
   ]
  },
  {
   "cell_type": "code",
   "execution_count": 2,
   "id": "748b1db6-a172-41f8-b802-f970509ebf06",
   "metadata": {},
   "outputs": [],
   "source": [
    "# Fetch the API key securely using keyring\n",
    "api_key = keyring.get_password('coingecko', 'analyst_api_key')\n",
    "\n",
    "# Initialize the ContractData class with the fetched API key\n",
    "cg = CoinGeckoAPI(api_key, pro_api=True)"
   ]
  },
  {
   "cell_type": "markdown",
   "id": "6d37323a-1416-46fd-bdd8-4cbad5dd2d7f",
   "metadata": {},
   "source": [
    "## /exchanges\n",
    "https://docs.coingecko.com/reference/exchanges-list"
   ]
  },
  {
   "cell_type": "code",
   "execution_count": 3,
   "id": "c48281be-5291-4051-a281-9adf6c1f2409",
   "metadata": {},
   "outputs": [
    {
     "name": "stdout",
     "output_type": "stream",
     "text": [
      "Active Exchanges:            id               name  year_established                 country  \\\n",
      "0  bybit_spot              Bybit            2018.0  British Virgin Islands   \n",
      "1        okex                OKX            2017.0              Seychelles   \n",
      "2        gdax  Coinbase Exchange            2012.0           United States   \n",
      "3      bitget             Bitget            2018.0              Seychelles   \n",
      "4      kucoin             KuCoin            2017.0              Seychelles   \n",
      "\n",
      "                                         description  \\\n",
      "0  Bybit is a cryptocurrency exchange that offers...   \n",
      "1                                                      \n",
      "2                                                      \n",
      "3                                                      \n",
      "4  Launched in September 2017, KuCoin is a global...   \n",
      "\n",
      "                         url  \\\n",
      "0      https://www.bybit.com   \n",
      "1        https://www.okx.com   \n",
      "2  https://www.coinbase.com/   \n",
      "3    https://www.bitget.com/   \n",
      "4    https://www.kucoin.com/   \n",
      "\n",
      "                                               image has_trading_incentive  \\\n",
      "0  https://assets.coingecko.com/markets/images/69...                 False   \n",
      "1  https://assets.coingecko.com/markets/images/96...                 False   \n",
      "2  https://assets.coingecko.com/markets/images/23...                 False   \n",
      "3  https://assets.coingecko.com/markets/images/54...                 False   \n",
      "4  https://assets.coingecko.com/markets/images/61...                 False   \n",
      "\n",
      "   trust_score  trust_score_rank  trade_volume_24h_btc  \\\n",
      "0           10                 1          48091.029999   \n",
      "1           10                 2          31992.075173   \n",
      "2           10                 3          25018.738516   \n",
      "3           10                 4          29101.704025   \n",
      "4           10                 5          11569.128022   \n",
      "\n",
      "   trade_volume_24h_btc_normalized  \n",
      "0                     36963.255327  \n",
      "1                     28819.444935  \n",
      "2                     25018.738516  \n",
      "3                     17937.060600  \n",
      "4                     11569.128022  \n"
     ]
    }
   ],
   "source": [
    "# Fetch a list of all active exchanges with trading volumes\n",
    "active_exchanges = cg.exchanges.active_exchanges_list()\n",
    "print('Active Exchanges:', active_exchanges.head())"
   ]
  },
  {
   "cell_type": "markdown",
   "id": "98e023d6-f993-4fa7-91c0-26bf983151e4",
   "metadata": {},
   "source": [
    "## /exchanges/list\n",
    "https://docs.coingecko.com/reference/exchanges-list"
   ]
  },
  {
   "cell_type": "code",
   "execution_count": 4,
   "id": "7ff2b54a-9ae1-46e6-94cc-261151fb13ce",
   "metadata": {},
   "outputs": [
    {
     "name": "stdout",
     "output_type": "stream",
     "text": [
      "All Exchanges:                        id       name\n",
      "0  10kswap-starknet-alpha    10KSwap\n",
      "1                    1bch       1BCH\n",
      "2               3xcalibur  3xcalibur\n",
      "3                   9inch      9inch\n",
      "4                    aave       Aave\n"
     ]
    }
   ],
   "source": [
    "# Fetch a list of all supported markets\n",
    "all_exchanges = cg.exchanges.all_exchanges_list()\n",
    "print('All Exchanges:', all_exchanges.head())"
   ]
  },
  {
   "cell_type": "markdown",
   "id": "94410048-dcfd-4566-84eb-a2d3dbfe524e",
   "metadata": {},
   "source": [
    "## /exchanges/{id}\n",
    "https://docs.coingecko.com/reference/exchanges-id"
   ]
  },
  {
   "cell_type": "code",
   "execution_count": 5,
   "id": "8dddda0d-53cd-446b-abd7-655fd479d143",
   "metadata": {
    "tags": []
   },
   "outputs": [
    {
     "name": "stdout",
     "output_type": "stream",
     "text": [
      "Available Keys: ['alert_notice', 'centralized', 'country', 'description', 'facebook_url', 'has_trading_incentive', 'image', 'name', 'other_url_1', 'other_url_2', 'public_notice', 'reddit_url', 'slack_url', 'status_updates', 'telegram_url', 'tickers', 'trade_volume_24h_btc', 'trade_volume_24h_btc_normalized', 'trust_score', 'trust_score_rank', 'twitter_handle', 'url', 'year_established']\n"
     ]
    }
   ],
   "source": [
    "# Fetch volume data for a specific exchange\n",
    "exchange_volume = cg.exchanges.exchange_volume_data('binance')\n",
    "print('Available Keys: {}'.format(sorted(exchange_volume.keys())))"
   ]
  },
  {
   "cell_type": "markdown",
   "id": "3208fdfb-d66a-4af5-a0fe-dc22ed06a3e7",
   "metadata": {},
   "source": [
    "## /exchanges/{id}/tickers\n",
    "https://docs.coingecko.com/reference/exchanges-id-tickers"
   ]
  },
  {
   "cell_type": "code",
   "execution_count": 6,
   "id": "288f44e5-fe8c-4bb8-90d8-991491001f92",
   "metadata": {},
   "outputs": [
    {
     "name": "stdout",
     "output_type": "stream",
     "text": [
      "Market Tickers:     base target                                             market  \\\n",
      "0  FDUSD   USDT  {'name': 'Binance', 'identifier': 'binance', '...   \n",
      "1   USDC   USDT  {'name': 'Binance', 'identifier': 'binance', '...   \n",
      "2    BTC   USDT  {'name': 'Binance', 'identifier': 'binance', '...   \n",
      "3    BTC  FDUSD  {'name': 'Binance', 'identifier': 'binance', '...   \n",
      "4    ETH   USDT  {'name': 'Binance', 'identifier': 'binance', '...   \n",
      "\n",
      "         last        volume  \\\n",
      "0      0.9994  3.404105e+08   \n",
      "1      0.9995  4.416852e+08   \n",
      "2  64612.0000  2.180605e+04   \n",
      "3  64677.5400  5.376474e+04   \n",
      "4   3128.0000  2.367087e+05   \n",
      "\n",
      "                                      converted_last  \\\n",
      "0  {'btc': 1.545e-05, 'eth': 0.00031895, 'usd': 1.0}   \n",
      "1  {'btc': 1.546e-05, 'eth': 0.00031943, 'usd': 0...   \n",
      "2  {'btc': 0.99939089, 'eth': 20.648639, 'usd': 6...   \n",
      "3  {'btc': 0.99728886, 'eth': 20.605584, 'usd': 6...   \n",
      "4  {'btc': 0.04835961, 'eth': 0.99886629, 'usd': ...   \n",
      "\n",
      "                                    converted_volume trust_score  \\\n",
      "0     {'btc': 5262, 'eth': 108598, 'usd': 340541046}       green   \n",
      "1     {'btc': 6830, 'eth': 141109, 'usd': 441526252}       green   \n",
      "2   {'btc': 21693, 'eth': 448206, 'usd': 1403055229}       green   \n",
      "3  {'btc': 53317, 'eth': 1101618, 'usd': 3446927921}       green   \n",
      "4    {'btc': 11325, 'eth': 233924, 'usd': 732683824}       green   \n",
      "\n",
      "   bid_ask_spread_percentage                  timestamp  \\\n",
      "0                   0.010005  2024-04-21T00:38:14+00:00   \n",
      "1                   0.010004  2024-04-21T00:50:05+00:00   \n",
      "2                   0.010015  2024-04-21T00:49:01+00:00   \n",
      "3                   0.013649  2024-04-21T00:50:21+00:00   \n",
      "4                   0.010318  2024-04-21T00:49:02+00:00   \n",
      "\n",
      "              last_traded_at              last_fetch_at  is_anomaly  is_stale  \\\n",
      "0  2024-04-21T00:38:14+00:00  2024-04-21T00:38:14+00:00       False     False   \n",
      "1  2024-04-21T00:50:05+00:00  2024-04-21T00:51:03+00:00       False     False   \n",
      "2  2024-04-21T00:49:01+00:00  2024-04-21T00:51:00+00:00       False     False   \n",
      "3  2024-04-21T00:50:21+00:00  2024-04-21T00:51:03+00:00       False     False   \n",
      "4  2024-04-21T00:49:02+00:00  2024-04-21T00:49:02+00:00       False     False   \n",
      "\n",
      "                                           trade_url token_info_url  \\\n",
      "0  https://www.binance.com/en/trade/FDUSD_USDT?re...           None   \n",
      "1  https://www.binance.com/en/trade/USDC_USDT?ref...           None   \n",
      "2  https://www.binance.com/en/trade/BTC_USDT?ref=...           None   \n",
      "3  https://www.binance.com/en/trade/BTC_FDUSD?ref...           None   \n",
      "4  https://www.binance.com/en/trade/ETH_USDT?ref=...           None   \n",
      "\n",
      "             coin_id     target_coin_id  \n",
      "0  first-digital-usd             tether  \n",
      "1           usd-coin             tether  \n",
      "2            bitcoin             tether  \n",
      "3            bitcoin  first-digital-usd  \n",
      "4           ethereum             tether  \n"
     ]
    }
   ],
   "source": [
    "# Fetch market tickers for a specific exchange\n",
    "market_tickers = cg.exchanges.exchange_market_tickers('binance')\n",
    "print('Market Tickers:', market_tickers.head())"
   ]
  },
  {
   "cell_type": "markdown",
   "id": "241e9160-d006-4733-8ea1-766d726bb5bb",
   "metadata": {},
   "source": [
    "## /exchanges/{id}/volume_chart\n",
    "https://docs.coingecko.com/reference/exchanges-id-volume-chart"
   ]
  },
  {
   "cell_type": "code",
   "execution_count": 7,
   "id": "f08ca459-ce47-4132-b80b-65e4cb8fec68",
   "metadata": {},
   "outputs": [
    {
     "name": "stdout",
     "output_type": "stream",
     "text": [
      "Historical Volume:                             volume\n",
      "timestamp                         \n",
      "2024-03-23 00:50:00  442633.536118\n",
      "2024-03-24 00:50:00  278188.876969\n",
      "2024-03-25 00:50:00  271317.012826\n",
      "2024-03-26 00:50:00  400875.342843\n",
      "2024-03-27 00:50:00  373161.299539\n"
     ]
    }
   ],
   "source": [
    "# Fetch historical volume data for a specific exchange\n",
    "historical_volume = cg.exchanges.exchange_historical_volume('binance', days=30)\n",
    "print('Historical Volume:', historical_volume.head())"
   ]
  },
  {
   "cell_type": "markdown",
   "id": "319e4252-27cc-46fc-8e80-e9afa3d36398",
   "metadata": {},
   "source": [
    "## /exchanges/{id}/volume_chart/range\n",
    "https://docs.coingecko.com/reference/exchanges-id-volume-chart-range"
   ]
  },
  {
   "cell_type": "code",
   "execution_count": 8,
   "id": "f9aabfaf-6351-42fd-b494-6147fc44e037",
   "metadata": {
    "tags": []
   },
   "outputs": [
    {
     "name": "stdout",
     "output_type": "stream",
     "text": [
      "Historical Volume:                             volume\n",
      "timestamp                         \n",
      "2023-01-02 05:50:00  267701.945746\n",
      "2023-01-03 05:50:00  383115.894545\n",
      "2023-01-04 05:50:00  521889.099085\n",
      "2023-01-05 05:50:00  541911.735842\n",
      "2023-01-06 05:50:00  450084.446826\n"
     ]
    }
   ],
   "source": [
    "# Fetch historical volume data for a specific exchange\n",
    "historical_volume_by_dates = cg.exchanges.exchange_historical_volume(\n",
    "    'binance', \n",
    "    from_date='01-01-2023',\n",
    "    to_date='01-31-2023'\n",
    ")\n",
    "print('Historical Volume:', historical_volume_by_dates.head())"
   ]
  },
  {
   "cell_type": "markdown",
   "id": "5b13e196-6654-4031-9e0d-6e138d7a87f2",
   "metadata": {},
   "source": [
    "## Close Session"
   ]
  },
  {
   "cell_type": "code",
   "execution_count": 9,
   "id": "ea7a687c-22a9-449b-8601-cb9c04061755",
   "metadata": {},
   "outputs": [
    {
     "data": {
      "text/plain": [
       "'Session closed successfully.'"
      ]
     },
     "execution_count": 9,
     "metadata": {},
     "output_type": "execute_result"
    }
   ],
   "source": [
    "cg.end_session()"
   ]
  },
  {
   "cell_type": "code",
   "execution_count": null,
   "id": "b930bc99-fb44-474a-8b58-df3646e246f1",
   "metadata": {},
   "outputs": [],
   "source": []
  }
 ],
 "metadata": {
  "kernelspec": {
   "display_name": "Python 3 (ipykernel)",
   "language": "python",
   "name": "python3"
  },
  "language_info": {
   "codemirror_mode": {
    "name": "ipython",
    "version": 3
   },
   "file_extension": ".py",
   "mimetype": "text/x-python",
   "name": "python",
   "nbconvert_exporter": "python",
   "pygments_lexer": "ipython3",
   "version": "3.11.3"
  }
 },
 "nbformat": 4,
 "nbformat_minor": 5
}
