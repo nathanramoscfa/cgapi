{
 "cells": [
  {
   "cell_type": "markdown",
   "id": "a3be8f1a-7d8b-4ca3-b346-242e7d9fe2ec",
   "metadata": {},
   "source": [
    "# Key"
   ]
  },
  {
   "cell_type": "code",
   "execution_count": 1,
   "id": "9dede6d4-499c-4d1a-8e38-20380ea0e076",
   "metadata": {},
   "outputs": [],
   "source": [
    "import sys\n",
    "from datetime import datetime, timedelta\n",
    "\n",
    "import keyring\n",
    "\n",
    "sys.path.append('../')\n",
    "\n",
    "from pycgapi import CoinGeckoAPI"
   ]
  },
  {
   "cell_type": "code",
   "execution_count": 2,
   "id": "3a312c5c-1fa5-4ee4-8b4b-b76a1e53541c",
   "metadata": {},
   "outputs": [],
   "source": [
    "# Fetch the API key securely using keyring\n",
    "api_key = keyring.get_password('coingecko', 'analyst_api_key')\n",
    "\n",
    "# Initialize the ContractData class with the fetched API key\n",
    "cg = CoinGeckoAPI(api_key, pro_api=True)"
   ]
  },
  {
   "cell_type": "markdown",
   "id": "9c1f5d75-28db-4e5a-b32a-34e93746cca2",
   "metadata": {},
   "source": [
    "## /key\n",
    "https://docs.coingecko.com/reference/api-usage"
   ]
  },
  {
   "cell_type": "code",
   "execution_count": 3,
   "id": "e69d51bd-656d-439d-a140-30c52de148d8",
   "metadata": {
    "tags": []
   },
   "outputs": [
    {
     "data": {
      "text/html": [
       "<div>\n",
       "<style scoped>\n",
       "    .dataframe tbody tr th:only-of-type {\n",
       "        vertical-align: middle;\n",
       "    }\n",
       "\n",
       "    .dataframe tbody tr th {\n",
       "        vertical-align: top;\n",
       "    }\n",
       "\n",
       "    .dataframe thead th {\n",
       "        text-align: right;\n",
       "    }\n",
       "</style>\n",
       "<table border=\"1\" class=\"dataframe\">\n",
       "  <thead>\n",
       "    <tr style=\"text-align: right;\">\n",
       "      <th></th>\n",
       "      <th>API Usage</th>\n",
       "    </tr>\n",
       "  </thead>\n",
       "  <tbody>\n",
       "    <tr>\n",
       "      <th>Plan</th>\n",
       "      <td>Other</td>\n",
       "    </tr>\n",
       "    <tr>\n",
       "      <th>Rate Limit per Minute</th>\n",
       "      <td>1,000</td>\n",
       "    </tr>\n",
       "    <tr>\n",
       "      <th>Monthly Call Credit</th>\n",
       "      <td>1,000,000</td>\n",
       "    </tr>\n",
       "    <tr>\n",
       "      <th>Total Monthly Calls</th>\n",
       "      <td>154,258</td>\n",
       "    </tr>\n",
       "    <tr>\n",
       "      <th>Remaining Monthly Calls</th>\n",
       "      <td>845,742</td>\n",
       "    </tr>\n",
       "  </tbody>\n",
       "</table>\n",
       "</div>"
      ],
      "text/plain": [
       "                         API Usage\n",
       "Plan                         Other\n",
       "Rate Limit per Minute        1,000\n",
       "Monthly Call Credit      1,000,000\n",
       "Total Monthly Calls        154,258\n",
       "Remaining Monthly Calls    845,742"
      ]
     },
     "execution_count": 3,
     "metadata": {},
     "output_type": "execute_result"
    }
   ],
   "source": [
    "# Fetch API usage data\n",
    "api_usage = cg.key.fetch_api_usage()\n",
    "\n",
    "# Display the API usage data\n",
    "api_usage"
   ]
  },
  {
   "cell_type": "markdown",
   "id": "ee36a5f0-6e7b-46b3-a1ea-54c56716cfcb",
   "metadata": {},
   "source": [
    "## Close Session"
   ]
  },
  {
   "cell_type": "code",
   "execution_count": 5,
   "id": "51f4c324-93f5-40e7-b7a5-5dcf1869dbf6",
   "metadata": {
    "tags": []
   },
   "outputs": [
    {
     "data": {
      "text/plain": [
       "'Session closed successfully.'"
      ]
     },
     "execution_count": 5,
     "metadata": {},
     "output_type": "execute_result"
    }
   ],
   "source": [
    "cg.end_session()"
   ]
  },
  {
   "cell_type": "code",
   "execution_count": null,
   "id": "7230862d-dd5e-4f89-8fb3-80f66a8afcd7",
   "metadata": {},
   "outputs": [],
   "source": []
  }
 ],
 "metadata": {
  "kernelspec": {
   "display_name": "Python 3 (ipykernel)",
   "language": "python",
   "name": "python3"
  },
  "language_info": {
   "codemirror_mode": {
    "name": "ipython",
    "version": 3
   },
   "file_extension": ".py",
   "mimetype": "text/x-python",
   "name": "python",
   "nbconvert_exporter": "python",
   "pygments_lexer": "ipython3",
   "version": "3.11.3"
  }
 },
 "nbformat": 4,
 "nbformat_minor": 5
}
