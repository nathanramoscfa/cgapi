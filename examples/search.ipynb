{
 "cells": [
  {
   "cell_type": "markdown",
   "id": "24f68dcf-9ff1-458c-92cf-db18a18db4c4",
   "metadata": {},
   "source": [
    "# Search"
   ]
  },
  {
   "cell_type": "code",
   "execution_count": 1,
   "id": "f4f9f2a5-a9e3-4641-9fad-b8af52d4b6a9",
   "metadata": {},
   "outputs": [],
   "source": [
    "import sys\n",
    "from datetime import datetime, timedelta\n",
    "\n",
    "import keyring\n",
    "\n",
    "sys.path.append('../')\n",
    "\n",
    "from pycgapi import CoinGeckoAPI"
   ]
  },
  {
   "cell_type": "code",
   "execution_count": 2,
   "id": "2850f511-73c2-40d9-af8c-509c219c4de7",
   "metadata": {},
   "outputs": [],
   "source": [
    "# Fetch the API key securely using keyring\n",
    "api_key = keyring.get_password('coingecko', 'analyst_api_key')\n",
    "\n",
    "# Initialize the ContractData class with the fetched API key\n",
    "cg = CoinGeckoAPI(api_key, pro_api=True)"
   ]
  },
  {
   "cell_type": "markdown",
   "id": "aa357bda-3824-4bae-9b39-735002a4eea9",
   "metadata": {},
   "source": [
    "## /search\n",
    "https://docs.coingecko.com/reference/search-data"
   ]
  },
  {
   "cell_type": "code",
   "execution_count": 3,
   "id": "4caaadb0-028a-47f0-93cd-5972672d1489",
   "metadata": {
    "tags": []
   },
   "outputs": [
    {
     "name": "stdout",
     "output_type": "stream",
     "text": [
      "\n",
      "Results for coins:\n",
      "                id             name       api_symbol symbol  market_cap_rank  \\\n",
      "0          bitcoin          Bitcoin          bitcoin    BTC              1.0   \n",
      "1  wrapped-bitcoin  Wrapped Bitcoin  wrapped-bitcoin   WBTC             14.0   \n",
      "2     bitcoin-cash     Bitcoin Cash     bitcoin-cash    BCH             15.0   \n",
      "3  bitcoin-cash-sv       Bitcoin SV  bitcoin-cash-sv    BSV             75.0   \n",
      "4     bitcoin-gold     Bitcoin Gold     bitcoin-gold    BTG            134.0   \n",
      "\n",
      "                                               thumb  \\\n",
      "0  https://assets.coingecko.com/coins/images/1/th...   \n",
      "1  https://assets.coingecko.com/coins/images/7598...   \n",
      "2  https://assets.coingecko.com/coins/images/780/...   \n",
      "3  https://assets.coingecko.com/coins/images/6799...   \n",
      "4  https://assets.coingecko.com/coins/images/1043...   \n",
      "\n",
      "                                               large  \n",
      "0  https://assets.coingecko.com/coins/images/1/la...  \n",
      "1  https://assets.coingecko.com/coins/images/7598...  \n",
      "2  https://assets.coingecko.com/coins/images/780/...  \n",
      "3  https://assets.coingecko.com/coins/images/6799...  \n",
      "4  https://assets.coingecko.com/coins/images/1043...  \n",
      "\n",
      "Results for exchanges:\n",
      "                    id                 name market_type  \\\n",
      "0      mercado_bitcoin      Mercado Bitcoin        spot   \n",
      "1  bitcointry_exchange  Bitcointry Exchange        spot   \n",
      "2      klever_exchange           Bitcoin.me        spot   \n",
      "\n",
      "                                               thumb  \\\n",
      "0  https://assets.coingecko.com/markets/images/34...   \n",
      "1  https://assets.coingecko.com/markets/images/12...   \n",
      "2  https://assets.coingecko.com/markets/images/98...   \n",
      "\n",
      "                                               large  \n",
      "0  https://assets.coingecko.com/markets/images/34...  \n",
      "1  https://assets.coingecko.com/markets/images/12...  \n",
      "2  https://assets.coingecko.com/markets/images/98...  \n",
      "\n",
      "Results for icos:\n",
      "Empty DataFrame\n",
      "Columns: []\n",
      "Index: []\n",
      "\n",
      "Results for categories:\n",
      "    id               name\n",
      "0  245       Bitcoin Fork\n",
      "1  346    Bitcoin Layer 2\n",
      "2  298  Bitcoin Ecosystem\n",
      "\n",
      "Results for nfts:\n",
      "                       id                    name           symbol  \\\n",
      "0  bitcoin-ape-yacht-gang  Bitcoin Ape Yacht Gang             BAYG   \n",
      "1          bitcoin-whales          Bitcoin Whales    BITCOINWHALES   \n",
      "2         bitcoin-puppets         Bitcoin Puppets  BITCOIN-PUPPETS   \n",
      "3           bitcoin-frogs           Bitcoin Frogs    BITCOIN-FROGS   \n",
      "4              bitcoinorb              BITCOINORB           BTCORB   \n",
      "\n",
      "                                               thumb  \n",
      "0  https://assets.coingecko.com/nft_contracts/ima...  \n",
      "1  https://assets.coingecko.com/nft_contracts/ima...  \n",
      "2  https://assets.coingecko.com/nft_contracts/ima...  \n",
      "3  https://assets.coingecko.com/nft_contracts/ima...  \n",
      "4  https://assets.coingecko.com/nft_contracts/ima...  \n"
     ]
    }
   ],
   "source": [
    "# Example search query\n",
    "query = \"bitcoin\"\n",
    "\n",
    "# Perform the search\n",
    "search_results = cg.search.search_coingecko(query)\n",
    "for key, df in search_results.items():\n",
    "    print('')\n",
    "    print(f\"Results for {key}:\")\n",
    "    print(df.head())"
   ]
  },
  {
   "cell_type": "markdown",
   "id": "ff6c9903-39e0-4d3c-83aa-b4c1ce52341d",
   "metadata": {},
   "source": [
    "## Close Session"
   ]
  },
  {
   "cell_type": "code",
   "execution_count": 5,
   "id": "939852fe-38b7-4e54-bf92-63c454a09daf",
   "metadata": {
    "ExecuteTime": {
     "end_time": "2024-01-06T07:32:52.944344Z",
     "start_time": "2024-01-06T07:32:52.932167100Z"
    },
    "tags": []
   },
   "outputs": [
    {
     "data": {
      "text/plain": [
       "'Session closed successfully.'"
      ]
     },
     "execution_count": 5,
     "metadata": {},
     "output_type": "execute_result"
    }
   ],
   "source": [
    "cg.end_session()"
   ]
  },
  {
   "cell_type": "code",
   "execution_count": null,
   "id": "dc77339d-a214-4c9a-9773-10517c1defea",
   "metadata": {},
   "outputs": [],
   "source": []
  }
 ],
 "metadata": {
  "kernelspec": {
   "display_name": "Python 3 (ipykernel)",
   "language": "python",
   "name": "python3"
  },
  "language_info": {
   "codemirror_mode": {
    "name": "ipython",
    "version": 3
   },
   "file_extension": ".py",
   "mimetype": "text/x-python",
   "name": "python",
   "nbconvert_exporter": "python",
   "pygments_lexer": "ipython3",
   "version": "3.11.3"
  }
 },
 "nbformat": 4,
 "nbformat_minor": 5
}
