{
 "cells": [
  {
   "cell_type": "markdown",
   "id": "e7456322-e8f5-471c-861a-38d1d404f5e5",
   "metadata": {},
   "source": [
    "# Categories"
   ]
  },
  {
   "cell_type": "code",
   "execution_count": 1,
   "id": "894325bd-25ef-43e0-b67b-d8c13d55d887",
   "metadata": {
    "tags": []
   },
   "outputs": [],
   "source": [
    "import sys\n",
    "sys.path.append('..')  # Add the parent directory to the Python path\n",
    "\n",
    "import keyring\n",
    "from pycgapi import CoinGeckoAPI"
   ]
  },
  {
   "cell_type": "code",
   "execution_count": 2,
   "id": "e133bbd6-bb67-4e7d-a919-657274a28534",
   "metadata": {},
   "outputs": [],
   "source": [
    "# Fetch the API key securely using keyring\n",
    "api_key = keyring.get_password('coingecko', 'analyst_api_key')\n",
    "\n",
    "# Initialize the CoinGeckoAPI class\n",
    "cg = CoinGeckoAPI(api_key, pro_api=True)"
   ]
  },
  {
   "cell_type": "markdown",
   "id": "3b4cae89-a249-42ba-8387-72920525c42a",
   "metadata": {},
   "source": [
    "## coins/categories/list\n",
    "https://docs.coingecko.com/reference/coins-categories-list"
   ]
  },
  {
   "cell_type": "code",
   "execution_count": 3,
   "id": "fb29fcf3-df89-4833-83e7-2ad30c66d014",
   "metadata": {},
   "outputs": [
    {
     "name": "stdout",
     "output_type": "stream",
     "text": [
      "           category_id                 name\n",
      "0          aave-tokens          Aave Tokens\n",
      "1  account-abstraction  Account Abstraction\n",
      "2     adidas-ecosystem     Adidas Ecosystem\n",
      "3      adventure-games      Adventure Games\n",
      "4            ai-agents            AI Agents\n"
     ]
    }
   ],
   "source": [
    "# Fetch the list of all cryptocurrency categories\n",
    "categories_list = cg.categories.cryptocurrency_categories_list()\n",
    "print(categories_list.head())"
   ]
  },
  {
   "cell_type": "markdown",
   "id": "e34a7cc2-0f95-4080-a614-995c7085fcf6",
   "metadata": {},
   "source": [
    "## coins/categories\n",
    "https://docs.coingecko.com/reference/coins-categories"
   ]
  },
  {
   "cell_type": "code",
   "execution_count": 4,
   "id": "deadedf2-fd87-4ea3-b8a2-a7b846694eae",
   "metadata": {
    "tags": []
   },
   "outputs": [
    {
     "name": "stdout",
     "output_type": "stream",
     "text": [
      "                        id                     name    market_cap  \\\n",
      "0                  layer-1             Layer 1 (L1)  1.947699e+12   \n",
      "1  smart-contract-platform  Smart Contract Platform  6.853449e+11   \n",
      "2   alleged-sec-securities   Alleged SEC Securities  2.431365e+11   \n",
      "3              stablecoins              Stablecoins  1.599628e+11   \n",
      "4    exchange-based-tokens    Exchange-based Tokens  1.222205e+11   \n",
      "\n",
      "   market_cap_change_24h                                            content  \\\n",
      "0               2.579646                                                      \n",
      "1               4.361519  Smart contract platforms are usually blockchai...   \n",
      "2               4.686318  Tokens and cryptocurrencies alleged to be secu...   \n",
      "3               1.043154                                                      \n",
      "4               3.956629  These tokens are normally associated with both...   \n",
      "\n",
      "                                         top_3_coins    volume_24h  \\\n",
      "0  [https://assets.coingecko.com/coins/images/1/s...  4.110513e+10   \n",
      "1  [https://assets.coingecko.com/coins/images/279...  2.030152e+10   \n",
      "2  [https://assets.coingecko.com/coins/images/825...  7.558736e+09   \n",
      "3  [https://assets.coingecko.com/coins/images/325...  3.830729e+10   \n",
      "4  [https://assets.coingecko.com/coins/images/825...  1.969940e+09   \n",
      "\n",
      "                 updated_at  \n",
      "0  2024-04-20T21:45:48.611Z  \n",
      "1  2024-04-20T21:45:33.747Z  \n",
      "2  2024-04-20T21:45:14.846Z  \n",
      "3  2024-04-20T21:45:38.490Z  \n",
      "4  2024-04-20T21:45:37.112Z  \n"
     ]
    }
   ],
   "source": [
    "# Fetch market data for cryptocurrency categories, sorted by market cap descending\n",
    "market_data = cg.categories.categories_market_data(order='market_cap_desc')\n",
    "print(market_data.head())"
   ]
  },
  {
   "cell_type": "markdown",
   "id": "1cd8b7a7-ba49-4a18-8f00-7f73782c5043",
   "metadata": {},
   "source": [
    "## Close Session"
   ]
  },
  {
   "cell_type": "code",
   "execution_count": 5,
   "id": "b4d580eb-9c7b-4206-9a04-e65e8aea54a1",
   "metadata": {},
   "outputs": [
    {
     "data": {
      "text/plain": [
       "'Session closed successfully.'"
      ]
     },
     "execution_count": 5,
     "metadata": {},
     "output_type": "execute_result"
    }
   ],
   "source": [
    "cg.end_session()"
   ]
  },
  {
   "cell_type": "code",
   "execution_count": null,
   "id": "6d68bfe3-1be5-450d-80f8-e324da71dab4",
   "metadata": {},
   "outputs": [],
   "source": []
  }
 ],
 "metadata": {
  "kernelspec": {
   "display_name": "Python 3 (ipykernel)",
   "language": "python",
   "name": "python3"
  },
  "language_info": {
   "codemirror_mode": {
    "name": "ipython",
    "version": 3
   },
   "file_extension": ".py",
   "mimetype": "text/x-python",
   "name": "python",
   "nbconvert_exporter": "python",
   "pygments_lexer": "ipython3",
   "version": "3.11.3"
  }
 },
 "nbformat": 4,
 "nbformat_minor": 5
}
