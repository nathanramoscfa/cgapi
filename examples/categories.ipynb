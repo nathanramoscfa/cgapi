{
 "cells": [
  {
   "cell_type": "markdown",
   "id": "949396c3-efc6-4cd5-ae6e-9fb5ea206bbc",
   "metadata": {},
   "source": [
    "# categories"
   ]
  },
  {
   "cell_type": "code",
   "execution_count": 1,
   "id": "8185feda-6f55-40df-8c46-4c37927d64dd",
   "metadata": {
    "ExecuteTime": {
     "end_time": "2024-01-06T07:24:02.742251700Z",
     "start_time": "2024-01-06T07:24:02.739487100Z"
    },
    "tags": []
   },
   "outputs": [],
   "source": [
    "import sys\n",
    "sys.path.append('..')  # This adds the parent directory to the Python path"
   ]
  },
  {
   "cell_type": "code",
   "execution_count": 2,
   "id": "059efc02-66a8-481d-9341-84cae58039b7",
   "metadata": {
    "ExecuteTime": {
     "end_time": "2024-01-06T07:24:03.282937200Z",
     "start_time": "2024-01-06T07:24:02.743252200Z"
    }
   },
   "outputs": [],
   "source": [
    "import keyring\n",
    "from coingeckoapi import CoinGeckoAPI"
   ]
  },
  {
   "cell_type": "code",
   "execution_count": 3,
   "id": "d6a38171-3562-4a9d-b50c-ff5b57162eb8",
   "metadata": {
    "ExecuteTime": {
     "end_time": "2024-01-06T07:24:05.475024300Z",
     "start_time": "2024-01-06T07:24:03.282937200Z"
    },
    "tags": []
   },
   "outputs": [],
   "source": [
    "api_key = keyring.get_password('coingecko', 'analyst_api_key')"
   ]
  },
  {
   "cell_type": "code",
   "execution_count": 4,
   "id": "c468e797-8ee4-47a8-8205-4aae7760bffc",
   "metadata": {
    "ExecuteTime": {
     "end_time": "2024-01-06T07:24:06.019014200Z",
     "start_time": "2024-01-06T07:24:05.477022800Z"
    },
    "tags": []
   },
   "outputs": [
    {
     "name": "stdout",
     "output_type": "stream",
     "text": [
      "API Server Status: {'gecko_says': '(V3) To the Moon!'}\n"
     ]
    }
   ],
   "source": [
    "api = CoinGeckoAPI(api_key, pro_api=True)\n",
    "status = api.status_check()\n",
    "print(\"API Server Status:\", status)"
   ]
  },
  {
   "cell_type": "markdown",
   "id": "5445791f-851d-43a2-bf7b-601a052d4af9",
   "metadata": {},
   "source": [
    "## /coins/categories/list"
   ]
  },
  {
   "cell_type": "code",
   "execution_count": 5,
   "id": "6db3836a-34e2-482c-8dba-0d8aac1de358",
   "metadata": {
    "ExecuteTime": {
     "end_time": "2024-01-06T07:24:06.102270400Z",
     "start_time": "2024-01-06T07:24:06.018014500Z"
    },
    "tags": []
   },
   "outputs": [
    {
     "data": {
      "text/html": [
       "<div>\n",
       "<style scoped>\n",
       "    .dataframe tbody tr th:only-of-type {\n",
       "        vertical-align: middle;\n",
       "    }\n",
       "\n",
       "    .dataframe tbody tr th {\n",
       "        vertical-align: top;\n",
       "    }\n",
       "\n",
       "    .dataframe thead th {\n",
       "        text-align: right;\n",
       "    }\n",
       "</style>\n",
       "<table border=\"1\" class=\"dataframe\">\n",
       "  <thead>\n",
       "    <tr style=\"text-align: right;\">\n",
       "      <th></th>\n",
       "      <th>category_id</th>\n",
       "      <th>name</th>\n",
       "    </tr>\n",
       "  </thead>\n",
       "  <tbody>\n",
       "    <tr>\n",
       "      <th>0</th>\n",
       "      <td>aave-tokens</td>\n",
       "      <td>Aave Tokens</td>\n",
       "    </tr>\n",
       "    <tr>\n",
       "      <th>1</th>\n",
       "      <td>adidas-ecosystem</td>\n",
       "      <td>Adidas Ecosystem</td>\n",
       "    </tr>\n",
       "    <tr>\n",
       "      <th>2</th>\n",
       "      <td>alephium-ecosystem</td>\n",
       "      <td>Alephium Ecosystem</td>\n",
       "    </tr>\n",
       "    <tr>\n",
       "      <th>3</th>\n",
       "      <td>algorand-ecosystem</td>\n",
       "      <td>Algorand Ecosystem</td>\n",
       "    </tr>\n",
       "    <tr>\n",
       "      <th>4</th>\n",
       "      <td>alleged-sec-securities</td>\n",
       "      <td>Alleged SEC Securities</td>\n",
       "    </tr>\n",
       "    <tr>\n",
       "      <th>...</th>\n",
       "      <td>...</td>\n",
       "      <td>...</td>\n",
       "    </tr>\n",
       "    <tr>\n",
       "      <th>246</th>\n",
       "      <td>yield-aggregator</td>\n",
       "      <td>Yield Aggregator</td>\n",
       "    </tr>\n",
       "    <tr>\n",
       "      <th>247</th>\n",
       "      <td>yield-farming</td>\n",
       "      <td>Yield Farming</td>\n",
       "    </tr>\n",
       "    <tr>\n",
       "      <th>248</th>\n",
       "      <td>zero-knowledge-zk</td>\n",
       "      <td>Zero Knowledge (ZK)</td>\n",
       "    </tr>\n",
       "    <tr>\n",
       "      <th>249</th>\n",
       "      <td>zilliqa-ecosystem</td>\n",
       "      <td>Zilliqa Ecosystem</td>\n",
       "    </tr>\n",
       "    <tr>\n",
       "      <th>250</th>\n",
       "      <td>zksync-ecosystem</td>\n",
       "      <td>ZkSync Ecosystem</td>\n",
       "    </tr>\n",
       "  </tbody>\n",
       "</table>\n",
       "<p>251 rows × 2 columns</p>\n",
       "</div>"
      ],
      "text/plain": [
       "                category_id                    name\n",
       "0               aave-tokens             Aave Tokens\n",
       "1          adidas-ecosystem        Adidas Ecosystem\n",
       "2        alephium-ecosystem      Alephium Ecosystem\n",
       "3        algorand-ecosystem      Algorand Ecosystem\n",
       "4    alleged-sec-securities  Alleged SEC Securities\n",
       "..                      ...                     ...\n",
       "246        yield-aggregator        Yield Aggregator\n",
       "247           yield-farming           Yield Farming\n",
       "248       zero-knowledge-zk     Zero Knowledge (ZK)\n",
       "249       zilliqa-ecosystem       Zilliqa Ecosystem\n",
       "250        zksync-ecosystem        ZkSync Ecosystem\n",
       "\n",
       "[251 rows x 2 columns]"
      ]
     },
     "execution_count": 5,
     "metadata": {},
     "output_type": "execute_result"
    }
   ],
   "source": [
    "categories_list = api.cryptocurrency_categories_list()\n",
    "categories_list"
   ]
  },
  {
   "cell_type": "markdown",
   "id": "8dc62974-7b4d-4335-8f1c-1008b121e566",
   "metadata": {},
   "source": [
    "## /coins/categories"
   ]
  },
  {
   "cell_type": "code",
   "execution_count": 6,
   "id": "3f4bca14-0b10-4011-8c1d-98ef502101db",
   "metadata": {
    "ExecuteTime": {
     "end_time": "2024-01-06T07:24:06.344228Z",
     "start_time": "2024-01-06T07:24:06.101269800Z"
    },
    "tags": []
   },
   "outputs": [
    {
     "data": {
      "text/html": [
       "<div>\n",
       "<style scoped>\n",
       "    .dataframe tbody tr th:only-of-type {\n",
       "        vertical-align: middle;\n",
       "    }\n",
       "\n",
       "    .dataframe tbody tr th {\n",
       "        vertical-align: top;\n",
       "    }\n",
       "\n",
       "    .dataframe thead th {\n",
       "        text-align: right;\n",
       "    }\n",
       "</style>\n",
       "<table border=\"1\" class=\"dataframe\">\n",
       "  <thead>\n",
       "    <tr style=\"text-align: right;\">\n",
       "      <th></th>\n",
       "      <th>id</th>\n",
       "      <th>name</th>\n",
       "      <th>market_cap</th>\n",
       "      <th>market_cap_change_24h</th>\n",
       "      <th>content</th>\n",
       "      <th>top_3_coins</th>\n",
       "      <th>volume_24h</th>\n",
       "      <th>updated_at</th>\n",
       "    </tr>\n",
       "  </thead>\n",
       "  <tbody>\n",
       "    <tr>\n",
       "      <th>0</th>\n",
       "      <td>ftx-holdings</td>\n",
       "      <td>FTX Holdings</td>\n",
       "      <td>1.364195e+12</td>\n",
       "      <td>-2.056187</td>\n",
       "      <td>Cryptocurrencies currently held by the FTX est...</td>\n",
       "      <td>[https://assets.coingecko.com/coins/images/1/s...</td>\n",
       "      <td>8.836658e+10</td>\n",
       "      <td>2024-01-06T07:20:07.436Z</td>\n",
       "    </tr>\n",
       "    <tr>\n",
       "      <th>1</th>\n",
       "      <td>layer-1</td>\n",
       "      <td>Layer 1 (L1)</td>\n",
       "      <td>1.300519e+12</td>\n",
       "      <td>-2.638566</td>\n",
       "      <td></td>\n",
       "      <td>[https://assets.coingecko.com/coins/images/1/s...</td>\n",
       "      <td>4.673585e+10</td>\n",
       "      <td>2024-01-06T07:20:38.916Z</td>\n",
       "    </tr>\n",
       "    <tr>\n",
       "      <th>2</th>\n",
       "      <td>smart-contract-platform</td>\n",
       "      <td>Smart Contract Platform</td>\n",
       "      <td>4.752446e+11</td>\n",
       "      <td>-5.332125</td>\n",
       "      <td>Smart contract platforms are usually blockchai...</td>\n",
       "      <td>[https://assets.coingecko.com/coins/images/279...</td>\n",
       "      <td>2.849243e+10</td>\n",
       "      <td>2024-01-06T07:20:23.345Z</td>\n",
       "    </tr>\n",
       "    <tr>\n",
       "      <th>3</th>\n",
       "      <td>alleged-sec-securities</td>\n",
       "      <td>Alleged SEC Securities</td>\n",
       "      <td>1.536771e+11</td>\n",
       "      <td>-8.851298</td>\n",
       "      <td>Tokens and cryptocurrencies alleged to be secu...</td>\n",
       "      <td>[https://assets.coingecko.com/coins/images/825...</td>\n",
       "      <td>1.521976e+10</td>\n",
       "      <td>2024-01-06T07:20:05.146Z</td>\n",
       "    </tr>\n",
       "    <tr>\n",
       "      <th>4</th>\n",
       "      <td>stablecoins</td>\n",
       "      <td>Stablecoins</td>\n",
       "      <td>1.340947e+11</td>\n",
       "      <td>0.905766</td>\n",
       "      <td></td>\n",
       "      <td>[https://assets.coingecko.com/coins/images/325...</td>\n",
       "      <td>6.070930e+10</td>\n",
       "      <td>2024-01-06T07:20:23.982Z</td>\n",
       "    </tr>\n",
       "    <tr>\n",
       "      <th>5</th>\n",
       "      <td>exchange-based-tokens</td>\n",
       "      <td>Exchange-based Tokens</td>\n",
       "      <td>7.397388e+10</td>\n",
       "      <td>-6.104306</td>\n",
       "      <td>These tokens are normally associated with both...</td>\n",
       "      <td>[https://assets.coingecko.com/coins/images/825...</td>\n",
       "      <td>3.153901e+09</td>\n",
       "      <td>2024-01-06T07:20:24.300Z</td>\n",
       "    </tr>\n",
       "    <tr>\n",
       "      <th>6</th>\n",
       "      <td>decentralized-finance-defi</td>\n",
       "      <td>Decentralized Finance (DeFi)</td>\n",
       "      <td>7.300667e+10</td>\n",
       "      <td>-5.040307</td>\n",
       "      <td></td>\n",
       "      <td>[https://assets.coingecko.com/coins/images/134...</td>\n",
       "      <td>4.911962e+09</td>\n",
       "      <td>2024-01-06T07:20:25.009Z</td>\n",
       "    </tr>\n",
       "    <tr>\n",
       "      <th>7</th>\n",
       "      <td>centralized-exchange-token-cex</td>\n",
       "      <td>Centralized Exchange (CEX)</td>\n",
       "      <td>6.193121e+10</td>\n",
       "      <td>-5.724125</td>\n",
       "      <td>These utility tokens are issued by a centraliz...</td>\n",
       "      <td>[https://assets.coingecko.com/coins/images/825...</td>\n",
       "      <td>1.867841e+09</td>\n",
       "      <td>2024-01-06T07:20:33.990Z</td>\n",
       "    </tr>\n",
       "    <tr>\n",
       "      <th>8</th>\n",
       "      <td>liquid-staking-tokens</td>\n",
       "      <td>Liquid Staking Tokens</td>\n",
       "      <td>2.575274e+10</td>\n",
       "      <td>-2.636674</td>\n",
       "      <td></td>\n",
       "      <td>[https://assets.coingecko.com/coins/images/134...</td>\n",
       "      <td>1.251426e+08</td>\n",
       "      <td>2024-01-06T07:20:40.656Z</td>\n",
       "    </tr>\n",
       "    <tr>\n",
       "      <th>9</th>\n",
       "      <td>non-fungible-tokens-nft</td>\n",
       "      <td>NFT</td>\n",
       "      <td>2.570481e+10</td>\n",
       "      <td>-11.466287</td>\n",
       "      <td>Non-fungible tokens, or NFTs, are collectible ...</td>\n",
       "      <td>[https://assets.coingecko.com/coins/images/144...</td>\n",
       "      <td>2.649221e+09</td>\n",
       "      <td>2024-01-06T07:20:33.712Z</td>\n",
       "    </tr>\n",
       "  </tbody>\n",
       "</table>\n",
       "</div>"
      ],
      "text/plain": [
       "                               id                          name    market_cap  \\\n",
       "0                    ftx-holdings                  FTX Holdings  1.364195e+12   \n",
       "1                         layer-1                  Layer 1 (L1)  1.300519e+12   \n",
       "2         smart-contract-platform       Smart Contract Platform  4.752446e+11   \n",
       "3          alleged-sec-securities        Alleged SEC Securities  1.536771e+11   \n",
       "4                     stablecoins                   Stablecoins  1.340947e+11   \n",
       "5           exchange-based-tokens         Exchange-based Tokens  7.397388e+10   \n",
       "6      decentralized-finance-defi  Decentralized Finance (DeFi)  7.300667e+10   \n",
       "7  centralized-exchange-token-cex    Centralized Exchange (CEX)  6.193121e+10   \n",
       "8           liquid-staking-tokens         Liquid Staking Tokens  2.575274e+10   \n",
       "9         non-fungible-tokens-nft                           NFT  2.570481e+10   \n",
       "\n",
       "   market_cap_change_24h                                            content  \\\n",
       "0              -2.056187  Cryptocurrencies currently held by the FTX est...   \n",
       "1              -2.638566                                                      \n",
       "2              -5.332125  Smart contract platforms are usually blockchai...   \n",
       "3              -8.851298  Tokens and cryptocurrencies alleged to be secu...   \n",
       "4               0.905766                                                      \n",
       "5              -6.104306  These tokens are normally associated with both...   \n",
       "6              -5.040307                                                      \n",
       "7              -5.724125  These utility tokens are issued by a centraliz...   \n",
       "8              -2.636674                                                      \n",
       "9             -11.466287  Non-fungible tokens, or NFTs, are collectible ...   \n",
       "\n",
       "                                         top_3_coins    volume_24h  \\\n",
       "0  [https://assets.coingecko.com/coins/images/1/s...  8.836658e+10   \n",
       "1  [https://assets.coingecko.com/coins/images/1/s...  4.673585e+10   \n",
       "2  [https://assets.coingecko.com/coins/images/279...  2.849243e+10   \n",
       "3  [https://assets.coingecko.com/coins/images/825...  1.521976e+10   \n",
       "4  [https://assets.coingecko.com/coins/images/325...  6.070930e+10   \n",
       "5  [https://assets.coingecko.com/coins/images/825...  3.153901e+09   \n",
       "6  [https://assets.coingecko.com/coins/images/134...  4.911962e+09   \n",
       "7  [https://assets.coingecko.com/coins/images/825...  1.867841e+09   \n",
       "8  [https://assets.coingecko.com/coins/images/134...  1.251426e+08   \n",
       "9  [https://assets.coingecko.com/coins/images/144...  2.649221e+09   \n",
       "\n",
       "                 updated_at  \n",
       "0  2024-01-06T07:20:07.436Z  \n",
       "1  2024-01-06T07:20:38.916Z  \n",
       "2  2024-01-06T07:20:23.345Z  \n",
       "3  2024-01-06T07:20:05.146Z  \n",
       "4  2024-01-06T07:20:23.982Z  \n",
       "5  2024-01-06T07:20:24.300Z  \n",
       "6  2024-01-06T07:20:25.009Z  \n",
       "7  2024-01-06T07:20:33.990Z  \n",
       "8  2024-01-06T07:20:40.656Z  \n",
       "9  2024-01-06T07:20:33.712Z  "
      ]
     },
     "execution_count": 6,
     "metadata": {},
     "output_type": "execute_result"
    }
   ],
   "source": [
    "categories_list_with_market_data = api.categories_market_data()\n",
    "categories_list_with_market_data.head(10)"
   ]
  },
  {
   "cell_type": "code",
   "execution_count": 7,
   "id": "7c52f048-73d0-4685-a726-7e4018ed6569",
   "metadata": {
    "ExecuteTime": {
     "end_time": "2024-01-06T07:24:06.344853500Z",
     "start_time": "2024-01-06T07:24:06.340257200Z"
    },
    "tags": []
   },
   "outputs": [
    {
     "data": {
      "text/plain": [
       "'Session closed successfully.'"
      ]
     },
     "execution_count": 7,
     "metadata": {},
     "output_type": "execute_result"
    }
   ],
   "source": [
    "api.end_session()"
   ]
  },
  {
   "cell_type": "code",
   "execution_count": 7,
   "id": "bae9320d-1f9f-4804-8526-d2fb99edd549",
   "metadata": {
    "ExecuteTime": {
     "end_time": "2024-01-06T07:24:06.349362300Z",
     "start_time": "2024-01-06T07:24:06.344228Z"
    }
   },
   "outputs": [],
   "source": []
  }
 ],
 "metadata": {
  "kernelspec": {
   "display_name": "Python 3 (ipykernel)",
   "language": "python",
   "name": "python3"
  },
  "language_info": {
   "codemirror_mode": {
    "name": "ipython",
    "version": 3
   },
   "file_extension": ".py",
   "mimetype": "text/x-python",
   "name": "python",
   "nbconvert_exporter": "python",
   "pygments_lexer": "ipython3",
   "version": "3.11.3"
  }
 },
 "nbformat": 4,
 "nbformat_minor": 5
}
