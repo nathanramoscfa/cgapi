{
 "cells": [
  {
   "cell_type": "markdown",
   "id": "c155abac-911f-4dfe-a1aa-c14534f360b3",
   "metadata": {},
   "source": [
    "# coins"
   ]
  },
  {
   "cell_type": "code",
   "execution_count": 1,
   "id": "c405bdab-79f0-400f-b1d7-4dfb64d3e02c",
   "metadata": {
    "ExecuteTime": {
     "end_time": "2024-01-07T06:44:02.751309300Z",
     "start_time": "2024-01-07T06:44:02.739847Z"
    },
    "tags": []
   },
   "outputs": [],
   "source": [
    "import sys\n",
    "sys.path.append('..')  # This adds the parent directory to the Python path"
   ]
  },
  {
   "cell_type": "code",
   "execution_count": 2,
   "id": "af047fcc-1a38-41e1-a1ca-00e07867e109",
   "metadata": {
    "ExecuteTime": {
     "end_time": "2024-01-07T06:44:03.379572100Z",
     "start_time": "2024-01-07T06:44:02.744793200Z"
    }
   },
   "outputs": [],
   "source": [
    "import keyring\n",
    "from pycgapi import CoinGeckoAPI"
   ]
  },
  {
   "cell_type": "code",
   "execution_count": 3,
   "id": "183a92e4-2c5d-4a9f-bfde-3d3cf46d41ca",
   "metadata": {
    "ExecuteTime": {
     "end_time": "2024-01-07T06:44:05.578362100Z",
     "start_time": "2024-01-07T06:44:03.380571300Z"
    },
    "tags": []
   },
   "outputs": [],
   "source": [
    "api_key = keyring.get_password('coingecko', 'analyst_api_key')"
   ]
  },
  {
   "cell_type": "code",
   "execution_count": 4,
   "id": "7fbbf057-9b1d-4d2b-92e4-1915dc8f80ff",
   "metadata": {
    "ExecuteTime": {
     "end_time": "2024-01-07T06:44:06.151256600Z",
     "start_time": "2024-01-07T06:44:05.579362400Z"
    },
    "tags": []
   },
   "outputs": [
    {
     "name": "stdout",
     "output_type": "stream",
     "text": [
      "API Server Status: {'gecko_says': '(V3) To the Moon!'}\n"
     ]
    }
   ],
   "source": [
    "api = CoinGeckoAPI(api_key, pro_api=True)\n",
    "status = api.status_check()\n",
    "print(\"API Server Status:\", status)"
   ]
  },
  {
   "cell_type": "code",
   "execution_count": 5,
   "id": "29b3e24a-10d3-488f-bf45-a3385db06bdb",
   "metadata": {
    "ExecuteTime": {
     "end_time": "2024-01-07T06:44:06.152256Z",
     "start_time": "2024-01-07T06:44:06.145741800Z"
    }
   },
   "outputs": [],
   "source": [
    "coin_id = 'bitcoin'"
   ]
  },
  {
   "cell_type": "code",
   "execution_count": 6,
   "id": "c680c9f4-bccc-494f-9567-831c5cb0f2a5",
   "metadata": {
    "ExecuteTime": {
     "end_time": "2024-01-07T06:44:06.163199100Z",
     "start_time": "2024-01-07T06:44:06.150257200Z"
    }
   },
   "outputs": [],
   "source": [
    "coin_ids = ['bitcoin', 'ethereum', 'tether', 'binancecoin', 'solana']"
   ]
  },
  {
   "cell_type": "markdown",
   "id": "dba6daa6-344d-431d-8f97-ed37d4eaae0e",
   "metadata": {},
   "source": [
    "## /coins/list"
   ]
  },
  {
   "cell_type": "code",
   "execution_count": 7,
   "id": "5033d735-9279-44b2-adff-be3c4444e788",
   "metadata": {
    "ExecuteTime": {
     "end_time": "2024-01-07T06:44:09.328642200Z",
     "start_time": "2024-01-07T06:44:06.164199700Z"
    }
   },
   "outputs": [
    {
     "name": "stdout",
     "output_type": "stream",
     "text": [
      "                    symbol                 name\n",
      "id                                             \n",
      "01coin                 zoc               01coin\n",
      "0chain                 zcn                  Zus\n",
      "0-knowledge-network    0kn  0 Knowledge Network\n",
      "0-mee                  ome                O-MEE\n",
      "0vix-protocol          vix        0VIX Protocol\n"
     ]
    }
   ],
   "source": [
    "coins_list = api.coins_list()\n",
    "print(coins_list.head())"
   ]
  },
  {
   "cell_type": "markdown",
   "id": "d8ec4dd9-21ce-4d82-bad4-09f4940e6006",
   "metadata": {},
   "source": [
    "## /coins/markets"
   ]
  },
  {
   "cell_type": "code",
   "execution_count": 8,
   "id": "255c76ca-0752-48b6-8ce5-17c863916241",
   "metadata": {
    "ExecuteTime": {
     "end_time": "2024-01-07T06:44:09.441747600Z",
     "start_time": "2024-01-07T06:44:09.321143Z"
    }
   },
   "outputs": [
    {
     "name": "stdout",
     "output_type": "stream",
     "text": [
      "Available Fields: ['ath', 'ath_change_percentage', 'ath_date', 'atl', 'atl_change_percentage', 'atl_date', 'circulating_supply', 'current_price', 'fully_diluted_valuation', 'high_24h', 'image', 'last_updated', 'low_24h', 'market_cap', 'market_cap_change_24h', 'market_cap_change_percentage_24h', 'market_cap_rank', 'max_supply', 'name', 'price_change_24h', 'price_change_percentage_24h', 'roi', 'symbol', 'total_supply', 'total_volume']\n"
     ]
    },
    {
     "data": {
      "text/html": [
       "<div>\n",
       "<style scoped>\n",
       "    .dataframe tbody tr th:only-of-type {\n",
       "        vertical-align: middle;\n",
       "    }\n",
       "\n",
       "    .dataframe tbody tr th {\n",
       "        vertical-align: top;\n",
       "    }\n",
       "\n",
       "    .dataframe thead th {\n",
       "        text-align: right;\n",
       "    }\n",
       "</style>\n",
       "<table border=\"1\" class=\"dataframe\">\n",
       "  <thead>\n",
       "    <tr style=\"text-align: right;\">\n",
       "      <th></th>\n",
       "      <th>symbol</th>\n",
       "      <th>name</th>\n",
       "      <th>image</th>\n",
       "      <th>current_price</th>\n",
       "      <th>market_cap</th>\n",
       "      <th>market_cap_rank</th>\n",
       "      <th>fully_diluted_valuation</th>\n",
       "      <th>total_volume</th>\n",
       "      <th>high_24h</th>\n",
       "      <th>low_24h</th>\n",
       "      <th>...</th>\n",
       "      <th>total_supply</th>\n",
       "      <th>max_supply</th>\n",
       "      <th>ath</th>\n",
       "      <th>ath_change_percentage</th>\n",
       "      <th>ath_date</th>\n",
       "      <th>atl</th>\n",
       "      <th>atl_change_percentage</th>\n",
       "      <th>atl_date</th>\n",
       "      <th>roi</th>\n",
       "      <th>last_updated</th>\n",
       "    </tr>\n",
       "    <tr>\n",
       "      <th>id</th>\n",
       "      <th></th>\n",
       "      <th></th>\n",
       "      <th></th>\n",
       "      <th></th>\n",
       "      <th></th>\n",
       "      <th></th>\n",
       "      <th></th>\n",
       "      <th></th>\n",
       "      <th></th>\n",
       "      <th></th>\n",
       "      <th></th>\n",
       "      <th></th>\n",
       "      <th></th>\n",
       "      <th></th>\n",
       "      <th></th>\n",
       "      <th></th>\n",
       "      <th></th>\n",
       "      <th></th>\n",
       "      <th></th>\n",
       "      <th></th>\n",
       "      <th></th>\n",
       "    </tr>\n",
       "  </thead>\n",
       "  <tbody>\n",
       "    <tr>\n",
       "      <th>bitcoin</th>\n",
       "      <td>btc</td>\n",
       "      <td>Bitcoin</td>\n",
       "      <td>https://assets.coingecko.com/coins/images/1/la...</td>\n",
       "      <td>46002.00</td>\n",
       "      <td>901434216989</td>\n",
       "      <td>1</td>\n",
       "      <td>9.660069e+11</td>\n",
       "      <td>39782977109</td>\n",
       "      <td>48888.000</td>\n",
       "      <td>45662.000000</td>\n",
       "      <td>...</td>\n",
       "      <td>2.100000e+07</td>\n",
       "      <td>21000000.0</td>\n",
       "      <td>69045.00</td>\n",
       "      <td>-33.38682</td>\n",
       "      <td>2021-11-10T14:24:11.849Z</td>\n",
       "      <td>67.810000</td>\n",
       "      <td>67727.15249</td>\n",
       "      <td>2013-07-06T00:00:00.000Z</td>\n",
       "      <td>None</td>\n",
       "      <td>2024-01-12T04:20:46.000Z</td>\n",
       "    </tr>\n",
       "    <tr>\n",
       "      <th>ethereum</th>\n",
       "      <td>eth</td>\n",
       "      <td>Ethereum</td>\n",
       "      <td>https://assets.coingecko.com/coins/images/279/...</td>\n",
       "      <td>2593.33</td>\n",
       "      <td>311156681291</td>\n",
       "      <td>2</td>\n",
       "      <td>3.111567e+11</td>\n",
       "      <td>37539915489</td>\n",
       "      <td>2677.460</td>\n",
       "      <td>2573.220000</td>\n",
       "      <td>...</td>\n",
       "      <td>1.201814e+08</td>\n",
       "      <td>NaN</td>\n",
       "      <td>4878.26</td>\n",
       "      <td>-46.84897</td>\n",
       "      <td>2021-11-10T14:24:19.604Z</td>\n",
       "      <td>0.432979</td>\n",
       "      <td>598738.81775</td>\n",
       "      <td>2015-10-20T00:00:00.000Z</td>\n",
       "      <td>{'times': 74.37514625365543, 'currency': 'btc'...</td>\n",
       "      <td>2024-01-12T04:20:29.000Z</td>\n",
       "    </tr>\n",
       "    <tr>\n",
       "      <th>tether</th>\n",
       "      <td>usdt</td>\n",
       "      <td>Tether</td>\n",
       "      <td>https://assets.coingecko.com/coins/images/325/...</td>\n",
       "      <td>1.00</td>\n",
       "      <td>94911536440</td>\n",
       "      <td>3</td>\n",
       "      <td>9.491154e+10</td>\n",
       "      <td>54024096192</td>\n",
       "      <td>1.004</td>\n",
       "      <td>0.993612</td>\n",
       "      <td>...</td>\n",
       "      <td>9.500196e+10</td>\n",
       "      <td>NaN</td>\n",
       "      <td>1.32</td>\n",
       "      <td>-24.41208</td>\n",
       "      <td>2018-07-24T00:00:00.000Z</td>\n",
       "      <td>0.572521</td>\n",
       "      <td>74.68359</td>\n",
       "      <td>2015-03-02T00:00:00.000Z</td>\n",
       "      <td>None</td>\n",
       "      <td>2024-01-12T04:20:30.000Z</td>\n",
       "    </tr>\n",
       "    <tr>\n",
       "      <th>binancecoin</th>\n",
       "      <td>bnb</td>\n",
       "      <td>BNB</td>\n",
       "      <td>https://assets.coingecko.com/coins/images/825/...</td>\n",
       "      <td>311.61</td>\n",
       "      <td>47942727568</td>\n",
       "      <td>4</td>\n",
       "      <td>4.794273e+10</td>\n",
       "      <td>1701228921</td>\n",
       "      <td>317.660</td>\n",
       "      <td>302.370000</td>\n",
       "      <td>...</td>\n",
       "      <td>1.538562e+08</td>\n",
       "      <td>200000000.0</td>\n",
       "      <td>686.31</td>\n",
       "      <td>-54.59571</td>\n",
       "      <td>2021-05-10T07:24:17.097Z</td>\n",
       "      <td>0.039818</td>\n",
       "      <td>782498.43134</td>\n",
       "      <td>2017-10-19T00:00:00.000Z</td>\n",
       "      <td>None</td>\n",
       "      <td>2024-01-12T04:20:24.000Z</td>\n",
       "    </tr>\n",
       "    <tr>\n",
       "      <th>solana</th>\n",
       "      <td>sol</td>\n",
       "      <td>Solana</td>\n",
       "      <td>https://assets.coingecko.com/coins/images/4128...</td>\n",
       "      <td>98.21</td>\n",
       "      <td>42392561164</td>\n",
       "      <td>5</td>\n",
       "      <td>5.560478e+10</td>\n",
       "      <td>3730260342</td>\n",
       "      <td>106.950</td>\n",
       "      <td>98.000000</td>\n",
       "      <td>...</td>\n",
       "      <td>5.668911e+08</td>\n",
       "      <td>NaN</td>\n",
       "      <td>259.96</td>\n",
       "      <td>-62.27742</td>\n",
       "      <td>2021-11-06T21:54:35.825Z</td>\n",
       "      <td>0.500801</td>\n",
       "      <td>19481.28953</td>\n",
       "      <td>2020-05-11T19:35:23.449Z</td>\n",
       "      <td>None</td>\n",
       "      <td>2024-01-12T04:20:43.000Z</td>\n",
       "    </tr>\n",
       "  </tbody>\n",
       "</table>\n",
       "<p>5 rows × 25 columns</p>\n",
       "</div>"
      ],
      "text/plain": [
       "            symbol      name  \\\n",
       "id                             \n",
       "bitcoin        btc   Bitcoin   \n",
       "ethereum       eth  Ethereum   \n",
       "tether        usdt    Tether   \n",
       "binancecoin    bnb       BNB   \n",
       "solana         sol    Solana   \n",
       "\n",
       "                                                         image  current_price  \\\n",
       "id                                                                              \n",
       "bitcoin      https://assets.coingecko.com/coins/images/1/la...       46002.00   \n",
       "ethereum     https://assets.coingecko.com/coins/images/279/...        2593.33   \n",
       "tether       https://assets.coingecko.com/coins/images/325/...           1.00   \n",
       "binancecoin  https://assets.coingecko.com/coins/images/825/...         311.61   \n",
       "solana       https://assets.coingecko.com/coins/images/4128...          98.21   \n",
       "\n",
       "               market_cap  market_cap_rank  fully_diluted_valuation  \\\n",
       "id                                                                    \n",
       "bitcoin      901434216989                1             9.660069e+11   \n",
       "ethereum     311156681291                2             3.111567e+11   \n",
       "tether        94911536440                3             9.491154e+10   \n",
       "binancecoin   47942727568                4             4.794273e+10   \n",
       "solana        42392561164                5             5.560478e+10   \n",
       "\n",
       "             total_volume   high_24h       low_24h  ...  total_supply  \\\n",
       "id                                                  ...                 \n",
       "bitcoin       39782977109  48888.000  45662.000000  ...  2.100000e+07   \n",
       "ethereum      37539915489   2677.460   2573.220000  ...  1.201814e+08   \n",
       "tether        54024096192      1.004      0.993612  ...  9.500196e+10   \n",
       "binancecoin    1701228921    317.660    302.370000  ...  1.538562e+08   \n",
       "solana         3730260342    106.950     98.000000  ...  5.668911e+08   \n",
       "\n",
       "              max_supply       ath  ath_change_percentage  \\\n",
       "id                                                          \n",
       "bitcoin       21000000.0  69045.00              -33.38682   \n",
       "ethereum             NaN   4878.26              -46.84897   \n",
       "tether               NaN      1.32              -24.41208   \n",
       "binancecoin  200000000.0    686.31              -54.59571   \n",
       "solana               NaN    259.96              -62.27742   \n",
       "\n",
       "                             ath_date        atl  atl_change_percentage  \\\n",
       "id                                                                        \n",
       "bitcoin      2021-11-10T14:24:11.849Z  67.810000            67727.15249   \n",
       "ethereum     2021-11-10T14:24:19.604Z   0.432979           598738.81775   \n",
       "tether       2018-07-24T00:00:00.000Z   0.572521               74.68359   \n",
       "binancecoin  2021-05-10T07:24:17.097Z   0.039818           782498.43134   \n",
       "solana       2021-11-06T21:54:35.825Z   0.500801            19481.28953   \n",
       "\n",
       "                             atl_date  \\\n",
       "id                                      \n",
       "bitcoin      2013-07-06T00:00:00.000Z   \n",
       "ethereum     2015-10-20T00:00:00.000Z   \n",
       "tether       2015-03-02T00:00:00.000Z   \n",
       "binancecoin  2017-10-19T00:00:00.000Z   \n",
       "solana       2020-05-11T19:35:23.449Z   \n",
       "\n",
       "                                                           roi  \\\n",
       "id                                                               \n",
       "bitcoin                                                   None   \n",
       "ethereum     {'times': 74.37514625365543, 'currency': 'btc'...   \n",
       "tether                                                    None   \n",
       "binancecoin                                               None   \n",
       "solana                                                    None   \n",
       "\n",
       "                         last_updated  \n",
       "id                                     \n",
       "bitcoin      2024-01-12T04:20:46.000Z  \n",
       "ethereum     2024-01-12T04:20:29.000Z  \n",
       "tether       2024-01-12T04:20:30.000Z  \n",
       "binancecoin  2024-01-12T04:20:24.000Z  \n",
       "solana       2024-01-12T04:20:43.000Z  \n",
       "\n",
       "[5 rows x 25 columns]"
      ]
     },
     "execution_count": 8,
     "metadata": {},
     "output_type": "execute_result"
    }
   ],
   "source": [
    "coin_markets_data = api.coins_market_data()\n",
    "print('Available Fields: {}'.format(sorted(coin_markets_data.columns)))\n",
    "coin_markets_data.head()"
   ]
  },
  {
   "cell_type": "code",
   "execution_count": 9,
   "id": "630975bf-c020-42a6-913a-54a603c8a004",
   "metadata": {
    "ExecuteTime": {
     "end_time": "2024-01-07T06:44:09.503270400Z",
     "start_time": "2024-01-07T06:44:09.427189800Z"
    },
    "tags": []
   },
   "outputs": [
    {
     "name": "stdout",
     "output_type": "stream",
     "text": [
      "            symbol      name  current_price    market_cap  total_volume\n",
      "id                                                                     \n",
      "bitcoin        btc   Bitcoin       46002.00  901434216989   39782977109\n",
      "ethereum       eth  Ethereum        2593.33  311156681291   37539915489\n",
      "tether        usdt    Tether           1.00   94911536440   54024096192\n",
      "binancecoin    bnb       BNB         311.61   47942727568    1701228921\n",
      "solana         sol    Solana          98.21   42392561164    3730260342\n"
     ]
    }
   ],
   "source": [
    "print(api.coins_market_data()[['symbol', 'name', 'current_price', 'market_cap', 'total_volume']].head())"
   ]
  },
  {
   "cell_type": "code",
   "execution_count": 10,
   "id": "c873babc-0f3e-4d30-833a-4d3c2aec1c5a",
   "metadata": {
    "ExecuteTime": {
     "end_time": "2024-01-07T06:44:09.825693800Z",
     "start_time": "2024-01-07T06:44:09.453696Z"
    }
   },
   "outputs": [
    {
     "data": {
      "text/html": [
       "<div>\n",
       "<style scoped>\n",
       "    .dataframe tbody tr th:only-of-type {\n",
       "        vertical-align: middle;\n",
       "    }\n",
       "\n",
       "    .dataframe tbody tr th {\n",
       "        vertical-align: top;\n",
       "    }\n",
       "\n",
       "    .dataframe thead th {\n",
       "        text-align: right;\n",
       "    }\n",
       "</style>\n",
       "<table border=\"1\" class=\"dataframe\">\n",
       "  <thead>\n",
       "    <tr style=\"text-align: right;\">\n",
       "      <th></th>\n",
       "      <th>symbol</th>\n",
       "      <th>name</th>\n",
       "      <th>image</th>\n",
       "      <th>current_price</th>\n",
       "      <th>market_cap</th>\n",
       "      <th>market_cap_rank</th>\n",
       "      <th>fully_diluted_valuation</th>\n",
       "      <th>total_volume</th>\n",
       "      <th>high_24h</th>\n",
       "      <th>low_24h</th>\n",
       "      <th>...</th>\n",
       "      <th>total_supply</th>\n",
       "      <th>max_supply</th>\n",
       "      <th>ath</th>\n",
       "      <th>ath_change_percentage</th>\n",
       "      <th>ath_date</th>\n",
       "      <th>atl</th>\n",
       "      <th>atl_change_percentage</th>\n",
       "      <th>atl_date</th>\n",
       "      <th>roi</th>\n",
       "      <th>last_updated</th>\n",
       "    </tr>\n",
       "  </thead>\n",
       "  <tbody>\n",
       "    <tr>\n",
       "      <th>0</th>\n",
       "      <td>btc</td>\n",
       "      <td>Bitcoin</td>\n",
       "      <td>https://assets.coingecko.com/coins/images/1/la...</td>\n",
       "      <td>46002.00</td>\n",
       "      <td>901434216989</td>\n",
       "      <td>1</td>\n",
       "      <td>9.660069e+11</td>\n",
       "      <td>3.978298e+10</td>\n",
       "      <td>48888.000</td>\n",
       "      <td>45662.000000</td>\n",
       "      <td>...</td>\n",
       "      <td>2.100000e+07</td>\n",
       "      <td>21000000.0</td>\n",
       "      <td>69045.00</td>\n",
       "      <td>-33.38682</td>\n",
       "      <td>2021-11-10T14:24:11.849Z</td>\n",
       "      <td>67.810000</td>\n",
       "      <td>67727.15249</td>\n",
       "      <td>2013-07-06T00:00:00.000Z</td>\n",
       "      <td>None</td>\n",
       "      <td>2024-01-12T04:20:46.000Z</td>\n",
       "    </tr>\n",
       "    <tr>\n",
       "      <th>1</th>\n",
       "      <td>eth</td>\n",
       "      <td>Ethereum</td>\n",
       "      <td>https://assets.coingecko.com/coins/images/279/...</td>\n",
       "      <td>2593.33</td>\n",
       "      <td>311156681291</td>\n",
       "      <td>2</td>\n",
       "      <td>3.111567e+11</td>\n",
       "      <td>3.753992e+10</td>\n",
       "      <td>2677.460</td>\n",
       "      <td>2573.220000</td>\n",
       "      <td>...</td>\n",
       "      <td>1.201814e+08</td>\n",
       "      <td>NaN</td>\n",
       "      <td>4878.26</td>\n",
       "      <td>-46.84897</td>\n",
       "      <td>2021-11-10T14:24:19.604Z</td>\n",
       "      <td>0.432979</td>\n",
       "      <td>598738.81775</td>\n",
       "      <td>2015-10-20T00:00:00.000Z</td>\n",
       "      <td>{'times': 74.37514625365543, 'currency': 'btc'...</td>\n",
       "      <td>2024-01-12T04:20:29.000Z</td>\n",
       "    </tr>\n",
       "    <tr>\n",
       "      <th>2</th>\n",
       "      <td>usdt</td>\n",
       "      <td>Tether</td>\n",
       "      <td>https://assets.coingecko.com/coins/images/325/...</td>\n",
       "      <td>1.00</td>\n",
       "      <td>94911536440</td>\n",
       "      <td>3</td>\n",
       "      <td>9.491154e+10</td>\n",
       "      <td>5.402410e+10</td>\n",
       "      <td>1.004</td>\n",
       "      <td>0.993612</td>\n",
       "      <td>...</td>\n",
       "      <td>9.500196e+10</td>\n",
       "      <td>NaN</td>\n",
       "      <td>1.32</td>\n",
       "      <td>-24.41208</td>\n",
       "      <td>2018-07-24T00:00:00.000Z</td>\n",
       "      <td>0.572521</td>\n",
       "      <td>74.68359</td>\n",
       "      <td>2015-03-02T00:00:00.000Z</td>\n",
       "      <td>None</td>\n",
       "      <td>2024-01-12T04:20:30.000Z</td>\n",
       "    </tr>\n",
       "    <tr>\n",
       "      <th>3</th>\n",
       "      <td>bnb</td>\n",
       "      <td>BNB</td>\n",
       "      <td>https://assets.coingecko.com/coins/images/825/...</td>\n",
       "      <td>311.61</td>\n",
       "      <td>47942727568</td>\n",
       "      <td>4</td>\n",
       "      <td>4.794273e+10</td>\n",
       "      <td>1.701229e+09</td>\n",
       "      <td>317.660</td>\n",
       "      <td>302.370000</td>\n",
       "      <td>...</td>\n",
       "      <td>1.538562e+08</td>\n",
       "      <td>200000000.0</td>\n",
       "      <td>686.31</td>\n",
       "      <td>-54.59571</td>\n",
       "      <td>2021-05-10T07:24:17.097Z</td>\n",
       "      <td>0.039818</td>\n",
       "      <td>782498.43134</td>\n",
       "      <td>2017-10-19T00:00:00.000Z</td>\n",
       "      <td>None</td>\n",
       "      <td>2024-01-12T04:20:24.000Z</td>\n",
       "    </tr>\n",
       "    <tr>\n",
       "      <th>4</th>\n",
       "      <td>sol</td>\n",
       "      <td>Solana</td>\n",
       "      <td>https://assets.coingecko.com/coins/images/4128...</td>\n",
       "      <td>98.21</td>\n",
       "      <td>42392561164</td>\n",
       "      <td>5</td>\n",
       "      <td>5.560478e+10</td>\n",
       "      <td>3.730260e+09</td>\n",
       "      <td>106.950</td>\n",
       "      <td>98.000000</td>\n",
       "      <td>...</td>\n",
       "      <td>5.668911e+08</td>\n",
       "      <td>NaN</td>\n",
       "      <td>259.96</td>\n",
       "      <td>-62.27742</td>\n",
       "      <td>2021-11-06T21:54:35.825Z</td>\n",
       "      <td>0.500801</td>\n",
       "      <td>19481.28953</td>\n",
       "      <td>2020-05-11T19:35:23.449Z</td>\n",
       "      <td>None</td>\n",
       "      <td>2024-01-12T04:20:43.000Z</td>\n",
       "    </tr>\n",
       "  </tbody>\n",
       "</table>\n",
       "<p>5 rows × 25 columns</p>\n",
       "</div>"
      ],
      "text/plain": [
       "  symbol      name                                              image  \\\n",
       "0    btc   Bitcoin  https://assets.coingecko.com/coins/images/1/la...   \n",
       "1    eth  Ethereum  https://assets.coingecko.com/coins/images/279/...   \n",
       "2   usdt    Tether  https://assets.coingecko.com/coins/images/325/...   \n",
       "3    bnb       BNB  https://assets.coingecko.com/coins/images/825/...   \n",
       "4    sol    Solana  https://assets.coingecko.com/coins/images/4128...   \n",
       "\n",
       "   current_price    market_cap  market_cap_rank  fully_diluted_valuation  \\\n",
       "0       46002.00  901434216989                1             9.660069e+11   \n",
       "1        2593.33  311156681291                2             3.111567e+11   \n",
       "2           1.00   94911536440                3             9.491154e+10   \n",
       "3         311.61   47942727568                4             4.794273e+10   \n",
       "4          98.21   42392561164                5             5.560478e+10   \n",
       "\n",
       "   total_volume   high_24h       low_24h  ...  total_supply   max_supply  \\\n",
       "0  3.978298e+10  48888.000  45662.000000  ...  2.100000e+07   21000000.0   \n",
       "1  3.753992e+10   2677.460   2573.220000  ...  1.201814e+08          NaN   \n",
       "2  5.402410e+10      1.004      0.993612  ...  9.500196e+10          NaN   \n",
       "3  1.701229e+09    317.660    302.370000  ...  1.538562e+08  200000000.0   \n",
       "4  3.730260e+09    106.950     98.000000  ...  5.668911e+08          NaN   \n",
       "\n",
       "        ath  ath_change_percentage                  ath_date        atl  \\\n",
       "0  69045.00              -33.38682  2021-11-10T14:24:11.849Z  67.810000   \n",
       "1   4878.26              -46.84897  2021-11-10T14:24:19.604Z   0.432979   \n",
       "2      1.32              -24.41208  2018-07-24T00:00:00.000Z   0.572521   \n",
       "3    686.31              -54.59571  2021-05-10T07:24:17.097Z   0.039818   \n",
       "4    259.96              -62.27742  2021-11-06T21:54:35.825Z   0.500801   \n",
       "\n",
       "   atl_change_percentage                  atl_date  \\\n",
       "0            67727.15249  2013-07-06T00:00:00.000Z   \n",
       "1           598738.81775  2015-10-20T00:00:00.000Z   \n",
       "2               74.68359  2015-03-02T00:00:00.000Z   \n",
       "3           782498.43134  2017-10-19T00:00:00.000Z   \n",
       "4            19481.28953  2020-05-11T19:35:23.449Z   \n",
       "\n",
       "                                                 roi              last_updated  \n",
       "0                                               None  2024-01-12T04:20:46.000Z  \n",
       "1  {'times': 74.37514625365543, 'currency': 'btc'...  2024-01-12T04:20:29.000Z  \n",
       "2                                               None  2024-01-12T04:20:30.000Z  \n",
       "3                                               None  2024-01-12T04:20:24.000Z  \n",
       "4                                               None  2024-01-12T04:20:43.000Z  \n",
       "\n",
       "[5 rows x 25 columns]"
      ]
     },
     "execution_count": 10,
     "metadata": {},
     "output_type": "execute_result"
    }
   ],
   "source": [
    "top_coins_markets = api.top_coins_market_data(top_n=250)\n",
    "top_coins_markets.head()"
   ]
  },
  {
   "cell_type": "markdown",
   "id": "f1d02576-a55c-4752-8169-d1c293b4a4ae",
   "metadata": {},
   "source": [
    "## /coins/{id}"
   ]
  },
  {
   "cell_type": "code",
   "execution_count": 11,
   "id": "92024e74-3350-40f2-a8a9-ae68458b31b2",
   "metadata": {
    "ExecuteTime": {
     "end_time": "2024-01-07T06:44:09.955658Z",
     "start_time": "2024-01-07T06:44:09.807749600Z"
    }
   },
   "outputs": [
    {
     "name": "stdout",
     "output_type": "stream",
     "text": [
      "Available Keys: ['additional_notices', 'asset_platform_id', 'block_time_in_minutes', 'categories', 'community_data', 'country_origin', 'description', 'detail_platforms', 'developer_data', 'genesis_date', 'hashing_algorithm', 'id', 'image', 'last_updated', 'links', 'localization', 'market_cap_rank', 'market_data', 'name', 'platforms', 'preview_listing', 'public_notice', 'sentiment_votes_down_percentage', 'sentiment_votes_up_percentage', 'status_updates', 'symbol', 'tickers', 'watchlist_portfolio_users', 'web_slug']\n"
     ]
    }
   ],
   "source": [
    "coin_data_dict = api.coin_info(coin_id)\n",
    "print('Available Keys: {}'.format(sorted(coin_data_dict.keys())))"
   ]
  },
  {
   "cell_type": "markdown",
   "id": "2b50d187-87b8-4e4e-aaf2-149b7c11a3e2",
   "metadata": {},
   "source": [
    "## /coins/{id}/tickers"
   ]
  },
  {
   "cell_type": "code",
   "execution_count": 12,
   "id": "1da9171b-4a5a-4ed4-8af1-7effe128cbae",
   "metadata": {
    "ExecuteTime": {
     "end_time": "2024-01-07T06:44:10.388230300Z",
     "start_time": "2024-01-07T06:44:09.948657900Z"
    }
   },
   "outputs": [
    {
     "data": {
      "text/html": [
       "<div>\n",
       "<style scoped>\n",
       "    .dataframe tbody tr th:only-of-type {\n",
       "        vertical-align: middle;\n",
       "    }\n",
       "\n",
       "    .dataframe tbody tr th {\n",
       "        vertical-align: top;\n",
       "    }\n",
       "\n",
       "    .dataframe thead th {\n",
       "        text-align: right;\n",
       "    }\n",
       "</style>\n",
       "<table border=\"1\" class=\"dataframe\">\n",
       "  <thead>\n",
       "    <tr style=\"text-align: right;\">\n",
       "      <th></th>\n",
       "      <th>base</th>\n",
       "      <th>target</th>\n",
       "      <th>market</th>\n",
       "      <th>last</th>\n",
       "      <th>volume</th>\n",
       "      <th>converted_last</th>\n",
       "      <th>converted_volume</th>\n",
       "      <th>trust_score</th>\n",
       "      <th>bid_ask_spread_percentage</th>\n",
       "      <th>timestamp</th>\n",
       "      <th>last_traded_at</th>\n",
       "      <th>last_fetch_at</th>\n",
       "      <th>is_anomaly</th>\n",
       "      <th>is_stale</th>\n",
       "      <th>trade_url</th>\n",
       "      <th>token_info_url</th>\n",
       "      <th>coin_id</th>\n",
       "      <th>target_coin_id</th>\n",
       "    </tr>\n",
       "  </thead>\n",
       "  <tbody>\n",
       "    <tr>\n",
       "      <th>0</th>\n",
       "      <td>BTC</td>\n",
       "      <td>USDT</td>\n",
       "      <td>{'name': 'Binance', 'identifier': 'binance', '...</td>\n",
       "      <td>46051.110</td>\n",
       "      <td>84451.13995</td>\n",
       "      <td>{'btc': 1.000019, 'eth': 17.739195, 'usd': 46001}</td>\n",
       "      <td>{'btc': 86053, 'eth': 1526482, 'usd': 3958482399}</td>\n",
       "      <td>green</td>\n",
       "      <td>0.010022</td>\n",
       "      <td>2024-01-12T04:20:52+00:00</td>\n",
       "      <td>2024-01-12T04:20:52+00:00</td>\n",
       "      <td>2024-01-12T04:20:52+00:00</td>\n",
       "      <td>False</td>\n",
       "      <td>False</td>\n",
       "      <td>https://www.binance.com/en/trade/BTC_USDT?ref=...</td>\n",
       "      <td>None</td>\n",
       "      <td>bitcoin</td>\n",
       "      <td>tether</td>\n",
       "    </tr>\n",
       "    <tr>\n",
       "      <th>1</th>\n",
       "      <td>BTC</td>\n",
       "      <td>USDC</td>\n",
       "      <td>{'name': 'Tapbit', 'identifier': 'tapbit', 'ha...</td>\n",
       "      <td>45964.740</td>\n",
       "      <td>3591.72978</td>\n",
       "      <td>{'btc': 1.000255, 'eth': 17.752109, 'usd': 46009}</td>\n",
       "      <td>{'btc': 3662, 'eth': 64986, 'usd': 168427008}</td>\n",
       "      <td>green</td>\n",
       "      <td>0.010022</td>\n",
       "      <td>2024-01-12T04:17:05+00:00</td>\n",
       "      <td>2024-01-12T04:17:05+00:00</td>\n",
       "      <td>2024-01-12T04:17:05+00:00</td>\n",
       "      <td>False</td>\n",
       "      <td>False</td>\n",
       "      <td>https://www.tapbit.com/spot/exchange/BTC_USDC</td>\n",
       "      <td>None</td>\n",
       "      <td>bitcoin</td>\n",
       "      <td>usd-coin</td>\n",
       "    </tr>\n",
       "    <tr>\n",
       "      <th>2</th>\n",
       "      <td>BTC</td>\n",
       "      <td>USDT</td>\n",
       "      <td>{'name': 'Hotcoin Global', 'identifier': 'hotc...</td>\n",
       "      <td>45991.320</td>\n",
       "      <td>24083.51330</td>\n",
       "      <td>{'btc': 0.99968308, 'eth': 17.741962, 'usd': 4...</td>\n",
       "      <td>{'btc': 24076, 'eth': 427289, 'usd': 1107420396}</td>\n",
       "      <td>green</td>\n",
       "      <td>0.011957</td>\n",
       "      <td>2024-01-12T04:17:41+00:00</td>\n",
       "      <td>2024-01-12T04:17:41+00:00</td>\n",
       "      <td>2024-01-12T04:17:41+00:00</td>\n",
       "      <td>False</td>\n",
       "      <td>False</td>\n",
       "      <td>https://www.hotcoin.com/currencyExchange/btc_usdt</td>\n",
       "      <td>None</td>\n",
       "      <td>bitcoin</td>\n",
       "      <td>tether</td>\n",
       "    </tr>\n",
       "    <tr>\n",
       "      <th>3</th>\n",
       "      <td>BTC</td>\n",
       "      <td>USDT</td>\n",
       "      <td>{'name': 'Tapbit', 'identifier': 'tapbit', 'ha...</td>\n",
       "      <td>45965.030</td>\n",
       "      <td>6191.34190</td>\n",
       "      <td>{'btc': 0.99911164, 'eth': 17.73182, 'usd': 45...</td>\n",
       "      <td>{'btc': 6304, 'eth': 111874, 'usd': 289948083}</td>\n",
       "      <td>green</td>\n",
       "      <td>0.010022</td>\n",
       "      <td>2024-01-12T04:17:43+00:00</td>\n",
       "      <td>2024-01-12T04:17:43+00:00</td>\n",
       "      <td>2024-01-12T04:17:43+00:00</td>\n",
       "      <td>False</td>\n",
       "      <td>False</td>\n",
       "      <td>https://www.tapbit.com/spot/exchange/BTC_USDT</td>\n",
       "      <td>None</td>\n",
       "      <td>bitcoin</td>\n",
       "      <td>tether</td>\n",
       "    </tr>\n",
       "    <tr>\n",
       "      <th>4</th>\n",
       "      <td>BTC</td>\n",
       "      <td>USDT</td>\n",
       "      <td>{'name': 'OrangeX', 'identifier': 'orangex', '...</td>\n",
       "      <td>45969.055</td>\n",
       "      <td>20453.20977</td>\n",
       "      <td>{'btc': 0.99919912, 'eth': 17.73346, 'usd': 45...</td>\n",
       "      <td>{'btc': 20836, 'eth': 369786, 'usd': 958448147}</td>\n",
       "      <td>green</td>\n",
       "      <td>0.017123</td>\n",
       "      <td>2024-01-12T04:16:47+00:00</td>\n",
       "      <td>2024-01-12T04:16:47+00:00</td>\n",
       "      <td>2024-01-12T04:16:47+00:00</td>\n",
       "      <td>False</td>\n",
       "      <td>False</td>\n",
       "      <td>https://www.orangex.com/spot/BTC-USDT-SPOT</td>\n",
       "      <td>None</td>\n",
       "      <td>bitcoin</td>\n",
       "      <td>tether</td>\n",
       "    </tr>\n",
       "  </tbody>\n",
       "</table>\n",
       "</div>"
      ],
      "text/plain": [
       "  base target                                             market       last  \\\n",
       "0  BTC   USDT  {'name': 'Binance', 'identifier': 'binance', '...  46051.110   \n",
       "1  BTC   USDC  {'name': 'Tapbit', 'identifier': 'tapbit', 'ha...  45964.740   \n",
       "2  BTC   USDT  {'name': 'Hotcoin Global', 'identifier': 'hotc...  45991.320   \n",
       "3  BTC   USDT  {'name': 'Tapbit', 'identifier': 'tapbit', 'ha...  45965.030   \n",
       "4  BTC   USDT  {'name': 'OrangeX', 'identifier': 'orangex', '...  45969.055   \n",
       "\n",
       "        volume                                     converted_last  \\\n",
       "0  84451.13995  {'btc': 1.000019, 'eth': 17.739195, 'usd': 46001}   \n",
       "1   3591.72978  {'btc': 1.000255, 'eth': 17.752109, 'usd': 46009}   \n",
       "2  24083.51330  {'btc': 0.99968308, 'eth': 17.741962, 'usd': 4...   \n",
       "3   6191.34190  {'btc': 0.99911164, 'eth': 17.73182, 'usd': 45...   \n",
       "4  20453.20977  {'btc': 0.99919912, 'eth': 17.73346, 'usd': 45...   \n",
       "\n",
       "                                    converted_volume trust_score  \\\n",
       "0  {'btc': 86053, 'eth': 1526482, 'usd': 3958482399}       green   \n",
       "1      {'btc': 3662, 'eth': 64986, 'usd': 168427008}       green   \n",
       "2   {'btc': 24076, 'eth': 427289, 'usd': 1107420396}       green   \n",
       "3     {'btc': 6304, 'eth': 111874, 'usd': 289948083}       green   \n",
       "4    {'btc': 20836, 'eth': 369786, 'usd': 958448147}       green   \n",
       "\n",
       "   bid_ask_spread_percentage                  timestamp  \\\n",
       "0                   0.010022  2024-01-12T04:20:52+00:00   \n",
       "1                   0.010022  2024-01-12T04:17:05+00:00   \n",
       "2                   0.011957  2024-01-12T04:17:41+00:00   \n",
       "3                   0.010022  2024-01-12T04:17:43+00:00   \n",
       "4                   0.017123  2024-01-12T04:16:47+00:00   \n",
       "\n",
       "              last_traded_at              last_fetch_at  is_anomaly  is_stale  \\\n",
       "0  2024-01-12T04:20:52+00:00  2024-01-12T04:20:52+00:00       False     False   \n",
       "1  2024-01-12T04:17:05+00:00  2024-01-12T04:17:05+00:00       False     False   \n",
       "2  2024-01-12T04:17:41+00:00  2024-01-12T04:17:41+00:00       False     False   \n",
       "3  2024-01-12T04:17:43+00:00  2024-01-12T04:17:43+00:00       False     False   \n",
       "4  2024-01-12T04:16:47+00:00  2024-01-12T04:16:47+00:00       False     False   \n",
       "\n",
       "                                           trade_url token_info_url  coin_id  \\\n",
       "0  https://www.binance.com/en/trade/BTC_USDT?ref=...           None  bitcoin   \n",
       "1      https://www.tapbit.com/spot/exchange/BTC_USDC           None  bitcoin   \n",
       "2  https://www.hotcoin.com/currencyExchange/btc_usdt           None  bitcoin   \n",
       "3      https://www.tapbit.com/spot/exchange/BTC_USDT           None  bitcoin   \n",
       "4         https://www.orangex.com/spot/BTC-USDT-SPOT           None  bitcoin   \n",
       "\n",
       "  target_coin_id  \n",
       "0         tether  \n",
       "1       usd-coin  \n",
       "2         tether  \n",
       "3         tether  \n",
       "4         tether  "
      ]
     },
     "execution_count": 12,
     "metadata": {},
     "output_type": "execute_result"
    }
   ],
   "source": [
    "coin_tickers = api.coin_market_tickers(coin_id)\n",
    "coin_tickers.head()"
   ]
  },
  {
   "cell_type": "markdown",
   "id": "6748bd42-fddd-4f53-85ae-5de4a417a11e",
   "metadata": {},
   "source": [
    "## /coins/{id}/history"
   ]
  },
  {
   "cell_type": "code",
   "execution_count": 13,
   "id": "4409a046-3949-4414-aa5c-a15f0196b36b",
   "metadata": {
    "ExecuteTime": {
     "end_time": "2024-01-07T06:44:11.489230700Z",
     "start_time": "2024-01-07T06:44:10.369604200Z"
    }
   },
   "outputs": [
    {
     "name": "stdout",
     "output_type": "stream",
     "text": [
      "Available Keys: ['community_data', 'developer_data', 'id', 'image', 'localization', 'market_data', 'name', 'public_interest_stats', 'symbol']\n"
     ]
    }
   ],
   "source": [
    "coin_history_on_date_dict = api.coin_historical_on_date(coin_id, date='12-31-2022')\n",
    "print('Available Keys: {}'.format(sorted(coin_history_on_date_dict.keys())))"
   ]
  },
  {
   "cell_type": "markdown",
   "id": "3747205a-1dd6-4aaa-9adb-08b1a7895807",
   "metadata": {},
   "source": [
    "## /coins/{id}/market_chart"
   ]
  },
  {
   "cell_type": "code",
   "execution_count": 14,
   "id": "394f2be2-6ca7-41ca-ac49-6f1248076456",
   "metadata": {
    "ExecuteTime": {
     "end_time": "2024-01-07T06:44:11.831899600Z",
     "start_time": "2024-01-07T06:44:11.469982600Z"
    }
   },
   "outputs": [
    {
     "name": "stdout",
     "output_type": "stream",
     "text": [
      "                                  price    market_cap  total_volume\n",
      "timestamp                                                          \n",
      "2013-04-28 00:00:00+00:00    135.300000  1.500518e+09  0.000000e+00\n",
      "2013-04-29 00:00:00+00:00    141.960000  1.575032e+09  0.000000e+00\n",
      "2013-04-30 00:00:00+00:00    135.300000  1.501657e+09  0.000000e+00\n",
      "2013-05-01 00:00:00+00:00    117.000000  1.298952e+09  0.000000e+00\n",
      "2013-05-02 00:00:00+00:00    103.430000  1.148668e+09  0.000000e+00\n",
      "...                                 ...           ...           ...\n",
      "2024-01-09 00:00:00+00:00  46936.185561  9.196666e+11  4.082150e+10\n",
      "2024-01-10 00:00:00+00:00  46105.946078  9.021669e+11  3.988792e+10\n",
      "2024-01-11 00:00:00+00:00  46632.313148  9.152593e+11  5.203006e+10\n",
      "2024-01-12 00:00:00+00:00  46314.355542  9.098464e+11  4.919813e+10\n",
      "2024-01-12 04:20:46+00:00  46002.481618  9.014342e+11  3.978298e+10\n",
      "\n",
      "[3911 rows x 3 columns]\n"
     ]
    }
   ],
   "source": [
    "coin_historical_data = api.coin_historical_market_data(coin_id)\n",
    "print(coin_historical_data)"
   ]
  },
  {
   "cell_type": "markdown",
   "id": "3285999a-0aa2-414c-a484-ae3f8e28b6d4",
   "metadata": {},
   "source": [
    "## /coins/{id}/market_chart/range"
   ]
  },
  {
   "cell_type": "code",
   "execution_count": 15,
   "id": "2b7e73d4-3aa3-49fa-bc1d-7763f52533a1",
   "metadata": {
    "ExecuteTime": {
     "end_time": "2024-01-07T06:44:11.976263100Z",
     "start_time": "2024-01-07T06:44:11.816870Z"
    }
   },
   "outputs": [
    {
     "name": "stdout",
     "output_type": "stream",
     "text": [
      "                                  price    market_cap  total_volume\n",
      "timestamp                                                          \n",
      "2023-01-01 00:00:00+00:00  16540.693625  3.182783e+11  1.201325e+10\n",
      "2023-01-02 00:00:00+00:00  16615.969318  3.198320e+11  9.799253e+09\n",
      "2023-01-03 00:00:00+00:00  16674.342536  3.214865e+11  1.302386e+10\n",
      "2023-01-04 00:00:00+00:00  16677.646186  3.210808e+11  1.536717e+10\n",
      "2023-01-05 00:00:00+00:00  16855.174739  3.243976e+11  2.083656e+10\n",
      "...                                 ...           ...           ...\n",
      "2023-12-27 00:00:00+00:00  42516.426940  8.324716e+11  2.047774e+10\n",
      "2023-12-28 00:00:00+00:00  43418.467775  8.491942e+11  2.324475e+10\n",
      "2023-12-29 00:00:00+00:00  42600.650633  8.360735e+11  2.033657e+10\n",
      "2023-12-30 00:00:00+00:00  42074.707156  8.229340e+11  2.483240e+10\n",
      "2023-12-31 00:00:00+00:00  42220.611401  8.266092e+11  1.472722e+10\n",
      "\n",
      "[365 rows x 3 columns]\n"
     ]
    }
   ],
   "source": [
    "coin_historical_data_between_dates = api.coin_historical_market_data(coin_id, from_date='12-31-2022', to_date='12-31-2023')\n",
    "print(coin_historical_data_between_dates)"
   ]
  },
  {
   "cell_type": "code",
   "execution_count": 16,
   "id": "9dea349f-de5b-4878-80ab-f6e0e434fa5e",
   "metadata": {
    "ExecuteTime": {
     "end_time": "2024-01-07T06:44:14.857927500Z",
     "start_time": "2024-01-07T06:44:11.955487400Z"
    }
   },
   "outputs": [
    {
     "name": "stderr",
     "output_type": "stream",
     "text": [
      "100%|████████████████████████████████████████████████████████████████████████████████████| 5/5 [00:01<00:00,  2.76it/s]"
     ]
    },
    {
     "name": "stdout",
     "output_type": "stream",
     "text": [
      "Available Keys: ['market_cap', 'price', 'total_volume']\n"
     ]
    },
    {
     "name": "stderr",
     "output_type": "stream",
     "text": [
      "\n"
     ]
    }
   ],
   "source": [
    "multiple_coins_historical_data = api.multiple_coins_historical_data(coin_ids)\n",
    "print('Available Keys: {}'.format(sorted(multiple_coins_historical_data.keys())))"
   ]
  },
  {
   "cell_type": "code",
   "execution_count": 17,
   "id": "1610dc9d-d013-4419-ac88-80254fe416a1",
   "metadata": {
    "ExecuteTime": {
     "end_time": "2024-01-07T06:44:14.857927500Z",
     "start_time": "2024-01-07T06:44:14.845606Z"
    },
    "tags": []
   },
   "outputs": [
    {
     "name": "stdout",
     "output_type": "stream",
     "text": [
      "                               bitcoin    ethereum    tether  binancecoin  \\\n",
      "timestamp                                                                   \n",
      "2020-04-11 00:00:00+00:00  6864.694257  157.740158  1.001752    13.718826   \n",
      "2020-04-12 00:00:00+00:00  6878.781213  158.327878  1.001414    13.826759   \n",
      "2020-04-13 00:00:00+00:00  6913.158787  158.863826  0.996086    14.265117   \n",
      "2020-04-14 00:00:00+00:00  6857.538538  156.701359  0.998972    15.045573   \n",
      "2020-04-15 00:00:00+00:00  6860.178536  158.267151  1.000622    15.582721   \n",
      "\n",
      "                             solana  \n",
      "timestamp                            \n",
      "2020-04-11 00:00:00+00:00  0.957606  \n",
      "2020-04-12 00:00:00+00:00  0.784711  \n",
      "2020-04-13 00:00:00+00:00  0.875994  \n",
      "2020-04-14 00:00:00+00:00  0.786712  \n",
      "2020-04-15 00:00:00+00:00  0.666673  \n"
     ]
    }
   ],
   "source": [
    "print(multiple_coins_historical_data['price'].head())"
   ]
  },
  {
   "cell_type": "markdown",
   "id": "4d54b2ae-99de-45ce-a428-1f292e212be5",
   "metadata": {},
   "source": [
    "## /coins/{id}/ohlc"
   ]
  },
  {
   "cell_type": "code",
   "execution_count": 18,
   "id": "945c76da-6622-4b43-b15f-c1ccdf364a55",
   "metadata": {
    "ExecuteTime": {
     "end_time": "2024-01-07T06:44:15.148450600Z",
     "start_time": "2024-01-07T06:44:14.853418200Z"
    }
   },
   "outputs": [
    {
     "name": "stdout",
     "output_type": "stream",
     "text": [
      "                Open      High       Low     Close\n",
      "Timestamp                                         \n",
      "2013-04-30    135.30    141.96    135.30    135.30\n",
      "2013-05-03    117.00    117.00     91.01     91.01\n",
      "2013-05-07    111.25    118.33    106.40    106.40\n",
      "2013-05-11    112.64    118.78    112.64    113.01\n",
      "2013-05-15    114.71    117.18    114.16    114.16\n",
      "...              ...       ...       ...       ...\n",
      "2023-12-31  43418.00  43418.00  42075.00  42221.00\n",
      "2024-01-03  42208.00  44995.00  42208.00  44995.00\n",
      "2024-01-07  42822.00  44196.00  42822.00  43956.00\n",
      "2024-01-11  43884.00  46936.00  43884.00  46632.00\n",
      "2024-01-15  46314.00  46314.00  46314.00  46314.00\n",
      "\n",
      "[1021 rows x 4 columns]\n"
     ]
    }
   ],
   "source": [
    "coin_ohlc = api.coin_ohlc_data(coin_id)\n",
    "print(coin_ohlc)"
   ]
  },
  {
   "cell_type": "code",
   "execution_count": 19,
   "id": "af1e38b8-0377-4ffd-a800-77825a9bdd57",
   "metadata": {
    "ExecuteTime": {
     "end_time": "2024-01-07T06:44:16.765026400Z",
     "start_time": "2024-01-07T06:44:15.129429300Z"
    },
    "tags": []
   },
   "outputs": [
    {
     "name": "stdout",
     "output_type": "stream",
     "text": [
      "Available Keys: ['Close', 'High', 'Low', 'Open']\n"
     ]
    }
   ],
   "source": [
    "coins_ohlc = api.multiple_coins_ohlc_data(coin_ids)\n",
    "print('Available Keys: {}'.format(sorted(coins_ohlc.keys())))"
   ]
  },
  {
   "cell_type": "code",
   "execution_count": 20,
   "id": "38bb30ba-5997-492a-ba77-03424f94da31",
   "metadata": {
    "ExecuteTime": {
     "end_time": "2024-01-07T06:44:16.766027200Z",
     "start_time": "2024-01-07T06:44:16.745918200Z"
    },
    "tags": []
   },
   "outputs": [
    {
     "name": "stdout",
     "output_type": "stream",
     "text": [
      "             bitcoin  ethereum    tether  binancecoin      solana\n",
      "Timestamp                                                        \n",
      "2020-04-11   6864.69    157.74  1.002000        13.72    0.957606\n",
      "2020-04-15   6860.18    158.27  1.001000        15.58    0.666673\n",
      "2020-04-19   7242.51    187.14  0.999861        16.55    0.676972\n",
      "2020-04-23   7110.00    182.28  1.000000        15.69    0.684887\n",
      "2020-04-27   7683.87    197.23  1.001000        16.37    0.639863\n",
      "...              ...       ...       ...          ...         ...\n",
      "2023-12-31  42221.00   2294.34  1.000000       317.47  101.990000\n",
      "2024-01-03  44995.00   2360.78  1.002000       312.13  106.660000\n",
      "2024-01-07  43956.00   2241.51  1.001000       307.58   93.680000\n",
      "2024-01-11  46632.00   2588.77  1.000000       305.37  102.410000\n",
      "2024-01-15  46314.00   2618.33  0.998780       308.29   99.990000\n",
      "\n",
      "[359 rows x 5 columns]\n"
     ]
    }
   ],
   "source": [
    "print(coins_ohlc['Close'].dropna())"
   ]
  },
  {
   "cell_type": "code",
   "execution_count": 21,
   "id": "07812be9-48a8-4469-b117-1ffd1c673898",
   "metadata": {
    "ExecuteTime": {
     "end_time": "2024-01-07T06:44:16.781043Z",
     "start_time": "2024-01-07T06:44:16.753332100Z"
    },
    "tags": []
   },
   "outputs": [
    {
     "data": {
      "text/plain": [
       "'Session closed successfully.'"
      ]
     },
     "execution_count": 21,
     "metadata": {},
     "output_type": "execute_result"
    }
   ],
   "source": [
    "api.end_session()"
   ]
  },
  {
   "cell_type": "code",
   "execution_count": null,
   "id": "9db5835469489aab",
   "metadata": {
    "ExecuteTime": {
     "end_time": "2024-01-07T06:44:16.781043Z",
     "start_time": "2024-01-07T06:44:16.763517900Z"
    },
    "collapsed": false,
    "jupyter": {
     "outputs_hidden": false
    }
   },
   "outputs": [],
   "source": []
  }
 ],
 "metadata": {
  "kernelspec": {
   "display_name": "Python 3 (ipykernel)",
   "language": "python",
   "name": "python3"
  },
  "language_info": {
   "codemirror_mode": {
    "name": "ipython",
    "version": 3
   },
   "file_extension": ".py",
   "mimetype": "text/x-python",
   "name": "python",
   "nbconvert_exporter": "python",
   "pygments_lexer": "ipython3",
   "version": "3.11.3"
  }
 },
 "nbformat": 4,
 "nbformat_minor": 5
}
