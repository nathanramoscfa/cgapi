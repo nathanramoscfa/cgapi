{
 "cells": [
  {
   "cell_type": "markdown",
   "id": "c155abac-911f-4dfe-a1aa-c14534f360b3",
   "metadata": {},
   "source": [
    "# coins"
   ]
  },
  {
   "cell_type": "code",
   "execution_count": 1,
   "id": "c405bdab-79f0-400f-b1d7-4dfb64d3e02c",
   "metadata": {
    "tags": [],
    "ExecuteTime": {
     "end_time": "2024-01-07T06:44:02.751309300Z",
     "start_time": "2024-01-07T06:44:02.739847Z"
    }
   },
   "outputs": [],
   "source": [
    "import sys\n",
    "sys.path.append('..')  # This adds the parent directory to the Python path"
   ]
  },
  {
   "cell_type": "code",
   "execution_count": 2,
   "id": "af047fcc-1a38-41e1-a1ca-00e07867e109",
   "metadata": {
    "ExecuteTime": {
     "end_time": "2024-01-07T06:44:03.379572100Z",
     "start_time": "2024-01-07T06:44:02.744793200Z"
    }
   },
   "outputs": [],
   "source": [
    "import keyring\n",
    "from pycgapi import CoinGeckoAPI"
   ]
  },
  {
   "cell_type": "code",
   "execution_count": 3,
   "id": "183a92e4-2c5d-4a9f-bfde-3d3cf46d41ca",
   "metadata": {
    "tags": [],
    "ExecuteTime": {
     "end_time": "2024-01-07T06:44:05.578362100Z",
     "start_time": "2024-01-07T06:44:03.380571300Z"
    }
   },
   "outputs": [],
   "source": [
    "api_key = keyring.get_password('coingecko', 'analyst_api_key')"
   ]
  },
  {
   "cell_type": "code",
   "execution_count": 4,
   "id": "7fbbf057-9b1d-4d2b-92e4-1915dc8f80ff",
   "metadata": {
    "tags": [],
    "ExecuteTime": {
     "end_time": "2024-01-07T06:44:06.151256600Z",
     "start_time": "2024-01-07T06:44:05.579362400Z"
    }
   },
   "outputs": [
    {
     "name": "stdout",
     "output_type": "stream",
     "text": [
      "API Server Status: {'gecko_says': '(V3) To the Moon!'}\n"
     ]
    }
   ],
   "source": [
    "api = CoinGeckoAPI(api_key, pro_api=True)\n",
    "status = api.status_check()\n",
    "print(\"API Server Status:\", status)"
   ]
  },
  {
   "cell_type": "code",
   "execution_count": 5,
   "id": "29b3e24a-10d3-488f-bf45-a3385db06bdb",
   "metadata": {
    "ExecuteTime": {
     "end_time": "2024-01-07T06:44:06.152256Z",
     "start_time": "2024-01-07T06:44:06.145741800Z"
    }
   },
   "outputs": [],
   "source": [
    "coin_id = 'bitcoin'"
   ]
  },
  {
   "cell_type": "code",
   "execution_count": 6,
   "id": "c680c9f4-bccc-494f-9567-831c5cb0f2a5",
   "metadata": {
    "ExecuteTime": {
     "end_time": "2024-01-07T06:44:06.163199100Z",
     "start_time": "2024-01-07T06:44:06.150257200Z"
    }
   },
   "outputs": [],
   "source": [
    "coin_ids = ['bitcoin', 'ethereum', 'tether', 'binancecoin', 'solana']"
   ]
  },
  {
   "cell_type": "markdown",
   "id": "dba6daa6-344d-431d-8f97-ed37d4eaae0e",
   "metadata": {},
   "source": [
    "## /coins/list"
   ]
  },
  {
   "cell_type": "code",
   "execution_count": 7,
   "id": "5033d735-9279-44b2-adff-be3c4444e788",
   "metadata": {
    "ExecuteTime": {
     "end_time": "2024-01-07T06:44:09.328642200Z",
     "start_time": "2024-01-07T06:44:06.164199700Z"
    }
   },
   "outputs": [
    {
     "data": {
      "text/plain": "                    symbol                 name\nid                                             \n01coin                 zoc               01coin\n0chain                 zcn                  Zus\n0-knowledge-network    0kn  0 Knowledge Network\n0-mee                  ome                O-MEE\n0vix-protocol          vix        0VIX Protocol",
      "text/html": "<div>\n<style scoped>\n    .dataframe tbody tr th:only-of-type {\n        vertical-align: middle;\n    }\n\n    .dataframe tbody tr th {\n        vertical-align: top;\n    }\n\n    .dataframe thead th {\n        text-align: right;\n    }\n</style>\n<table border=\"1\" class=\"dataframe\">\n  <thead>\n    <tr style=\"text-align: right;\">\n      <th></th>\n      <th>symbol</th>\n      <th>name</th>\n    </tr>\n    <tr>\n      <th>id</th>\n      <th></th>\n      <th></th>\n    </tr>\n  </thead>\n  <tbody>\n    <tr>\n      <th>01coin</th>\n      <td>zoc</td>\n      <td>01coin</td>\n    </tr>\n    <tr>\n      <th>0chain</th>\n      <td>zcn</td>\n      <td>Zus</td>\n    </tr>\n    <tr>\n      <th>0-knowledge-network</th>\n      <td>0kn</td>\n      <td>0 Knowledge Network</td>\n    </tr>\n    <tr>\n      <th>0-mee</th>\n      <td>ome</td>\n      <td>O-MEE</td>\n    </tr>\n    <tr>\n      <th>0vix-protocol</th>\n      <td>vix</td>\n      <td>0VIX Protocol</td>\n    </tr>\n  </tbody>\n</table>\n</div>"
     },
     "execution_count": 7,
     "metadata": {},
     "output_type": "execute_result"
    }
   ],
   "source": [
    "coins_list = api.coins_list()\n",
    "coins_list.head()"
   ]
  },
  {
   "cell_type": "markdown",
   "id": "d8ec4dd9-21ce-4d82-bad4-09f4940e6006",
   "metadata": {},
   "source": [
    "## /coins/markets"
   ]
  },
  {
   "cell_type": "code",
   "execution_count": 8,
   "id": "255c76ca-0752-48b6-8ce5-17c863916241",
   "metadata": {
    "ExecuteTime": {
     "end_time": "2024-01-07T06:44:09.441747600Z",
     "start_time": "2024-01-07T06:44:09.321143Z"
    }
   },
   "outputs": [
    {
     "name": "stdout",
     "output_type": "stream",
     "text": [
      "Available Fields: ['ath', 'ath_change_percentage', 'ath_date', 'atl', 'atl_change_percentage', 'atl_date', 'circulating_supply', 'current_price', 'fully_diluted_valuation', 'high_24h', 'image', 'last_updated', 'low_24h', 'market_cap', 'market_cap_change_24h', 'market_cap_change_percentage_24h', 'market_cap_rank', 'max_supply', 'name', 'price_change_24h', 'price_change_percentage_24h', 'roi', 'symbol', 'total_supply', 'total_volume']\n"
     ]
    },
    {
     "data": {
      "text/plain": "            symbol      name  \\\nid                             \nbitcoin        btc   Bitcoin   \nethereum       eth  Ethereum   \ntether        usdt    Tether   \nbinancecoin    bnb       BNB   \nsolana         sol    Solana   \n\n                                                         image  current_price  \\\nid                                                                              \nbitcoin      https://assets.coingecko.com/coins/images/1/la...      43998.000   \nethereum     https://assets.coingecko.com/coins/images/279/...       2247.160   \ntether       https://assets.coingecko.com/coins/images/325/...          1.001   \nbinancecoin  https://assets.coingecko.com/coins/images/825/...        308.150   \nsolana       https://assets.coingecko.com/coins/images/4128...         94.470   \n\n               market_cap  market_cap_rank  fully_diluted_valuation  \\\nid                                                                    \nbitcoin      861836754986                1             9.237742e+11   \nethereum     270073761707                2             2.700738e+11   \ntether        93589320738                3             9.358932e+10   \nbinancecoin   47444752973                4             4.744475e+10   \nsolana        40874216805                5             5.363005e+10   \n\n             total_volume   high_24h       low_24h  ...  total_supply  \\\nid                                                  ...                 \nbitcoin        7583154197  44249.000  43479.000000  ...  2.100000e+07   \nethereum       6404319288   2254.780   2218.690000  ...  1.201850e+08   \ntether        25776708390      1.002      0.998967  ...  9.355588e+10   \nbinancecoin     717464036    309.010    301.250000  ...  1.538562e+08   \nsolana         2238063507     96.930     92.230000  ...  5.665556e+08   \n\n              max_supply       ath  ath_change_percentage  \\\nid                                                          \nbitcoin       21000000.0  69045.00              -36.28881   \nethereum             NaN   4878.26              -53.92789   \ntether               NaN      1.32              -24.39264   \nbinancecoin  200000000.0    686.31              -55.06284   \nsolana               NaN    259.96              -63.61178   \n\n                             ath_date        atl  atl_change_percentage  \\\nid                                                                        \nbitcoin      2021-11-10T14:24:11.849Z  67.810000            64772.28389   \nethereum     2021-11-10T14:24:19.604Z   0.432979           518982.51022   \ntether       2018-07-24T00:00:00.000Z   0.572521               74.72852   \nbinancecoin  2021-05-10T07:24:17.097Z   0.039818           774446.76386   \nsolana       2021-11-06T21:54:35.825Z   0.500801            18788.63924   \n\n                             atl_date  \\\nid                                      \nbitcoin      2013-07-06T00:00:00.000Z   \nethereum     2015-10-20T00:00:00.000Z   \ntether       2015-03-02T00:00:00.000Z   \nbinancecoin  2017-10-19T00:00:00.000Z   \nsolana       2020-05-11T19:35:23.449Z   \n\n                                                           roi  \\\nid                                                               \nbitcoin                                                   None   \nethereum     {'times': 67.29157234015788, 'currency': 'btc'...   \ntether                                                    None   \nbinancecoin                                               None   \nsolana                                                    None   \n\n                         last_updated  \nid                                     \nbitcoin      2024-01-07T06:43:52.000Z  \nethereum     2024-01-07T06:43:40.000Z  \ntether       2024-01-07T06:40:27.000Z  \nbinancecoin  2024-01-07T06:43:34.000Z  \nsolana       2024-01-07T06:43:51.000Z  \n\n[5 rows x 25 columns]",
      "text/html": "<div>\n<style scoped>\n    .dataframe tbody tr th:only-of-type {\n        vertical-align: middle;\n    }\n\n    .dataframe tbody tr th {\n        vertical-align: top;\n    }\n\n    .dataframe thead th {\n        text-align: right;\n    }\n</style>\n<table border=\"1\" class=\"dataframe\">\n  <thead>\n    <tr style=\"text-align: right;\">\n      <th></th>\n      <th>symbol</th>\n      <th>name</th>\n      <th>image</th>\n      <th>current_price</th>\n      <th>market_cap</th>\n      <th>market_cap_rank</th>\n      <th>fully_diluted_valuation</th>\n      <th>total_volume</th>\n      <th>high_24h</th>\n      <th>low_24h</th>\n      <th>...</th>\n      <th>total_supply</th>\n      <th>max_supply</th>\n      <th>ath</th>\n      <th>ath_change_percentage</th>\n      <th>ath_date</th>\n      <th>atl</th>\n      <th>atl_change_percentage</th>\n      <th>atl_date</th>\n      <th>roi</th>\n      <th>last_updated</th>\n    </tr>\n    <tr>\n      <th>id</th>\n      <th></th>\n      <th></th>\n      <th></th>\n      <th></th>\n      <th></th>\n      <th></th>\n      <th></th>\n      <th></th>\n      <th></th>\n      <th></th>\n      <th></th>\n      <th></th>\n      <th></th>\n      <th></th>\n      <th></th>\n      <th></th>\n      <th></th>\n      <th></th>\n      <th></th>\n      <th></th>\n      <th></th>\n    </tr>\n  </thead>\n  <tbody>\n    <tr>\n      <th>bitcoin</th>\n      <td>btc</td>\n      <td>Bitcoin</td>\n      <td>https://assets.coingecko.com/coins/images/1/la...</td>\n      <td>43998.000</td>\n      <td>861836754986</td>\n      <td>1</td>\n      <td>9.237742e+11</td>\n      <td>7583154197</td>\n      <td>44249.000</td>\n      <td>43479.000000</td>\n      <td>...</td>\n      <td>2.100000e+07</td>\n      <td>21000000.0</td>\n      <td>69045.00</td>\n      <td>-36.28881</td>\n      <td>2021-11-10T14:24:11.849Z</td>\n      <td>67.810000</td>\n      <td>64772.28389</td>\n      <td>2013-07-06T00:00:00.000Z</td>\n      <td>None</td>\n      <td>2024-01-07T06:43:52.000Z</td>\n    </tr>\n    <tr>\n      <th>ethereum</th>\n      <td>eth</td>\n      <td>Ethereum</td>\n      <td>https://assets.coingecko.com/coins/images/279/...</td>\n      <td>2247.160</td>\n      <td>270073761707</td>\n      <td>2</td>\n      <td>2.700738e+11</td>\n      <td>6404319288</td>\n      <td>2254.780</td>\n      <td>2218.690000</td>\n      <td>...</td>\n      <td>1.201850e+08</td>\n      <td>NaN</td>\n      <td>4878.26</td>\n      <td>-53.92789</td>\n      <td>2021-11-10T14:24:19.604Z</td>\n      <td>0.432979</td>\n      <td>518982.51022</td>\n      <td>2015-10-20T00:00:00.000Z</td>\n      <td>{'times': 67.29157234015788, 'currency': 'btc'...</td>\n      <td>2024-01-07T06:43:40.000Z</td>\n    </tr>\n    <tr>\n      <th>tether</th>\n      <td>usdt</td>\n      <td>Tether</td>\n      <td>https://assets.coingecko.com/coins/images/325/...</td>\n      <td>1.001</td>\n      <td>93589320738</td>\n      <td>3</td>\n      <td>9.358932e+10</td>\n      <td>25776708390</td>\n      <td>1.002</td>\n      <td>0.998967</td>\n      <td>...</td>\n      <td>9.355588e+10</td>\n      <td>NaN</td>\n      <td>1.32</td>\n      <td>-24.39264</td>\n      <td>2018-07-24T00:00:00.000Z</td>\n      <td>0.572521</td>\n      <td>74.72852</td>\n      <td>2015-03-02T00:00:00.000Z</td>\n      <td>None</td>\n      <td>2024-01-07T06:40:27.000Z</td>\n    </tr>\n    <tr>\n      <th>binancecoin</th>\n      <td>bnb</td>\n      <td>BNB</td>\n      <td>https://assets.coingecko.com/coins/images/825/...</td>\n      <td>308.150</td>\n      <td>47444752973</td>\n      <td>4</td>\n      <td>4.744475e+10</td>\n      <td>717464036</td>\n      <td>309.010</td>\n      <td>301.250000</td>\n      <td>...</td>\n      <td>1.538562e+08</td>\n      <td>200000000.0</td>\n      <td>686.31</td>\n      <td>-55.06284</td>\n      <td>2021-05-10T07:24:17.097Z</td>\n      <td>0.039818</td>\n      <td>774446.76386</td>\n      <td>2017-10-19T00:00:00.000Z</td>\n      <td>None</td>\n      <td>2024-01-07T06:43:34.000Z</td>\n    </tr>\n    <tr>\n      <th>solana</th>\n      <td>sol</td>\n      <td>Solana</td>\n      <td>https://assets.coingecko.com/coins/images/4128...</td>\n      <td>94.470</td>\n      <td>40874216805</td>\n      <td>5</td>\n      <td>5.363005e+10</td>\n      <td>2238063507</td>\n      <td>96.930</td>\n      <td>92.230000</td>\n      <td>...</td>\n      <td>5.665556e+08</td>\n      <td>NaN</td>\n      <td>259.96</td>\n      <td>-63.61178</td>\n      <td>2021-11-06T21:54:35.825Z</td>\n      <td>0.500801</td>\n      <td>18788.63924</td>\n      <td>2020-05-11T19:35:23.449Z</td>\n      <td>None</td>\n      <td>2024-01-07T06:43:51.000Z</td>\n    </tr>\n  </tbody>\n</table>\n<p>5 rows × 25 columns</p>\n</div>"
     },
     "execution_count": 8,
     "metadata": {},
     "output_type": "execute_result"
    }
   ],
   "source": [
    "coin_markets_data = api.coins_market_data()\n",
    "print('Available Fields: {}'.format(sorted(coin_markets_data.columns)))\n",
    "coin_markets_data.head()"
   ]
  },
  {
   "cell_type": "code",
   "execution_count": 9,
   "id": "630975bf-c020-42a6-913a-54a603c8a004",
   "metadata": {
    "tags": [],
    "ExecuteTime": {
     "end_time": "2024-01-07T06:44:09.503270400Z",
     "start_time": "2024-01-07T06:44:09.427189800Z"
    }
   },
   "outputs": [
    {
     "name": "stdout",
     "output_type": "stream",
     "text": [
      "            symbol      name  current_price    market_cap  total_volume\n",
      "id                                                                     \n",
      "bitcoin        btc   Bitcoin      43998.000  861836754986    7583154197\n",
      "ethereum       eth  Ethereum       2247.160  270073761707    6404319288\n",
      "tether        usdt    Tether          1.001   93589320738   25776708390\n",
      "binancecoin    bnb       BNB        308.150   47444752973     717464036\n",
      "solana         sol    Solana         94.470   40874216805    2238063507\n"
     ]
    }
   ],
   "source": [
    "print(api.coins_market_data()[['symbol', 'name', 'current_price', 'market_cap', 'total_volume']].head())"
   ]
  },
  {
   "cell_type": "code",
   "execution_count": 10,
   "id": "c873babc-0f3e-4d30-833a-4d3c2aec1c5a",
   "metadata": {
    "ExecuteTime": {
     "end_time": "2024-01-07T06:44:09.825693800Z",
     "start_time": "2024-01-07T06:44:09.453696Z"
    }
   },
   "outputs": [
    {
     "data": {
      "text/plain": "  symbol      name                                              image  \\\n0    btc   Bitcoin  https://assets.coingecko.com/coins/images/1/la...   \n1    eth  Ethereum  https://assets.coingecko.com/coins/images/279/...   \n2   usdt    Tether  https://assets.coingecko.com/coins/images/325/...   \n3    bnb       BNB  https://assets.coingecko.com/coins/images/825/...   \n4    sol    Solana  https://assets.coingecko.com/coins/images/4128...   \n\n   current_price    market_cap  market_cap_rank  fully_diluted_valuation  \\\n0      43998.000  861836754986                1             9.237742e+11   \n1       2247.160  270073761707                2             2.700738e+11   \n2          1.001   93589320738                3             9.358932e+10   \n3        308.150   47444752973                4             4.744475e+10   \n4         94.470   40874216805                5             5.363005e+10   \n\n   total_volume   high_24h       low_24h  ...  total_supply   max_supply  \\\n0  7.583154e+09  44249.000  43479.000000  ...  2.100000e+07   21000000.0   \n1  6.404319e+09   2254.780   2218.690000  ...  1.201850e+08          NaN   \n2  2.577671e+10      1.002      0.998967  ...  9.355588e+10          NaN   \n3  7.174640e+08    309.010    301.250000  ...  1.538562e+08  200000000.0   \n4  2.238064e+09     96.930     92.230000  ...  5.665556e+08          NaN   \n\n        ath  ath_change_percentage                  ath_date        atl  \\\n0  69045.00              -36.28881  2021-11-10T14:24:11.849Z  67.810000   \n1   4878.26              -53.92789  2021-11-10T14:24:19.604Z   0.432979   \n2      1.32              -24.39264  2018-07-24T00:00:00.000Z   0.572521   \n3    686.31              -55.06284  2021-05-10T07:24:17.097Z   0.039818   \n4    259.96              -63.61178  2021-11-06T21:54:35.825Z   0.500801   \n\n   atl_change_percentage                  atl_date  \\\n0            64772.28389  2013-07-06T00:00:00.000Z   \n1           518982.51022  2015-10-20T00:00:00.000Z   \n2               74.72852  2015-03-02T00:00:00.000Z   \n3           774446.76386  2017-10-19T00:00:00.000Z   \n4            18788.63924  2020-05-11T19:35:23.449Z   \n\n                                                 roi              last_updated  \n0                                               None  2024-01-07T06:43:52.000Z  \n1  {'times': 67.29157234015788, 'currency': 'btc'...  2024-01-07T06:43:40.000Z  \n2                                               None  2024-01-07T06:40:27.000Z  \n3                                               None  2024-01-07T06:43:34.000Z  \n4                                               None  2024-01-07T06:43:51.000Z  \n\n[5 rows x 25 columns]",
      "text/html": "<div>\n<style scoped>\n    .dataframe tbody tr th:only-of-type {\n        vertical-align: middle;\n    }\n\n    .dataframe tbody tr th {\n        vertical-align: top;\n    }\n\n    .dataframe thead th {\n        text-align: right;\n    }\n</style>\n<table border=\"1\" class=\"dataframe\">\n  <thead>\n    <tr style=\"text-align: right;\">\n      <th></th>\n      <th>symbol</th>\n      <th>name</th>\n      <th>image</th>\n      <th>current_price</th>\n      <th>market_cap</th>\n      <th>market_cap_rank</th>\n      <th>fully_diluted_valuation</th>\n      <th>total_volume</th>\n      <th>high_24h</th>\n      <th>low_24h</th>\n      <th>...</th>\n      <th>total_supply</th>\n      <th>max_supply</th>\n      <th>ath</th>\n      <th>ath_change_percentage</th>\n      <th>ath_date</th>\n      <th>atl</th>\n      <th>atl_change_percentage</th>\n      <th>atl_date</th>\n      <th>roi</th>\n      <th>last_updated</th>\n    </tr>\n  </thead>\n  <tbody>\n    <tr>\n      <th>0</th>\n      <td>btc</td>\n      <td>Bitcoin</td>\n      <td>https://assets.coingecko.com/coins/images/1/la...</td>\n      <td>43998.000</td>\n      <td>861836754986</td>\n      <td>1</td>\n      <td>9.237742e+11</td>\n      <td>7.583154e+09</td>\n      <td>44249.000</td>\n      <td>43479.000000</td>\n      <td>...</td>\n      <td>2.100000e+07</td>\n      <td>21000000.0</td>\n      <td>69045.00</td>\n      <td>-36.28881</td>\n      <td>2021-11-10T14:24:11.849Z</td>\n      <td>67.810000</td>\n      <td>64772.28389</td>\n      <td>2013-07-06T00:00:00.000Z</td>\n      <td>None</td>\n      <td>2024-01-07T06:43:52.000Z</td>\n    </tr>\n    <tr>\n      <th>1</th>\n      <td>eth</td>\n      <td>Ethereum</td>\n      <td>https://assets.coingecko.com/coins/images/279/...</td>\n      <td>2247.160</td>\n      <td>270073761707</td>\n      <td>2</td>\n      <td>2.700738e+11</td>\n      <td>6.404319e+09</td>\n      <td>2254.780</td>\n      <td>2218.690000</td>\n      <td>...</td>\n      <td>1.201850e+08</td>\n      <td>NaN</td>\n      <td>4878.26</td>\n      <td>-53.92789</td>\n      <td>2021-11-10T14:24:19.604Z</td>\n      <td>0.432979</td>\n      <td>518982.51022</td>\n      <td>2015-10-20T00:00:00.000Z</td>\n      <td>{'times': 67.29157234015788, 'currency': 'btc'...</td>\n      <td>2024-01-07T06:43:40.000Z</td>\n    </tr>\n    <tr>\n      <th>2</th>\n      <td>usdt</td>\n      <td>Tether</td>\n      <td>https://assets.coingecko.com/coins/images/325/...</td>\n      <td>1.001</td>\n      <td>93589320738</td>\n      <td>3</td>\n      <td>9.358932e+10</td>\n      <td>2.577671e+10</td>\n      <td>1.002</td>\n      <td>0.998967</td>\n      <td>...</td>\n      <td>9.355588e+10</td>\n      <td>NaN</td>\n      <td>1.32</td>\n      <td>-24.39264</td>\n      <td>2018-07-24T00:00:00.000Z</td>\n      <td>0.572521</td>\n      <td>74.72852</td>\n      <td>2015-03-02T00:00:00.000Z</td>\n      <td>None</td>\n      <td>2024-01-07T06:40:27.000Z</td>\n    </tr>\n    <tr>\n      <th>3</th>\n      <td>bnb</td>\n      <td>BNB</td>\n      <td>https://assets.coingecko.com/coins/images/825/...</td>\n      <td>308.150</td>\n      <td>47444752973</td>\n      <td>4</td>\n      <td>4.744475e+10</td>\n      <td>7.174640e+08</td>\n      <td>309.010</td>\n      <td>301.250000</td>\n      <td>...</td>\n      <td>1.538562e+08</td>\n      <td>200000000.0</td>\n      <td>686.31</td>\n      <td>-55.06284</td>\n      <td>2021-05-10T07:24:17.097Z</td>\n      <td>0.039818</td>\n      <td>774446.76386</td>\n      <td>2017-10-19T00:00:00.000Z</td>\n      <td>None</td>\n      <td>2024-01-07T06:43:34.000Z</td>\n    </tr>\n    <tr>\n      <th>4</th>\n      <td>sol</td>\n      <td>Solana</td>\n      <td>https://assets.coingecko.com/coins/images/4128...</td>\n      <td>94.470</td>\n      <td>40874216805</td>\n      <td>5</td>\n      <td>5.363005e+10</td>\n      <td>2.238064e+09</td>\n      <td>96.930</td>\n      <td>92.230000</td>\n      <td>...</td>\n      <td>5.665556e+08</td>\n      <td>NaN</td>\n      <td>259.96</td>\n      <td>-63.61178</td>\n      <td>2021-11-06T21:54:35.825Z</td>\n      <td>0.500801</td>\n      <td>18788.63924</td>\n      <td>2020-05-11T19:35:23.449Z</td>\n      <td>None</td>\n      <td>2024-01-07T06:43:51.000Z</td>\n    </tr>\n  </tbody>\n</table>\n<p>5 rows × 25 columns</p>\n</div>"
     },
     "execution_count": 10,
     "metadata": {},
     "output_type": "execute_result"
    }
   ],
   "source": [
    "top_coins_markets = api.top_coins_market_data(top_n=250)\n",
    "top_coins_markets.head()"
   ]
  },
  {
   "cell_type": "markdown",
   "id": "f1d02576-a55c-4752-8169-d1c293b4a4ae",
   "metadata": {},
   "source": [
    "## /coins/{id}"
   ]
  },
  {
   "cell_type": "code",
   "execution_count": 11,
   "id": "92024e74-3350-40f2-a8a9-ae68458b31b2",
   "metadata": {
    "ExecuteTime": {
     "end_time": "2024-01-07T06:44:09.955658Z",
     "start_time": "2024-01-07T06:44:09.807749600Z"
    }
   },
   "outputs": [
    {
     "name": "stdout",
     "output_type": "stream",
     "text": [
      "Available Keys: ['additional_notices', 'asset_platform_id', 'block_time_in_minutes', 'categories', 'community_data', 'country_origin', 'description', 'detail_platforms', 'developer_data', 'genesis_date', 'hashing_algorithm', 'id', 'image', 'last_updated', 'links', 'localization', 'market_cap_rank', 'market_data', 'name', 'platforms', 'preview_listing', 'public_notice', 'sentiment_votes_down_percentage', 'sentiment_votes_up_percentage', 'status_updates', 'symbol', 'tickers', 'watchlist_portfolio_users', 'web_slug']\n"
     ]
    }
   ],
   "source": [
    "coin_data_dict = api.coin_info(coin_id)\n",
    "print('Available Keys: {}'.format(sorted(coin_data_dict.keys())))"
   ]
  },
  {
   "cell_type": "markdown",
   "id": "2b50d187-87b8-4e4e-aaf2-149b7c11a3e2",
   "metadata": {},
   "source": [
    "## /coins/{id}/tickers"
   ]
  },
  {
   "cell_type": "code",
   "execution_count": 12,
   "id": "1da9171b-4a5a-4ed4-8af1-7effe128cbae",
   "metadata": {
    "ExecuteTime": {
     "end_time": "2024-01-07T06:44:10.388230300Z",
     "start_time": "2024-01-07T06:44:09.948657900Z"
    }
   },
   "outputs": [
    {
     "data": {
      "text/plain": "  base target                                             market       last  \\\n0  BTC   USDT  {'name': 'OrangeX', 'identifier': 'orangex', '...  43985.044   \n1  BTC   USDT  {'name': 'Binance', 'identifier': 'binance', '...  43981.240   \n2  BTC   USDT  {'name': 'Hotcoin Global', 'identifier': 'hotc...  43968.600   \n3  BTC    USD  {'name': 'Kraken', 'identifier': 'kraken', 'ha...  44004.100   \n4  BTC   USDT  {'name': 'MEXC', 'identifier': 'mxc', 'has_tra...  43984.440   \n\n         volume                                     converted_last  \\\n0   6093.728000  {'btc': 1.000331, 'eth': 19.581501, 'usd': 44010}   \n1  16954.382930   {'btc': 1.000467, 'eth': 19.58702, 'usd': 44014}   \n2   4950.220700  {'btc': 0.99995702, 'eth': 19.57418, 'usd': 43...   \n3    994.478474  {'btc': 1.000248, 'eth': 19.582745, 'usd': 44004}   \n4   7741.431457   {'btc': 1.00054, 'eth': 19.588445, 'usd': 44017}   \n\n                                  converted_volume trust_score  \\\n0   {'btc': 6080, 'eth': 119011, 'usd': 267480573}       green   \n1  {'btc': 16911, 'eth': 331084, 'usd': 743974048}       green   \n2    {'btc': 4950, 'eth': 96897, 'usd': 217777091}       green   \n3  {'btc': 994.726, 'eth': 19475, 'usd': 43761130}       green   \n4   {'btc': 7746, 'eth': 151643, 'usd': 340753886}       green   \n\n   bid_ask_spread_percentage                  timestamp  \\\n0                   0.010348  2024-01-07T06:41:16+00:00   \n1                   0.010023  2024-01-07T06:44:02+00:00   \n2                   0.015707  2024-01-07T06:41:55+00:00   \n3                   0.010227  2024-01-07T06:43:14+00:00   \n4                   0.010023  2024-01-07T06:44:07+00:00   \n\n              last_traded_at              last_fetch_at  is_anomaly  is_stale  \\\n0  2024-01-07T06:41:16+00:00  2024-01-07T06:41:16+00:00       False     False   \n1  2024-01-07T06:44:02+00:00  2024-01-07T06:44:02+00:00       False     False   \n2  2024-01-07T06:41:55+00:00  2024-01-07T06:41:55+00:00       False     False   \n3  2024-01-07T06:43:14+00:00  2024-01-07T06:44:02+00:00       False     False   \n4  2024-01-07T06:44:07+00:00  2024-01-07T06:44:07+00:00       False     False   \n\n                                           trade_url token_info_url  coin_id  \\\n0         https://www.orangex.com/spot/BTC-USDT-SPOT           None  bitcoin   \n1  https://www.binance.com/en/trade/BTC_USDT?ref=...           None  bitcoin   \n2  https://www.hotcoin.com/currencyExchange/btc_usdt           None  bitcoin   \n3           https://pro.kraken.com/app/trade/BTC-USD           None  bitcoin   \n4             https://www.mexc.com/exchange/BTC_USDT           None  bitcoin   \n\n  target_coin_id  \n0         tether  \n1         tether  \n2         tether  \n3            NaN  \n4         tether  ",
      "text/html": "<div>\n<style scoped>\n    .dataframe tbody tr th:only-of-type {\n        vertical-align: middle;\n    }\n\n    .dataframe tbody tr th {\n        vertical-align: top;\n    }\n\n    .dataframe thead th {\n        text-align: right;\n    }\n</style>\n<table border=\"1\" class=\"dataframe\">\n  <thead>\n    <tr style=\"text-align: right;\">\n      <th></th>\n      <th>base</th>\n      <th>target</th>\n      <th>market</th>\n      <th>last</th>\n      <th>volume</th>\n      <th>converted_last</th>\n      <th>converted_volume</th>\n      <th>trust_score</th>\n      <th>bid_ask_spread_percentage</th>\n      <th>timestamp</th>\n      <th>last_traded_at</th>\n      <th>last_fetch_at</th>\n      <th>is_anomaly</th>\n      <th>is_stale</th>\n      <th>trade_url</th>\n      <th>token_info_url</th>\n      <th>coin_id</th>\n      <th>target_coin_id</th>\n    </tr>\n  </thead>\n  <tbody>\n    <tr>\n      <th>0</th>\n      <td>BTC</td>\n      <td>USDT</td>\n      <td>{'name': 'OrangeX', 'identifier': 'orangex', '...</td>\n      <td>43985.044</td>\n      <td>6093.728000</td>\n      <td>{'btc': 1.000331, 'eth': 19.581501, 'usd': 44010}</td>\n      <td>{'btc': 6080, 'eth': 119011, 'usd': 267480573}</td>\n      <td>green</td>\n      <td>0.010348</td>\n      <td>2024-01-07T06:41:16+00:00</td>\n      <td>2024-01-07T06:41:16+00:00</td>\n      <td>2024-01-07T06:41:16+00:00</td>\n      <td>False</td>\n      <td>False</td>\n      <td>https://www.orangex.com/spot/BTC-USDT-SPOT</td>\n      <td>None</td>\n      <td>bitcoin</td>\n      <td>tether</td>\n    </tr>\n    <tr>\n      <th>1</th>\n      <td>BTC</td>\n      <td>USDT</td>\n      <td>{'name': 'Binance', 'identifier': 'binance', '...</td>\n      <td>43981.240</td>\n      <td>16954.382930</td>\n      <td>{'btc': 1.000467, 'eth': 19.58702, 'usd': 44014}</td>\n      <td>{'btc': 16911, 'eth': 331084, 'usd': 743974048}</td>\n      <td>green</td>\n      <td>0.010023</td>\n      <td>2024-01-07T06:44:02+00:00</td>\n      <td>2024-01-07T06:44:02+00:00</td>\n      <td>2024-01-07T06:44:02+00:00</td>\n      <td>False</td>\n      <td>False</td>\n      <td>https://www.binance.com/en/trade/BTC_USDT?ref=...</td>\n      <td>None</td>\n      <td>bitcoin</td>\n      <td>tether</td>\n    </tr>\n    <tr>\n      <th>2</th>\n      <td>BTC</td>\n      <td>USDT</td>\n      <td>{'name': 'Hotcoin Global', 'identifier': 'hotc...</td>\n      <td>43968.600</td>\n      <td>4950.220700</td>\n      <td>{'btc': 0.99995702, 'eth': 19.57418, 'usd': 43...</td>\n      <td>{'btc': 4950, 'eth': 96897, 'usd': 217777091}</td>\n      <td>green</td>\n      <td>0.015707</td>\n      <td>2024-01-07T06:41:55+00:00</td>\n      <td>2024-01-07T06:41:55+00:00</td>\n      <td>2024-01-07T06:41:55+00:00</td>\n      <td>False</td>\n      <td>False</td>\n      <td>https://www.hotcoin.com/currencyExchange/btc_usdt</td>\n      <td>None</td>\n      <td>bitcoin</td>\n      <td>tether</td>\n    </tr>\n    <tr>\n      <th>3</th>\n      <td>BTC</td>\n      <td>USD</td>\n      <td>{'name': 'Kraken', 'identifier': 'kraken', 'ha...</td>\n      <td>44004.100</td>\n      <td>994.478474</td>\n      <td>{'btc': 1.000248, 'eth': 19.582745, 'usd': 44004}</td>\n      <td>{'btc': 994.726, 'eth': 19475, 'usd': 43761130}</td>\n      <td>green</td>\n      <td>0.010227</td>\n      <td>2024-01-07T06:43:14+00:00</td>\n      <td>2024-01-07T06:43:14+00:00</td>\n      <td>2024-01-07T06:44:02+00:00</td>\n      <td>False</td>\n      <td>False</td>\n      <td>https://pro.kraken.com/app/trade/BTC-USD</td>\n      <td>None</td>\n      <td>bitcoin</td>\n      <td>NaN</td>\n    </tr>\n    <tr>\n      <th>4</th>\n      <td>BTC</td>\n      <td>USDT</td>\n      <td>{'name': 'MEXC', 'identifier': 'mxc', 'has_tra...</td>\n      <td>43984.440</td>\n      <td>7741.431457</td>\n      <td>{'btc': 1.00054, 'eth': 19.588445, 'usd': 44017}</td>\n      <td>{'btc': 7746, 'eth': 151643, 'usd': 340753886}</td>\n      <td>green</td>\n      <td>0.010023</td>\n      <td>2024-01-07T06:44:07+00:00</td>\n      <td>2024-01-07T06:44:07+00:00</td>\n      <td>2024-01-07T06:44:07+00:00</td>\n      <td>False</td>\n      <td>False</td>\n      <td>https://www.mexc.com/exchange/BTC_USDT</td>\n      <td>None</td>\n      <td>bitcoin</td>\n      <td>tether</td>\n    </tr>\n  </tbody>\n</table>\n</div>"
     },
     "execution_count": 12,
     "metadata": {},
     "output_type": "execute_result"
    }
   ],
   "source": [
    "coin_tickers = api.coin_market_tickers(coin_id)\n",
    "coin_tickers.head()"
   ]
  },
  {
   "cell_type": "markdown",
   "id": "6748bd42-fddd-4f53-85ae-5de4a417a11e",
   "metadata": {},
   "source": [
    "## /coins/{id}/history"
   ]
  },
  {
   "cell_type": "code",
   "execution_count": 13,
   "id": "4409a046-3949-4414-aa5c-a15f0196b36b",
   "metadata": {
    "ExecuteTime": {
     "end_time": "2024-01-07T06:44:11.489230700Z",
     "start_time": "2024-01-07T06:44:10.369604200Z"
    }
   },
   "outputs": [
    {
     "name": "stdout",
     "output_type": "stream",
     "text": [
      "Available Keys: ['community_data', 'developer_data', 'id', 'image', 'localization', 'market_data', 'name', 'public_interest_stats', 'symbol']\n"
     ]
    }
   ],
   "source": [
    "coin_history_on_date_dict = api.coin_historical_on_date(coin_id, date='12-31-2022')\n",
    "print('Available Keys: {}'.format(sorted(coin_history_on_date_dict.keys())))"
   ]
  },
  {
   "cell_type": "markdown",
   "id": "3747205a-1dd6-4aaa-9adb-08b1a7895807",
   "metadata": {},
   "source": [
    "## /coins/{id}/market_chart"
   ]
  },
  {
   "cell_type": "code",
   "execution_count": 14,
   "id": "394f2be2-6ca7-41ca-ac49-6f1248076456",
   "metadata": {
    "ExecuteTime": {
     "end_time": "2024-01-07T06:44:11.831899600Z",
     "start_time": "2024-01-07T06:44:11.469982600Z"
    }
   },
   "outputs": [
    {
     "data": {
      "text/plain": "                                  price    market_cap  total_volume\ntimestamp                                                          \n2013-04-28 00:00:00+00:00    135.300000  1.500518e+09  0.000000e+00\n2013-04-29 00:00:00+00:00    141.960000  1.575032e+09  0.000000e+00\n2013-04-30 00:00:00+00:00    135.300000  1.501657e+09  0.000000e+00\n2013-05-01 00:00:00+00:00    117.000000  1.298952e+09  0.000000e+00\n2013-05-02 00:00:00+00:00    103.430000  1.148668e+09  0.000000e+00\n...                                 ...           ...           ...\n2024-01-04 00:00:00+00:00  42821.558989  8.382084e+11  4.314616e+10\n2024-01-05 00:00:00+00:00  44195.578562  8.663530e+11  2.612389e+10\n2024-01-06 00:00:00+00:00  44113.699734  8.636909e+11  2.936468e+10\n2024-01-07 00:00:00+00:00  43956.120717  8.612112e+11  1.184110e+10\n2024-01-07 06:44:04+00:00  43995.829095  8.618368e+11  7.284683e+09\n\n[3906 rows x 3 columns]",
      "text/html": "<div>\n<style scoped>\n    .dataframe tbody tr th:only-of-type {\n        vertical-align: middle;\n    }\n\n    .dataframe tbody tr th {\n        vertical-align: top;\n    }\n\n    .dataframe thead th {\n        text-align: right;\n    }\n</style>\n<table border=\"1\" class=\"dataframe\">\n  <thead>\n    <tr style=\"text-align: right;\">\n      <th></th>\n      <th>price</th>\n      <th>market_cap</th>\n      <th>total_volume</th>\n    </tr>\n    <tr>\n      <th>timestamp</th>\n      <th></th>\n      <th></th>\n      <th></th>\n    </tr>\n  </thead>\n  <tbody>\n    <tr>\n      <th>2013-04-28 00:00:00+00:00</th>\n      <td>135.300000</td>\n      <td>1.500518e+09</td>\n      <td>0.000000e+00</td>\n    </tr>\n    <tr>\n      <th>2013-04-29 00:00:00+00:00</th>\n      <td>141.960000</td>\n      <td>1.575032e+09</td>\n      <td>0.000000e+00</td>\n    </tr>\n    <tr>\n      <th>2013-04-30 00:00:00+00:00</th>\n      <td>135.300000</td>\n      <td>1.501657e+09</td>\n      <td>0.000000e+00</td>\n    </tr>\n    <tr>\n      <th>2013-05-01 00:00:00+00:00</th>\n      <td>117.000000</td>\n      <td>1.298952e+09</td>\n      <td>0.000000e+00</td>\n    </tr>\n    <tr>\n      <th>2013-05-02 00:00:00+00:00</th>\n      <td>103.430000</td>\n      <td>1.148668e+09</td>\n      <td>0.000000e+00</td>\n    </tr>\n    <tr>\n      <th>...</th>\n      <td>...</td>\n      <td>...</td>\n      <td>...</td>\n    </tr>\n    <tr>\n      <th>2024-01-04 00:00:00+00:00</th>\n      <td>42821.558989</td>\n      <td>8.382084e+11</td>\n      <td>4.314616e+10</td>\n    </tr>\n    <tr>\n      <th>2024-01-05 00:00:00+00:00</th>\n      <td>44195.578562</td>\n      <td>8.663530e+11</td>\n      <td>2.612389e+10</td>\n    </tr>\n    <tr>\n      <th>2024-01-06 00:00:00+00:00</th>\n      <td>44113.699734</td>\n      <td>8.636909e+11</td>\n      <td>2.936468e+10</td>\n    </tr>\n    <tr>\n      <th>2024-01-07 00:00:00+00:00</th>\n      <td>43956.120717</td>\n      <td>8.612112e+11</td>\n      <td>1.184110e+10</td>\n    </tr>\n    <tr>\n      <th>2024-01-07 06:44:04+00:00</th>\n      <td>43995.829095</td>\n      <td>8.618368e+11</td>\n      <td>7.284683e+09</td>\n    </tr>\n  </tbody>\n</table>\n<p>3906 rows × 3 columns</p>\n</div>"
     },
     "execution_count": 14,
     "metadata": {},
     "output_type": "execute_result"
    }
   ],
   "source": [
    "coin_historical_data = api.coin_historical_market_data(coin_id)\n",
    "coin_historical_data"
   ]
  },
  {
   "cell_type": "markdown",
   "id": "3285999a-0aa2-414c-a484-ae3f8e28b6d4",
   "metadata": {},
   "source": [
    "## /coins/{id}/market_chart/range"
   ]
  },
  {
   "cell_type": "code",
   "execution_count": 15,
   "id": "2b7e73d4-3aa3-49fa-bc1d-7763f52533a1",
   "metadata": {
    "ExecuteTime": {
     "end_time": "2024-01-07T06:44:11.976263100Z",
     "start_time": "2024-01-07T06:44:11.816870Z"
    }
   },
   "outputs": [
    {
     "data": {
      "text/plain": "                                  price    market_cap  total_volume\ntimestamp                                                          \n2023-01-01 00:00:00+00:00  16540.693625  3.182783e+11  1.201325e+10\n2023-01-02 00:00:00+00:00  16615.969318  3.198320e+11  9.799253e+09\n2023-01-03 00:00:00+00:00  16674.342536  3.214865e+11  1.302386e+10\n2023-01-04 00:00:00+00:00  16677.646186  3.210808e+11  1.536717e+10\n2023-01-05 00:00:00+00:00  16855.174739  3.243976e+11  2.083656e+10\n...                                 ...           ...           ...\n2023-12-27 00:00:00+00:00  42516.426940  8.324716e+11  2.047774e+10\n2023-12-28 00:00:00+00:00  43418.467775  8.491942e+11  2.324475e+10\n2023-12-29 00:00:00+00:00  42600.650633  8.360735e+11  2.033657e+10\n2023-12-30 00:00:00+00:00  42074.707156  8.229340e+11  2.483240e+10\n2023-12-31 00:00:00+00:00  42220.611401  8.266092e+11  1.472722e+10\n\n[365 rows x 3 columns]",
      "text/html": "<div>\n<style scoped>\n    .dataframe tbody tr th:only-of-type {\n        vertical-align: middle;\n    }\n\n    .dataframe tbody tr th {\n        vertical-align: top;\n    }\n\n    .dataframe thead th {\n        text-align: right;\n    }\n</style>\n<table border=\"1\" class=\"dataframe\">\n  <thead>\n    <tr style=\"text-align: right;\">\n      <th></th>\n      <th>price</th>\n      <th>market_cap</th>\n      <th>total_volume</th>\n    </tr>\n    <tr>\n      <th>timestamp</th>\n      <th></th>\n      <th></th>\n      <th></th>\n    </tr>\n  </thead>\n  <tbody>\n    <tr>\n      <th>2023-01-01 00:00:00+00:00</th>\n      <td>16540.693625</td>\n      <td>3.182783e+11</td>\n      <td>1.201325e+10</td>\n    </tr>\n    <tr>\n      <th>2023-01-02 00:00:00+00:00</th>\n      <td>16615.969318</td>\n      <td>3.198320e+11</td>\n      <td>9.799253e+09</td>\n    </tr>\n    <tr>\n      <th>2023-01-03 00:00:00+00:00</th>\n      <td>16674.342536</td>\n      <td>3.214865e+11</td>\n      <td>1.302386e+10</td>\n    </tr>\n    <tr>\n      <th>2023-01-04 00:00:00+00:00</th>\n      <td>16677.646186</td>\n      <td>3.210808e+11</td>\n      <td>1.536717e+10</td>\n    </tr>\n    <tr>\n      <th>2023-01-05 00:00:00+00:00</th>\n      <td>16855.174739</td>\n      <td>3.243976e+11</td>\n      <td>2.083656e+10</td>\n    </tr>\n    <tr>\n      <th>...</th>\n      <td>...</td>\n      <td>...</td>\n      <td>...</td>\n    </tr>\n    <tr>\n      <th>2023-12-27 00:00:00+00:00</th>\n      <td>42516.426940</td>\n      <td>8.324716e+11</td>\n      <td>2.047774e+10</td>\n    </tr>\n    <tr>\n      <th>2023-12-28 00:00:00+00:00</th>\n      <td>43418.467775</td>\n      <td>8.491942e+11</td>\n      <td>2.324475e+10</td>\n    </tr>\n    <tr>\n      <th>2023-12-29 00:00:00+00:00</th>\n      <td>42600.650633</td>\n      <td>8.360735e+11</td>\n      <td>2.033657e+10</td>\n    </tr>\n    <tr>\n      <th>2023-12-30 00:00:00+00:00</th>\n      <td>42074.707156</td>\n      <td>8.229340e+11</td>\n      <td>2.483240e+10</td>\n    </tr>\n    <tr>\n      <th>2023-12-31 00:00:00+00:00</th>\n      <td>42220.611401</td>\n      <td>8.266092e+11</td>\n      <td>1.472722e+10</td>\n    </tr>\n  </tbody>\n</table>\n<p>365 rows × 3 columns</p>\n</div>"
     },
     "execution_count": 15,
     "metadata": {},
     "output_type": "execute_result"
    }
   ],
   "source": [
    "coin_historical_data_between_dates = api.coin_historical_market_data(coin_id, from_date='12-31-2022', to_date='12-31-2023')\n",
    "coin_historical_data_between_dates"
   ]
  },
  {
   "cell_type": "code",
   "execution_count": 16,
   "id": "9dea349f-de5b-4878-80ab-f6e0e434fa5e",
   "metadata": {
    "ExecuteTime": {
     "end_time": "2024-01-07T06:44:14.857927500Z",
     "start_time": "2024-01-07T06:44:11.955487400Z"
    }
   },
   "outputs": [
    {
     "name": "stderr",
     "output_type": "stream",
     "text": [
      "100%|██████████| 5/5 [00:02<00:00,  1.75it/s]"
     ]
    },
    {
     "name": "stdout",
     "output_type": "stream",
     "text": [
      "Available Keys: ['market_cap', 'price', 'total_volume']\n"
     ]
    },
    {
     "name": "stderr",
     "output_type": "stream",
     "text": [
      "\n"
     ]
    }
   ],
   "source": [
    "multiple_coins_historical_data = api.multiple_coins_historical_data(coin_ids)\n",
    "print('Available Keys: {}'.format(sorted(multiple_coins_historical_data.keys())))"
   ]
  },
  {
   "cell_type": "code",
   "execution_count": 17,
   "id": "1610dc9d-d013-4419-ac88-80254fe416a1",
   "metadata": {
    "tags": [],
    "ExecuteTime": {
     "end_time": "2024-01-07T06:44:14.857927500Z",
     "start_time": "2024-01-07T06:44:14.845606Z"
    }
   },
   "outputs": [
    {
     "data": {
      "text/plain": "                               bitcoin    ethereum    tether  binancecoin  \\\ntimestamp                                                                   \n2020-04-11 00:00:00+00:00  6864.694257  157.740158  1.001752    13.718826   \n2020-04-12 00:00:00+00:00  6878.781213  158.327878  1.001414    13.826759   \n2020-04-13 00:00:00+00:00  6913.158787  158.863826  0.996086    14.265117   \n2020-04-14 00:00:00+00:00  6857.538538  156.701359  0.998972    15.045573   \n2020-04-15 00:00:00+00:00  6860.178536  158.267151  1.000622    15.582721   \n\n                             solana  \ntimestamp                            \n2020-04-11 00:00:00+00:00  0.957606  \n2020-04-12 00:00:00+00:00  0.784711  \n2020-04-13 00:00:00+00:00  0.875994  \n2020-04-14 00:00:00+00:00  0.786712  \n2020-04-15 00:00:00+00:00  0.666673  ",
      "text/html": "<div>\n<style scoped>\n    .dataframe tbody tr th:only-of-type {\n        vertical-align: middle;\n    }\n\n    .dataframe tbody tr th {\n        vertical-align: top;\n    }\n\n    .dataframe thead th {\n        text-align: right;\n    }\n</style>\n<table border=\"1\" class=\"dataframe\">\n  <thead>\n    <tr style=\"text-align: right;\">\n      <th></th>\n      <th>bitcoin</th>\n      <th>ethereum</th>\n      <th>tether</th>\n      <th>binancecoin</th>\n      <th>solana</th>\n    </tr>\n    <tr>\n      <th>timestamp</th>\n      <th></th>\n      <th></th>\n      <th></th>\n      <th></th>\n      <th></th>\n    </tr>\n  </thead>\n  <tbody>\n    <tr>\n      <th>2020-04-11 00:00:00+00:00</th>\n      <td>6864.694257</td>\n      <td>157.740158</td>\n      <td>1.001752</td>\n      <td>13.718826</td>\n      <td>0.957606</td>\n    </tr>\n    <tr>\n      <th>2020-04-12 00:00:00+00:00</th>\n      <td>6878.781213</td>\n      <td>158.327878</td>\n      <td>1.001414</td>\n      <td>13.826759</td>\n      <td>0.784711</td>\n    </tr>\n    <tr>\n      <th>2020-04-13 00:00:00+00:00</th>\n      <td>6913.158787</td>\n      <td>158.863826</td>\n      <td>0.996086</td>\n      <td>14.265117</td>\n      <td>0.875994</td>\n    </tr>\n    <tr>\n      <th>2020-04-14 00:00:00+00:00</th>\n      <td>6857.538538</td>\n      <td>156.701359</td>\n      <td>0.998972</td>\n      <td>15.045573</td>\n      <td>0.786712</td>\n    </tr>\n    <tr>\n      <th>2020-04-15 00:00:00+00:00</th>\n      <td>6860.178536</td>\n      <td>158.267151</td>\n      <td>1.000622</td>\n      <td>15.582721</td>\n      <td>0.666673</td>\n    </tr>\n  </tbody>\n</table>\n</div>"
     },
     "execution_count": 17,
     "metadata": {},
     "output_type": "execute_result"
    }
   ],
   "source": [
    "multiple_coins_historical_data['price'].head()"
   ]
  },
  {
   "cell_type": "markdown",
   "id": "4d54b2ae-99de-45ce-a428-1f292e212be5",
   "metadata": {},
   "source": [
    "## /coins/{id}/ohlc"
   ]
  },
  {
   "cell_type": "code",
   "execution_count": 18,
   "id": "945c76da-6622-4b43-b15f-c1ccdf364a55",
   "metadata": {
    "ExecuteTime": {
     "end_time": "2024-01-07T06:44:15.148450600Z",
     "start_time": "2024-01-07T06:44:14.853418200Z"
    }
   },
   "outputs": [
    {
     "data": {
      "text/plain": "                Open      High       Low     Close\nTimestamp                                         \n2013-04-30    135.30    141.96    135.30    135.30\n2013-05-03    117.00    117.00     91.01     91.01\n2013-05-07    111.25    118.33    106.40    106.40\n2013-05-11    112.64    118.78    112.64    113.01\n2013-05-15    114.71    117.18    114.16    114.16\n...              ...       ...       ...       ...\n2023-12-23  42250.00  44004.00  42250.00  44004.00\n2023-12-27  43752.00  43752.00  42516.00  42516.00\n2023-12-31  43418.00  43418.00  42075.00  42221.00\n2024-01-03  42208.00  44995.00  42208.00  44995.00\n2024-01-07  42822.00  44196.00  42822.00  43956.00\n\n[1019 rows x 4 columns]",
      "text/html": "<div>\n<style scoped>\n    .dataframe tbody tr th:only-of-type {\n        vertical-align: middle;\n    }\n\n    .dataframe tbody tr th {\n        vertical-align: top;\n    }\n\n    .dataframe thead th {\n        text-align: right;\n    }\n</style>\n<table border=\"1\" class=\"dataframe\">\n  <thead>\n    <tr style=\"text-align: right;\">\n      <th></th>\n      <th>Open</th>\n      <th>High</th>\n      <th>Low</th>\n      <th>Close</th>\n    </tr>\n    <tr>\n      <th>Timestamp</th>\n      <th></th>\n      <th></th>\n      <th></th>\n      <th></th>\n    </tr>\n  </thead>\n  <tbody>\n    <tr>\n      <th>2013-04-30</th>\n      <td>135.30</td>\n      <td>141.96</td>\n      <td>135.30</td>\n      <td>135.30</td>\n    </tr>\n    <tr>\n      <th>2013-05-03</th>\n      <td>117.00</td>\n      <td>117.00</td>\n      <td>91.01</td>\n      <td>91.01</td>\n    </tr>\n    <tr>\n      <th>2013-05-07</th>\n      <td>111.25</td>\n      <td>118.33</td>\n      <td>106.40</td>\n      <td>106.40</td>\n    </tr>\n    <tr>\n      <th>2013-05-11</th>\n      <td>112.64</td>\n      <td>118.78</td>\n      <td>112.64</td>\n      <td>113.01</td>\n    </tr>\n    <tr>\n      <th>2013-05-15</th>\n      <td>114.71</td>\n      <td>117.18</td>\n      <td>114.16</td>\n      <td>114.16</td>\n    </tr>\n    <tr>\n      <th>...</th>\n      <td>...</td>\n      <td>...</td>\n      <td>...</td>\n      <td>...</td>\n    </tr>\n    <tr>\n      <th>2023-12-23</th>\n      <td>42250.00</td>\n      <td>44004.00</td>\n      <td>42250.00</td>\n      <td>44004.00</td>\n    </tr>\n    <tr>\n      <th>2023-12-27</th>\n      <td>43752.00</td>\n      <td>43752.00</td>\n      <td>42516.00</td>\n      <td>42516.00</td>\n    </tr>\n    <tr>\n      <th>2023-12-31</th>\n      <td>43418.00</td>\n      <td>43418.00</td>\n      <td>42075.00</td>\n      <td>42221.00</td>\n    </tr>\n    <tr>\n      <th>2024-01-03</th>\n      <td>42208.00</td>\n      <td>44995.00</td>\n      <td>42208.00</td>\n      <td>44995.00</td>\n    </tr>\n    <tr>\n      <th>2024-01-07</th>\n      <td>42822.00</td>\n      <td>44196.00</td>\n      <td>42822.00</td>\n      <td>43956.00</td>\n    </tr>\n  </tbody>\n</table>\n<p>1019 rows × 4 columns</p>\n</div>"
     },
     "execution_count": 18,
     "metadata": {},
     "output_type": "execute_result"
    }
   ],
   "source": [
    "coin_ohlc = api.coin_ohlc_data(coin_id)\n",
    "coin_ohlc"
   ]
  },
  {
   "cell_type": "code",
   "execution_count": 19,
   "id": "af1e38b8-0377-4ffd-a800-77825a9bdd57",
   "metadata": {
    "tags": [],
    "ExecuteTime": {
     "end_time": "2024-01-07T06:44:16.765026400Z",
     "start_time": "2024-01-07T06:44:15.129429300Z"
    }
   },
   "outputs": [
    {
     "name": "stdout",
     "output_type": "stream",
     "text": [
      "Available Keys: ['Close', 'High', 'Low', 'Open']\n"
     ]
    }
   ],
   "source": [
    "coins_ohlc = api.multiple_coins_ohlc_data(coin_ids)\n",
    "print('Available Keys: {}'.format(sorted(coins_ohlc.keys())))"
   ]
  },
  {
   "cell_type": "code",
   "execution_count": 20,
   "id": "38bb30ba-5997-492a-ba77-03424f94da31",
   "metadata": {
    "tags": [],
    "ExecuteTime": {
     "end_time": "2024-01-07T06:44:16.766027200Z",
     "start_time": "2024-01-07T06:44:16.745918200Z"
    }
   },
   "outputs": [
    {
     "data": {
      "text/plain": "             bitcoin  ethereum  tether  binancecoin  solana\nTimestamp                                                  \n2013-04-30    135.30       NaN     NaN          NaN     NaN\n2013-05-03     91.01       NaN     NaN          NaN     NaN\n2013-05-07    106.40       NaN     NaN          NaN     NaN\n2013-05-11    113.01       NaN     NaN          NaN     NaN\n2013-05-15    114.16       NaN     NaN          NaN     NaN\n...              ...       ...     ...          ...     ...\n2023-12-23  44004.00   2327.05   1.001       271.43   98.08\n2023-12-27  42516.00   2230.88   1.000       297.15  112.33\n2023-12-31  42221.00   2294.34   1.000       317.47  101.99\n2024-01-03  44995.00   2360.78   1.002       312.13  106.66\n2024-01-07  43956.00   2241.51   1.001       307.58   93.68\n\n[1019 rows x 5 columns]",
      "text/html": "<div>\n<style scoped>\n    .dataframe tbody tr th:only-of-type {\n        vertical-align: middle;\n    }\n\n    .dataframe tbody tr th {\n        vertical-align: top;\n    }\n\n    .dataframe thead th {\n        text-align: right;\n    }\n</style>\n<table border=\"1\" class=\"dataframe\">\n  <thead>\n    <tr style=\"text-align: right;\">\n      <th></th>\n      <th>bitcoin</th>\n      <th>ethereum</th>\n      <th>tether</th>\n      <th>binancecoin</th>\n      <th>solana</th>\n    </tr>\n    <tr>\n      <th>Timestamp</th>\n      <th></th>\n      <th></th>\n      <th></th>\n      <th></th>\n      <th></th>\n    </tr>\n  </thead>\n  <tbody>\n    <tr>\n      <th>2013-04-30</th>\n      <td>135.30</td>\n      <td>NaN</td>\n      <td>NaN</td>\n      <td>NaN</td>\n      <td>NaN</td>\n    </tr>\n    <tr>\n      <th>2013-05-03</th>\n      <td>91.01</td>\n      <td>NaN</td>\n      <td>NaN</td>\n      <td>NaN</td>\n      <td>NaN</td>\n    </tr>\n    <tr>\n      <th>2013-05-07</th>\n      <td>106.40</td>\n      <td>NaN</td>\n      <td>NaN</td>\n      <td>NaN</td>\n      <td>NaN</td>\n    </tr>\n    <tr>\n      <th>2013-05-11</th>\n      <td>113.01</td>\n      <td>NaN</td>\n      <td>NaN</td>\n      <td>NaN</td>\n      <td>NaN</td>\n    </tr>\n    <tr>\n      <th>2013-05-15</th>\n      <td>114.16</td>\n      <td>NaN</td>\n      <td>NaN</td>\n      <td>NaN</td>\n      <td>NaN</td>\n    </tr>\n    <tr>\n      <th>...</th>\n      <td>...</td>\n      <td>...</td>\n      <td>...</td>\n      <td>...</td>\n      <td>...</td>\n    </tr>\n    <tr>\n      <th>2023-12-23</th>\n      <td>44004.00</td>\n      <td>2327.05</td>\n      <td>1.001</td>\n      <td>271.43</td>\n      <td>98.08</td>\n    </tr>\n    <tr>\n      <th>2023-12-27</th>\n      <td>42516.00</td>\n      <td>2230.88</td>\n      <td>1.000</td>\n      <td>297.15</td>\n      <td>112.33</td>\n    </tr>\n    <tr>\n      <th>2023-12-31</th>\n      <td>42221.00</td>\n      <td>2294.34</td>\n      <td>1.000</td>\n      <td>317.47</td>\n      <td>101.99</td>\n    </tr>\n    <tr>\n      <th>2024-01-03</th>\n      <td>44995.00</td>\n      <td>2360.78</td>\n      <td>1.002</td>\n      <td>312.13</td>\n      <td>106.66</td>\n    </tr>\n    <tr>\n      <th>2024-01-07</th>\n      <td>43956.00</td>\n      <td>2241.51</td>\n      <td>1.001</td>\n      <td>307.58</td>\n      <td>93.68</td>\n    </tr>\n  </tbody>\n</table>\n<p>1019 rows × 5 columns</p>\n</div>"
     },
     "execution_count": 20,
     "metadata": {},
     "output_type": "execute_result"
    }
   ],
   "source": [
    "coins_ohlc['Close']"
   ]
  },
  {
   "cell_type": "code",
   "execution_count": 21,
   "id": "07812be9-48a8-4469-b117-1ffd1c673898",
   "metadata": {
    "tags": [],
    "ExecuteTime": {
     "end_time": "2024-01-07T06:44:16.781043Z",
     "start_time": "2024-01-07T06:44:16.753332100Z"
    }
   },
   "outputs": [
    {
     "data": {
      "text/plain": "'Session closed successfully.'"
     },
     "execution_count": 21,
     "metadata": {},
     "output_type": "execute_result"
    }
   ],
   "source": [
    "api.end_session()"
   ]
  },
  {
   "cell_type": "code",
   "execution_count": 21,
   "id": "9db5835469489aab",
   "metadata": {
    "collapsed": false,
    "ExecuteTime": {
     "end_time": "2024-01-07T06:44:16.781043Z",
     "start_time": "2024-01-07T06:44:16.763517900Z"
    }
   },
   "outputs": [],
   "source": []
  }
 ],
 "metadata": {
  "kernelspec": {
   "display_name": "Python 3 (ipykernel)",
   "language": "python",
   "name": "python3"
  },
  "language_info": {
   "codemirror_mode": {
    "name": "ipython",
    "version": 3
   },
   "file_extension": ".py",
   "mimetype": "text/x-python",
   "name": "python",
   "nbconvert_exporter": "python",
   "pygments_lexer": "ipython3",
   "version": "3.11.3"
  }
 },
 "nbformat": 4,
 "nbformat_minor": 5
}
