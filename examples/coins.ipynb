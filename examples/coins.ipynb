{
 "cells": [
  {
   "cell_type": "markdown",
   "id": "b259dabe-8cb8-433f-9acd-7a647d723099",
   "metadata": {},
   "source": [
    "# Coins"
   ]
  },
  {
   "cell_type": "code",
   "execution_count": 1,
   "id": "190937ed-5a7a-46b7-b5d2-a936778bf724",
   "metadata": {},
   "outputs": [],
   "source": [
    "import sys\n",
    "from datetime import datetime, timedelta\n",
    "\n",
    "import keyring\n",
    "\n",
    "sys.path.append('../')\n",
    "\n",
    "from pycgapi import CoinGeckoAPI"
   ]
  },
  {
   "cell_type": "code",
   "execution_count": 2,
   "id": "3b84a7d4-b440-48d9-a41c-92545a751c3d",
   "metadata": {},
   "outputs": [],
   "source": [
    "# Fetch the API key securely using keyring\n",
    "api_key = keyring.get_password('coingecko', 'analyst_api_key')"
   ]
  },
  {
   "cell_type": "code",
   "execution_count": 3,
   "id": "44763e61-bc5c-43cc-87c5-4191a1d2c4c4",
   "metadata": {},
   "outputs": [],
   "source": [
    "# Initialize the Coins class\n",
    "cg = CoinGeckoAPI(api_key=api_key, pro_api=True)"
   ]
  },
  {
   "cell_type": "markdown",
   "id": "86d8051b-af8e-4f85-9035-3a0c1ecfbe7a",
   "metadata": {},
   "source": [
    "## /coins/list\n",
    "https://docs.coingecko.com/reference/coins-list"
   ]
  },
  {
   "cell_type": "code",
   "execution_count": 4,
   "id": "aa9dc734-486c-420c-aa64-be7282d254b9",
   "metadata": {},
   "outputs": [
    {
     "name": "stdout",
     "output_type": "stream",
     "text": [
      "                    symbol                 name\n",
      "id                                             \n",
      "01coin                 zoc               01coin\n",
      "0chain                 zcn                  Zus\n",
      "0-knowledge-network    0kn  0 Knowledge Network\n",
      "0-mee                  ome                O-MEE\n",
      "0vix-protocol          vix        0VIX Protocol\n"
     ]
    }
   ],
   "source": [
    "# Get a list of all coins\n",
    "coins_list = cg.coins.market_data.coins_list()\n",
    "print(coins_list.head())"
   ]
  },
  {
   "cell_type": "markdown",
   "id": "0e57c178-c27d-40ce-b9db-ed676915d2b8",
   "metadata": {},
   "source": [
    "## /coins/markets\n",
    "https://docs.coingecko.com/reference/coins-markets"
   ]
  },
  {
   "cell_type": "code",
   "execution_count": 5,
   "id": "28184c6f-2ea8-4da0-ac79-09b1a738d99c",
   "metadata": {},
   "outputs": [
    {
     "name": "stdout",
     "output_type": "stream",
     "text": [
      "            symbol      name  current_price     market_cap  total_volume\n",
      "id                                                                      \n",
      "bitcoin        btc   Bitcoin   64629.000000  1275324310216  3.837195e+10\n",
      "ethereum       eth  Ethereum    3401.260000   416448927684  2.045745e+10\n",
      "tether        usdt    Tether       0.999088   112461773545  5.805223e+10\n",
      "binancecoin    bnb       BNB     579.800000    89314622253  1.712009e+09\n",
      "solana         sol    Solana     132.070000    61267703984  3.925077e+09\n"
     ]
    }
   ],
   "source": [
    "# Fetch market data for specific coins\n",
    "market_info = cg.coins.market_data.coins_market_data()\n",
    "print(market_info[[\n",
    "    'symbol', 'name', 'current_price', \n",
    "    'market_cap', 'total_volume'\n",
    "]].head())"
   ]
  },
  {
   "cell_type": "code",
   "execution_count": 6,
   "id": "d49b3024-ba6d-40ee-8c6e-f7ac6d210997",
   "metadata": {},
   "outputs": [
    {
     "name": "stdout",
     "output_type": "stream",
     "text": [
      "Available Fields: Index(['symbol', 'name', 'image', 'current_price', 'market_cap',\n",
      "       'market_cap_rank', 'fully_diluted_valuation', 'total_volume',\n",
      "       'high_24h', 'low_24h', 'price_change_24h',\n",
      "       'price_change_percentage_24h', 'market_cap_change_24h',\n",
      "       'market_cap_change_percentage_24h', 'circulating_supply',\n",
      "       'total_supply', 'max_supply', 'ath', 'ath_change_percentage',\n",
      "       'ath_date', 'atl', 'atl_change_percentage', 'atl_date', 'roi',\n",
      "       'last_updated'],\n",
      "      dtype='object')\n"
     ]
    }
   ],
   "source": [
    "# Fetch market data for top coins\n",
    "top_coins_market_info = cg.coins.market_data.top_coins_market_data(top_n=250)\n",
    "print('Available Fields: {}'.format(top_coins_market_info.columns))"
   ]
  },
  {
   "cell_type": "markdown",
   "id": "d2bbe314-3210-4efa-87b2-e456c66bf0d2",
   "metadata": {},
   "source": [
    "## /coins/{id}\n",
    "https://docs.coingecko.com/reference/coins-id"
   ]
  },
  {
   "cell_type": "code",
   "execution_count": 7,
   "id": "93b1f5fc-cbd5-4393-b2bb-951212017d12",
   "metadata": {},
   "outputs": [
    {
     "name": "stdout",
     "output_type": "stream",
     "text": [
      "Available Keys: ['additional_notices', 'asset_platform_id', 'block_time_in_minutes', 'categories', 'community_data', 'country_origin', 'description', 'detail_platforms', 'developer_data', 'genesis_date', 'hashing_algorithm', 'id', 'image', 'last_updated', 'links', 'localization', 'market_cap_rank', 'market_data', 'name', 'platforms', 'preview_listing', 'public_notice', 'sentiment_votes_down_percentage', 'sentiment_votes_up_percentage', 'status_updates', 'symbol', 'tickers', 'watchlist_portfolio_users', 'web_slug']\n"
     ]
    }
   ],
   "source": [
    "# Get detailed information on a specific coin\n",
    "coin_details = cg.coins.market_data.coin_info(coin_id='bitcoin')\n",
    "print('Available Keys: {}'.format(sorted(coin_details.keys())))"
   ]
  },
  {
   "cell_type": "markdown",
   "id": "83b761ae-70e8-48d5-93d8-355ce4a7721a",
   "metadata": {},
   "source": [
    "## /coins/{id}/history\n",
    "https://docs.coingecko.com/reference/coins-id-history"
   ]
  },
  {
   "cell_type": "code",
   "execution_count": 9,
   "id": "de4ba1e0-2cea-4d0e-b136-fc68cf857bbd",
   "metadata": {},
   "outputs": [
    {
     "name": "stdout",
     "output_type": "stream",
     "text": [
      "Available Keys: ['community_data', 'developer_data', 'id', 'image', 'localization', 'market_data', 'name', 'public_interest_stats', 'symbol']\n"
     ]
    }
   ],
   "source": [
    "# Get historical data on a specific date\n",
    "date = (datetime.now() - timedelta(days=30)).strftime('%d-%m-%Y')\n",
    "historical_on_date = cg.coins.historical_data.coin_historical_on_date(coin_id='bitcoin', date=date)\n",
    "print('Available Keys: {}'.format(sorted(historical_on_date.keys())))"
   ]
  },
  {
   "cell_type": "markdown",
   "id": "6070c75f-0b5d-4bfd-aa90-6ae23abc15b5",
   "metadata": {},
   "source": [
    "## /coins/{id}/market_chart\n",
    "https://docs.coingecko.com/reference/coins-id-market-chart"
   ]
  },
  {
   "cell_type": "code",
   "execution_count": 10,
   "id": "a779c7e6-07a1-4e1b-9663-b7248203eafc",
   "metadata": {},
   "outputs": [
    {
     "name": "stdout",
     "output_type": "stream",
     "text": [
      "                                  price    market_cap  total_volume\n",
      "timestamp                                                          \n",
      "2024-05-20 00:00:00+00:00  66252.712596  1.304727e+12  9.072735e+09\n",
      "2024-05-21 00:00:00+00:00  71430.297002  1.406289e+12  3.592348e+10\n",
      "2024-05-22 00:00:00+00:00  70189.835818  1.382275e+12  4.110506e+10\n",
      "2024-05-23 00:00:00+00:00  69181.200857  1.362229e+12  3.105944e+10\n",
      "2024-05-24 00:00:00+00:00  67906.465343  1.336347e+12  3.923570e+10\n"
     ]
    }
   ],
   "source": [
    "# Get historical market data\n",
    "historical_market_data = cg.coins.historical_data.coin_historical_market_data(coin_id='bitcoin')\n",
    "print(historical_market_data.head())"
   ]
  },
  {
   "cell_type": "code",
   "execution_count": 11,
   "id": "ef8c3705-8911-43b7-b939-93b09e5ac7b2",
   "metadata": {},
   "outputs": [
    {
     "name": "stderr",
     "output_type": "stream",
     "text": [
      "100%|████████████████████████████████████████████████████████████████████████████████████| 3/3 [00:00<00:00,  4.09it/s]"
     ]
    },
    {
     "name": "stdout",
     "output_type": "stream",
     "text": [
      "                                  price    market_cap  total_volume\n",
      "timestamp                                                          \n",
      "2024-05-20 00:00:00+00:00  66252.712596  1.304727e+12  9.072735e+09\n",
      "2024-05-21 00:00:00+00:00  71430.297002  1.406289e+12  3.592348e+10\n",
      "2024-05-22 00:00:00+00:00  70189.835818  1.382275e+12  4.110506e+10\n",
      "2024-05-23 00:00:00+00:00  69181.200857  1.362229e+12  3.105944e+10\n",
      "2024-05-24 00:00:00+00:00  67906.465343  1.336347e+12  3.923570e+10\n"
     ]
    },
    {
     "name": "stderr",
     "output_type": "stream",
     "text": [
      "\n"
     ]
    }
   ],
   "source": [
    "# Get historical market data on multiple coins\n",
    "multiple_coins_historical_data = cg.coins.historical_data.multiple_coins_historical_data(\n",
    "    coin_ids=['bitcoin', 'ethereum', 'solana']\n",
    ")\n",
    "print(historical_market_data.head())"
   ]
  },
  {
   "cell_type": "markdown",
   "id": "0bc26b7a-f956-47c0-ae71-db77df6a25ac",
   "metadata": {},
   "source": [
    "## /coins/{id}/tickers\n",
    "https://docs.coingecko.com/reference/coins-id-tickers"
   ]
  },
  {
   "cell_type": "code",
   "execution_count": 12,
   "id": "0471fd9d-4930-4a36-83ab-13f673220777",
   "metadata": {
    "tags": []
   },
   "outputs": [
    {
     "name": "stdout",
     "output_type": "stream",
     "text": [
      "  base target                                             market      last  \\\n",
      "0  BTC   USDT  {'name': 'Binance', 'identifier': 'binance', '...  64678.01   \n",
      "1  BTC    USD  {'name': 'Coinbase Exchange', 'identifier': 'g...  64654.29   \n",
      "2  BTC    USD  {'name': 'Kraken', 'identifier': 'kraken', 'ha...  64677.40   \n",
      "3  BTC   USDT  {'name': 'Gate.io', 'identifier': 'gate', 'has...  64697.10   \n",
      "4  BTC   USDT  {'name': 'Bybit', 'identifier': 'bybit_spot', ...  64692.12   \n",
      "\n",
      "         volume                                     converted_last  \\\n",
      "0  39888.398260  {'btc': 1.000275, 'eth': 19.009076, 'usd': 64671}   \n",
      "1  17151.913501   {'btc': 1.000018, 'eth': 19.00418, 'usd': 64654}   \n",
      "2   2298.010667  {'btc': 1.000375, 'eth': 19.010973, 'usd': 64677}   \n",
      "3  10010.431039   {'btc': 1.00057, 'eth': 19.016146, 'usd': 64675}   \n",
      "4  25433.992160  {'btc': 1.000422, 'eth': 19.013334, 'usd': 64666}   \n",
      "\n",
      "                                   converted_volume trust_score  \\\n",
      "0  {'btc': 40277, 'eth': 765425, 'usd': 2604058973}       green   \n",
      "1  {'btc': 17152, 'eth': 325958, 'usd': 1108944790}       green   \n",
      "2     {'btc': 2299, 'eth': 43687, 'usd': 148629355}       green   \n",
      "3   {'btc': 10092, 'eth': 191792, 'usd': 652300079}       green   \n",
      "4  {'btc': 25708, 'eth': 488595, 'usd': 1661746383}       green   \n",
      "\n",
      "   bid_ask_spread_percentage                  timestamp  \\\n",
      "0                   0.010015  2024-06-18T18:59:01+00:00   \n",
      "1                   0.010015  2024-06-18T18:59:01+00:00   \n",
      "2                   0.010155  2024-06-18T18:59:02+00:00   \n",
      "3                   0.010155  2024-06-18T18:59:42+00:00   \n",
      "4                   0.010015  2024-06-18T18:59:15+00:00   \n",
      "\n",
      "              last_traded_at              last_fetch_at  is_anomaly  is_stale  \\\n",
      "0  2024-06-18T18:59:01+00:00  2024-06-18T19:00:11+00:00       False     False   \n",
      "1  2024-06-18T18:59:01+00:00  2024-06-18T19:00:11+00:00       False     False   \n",
      "2  2024-06-18T18:59:02+00:00  2024-06-18T19:00:11+00:00       False     False   \n",
      "3  2024-06-18T18:59:42+00:00  2024-06-18T18:59:42+00:00       False     False   \n",
      "4  2024-06-18T18:59:15+00:00  2024-06-18T18:59:15+00:00       False     False   \n",
      "\n",
      "                                           trade_url token_info_url  coin_id  \\\n",
      "0  https://www.binance.com/en/trade/BTC_USDT?ref=...           None  bitcoin   \n",
      "1  https://www.coinbase.com/advanced-trade/spot/B...           None  bitcoin   \n",
      "2           https://pro.kraken.com/app/trade/BTC-USD           None  bitcoin   \n",
      "3                 https://www.gate.io/trade/BTC_USDT           None  bitcoin   \n",
      "4          https://www.bybit.com/trade/spot/BTC/USDT           None  bitcoin   \n",
      "\n",
      "  target_coin_id  \n",
      "0         tether  \n",
      "1            NaN  \n",
      "2            NaN  \n",
      "3         tether  \n",
      "4         tether  \n"
     ]
    }
   ],
   "source": [
    "# Get ticker information for a specific coin\n",
    "tickers = cg.coins.ticker_data.coin_market_tickers(coin_id='bitcoin')\n",
    "print(tickers.head())"
   ]
  },
  {
   "cell_type": "markdown",
   "id": "f7f6a8e2-c4f1-4d63-ac1f-7605ec0a9e8d",
   "metadata": {},
   "source": [
    "## /coins/{id}/ohlc\n",
    "https://docs.coingecko.com/reference/coins-id-ohlc"
   ]
  },
  {
   "cell_type": "code",
   "execution_count": 13,
   "id": "96de5f04-fc7f-4273-9bb8-767a9515a9b6",
   "metadata": {},
   "outputs": [
    {
     "name": "stdout",
     "output_type": "stream",
     "text": [
      "                        Open     High      Low    Close\n",
      "Timestamp                                              \n",
      "2024-05-19 20:00:00  66845.0  66978.0  66000.0  66000.0\n",
      "2024-05-20 00:00:00  66062.0  66417.0  66028.0  66253.0\n",
      "2024-05-20 04:00:00  66273.0  66786.0  66118.0  66695.0\n",
      "2024-05-20 08:00:00  66645.0  67222.0  66229.0  66854.0\n",
      "2024-05-20 12:00:00  66865.0  67324.0  66735.0  67000.0\n",
      "...                      ...      ...      ...      ...\n",
      "2024-06-18 00:00:00  66617.0  66688.0  66180.0  66460.0\n",
      "2024-06-18 04:00:00  66469.0  66529.0  64549.0  65531.0\n",
      "2024-06-18 08:00:00  65492.0  65807.0  65406.0  65668.0\n",
      "2024-06-18 12:00:00  65654.0  65750.0  65164.0  65416.0\n",
      "2024-06-18 16:00:00  65319.0  65360.0  64359.0  64794.0\n",
      "\n",
      "[180 rows x 4 columns]\n"
     ]
    }
   ],
   "source": [
    "# Fetch OHLC data for Bitcoin\n",
    "ohlc_data = cg.coins.ohlc_data.coin_ohlc_data(coin_id='bitcoin', vs_currency='usd', days=30)\n",
    "print(ohlc_data)"
   ]
  },
  {
   "cell_type": "code",
   "execution_count": 14,
   "id": "88e7a752-fdb8-4b01-b21d-bb381a02fdda",
   "metadata": {},
   "outputs": [
    {
     "name": "stdout",
     "output_type": "stream",
     "text": [
      "{'Open':                      bitcoin  ethereum\n",
      "Timestamp                             \n",
      "2024-05-19 20:00:00  66845.0   3077.55\n",
      "2024-05-20 00:00:00  66062.0   3065.14\n",
      "2024-05-20 04:00:00  66273.0   3071.86\n",
      "2024-05-20 08:00:00  66645.0   3085.83\n",
      "2024-05-20 12:00:00  66865.0   3093.69\n",
      "...                      ...       ...\n",
      "2024-06-18 00:00:00  66617.0   3548.51\n",
      "2024-06-18 04:00:00  66469.0   3509.86\n",
      "2024-06-18 08:00:00  65492.0   3438.15\n",
      "2024-06-18 12:00:00  65654.0   3444.16\n",
      "2024-06-18 16:00:00  65319.0   3411.48\n",
      "\n",
      "[180 rows x 2 columns], 'High':                      bitcoin  ethereum\n",
      "Timestamp                             \n",
      "2024-05-19 20:00:00  66978.0   3080.08\n",
      "2024-05-20 00:00:00  66417.0   3080.08\n",
      "2024-05-20 04:00:00  66786.0   3095.31\n",
      "2024-05-20 08:00:00  67222.0   3135.10\n",
      "2024-05-20 12:00:00  67324.0   3110.68\n",
      "...                      ...       ...\n",
      "2024-06-18 00:00:00  66688.0   3548.51\n",
      "2024-06-18 04:00:00  66529.0   3513.25\n",
      "2024-06-18 08:00:00  65807.0   3457.47\n",
      "2024-06-18 12:00:00  65750.0   3447.86\n",
      "2024-06-18 16:00:00  65360.0   3436.67\n",
      "\n",
      "[180 rows x 2 columns], 'Low':                      bitcoin  ethereum\n",
      "Timestamp                             \n",
      "2024-05-19 20:00:00  66000.0   3061.74\n",
      "2024-05-20 00:00:00  66028.0   3057.74\n",
      "2024-05-20 04:00:00  66118.0   3053.76\n",
      "2024-05-20 08:00:00  66229.0   3068.75\n",
      "2024-05-20 12:00:00  66735.0   3093.69\n",
      "...                      ...       ...\n",
      "2024-06-18 00:00:00  66180.0   3504.84\n",
      "2024-06-18 04:00:00  64549.0   3384.82\n",
      "2024-06-18 08:00:00  65406.0   3433.51\n",
      "2024-06-18 12:00:00  65164.0   3398.79\n",
      "2024-06-18 16:00:00  64359.0   3377.40\n",
      "\n",
      "[180 rows x 2 columns], 'Close':                      bitcoin  ethereum\n",
      "Timestamp                             \n",
      "2024-05-19 20:00:00  66000.0   3062.36\n",
      "2024-05-20 00:00:00  66253.0   3071.32\n",
      "2024-05-20 04:00:00  66695.0   3087.56\n",
      "2024-05-20 08:00:00  66854.0   3092.51\n",
      "2024-05-20 12:00:00  67000.0   3094.08\n",
      "...                      ...       ...\n",
      "2024-06-18 00:00:00  66460.0   3510.36\n",
      "2024-06-18 04:00:00  65531.0   3437.69\n",
      "2024-06-18 08:00:00  65668.0   3445.24\n",
      "2024-06-18 12:00:00  65416.0   3417.21\n",
      "2024-06-18 16:00:00  64794.0   3418.59\n",
      "\n",
      "[180 rows x 2 columns]}\n"
     ]
    }
   ],
   "source": [
    "# Fetch OHLC data for multiple coins\n",
    "multi_ohlc_data = cg.coins.ohlc_data.multiple_coins_ohlc_data(\n",
    "    coin_ids=['bitcoin', 'ethereum'], \n",
    "    vs_currency='usd', \n",
    "    days=30\n",
    ")\n",
    "print(multi_ohlc_data)"
   ]
  },
  {
   "cell_type": "markdown",
   "id": "378134b2-f7f5-414e-b8b2-b168526f136d",
   "metadata": {},
   "source": [
    "## coins/list/new\n",
    "https://docs.coingecko.com/reference/coins-list-new"
   ]
  },
  {
   "cell_type": "code",
   "execution_count": 15,
   "id": "66f962e8-92f9-43bf-a61f-cb582954185c",
   "metadata": {
    "tags": []
   },
   "outputs": [
    {
     "name": "stdout",
     "output_type": "stream",
     "text": [
      "Newly Listed Coins:\n",
      "                  id  symbol               name  activated_at\n",
      "0        basex-token     bxt        BaseX Token    1718736507\n",
      "1  tapioca-dao-token     tap  Tapioca DAO Token    1718729126\n",
      "2   boys-club-munchy  munchy   Boys Club Munchy    1718706574\n",
      "3           starmine     smt           Starmine    1718685870\n",
      "4              janny   janny              Janny    1718683463\n"
     ]
    }
   ],
   "source": [
    "# Fetch the list of new coins listed\n",
    "new_coins = cg.coins.market_data.new_coins_listed()\n",
    "print(\"Newly Listed Coins:\")\n",
    "print(new_coins.head())"
   ]
  },
  {
   "cell_type": "markdown",
   "id": "958f8a04-0554-47b2-890a-1f8aeeb39901",
   "metadata": {},
   "source": [
    "## coins/top_gainers_losers\n",
    "https://docs.coingecko.com/reference/coins-top-gainers-losers"
   ]
  },
  {
   "cell_type": "code",
   "execution_count": 16,
   "id": "6b26ba0e-af83-4477-ac85-6c8b77c813a8",
   "metadata": {
    "tags": []
   },
   "outputs": [
    {
     "name": "stdout",
     "output_type": "stream",
     "text": [
      "Top Gainers:\n",
      "                  id   symbol               name  \\\n",
      "0         enreachdao     NRCH            Enreach   \n",
      "1  amaterasu-omikami  omikami  AMATERASU OMIKAMI   \n",
      "2      undeads-games      uds      Undeads Games   \n",
      "3             stader       sd             Stader   \n",
      "4              storx      srx              StorX   \n",
      "\n",
      "                                               image  market_cap_rank  \\\n",
      "0  https://coin-images.coingecko.com/coins/images...              833   \n",
      "1  https://coin-images.coingecko.com/coins/images...              475   \n",
      "2  https://coin-images.coingecko.com/coins/images...              846   \n",
      "3  https://coin-images.coingecko.com/coins/images...              890   \n",
      "4  https://coin-images.coingecko.com/coins/images...              929   \n",
      "\n",
      "         usd   usd_24h_vol  usd_24h_change  \n",
      "0  13.014204  6.274037e+04      646.403701  \n",
      "1   0.187685  2.058776e+06      133.960809  \n",
      "2   0.857056  9.442321e+05       22.263129  \n",
      "3   0.671419  2.411078e+06       15.623800  \n",
      "4   0.051812  1.587735e+06       14.270096  \n",
      "\n",
      "Top Losers:\n",
      "             id  symbol          name  \\\n",
      "0    beercoin-2    beer      Beercoin   \n",
      "1   mother-iggy  mother   Mother Iggy   \n",
      "2     shark-cat      sc     Shark Cat   \n",
      "3  donald-tremp   tremp  Doland Tremp   \n",
      "4    hoppy-meme   hoppy         Hoppy   \n",
      "\n",
      "                                               image  market_cap_rank  \\\n",
      "0  https://coin-images.coingecko.com/coins/images...              477   \n",
      "1  https://coin-images.coingecko.com/coins/images...              504   \n",
      "2  https://coin-images.coingecko.com/coins/images...              734   \n",
      "3  https://coin-images.coingecko.com/coins/images...              535   \n",
      "4  https://coin-images.coingecko.com/coins/images...              923   \n",
      "\n",
      "        usd   usd_24h_vol  usd_24h_change  \n",
      "0  0.000084  1.773594e+08      -49.892108  \n",
      "1  0.071827  5.137097e+07      -38.924270  \n",
      "2  0.035833  4.690053e+06      -35.494332  \n",
      "3  0.657584  3.868202e+07      -33.828518  \n",
      "4  0.000057  9.729142e+06      -31.880903  \n"
     ]
    }
   ],
   "source": [
    "# Fetch gainers and losers in the USD market over the past 24 hours\n",
    "gainers, losers = cg.coins.market_data.gainers_losers(\n",
    "    vs_currency='usd',\n",
    "    duration='24h',\n",
    "    top_coins=1000\n",
    ")\n",
    "\n",
    "# Print the top 5 gainers and losers\n",
    "print(\"Top Gainers:\")\n",
    "print(gainers.head())\n",
    "print(\"\\nTop Losers:\")\n",
    "print(losers.head())"
   ]
  },
  {
   "cell_type": "markdown",
   "id": "bb6f313c-94e1-4d95-9f65-5be7bec0e220",
   "metadata": {},
   "source": [
    "## coins/{id}/circulating_supply_chart\n",
    "https://docs.coingecko.com/reference/coins-id-circulating-supply-chart"
   ]
  },
  {
   "cell_type": "code",
   "execution_count": 17,
   "id": "23b53d9f-5fd1-49fb-820d-c26479fa0670",
   "metadata": {
    "tags": []
   },
   "outputs": [
    {
     "name": "stdout",
     "output_type": "stream",
     "text": [
      "                    circulating_supply\n",
      "timestamp                             \n",
      "2024-05-20 00:00:00         19700662.0\n",
      "2024-05-21 00:00:00         19701143.0\n",
      "2024-05-22 00:00:00         19701571.0\n",
      "2024-05-23 00:00:00         19702053.0\n",
      "2024-05-24 00:00:00         19702575.0\n",
      "2024-05-25 00:00:00         19703040.0\n",
      "2024-05-26 00:00:00         19703503.0\n",
      "2024-05-27 00:00:00         19704103.0\n",
      "2024-05-28 00:00:00         19704434.0\n",
      "2024-05-29 00:00:00         19704690.0\n",
      "2024-05-30 00:00:00         19705225.0\n",
      "2024-05-31 00:00:00         19705721.0\n",
      "2024-06-01 00:00:00         19706175.0\n",
      "2024-06-02 00:00:00         19706615.0\n",
      "2024-06-03 00:00:00         19707050.0\n",
      "2024-06-04 00:00:00         19707356.0\n",
      "2024-06-05 00:00:00         19707821.0\n",
      "2024-06-06 00:00:00         19708003.0\n",
      "2024-06-07 00:00:00         19708471.0\n",
      "2024-06-08 00:00:00         19709215.0\n",
      "2024-06-09 00:00:00         19709750.0\n",
      "2024-06-10 00:00:00         19710218.0\n",
      "2024-06-11 00:00:00         19710653.0\n",
      "2024-06-12 00:00:00         19711050.0\n",
      "2024-06-13 00:00:00         19711493.0\n",
      "2024-06-14 00:00:00         19711893.0\n",
      "2024-06-15 00:00:00         19712165.0\n",
      "2024-06-16 00:00:00         19712475.0\n",
      "2024-06-17 00:00:00         19713256.0\n",
      "2024-06-18 00:00:00         19713715.0\n",
      "2024-06-18 19:00:01         19714059.0\n"
     ]
    }
   ],
   "source": [
    "# Define the parameters for the coin circulating supply history query\n",
    "coin_id = 'bitcoin'\n",
    "days = 30  # Last 30 days\n",
    "interval = 'daily'  # Daily data points\n",
    "\n",
    "# Fetch historical circulating supply data\n",
    "historical_circulating_supply = cg.coins.historical_data.coin_circulating_supply_history(\n",
    "    coin_id=coin_id,\n",
    "    days=days,\n",
    "    interval=interval\n",
    ")\n",
    "\n",
    "# Display the resulting DataFrame\n",
    "print(historical_circulating_supply)"
   ]
  },
  {
   "cell_type": "markdown",
   "id": "63d3a41d-341c-4979-ba34-6f0392b08230",
   "metadata": {
    "tags": []
   },
   "source": [
    "## coins/{id}/total_supply_chart\n",
    "https://docs.coingecko.com/reference/coins-id-total-supply-chart"
   ]
  },
  {
   "cell_type": "code",
   "execution_count": 18,
   "id": "3731114d-6ae6-400a-8587-f81d341fda3a",
   "metadata": {},
   "outputs": [
    {
     "name": "stdout",
     "output_type": "stream",
     "text": [
      "                    total_supply\n",
      "timestamp                       \n",
      "2024-05-20 00:00:00   21000000.0\n",
      "2024-05-21 00:00:00   21000000.0\n",
      "2024-05-22 00:00:00   21000000.0\n",
      "2024-05-23 00:00:00   21000000.0\n",
      "2024-05-24 00:00:00   21000000.0\n",
      "2024-05-25 00:00:00   21000000.0\n",
      "2024-05-26 00:00:00   21000000.0\n",
      "2024-05-27 00:00:00   21000000.0\n",
      "2024-05-28 00:00:00   21000000.0\n",
      "2024-05-29 00:00:00   21000000.0\n",
      "2024-05-30 00:00:00   21000000.0\n",
      "2024-05-31 00:00:00   21000000.0\n",
      "2024-06-01 00:00:00   21000000.0\n",
      "2024-06-02 00:00:00   21000000.0\n",
      "2024-06-03 00:00:00   21000000.0\n",
      "2024-06-04 00:00:00   21000000.0\n",
      "2024-06-05 00:00:00   21000000.0\n",
      "2024-06-06 00:00:00   21000000.0\n",
      "2024-06-07 00:00:00   21000000.0\n",
      "2024-06-08 00:00:00   21000000.0\n",
      "2024-06-09 00:00:00   21000000.0\n",
      "2024-06-10 00:00:00   21000000.0\n",
      "2024-06-11 00:00:00   21000000.0\n",
      "2024-06-12 00:00:00   21000000.0\n",
      "2024-06-13 00:00:00   21000000.0\n",
      "2024-06-14 00:00:00   21000000.0\n",
      "2024-06-15 00:00:00   21000000.0\n",
      "2024-06-16 00:00:00   21000000.0\n",
      "2024-06-17 00:00:00   21000000.0\n",
      "2024-06-18 00:00:00   21000000.0\n",
      "2024-06-18 19:00:18   21000000.0\n"
     ]
    }
   ],
   "source": [
    "coin_total_supply_history_by_days = cg.coins.historical_data.coin_total_supply_history(\n",
    "    coin_id='bitcoin',\n",
    "    days=30,\n",
    "    interval='daily'\n",
    ")\n",
    "print(coin_total_supply_history_by_days)"
   ]
  },
  {
   "cell_type": "markdown",
   "id": "2aa5ce5d-c071-4a0b-a40f-51a084a6292a",
   "metadata": {},
   "source": [
    "## coins/{coin_id}/total_supply_chart/range\n",
    "https://docs.coingecko.com/reference/coins-id-total-supply-chart-range"
   ]
  },
  {
   "cell_type": "code",
   "execution_count": 19,
   "id": "039c5972-25e3-4c3d-8af8-799fc36099c0",
   "metadata": {},
   "outputs": [
    {
     "name": "stdout",
     "output_type": "stream",
     "text": [
      "           total_supply\n",
      "timestamp              \n",
      "2024-01-02   21000000.0\n",
      "2024-01-03   21000000.0\n",
      "2024-01-04   21000000.0\n",
      "2024-01-05   21000000.0\n",
      "2024-01-06   21000000.0\n",
      "2024-01-07   21000000.0\n",
      "2024-01-08   21000000.0\n",
      "2024-01-09   21000000.0\n",
      "2024-01-10   21000000.0\n",
      "2024-01-11   21000000.0\n",
      "2024-01-12   21000000.0\n",
      "2024-01-13   21000000.0\n",
      "2024-01-14   21000000.0\n",
      "2024-01-15   21000000.0\n",
      "2024-01-16   21000000.0\n",
      "2024-01-17   21000000.0\n",
      "2024-01-18   21000000.0\n",
      "2024-01-19   21000000.0\n",
      "2024-01-20   21000000.0\n",
      "2024-01-21   21000000.0\n",
      "2024-01-22   21000000.0\n",
      "2024-01-23   21000000.0\n",
      "2024-01-24   21000000.0\n",
      "2024-01-25   21000000.0\n",
      "2024-01-26   21000000.0\n",
      "2024-01-27   21000000.0\n",
      "2024-01-28   21000000.0\n",
      "2024-01-29   21000000.0\n",
      "2024-01-30   21000000.0\n"
     ]
    }
   ],
   "source": [
    "coin_total_supply_history_by_dates = cg.coins.historical_data.coin_total_supply_history(\n",
    "    coin_id='bitcoin',\n",
    "    interval='daily',\n",
    "    from_date='01-01-2024',\n",
    "    to_date='01-30-2024'\n",
    ")\n",
    "print(coin_total_supply_history_by_dates)"
   ]
  },
  {
   "cell_type": "markdown",
   "id": "cdcc8d44-f833-48b2-a82f-0ec7193a9ca3",
   "metadata": {},
   "source": [
    "## Close Session"
   ]
  },
  {
   "cell_type": "code",
   "execution_count": 20,
   "id": "cbda052f-a819-46af-905d-5631b10d8b6b",
   "metadata": {
    "tags": []
   },
   "outputs": [
    {
     "data": {
      "text/plain": [
       "'Session closed successfully.'"
      ]
     },
     "execution_count": 20,
     "metadata": {},
     "output_type": "execute_result"
    }
   ],
   "source": [
    "cg.end_session()"
   ]
  },
  {
   "cell_type": "code",
   "execution_count": null,
   "id": "095426fd-10d1-45d0-b812-a666327eaf47",
   "metadata": {},
   "outputs": [],
   "source": []
  }
 ],
 "metadata": {
  "kernelspec": {
   "display_name": "Python 3 (ipykernel)",
   "language": "python",
   "name": "python3"
  },
  "language_info": {
   "codemirror_mode": {
    "name": "ipython",
    "version": 3
   },
   "file_extension": ".py",
   "mimetype": "text/x-python",
   "name": "python",
   "nbconvert_exporter": "python",
   "pygments_lexer": "ipython3",
   "version": "3.11.3"
  }
 },
 "nbformat": 4,
 "nbformat_minor": 5
}
