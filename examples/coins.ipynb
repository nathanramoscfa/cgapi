{
 "cells": [
  {
   "cell_type": "markdown",
   "id": "b259dabe-8cb8-433f-9acd-7a647d723099",
   "metadata": {},
   "source": [
    "# Coins"
   ]
  },
  {
   "cell_type": "code",
   "execution_count": 1,
   "id": "190937ed-5a7a-46b7-b5d2-a936778bf724",
   "metadata": {},
   "outputs": [],
   "source": [
    "import sys\n",
    "from datetime import datetime, timedelta\n",
    "\n",
    "import keyring\n",
    "\n",
    "sys.path.append('../')\n",
    "\n",
    "from pycgapi import CoinGeckoAPI"
   ]
  },
  {
   "cell_type": "code",
   "execution_count": 2,
   "id": "3b84a7d4-b440-48d9-a41c-92545a751c3d",
   "metadata": {},
   "outputs": [],
   "source": [
    "# Fetch the API key securely using keyring\n",
    "api_key = keyring.get_password('coingecko', 'analyst_api_key')"
   ]
  },
  {
   "cell_type": "code",
   "execution_count": 3,
   "id": "44763e61-bc5c-43cc-87c5-4191a1d2c4c4",
   "metadata": {},
   "outputs": [],
   "source": [
    "# Initialize the Coins class\n",
    "cg = CoinGeckoAPI(api_key=api_key, pro_api=True)"
   ]
  },
  {
   "cell_type": "markdown",
   "id": "86d8051b-af8e-4f85-9035-3a0c1ecfbe7a",
   "metadata": {},
   "source": [
    "## /coins/list\n",
    "https://docs.coingecko.com/reference/coins-list"
   ]
  },
  {
   "cell_type": "code",
   "execution_count": 4,
   "id": "aa9dc734-486c-420c-aa64-be7282d254b9",
   "metadata": {},
   "outputs": [
    {
     "name": "stdout",
     "output_type": "stream",
     "text": [
      "                    symbol                 name\n",
      "id                                             \n",
      "01coin                 zoc               01coin\n",
      "0chain                 zcn                  Zus\n",
      "0-knowledge-network    0kn  0 Knowledge Network\n",
      "0-mee                  ome                O-MEE\n",
      "0vix-protocol          vix        0VIX Protocol\n"
     ]
    }
   ],
   "source": [
    "# Get a list of all coins\n",
    "coins_list = cg.coins.market_data.coins_list()\n",
    "print(coins_list.head())"
   ]
  },
  {
   "cell_type": "markdown",
   "id": "0e57c178-c27d-40ce-b9db-ed676915d2b8",
   "metadata": {},
   "source": [
    "## /coins/markets\n",
    "https://docs.coingecko.com/reference/coins-markets"
   ]
  },
  {
   "cell_type": "code",
   "execution_count": 5,
   "id": "28184c6f-2ea8-4da0-ac79-09b1a738d99c",
   "metadata": {},
   "outputs": [
    {
     "name": "stdout",
     "output_type": "stream",
     "text": [
      "            symbol      name  current_price     market_cap  total_volume\n",
      "id                                                                      \n",
      "bitcoin        btc   Bitcoin    65032.00000  1278795498501  1.941547e+10\n",
      "ethereum       eth  Ethereum     3561.22000   434546382240  1.356320e+10\n",
      "tether        usdt    Tether        0.99962   112448751162  3.456843e+10\n",
      "binancecoin    bnb       BNB      597.00000    91682406449  9.430456e+08\n",
      "solana         sol    Solana      135.17000    62412998071  2.137987e+09\n"
     ]
    }
   ],
   "source": [
    "# Fetch market data for specific coins\n",
    "market_info = cg.coins.market_data.coins_market_data()\n",
    "print(market_info[[\n",
    "    'symbol', 'name', 'current_price', \n",
    "    'market_cap', 'total_volume'\n",
    "]].head())"
   ]
  },
  {
   "cell_type": "code",
   "execution_count": 6,
   "id": "d49b3024-ba6d-40ee-8c6e-f7ac6d210997",
   "metadata": {},
   "outputs": [
    {
     "name": "stdout",
     "output_type": "stream",
     "text": [
      "Available Fields: Index(['symbol', 'name', 'image', 'current_price', 'market_cap',\n",
      "       'market_cap_rank', 'fully_diluted_valuation', 'total_volume',\n",
      "       'high_24h', 'low_24h', 'price_change_24h',\n",
      "       'price_change_percentage_24h', 'market_cap_change_24h',\n",
      "       'market_cap_change_percentage_24h', 'circulating_supply',\n",
      "       'total_supply', 'max_supply', 'ath', 'ath_change_percentage',\n",
      "       'ath_date', 'atl', 'atl_change_percentage', 'atl_date', 'roi',\n",
      "       'last_updated'],\n",
      "      dtype='object')\n"
     ]
    }
   ],
   "source": [
    "# Fetch market data for top coins\n",
    "top_coins_market_info = cg.coins.market_data.top_coins_market_data(top_n=250)\n",
    "print('Available Fields: {}'.format(top_coins_market_info.columns))"
   ]
  },
  {
   "cell_type": "markdown",
   "id": "d2bbe314-3210-4efa-87b2-e456c66bf0d2",
   "metadata": {},
   "source": [
    "## /coins/{id}\n",
    "https://docs.coingecko.com/reference/coins-id"
   ]
  },
  {
   "cell_type": "code",
   "execution_count": 7,
   "id": "93b1f5fc-cbd5-4393-b2bb-951212017d12",
   "metadata": {},
   "outputs": [
    {
     "name": "stdout",
     "output_type": "stream",
     "text": [
      "Available Keys: ['additional_notices', 'asset_platform_id', 'block_time_in_minutes', 'categories', 'community_data', 'country_origin', 'description', 'detail_platforms', 'developer_data', 'genesis_date', 'hashing_algorithm', 'id', 'image', 'last_updated', 'links', 'localization', 'market_cap_rank', 'market_data', 'name', 'platforms', 'preview_listing', 'public_notice', 'sentiment_votes_down_percentage', 'sentiment_votes_up_percentage', 'status_updates', 'symbol', 'tickers', 'watchlist_portfolio_users', 'web_slug']\n"
     ]
    }
   ],
   "source": [
    "# Get detailed information on a specific coin\n",
    "coin_details = cg.coins.market_data.coin_info(coin_id='bitcoin')\n",
    "print('Available Keys: {}'.format(sorted(coin_details.keys())))"
   ]
  },
  {
   "cell_type": "markdown",
   "id": "83b761ae-70e8-48d5-93d8-355ce4a7721a",
   "metadata": {},
   "source": [
    "## /coins/{id}/history\n",
    "https://docs.coingecko.com/reference/coins-id-history"
   ]
  },
  {
   "cell_type": "code",
   "execution_count": 8,
   "id": "de4ba1e0-2cea-4d0e-b136-fc68cf857bbd",
   "metadata": {},
   "outputs": [
    {
     "name": "stdout",
     "output_type": "stream",
     "text": [
      "Available Keys: ['community_data', 'developer_data', 'id', 'image', 'localization', 'market_data', 'name', 'public_interest_stats', 'symbol']\n"
     ]
    }
   ],
   "source": [
    "# Get historical data on a specific date\n",
    "date = (datetime.now() - timedelta(days=30)).strftime('%d-%m-%Y')\n",
    "historical_on_date = cg.coins.historical_data.coin_historical_on_date(coin_id='bitcoin', date=date)\n",
    "print('Available Keys: {}'.format(sorted(historical_on_date.keys())))"
   ]
  },
  {
   "cell_type": "markdown",
   "id": "6070c75f-0b5d-4bfd-aa90-6ae23abc15b5",
   "metadata": {},
   "source": [
    "## /coins/{id}/market_chart\n",
    "https://docs.coingecko.com/reference/coins-id-market-chart"
   ]
  },
  {
   "cell_type": "code",
   "execution_count": 9,
   "id": "a779c7e6-07a1-4e1b-9663-b7248203eafc",
   "metadata": {},
   "outputs": [
    {
     "name": "stdout",
     "output_type": "stream",
     "text": [
      "                                  price    market_cap  total_volume\n",
      "timestamp                                                          \n",
      "2024-05-22 00:00:00+00:00  70189.835818  1.382275e+12  4.110506e+10\n",
      "2024-05-23 00:00:00+00:00  69181.200857  1.362229e+12  3.105944e+10\n",
      "2024-05-24 00:00:00+00:00  67906.465343  1.336347e+12  3.923570e+10\n",
      "2024-05-25 00:00:00+00:00  68539.916466  1.350764e+12  2.812741e+10\n",
      "2024-05-26 00:00:00+00:00  69268.445590  1.363998e+12  1.592940e+10\n"
     ]
    }
   ],
   "source": [
    "# Get historical market data\n",
    "historical_market_data = cg.coins.historical_data.coin_historical_market_data(coin_id='bitcoin')\n",
    "print(historical_market_data.head())"
   ]
  },
  {
   "cell_type": "code",
   "execution_count": 10,
   "id": "ef8c3705-8911-43b7-b939-93b09e5ac7b2",
   "metadata": {},
   "outputs": [
    {
     "name": "stderr",
     "output_type": "stream",
     "text": [
      "100%|████████████████████████████████████████████████████████████████████████████████████| 3/3 [00:00<00:00,  5.05it/s]"
     ]
    },
    {
     "name": "stdout",
     "output_type": "stream",
     "text": [
      "                                  price    market_cap  total_volume\n",
      "timestamp                                                          \n",
      "2024-05-22 00:00:00+00:00  70189.835818  1.382275e+12  4.110506e+10\n",
      "2024-05-23 00:00:00+00:00  69181.200857  1.362229e+12  3.105944e+10\n",
      "2024-05-24 00:00:00+00:00  67906.465343  1.336347e+12  3.923570e+10\n",
      "2024-05-25 00:00:00+00:00  68539.916466  1.350764e+12  2.812741e+10\n",
      "2024-05-26 00:00:00+00:00  69268.445590  1.363998e+12  1.592940e+10\n"
     ]
    },
    {
     "name": "stderr",
     "output_type": "stream",
     "text": [
      "\n"
     ]
    }
   ],
   "source": [
    "# Get historical market data on multiple coins\n",
    "multiple_coins_historical_data = cg.coins.historical_data.multiple_coins_historical_data(\n",
    "    coin_ids=['bitcoin', 'ethereum', 'solana']\n",
    ")\n",
    "print(historical_market_data.head())"
   ]
  },
  {
   "cell_type": "markdown",
   "id": "0bc26b7a-f956-47c0-ae71-db77df6a25ac",
   "metadata": {},
   "source": [
    "## /coins/{id}/tickers\n",
    "https://docs.coingecko.com/reference/coins-id-tickers"
   ]
  },
  {
   "cell_type": "code",
   "execution_count": 11,
   "id": "0471fd9d-4930-4a36-83ab-13f673220777",
   "metadata": {
    "tags": []
   },
   "outputs": [
    {
     "name": "stdout",
     "output_type": "stream",
     "text": [
      "  base target                                             market      last  \\\n",
      "0  BTC   USDT  {'name': 'Binance', 'identifier': 'binance', '...  65057.01   \n",
      "1  BTC    USD  {'name': 'Kraken', 'identifier': 'kraken', 'ha...  65047.40   \n",
      "2  BTC   USDT  {'name': 'Gate.io', 'identifier': 'gate', 'has...  65057.90   \n",
      "3  BTC    USD  {'name': 'Coinbase Exchange', 'identifier': 'g...  65023.68   \n",
      "4  BTC  FDUSD  {'name': 'Binance', 'identifier': 'binance', '...  65067.69   \n",
      "\n",
      "         volume                                     converted_last  \\\n",
      "0  20069.754840  {'btc': 1.000328, 'eth': 18.261618, 'usd': 65048}   \n",
      "1    627.639923  {'btc': 1.000315, 'eth': 18.261383, 'usd': 65047}   \n",
      "2   3775.075768  {'btc': 1.000342, 'eth': 18.253439, 'usd': 65035}   \n",
      "3   4859.461677  {'btc': 1.000163, 'eth': 18.250182, 'usd': 65024}   \n",
      "4  31308.853590  {'btc': 0.99912946, 'eth': 18.239735, 'usd': 6...   \n",
      "\n",
      "                                   converted_volume trust_score  \\\n",
      "0  {'btc': 20115, 'eth': 367217, 'usd': 1308035419}       green   \n",
      "1   {'btc': 627.838, 'eth': 11462, 'usd': 40826345}       green   \n",
      "2     {'btc': 3785, 'eth': 69065, 'usd': 246070335}       green   \n",
      "3     {'btc': 4860, 'eth': 88686, 'usd': 315980081}       green   \n",
      "4  {'btc': 31328, 'eth': 571914, 'usd': 2037166987}       green   \n",
      "\n",
      "   bid_ask_spread_percentage                  timestamp  \\\n",
      "0                   0.010015  2024-06-20T00:58:01+00:00   \n",
      "1                   0.010154  2024-06-20T00:59:01+00:00   \n",
      "2                   0.010154  2024-06-20T00:58:32+00:00   \n",
      "3                   0.014658  2024-06-20T00:58:01+00:00   \n",
      "4                   0.016472  2024-06-20T00:59:08+00:00   \n",
      "\n",
      "              last_traded_at              last_fetch_at  is_anomaly  is_stale  \\\n",
      "0  2024-06-20T00:58:01+00:00  2024-06-20T00:59:00+00:00       False     False   \n",
      "1  2024-06-20T00:59:01+00:00  2024-06-20T00:59:01+00:00       False     False   \n",
      "2  2024-06-20T00:58:32+00:00  2024-06-20T00:58:32+00:00       False     False   \n",
      "3  2024-06-20T00:58:01+00:00  2024-06-20T00:59:00+00:00       False     False   \n",
      "4  2024-06-20T00:59:08+00:00  2024-06-20T00:59:08+00:00       False     False   \n",
      "\n",
      "                                           trade_url token_info_url  coin_id  \\\n",
      "0  https://www.binance.com/en/trade/BTC_USDT?ref=...           None  bitcoin   \n",
      "1           https://pro.kraken.com/app/trade/BTC-USD           None  bitcoin   \n",
      "2                 https://www.gate.io/trade/BTC_USDT           None  bitcoin   \n",
      "3  https://www.coinbase.com/advanced-trade/spot/B...           None  bitcoin   \n",
      "4  https://www.binance.com/en/trade/BTC_FDUSD?ref...           None  bitcoin   \n",
      "\n",
      "      target_coin_id  \n",
      "0             tether  \n",
      "1                NaN  \n",
      "2             tether  \n",
      "3                NaN  \n",
      "4  first-digital-usd  \n"
     ]
    }
   ],
   "source": [
    "# Get ticker information for a specific coin\n",
    "tickers = cg.coins.ticker_data.coin_market_tickers(coin_id='bitcoin')\n",
    "print(tickers.head())"
   ]
  },
  {
   "cell_type": "markdown",
   "id": "f7f6a8e2-c4f1-4d63-ac1f-7605ec0a9e8d",
   "metadata": {},
   "source": [
    "## /coins/{id}/ohlc\n",
    "https://docs.coingecko.com/reference/coins-id-ohlc"
   ]
  },
  {
   "cell_type": "code",
   "execution_count": 12,
   "id": "96de5f04-fc7f-4273-9bb8-767a9515a9b6",
   "metadata": {},
   "outputs": [
    {
     "name": "stdout",
     "output_type": "stream",
     "text": [
      "                        Open     High      Low    Close\n",
      "Timestamp                                              \n",
      "2024-05-21 04:00:00  71464.0  71650.0  70834.0  71310.0\n",
      "2024-05-21 08:00:00  71293.0  71328.0  70862.0  70944.0\n",
      "2024-05-21 12:00:00  70875.0  71320.0  70840.0  71282.0\n",
      "2024-05-21 16:00:00  71137.0  71423.0  69733.0  69733.0\n",
      "2024-05-21 20:00:00  69720.0  70221.0  69212.0  69400.0\n",
      "...                      ...      ...      ...      ...\n",
      "2024-06-19 08:00:00  65493.0  65633.0  65171.0  65337.0\n",
      "2024-06-19 12:00:00  65315.0  65484.0  65038.0  65160.0\n",
      "2024-06-19 16:00:00  65213.0  65278.0  64798.0  64798.0\n",
      "2024-06-19 20:00:00  64907.0  65287.0  64758.0  64878.0\n",
      "2024-06-20 00:00:00  64878.0  65065.0  64705.0  64907.0\n",
      "\n",
      "[180 rows x 4 columns]\n"
     ]
    }
   ],
   "source": [
    "# Fetch OHLC data for Bitcoin\n",
    "ohlc_data = cg.coins.ohlc_data.coin_ohlc_data(coin_id='bitcoin', vs_currency='usd', days=30)\n",
    "print(ohlc_data)"
   ]
  },
  {
   "cell_type": "code",
   "execution_count": 13,
   "id": "88e7a752-fdb8-4b01-b21d-bb381a02fdda",
   "metadata": {},
   "outputs": [
    {
     "name": "stdout",
     "output_type": "stream",
     "text": [
      "{'Open':                      bitcoin  ethereum\n",
      "Timestamp                             \n",
      "2024-05-21 04:00:00  71464.0   3661.56\n",
      "2024-05-21 08:00:00  71293.0   3699.39\n",
      "2024-05-21 12:00:00  70875.0   3658.71\n",
      "2024-05-21 16:00:00  71137.0   3780.07\n",
      "2024-05-21 20:00:00  69720.0   3769.46\n",
      "...                      ...       ...\n",
      "2024-06-19 08:00:00  65493.0   3567.32\n",
      "2024-06-19 12:00:00  65315.0   3542.70\n",
      "2024-06-19 16:00:00  65213.0   3537.54\n",
      "2024-06-19 20:00:00  64907.0   3525.23\n",
      "2024-06-20 00:00:00  64878.0   3547.37\n",
      "\n",
      "[180 rows x 2 columns], 'High':                      bitcoin  ethereum\n",
      "Timestamp                             \n",
      "2024-05-21 04:00:00  71650.0   3710.31\n",
      "2024-05-21 08:00:00  71328.0   3699.39\n",
      "2024-05-21 12:00:00  71320.0   3809.03\n",
      "2024-05-21 16:00:00  71423.0   3813.98\n",
      "2024-05-21 20:00:00  70221.0   3818.04\n",
      "...                      ...       ...\n",
      "2024-06-19 08:00:00  65633.0   3586.41\n",
      "2024-06-19 12:00:00  65484.0   3556.37\n",
      "2024-06-19 16:00:00  65278.0   3546.99\n",
      "2024-06-19 20:00:00  65287.0   3575.04\n",
      "2024-06-20 00:00:00  65065.0   3573.64\n",
      "\n",
      "[180 rows x 2 columns], 'Low':                      bitcoin  ethereum\n",
      "Timestamp                             \n",
      "2024-05-21 04:00:00  70834.0   3644.66\n",
      "2024-05-21 08:00:00  70862.0   3635.43\n",
      "2024-05-21 12:00:00  70840.0   3651.67\n",
      "2024-05-21 16:00:00  69733.0   3761.22\n",
      "2024-05-21 20:00:00  69212.0   3686.32\n",
      "...                      ...       ...\n",
      "2024-06-19 08:00:00  65171.0   3530.70\n",
      "2024-06-19 12:00:00  65038.0   3521.12\n",
      "2024-06-19 16:00:00  64798.0   3512.62\n",
      "2024-06-19 20:00:00  64758.0   3525.23\n",
      "2024-06-20 00:00:00  64705.0   3532.35\n",
      "\n",
      "[180 rows x 2 columns], 'Close':                      bitcoin  ethereum\n",
      "Timestamp                             \n",
      "2024-05-21 04:00:00  71310.0   3693.41\n",
      "2024-05-21 08:00:00  70944.0   3663.90\n",
      "2024-05-21 12:00:00  71282.0   3804.07\n",
      "2024-05-21 16:00:00  69733.0   3769.43\n",
      "2024-05-21 20:00:00  69400.0   3713.31\n",
      "...                      ...       ...\n",
      "2024-06-19 08:00:00  65337.0   3543.08\n",
      "2024-06-19 12:00:00  65160.0   3530.99\n",
      "2024-06-19 16:00:00  64798.0   3523.02\n",
      "2024-06-19 20:00:00  64878.0   3547.54\n",
      "2024-06-20 00:00:00  64907.0   3555.97\n",
      "\n",
      "[180 rows x 2 columns]}\n"
     ]
    }
   ],
   "source": [
    "# Fetch OHLC data for multiple coins\n",
    "multi_ohlc_data = cg.coins.ohlc_data.multiple_coins_ohlc_data(\n",
    "    coin_ids=['bitcoin', 'ethereum'], \n",
    "    vs_currency='usd', \n",
    "    days=30\n",
    ")\n",
    "print(multi_ohlc_data)"
   ]
  },
  {
   "cell_type": "markdown",
   "id": "378134b2-f7f5-414e-b8b2-b168526f136d",
   "metadata": {},
   "source": [
    "## coins/list/new\n",
    "https://docs.coingecko.com/reference/coins-list-new"
   ]
  },
  {
   "cell_type": "code",
   "execution_count": 14,
   "id": "66f962e8-92f9-43bf-a61f-cb582954185c",
   "metadata": {
    "tags": []
   },
   "outputs": [
    {
     "name": "stdout",
     "output_type": "stream",
     "text": [
      "Newly Listed Coins:\n",
      "                   id   symbol                name  activated_at\n",
      "0          sports-pie      pie          Sports PIE    1718837646\n",
      "1             milkbag  milkbag             MILKBAG    1718829612\n",
      "2             vitreus    wvtrs             Vitreus    1718829358\n",
      "3  liquid-staked-fuse    sfuse  Liquid staked FUSE    1718826967\n",
      "4           trumpcoin      djt           TrumpCoin    1718811382\n"
     ]
    }
   ],
   "source": [
    "# Fetch the list of new coins listed\n",
    "new_coins = cg.coins.market_data.new_coins_listed()\n",
    "print(\"Newly Listed Coins:\")\n",
    "print(new_coins.head())"
   ]
  },
  {
   "cell_type": "markdown",
   "id": "958f8a04-0554-47b2-890a-1f8aeeb39901",
   "metadata": {},
   "source": [
    "## coins/top_gainers_losers\n",
    "https://docs.coingecko.com/reference/coins-top-gainers-losers"
   ]
  },
  {
   "cell_type": "code",
   "execution_count": 15,
   "id": "6b26ba0e-af83-4477-ac85-6c8b77c813a8",
   "metadata": {
    "tags": []
   },
   "outputs": [
    {
     "name": "stdout",
     "output_type": "stream",
     "text": [
      "Top Gainers:\n",
      "                  id symbol               name  \\\n",
      "0             tokpie    tkp             TOKPIE   \n",
      "1               befe   befe               BEFE   \n",
      "2      landwolf-0x67   wolf           LandWolf   \n",
      "3  poollotto-finance    plt  Poollotto.finance   \n",
      "4           biaoqing   biao           Biaoqing   \n",
      "\n",
      "                                               image  market_cap_rank  \\\n",
      "0  https://coin-images.coingecko.com/coins/images...              571   \n",
      "1  https://coin-images.coingecko.com/coins/images...              868   \n",
      "2  https://coin-images.coingecko.com/coins/images...              409   \n",
      "3  https://coin-images.coingecko.com/coins/images...              766   \n",
      "4  https://coin-images.coingecko.com/coins/images...              651   \n",
      "\n",
      "        usd   usd_24h_vol  usd_24h_change  \n",
      "0  0.776626  6.040392e+04      222.591270  \n",
      "1  0.000286  8.447037e+06       60.222602  \n",
      "2  0.000115  5.350501e+06       51.160030  \n",
      "3  2.298997  1.045670e+05       41.941607  \n",
      "4  0.046495  9.797328e+06       40.023012  \n",
      "\n",
      "Top Losers:\n",
      "              id symbol           name  \\\n",
      "0         insure   sure    inSure DeFi   \n",
      "1  kitten-haimer   khai  Kitten Haimer   \n",
      "2     daddy-tate  daddy     Daddy Tate   \n",
      "3       pepefork   pork       PepeFork   \n",
      "4     apu-s-club    apu   Apu Apustaja   \n",
      "\n",
      "                                               image  market_cap_rank  \\\n",
      "0  https://coin-images.coingecko.com/coins/images...              356   \n",
      "1  https://coin-images.coingecko.com/coins/images...              926   \n",
      "2  https://coin-images.coingecko.com/coins/images...              536   \n",
      "3  https://coin-images.coingecko.com/coins/images...              626   \n",
      "4  https://coin-images.coingecko.com/coins/images...              304   \n",
      "\n",
      "            usd   usd_24h_vol  usd_24h_change  \n",
      "0  4.710408e-03  6.067769e+05      -22.981955  \n",
      "1  4.492028e-01  1.720803e+06      -21.609536  \n",
      "2  1.151664e-01  2.962329e+07      -20.099841  \n",
      "3  1.528893e-07  4.578637e+06      -18.495939  \n",
      "4  4.982153e-04  1.452131e+07      -13.522428  \n"
     ]
    }
   ],
   "source": [
    "# Fetch gainers and losers in the USD market over the past 24 hours\n",
    "gainers, losers = cg.coins.market_data.gainers_losers(\n",
    "    vs_currency='usd',\n",
    "    duration='24h',\n",
    "    top_coins=1000\n",
    ")\n",
    "\n",
    "# Print the top 5 gainers and losers\n",
    "print(\"Top Gainers:\")\n",
    "print(gainers.head())\n",
    "print(\"\\nTop Losers:\")\n",
    "print(losers.head())"
   ]
  },
  {
   "cell_type": "markdown",
   "id": "bb6f313c-94e1-4d95-9f65-5be7bec0e220",
   "metadata": {},
   "source": [
    "## coins/{id}/circulating_supply_chart\n",
    "https://docs.coingecko.com/reference/coins-id-circulating-supply-chart"
   ]
  },
  {
   "cell_type": "code",
   "execution_count": 16,
   "id": "23b53d9f-5fd1-49fb-820d-c26479fa0670",
   "metadata": {
    "tags": []
   },
   "outputs": [
    {
     "name": "stdout",
     "output_type": "stream",
     "text": [
      "                    circulating_supply\n",
      "timestamp                             \n",
      "2024-05-22 00:00:00         19701571.0\n",
      "2024-05-23 00:00:00         19702053.0\n",
      "2024-05-24 00:00:00         19702575.0\n",
      "2024-05-25 00:00:00         19703040.0\n",
      "2024-05-26 00:00:00         19703503.0\n",
      "2024-05-27 00:00:00         19704103.0\n",
      "2024-05-28 00:00:00         19704434.0\n",
      "2024-05-29 00:00:00         19704690.0\n",
      "2024-05-30 00:00:00         19705225.0\n",
      "2024-05-31 00:00:00         19705721.0\n",
      "2024-06-01 00:00:00         19706175.0\n",
      "2024-06-02 00:00:00         19706615.0\n",
      "2024-06-03 00:00:00         19707050.0\n",
      "2024-06-04 00:00:00         19707356.0\n",
      "2024-06-05 00:00:00         19707821.0\n",
      "2024-06-06 00:00:00         19708003.0\n",
      "2024-06-07 00:00:00         19708471.0\n",
      "2024-06-08 00:00:00         19709215.0\n",
      "2024-06-09 00:00:00         19709750.0\n",
      "2024-06-10 00:00:00         19710218.0\n",
      "2024-06-11 00:00:00         19710653.0\n",
      "2024-06-12 00:00:00         19711050.0\n",
      "2024-06-13 00:00:00         19711493.0\n",
      "2024-06-14 00:00:00         19711893.0\n",
      "2024-06-15 00:00:00         19712165.0\n",
      "2024-06-16 00:00:00         19712475.0\n",
      "2024-06-17 00:00:00         19713256.0\n",
      "2024-06-18 00:00:00         19713715.0\n",
      "2024-06-19 00:00:00         19714096.0\n",
      "2024-06-20 00:59:52         19714559.0\n"
     ]
    }
   ],
   "source": [
    "# Define the parameters for the coin circulating supply history query\n",
    "coin_id = 'bitcoin'\n",
    "days = 30  # Last 30 days\n",
    "interval = 'daily'  # Daily data points\n",
    "\n",
    "# Fetch historical circulating supply data\n",
    "historical_circulating_supply = cg.coins.historical_data.coin_circulating_supply_history(\n",
    "    coin_id=coin_id,\n",
    "    days=days,\n",
    "    interval=interval\n",
    ")\n",
    "\n",
    "# Display the resulting DataFrame\n",
    "print(historical_circulating_supply)"
   ]
  },
  {
   "cell_type": "markdown",
   "id": "63d3a41d-341c-4979-ba34-6f0392b08230",
   "metadata": {
    "tags": []
   },
   "source": [
    "## coins/{id}/total_supply_chart\n",
    "https://docs.coingecko.com/reference/coins-id-total-supply-chart"
   ]
  },
  {
   "cell_type": "code",
   "execution_count": 17,
   "id": "3731114d-6ae6-400a-8587-f81d341fda3a",
   "metadata": {},
   "outputs": [
    {
     "name": "stdout",
     "output_type": "stream",
     "text": [
      "                    total_supply\n",
      "timestamp                       \n",
      "2024-05-22 00:00:00   21000000.0\n",
      "2024-05-23 00:00:00   21000000.0\n",
      "2024-05-24 00:00:00   21000000.0\n",
      "2024-05-25 00:00:00   21000000.0\n",
      "2024-05-26 00:00:00   21000000.0\n",
      "2024-05-27 00:00:00   21000000.0\n",
      "2024-05-28 00:00:00   21000000.0\n",
      "2024-05-29 00:00:00   21000000.0\n",
      "2024-05-30 00:00:00   21000000.0\n",
      "2024-05-31 00:00:00   21000000.0\n",
      "2024-06-01 00:00:00   21000000.0\n",
      "2024-06-02 00:00:00   21000000.0\n",
      "2024-06-03 00:00:00   21000000.0\n",
      "2024-06-04 00:00:00   21000000.0\n",
      "2024-06-05 00:00:00   21000000.0\n",
      "2024-06-06 00:00:00   21000000.0\n",
      "2024-06-07 00:00:00   21000000.0\n",
      "2024-06-08 00:00:00   21000000.0\n",
      "2024-06-09 00:00:00   21000000.0\n",
      "2024-06-10 00:00:00   21000000.0\n",
      "2024-06-11 00:00:00   21000000.0\n",
      "2024-06-12 00:00:00   21000000.0\n",
      "2024-06-13 00:00:00   21000000.0\n",
      "2024-06-14 00:00:00   21000000.0\n",
      "2024-06-15 00:00:00   21000000.0\n",
      "2024-06-16 00:00:00   21000000.0\n",
      "2024-06-17 00:00:00   21000000.0\n",
      "2024-06-18 00:00:00   21000000.0\n",
      "2024-06-19 00:00:00   21000000.0\n",
      "2024-06-20 00:59:54   21000000.0\n"
     ]
    }
   ],
   "source": [
    "coin_total_supply_history_by_days = cg.coins.historical_data.coin_total_supply_history(\n",
    "    coin_id='bitcoin',\n",
    "    days=30,\n",
    "    interval='daily'\n",
    ")\n",
    "print(coin_total_supply_history_by_days)"
   ]
  },
  {
   "cell_type": "markdown",
   "id": "2aa5ce5d-c071-4a0b-a40f-51a084a6292a",
   "metadata": {},
   "source": [
    "## coins/{coin_id}/total_supply_chart/range\n",
    "https://docs.coingecko.com/reference/coins-id-total-supply-chart-range"
   ]
  },
  {
   "cell_type": "code",
   "execution_count": 18,
   "id": "039c5972-25e3-4c3d-8af8-799fc36099c0",
   "metadata": {},
   "outputs": [
    {
     "name": "stdout",
     "output_type": "stream",
     "text": [
      "           total_supply\n",
      "timestamp              \n",
      "2024-01-02   21000000.0\n",
      "2024-01-03   21000000.0\n",
      "2024-01-04   21000000.0\n",
      "2024-01-05   21000000.0\n",
      "2024-01-06   21000000.0\n",
      "2024-01-07   21000000.0\n",
      "2024-01-08   21000000.0\n",
      "2024-01-09   21000000.0\n",
      "2024-01-10   21000000.0\n",
      "2024-01-11   21000000.0\n",
      "2024-01-12   21000000.0\n",
      "2024-01-13   21000000.0\n",
      "2024-01-14   21000000.0\n",
      "2024-01-15   21000000.0\n",
      "2024-01-16   21000000.0\n",
      "2024-01-17   21000000.0\n",
      "2024-01-18   21000000.0\n",
      "2024-01-19   21000000.0\n",
      "2024-01-20   21000000.0\n",
      "2024-01-21   21000000.0\n",
      "2024-01-22   21000000.0\n",
      "2024-01-23   21000000.0\n",
      "2024-01-24   21000000.0\n",
      "2024-01-25   21000000.0\n",
      "2024-01-26   21000000.0\n",
      "2024-01-27   21000000.0\n",
      "2024-01-28   21000000.0\n",
      "2024-01-29   21000000.0\n",
      "2024-01-30   21000000.0\n"
     ]
    }
   ],
   "source": [
    "coin_total_supply_history_by_dates = cg.coins.historical_data.coin_total_supply_history(\n",
    "    coin_id='bitcoin',\n",
    "    interval='daily',\n",
    "    from_date='01-01-2024',\n",
    "    to_date='01-30-2024'\n",
    ")\n",
    "print(coin_total_supply_history_by_dates)"
   ]
  },
  {
   "cell_type": "markdown",
   "id": "cdcc8d44-f833-48b2-a82f-0ec7193a9ca3",
   "metadata": {},
   "source": [
    "## Close Session"
   ]
  },
  {
   "cell_type": "code",
   "execution_count": 19,
   "id": "cbda052f-a819-46af-905d-5631b10d8b6b",
   "metadata": {
    "tags": []
   },
   "outputs": [
    {
     "data": {
      "text/plain": [
       "'Session closed successfully.'"
      ]
     },
     "execution_count": 19,
     "metadata": {},
     "output_type": "execute_result"
    }
   ],
   "source": [
    "cg.end_session()"
   ]
  },
  {
   "cell_type": "code",
   "execution_count": null,
   "id": "095426fd-10d1-45d0-b812-a666327eaf47",
   "metadata": {},
   "outputs": [],
   "source": []
  }
 ],
 "metadata": {
  "kernelspec": {
   "display_name": "Python 3 (ipykernel)",
   "language": "python",
   "name": "python3"
  },
  "language_info": {
   "codemirror_mode": {
    "name": "ipython",
    "version": 3
   },
   "file_extension": ".py",
   "mimetype": "text/x-python",
   "name": "python",
   "nbconvert_exporter": "python",
   "pygments_lexer": "ipython3",
   "version": "3.11.9"
  }
 },
 "nbformat": 4,
 "nbformat_minor": 5
}
