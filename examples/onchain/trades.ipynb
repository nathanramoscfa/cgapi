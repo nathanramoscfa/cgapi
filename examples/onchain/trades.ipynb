{
 "cells": [
  {
   "cell_type": "markdown",
   "id": "99653cd2-0da7-49ba-9ed6-3ccc612e52b8",
   "metadata": {},
   "source": [
    "# Trades"
   ]
  },
  {
   "cell_type": "code",
   "execution_count": 1,
   "id": "5d77dd58-30a2-4ef6-93db-8c99574de041",
   "metadata": {},
   "outputs": [],
   "source": [
    "import sys\n",
    "import keyring\n",
    "\n",
    "# Adjust the Python path to include the directory where the modules are located\n",
    "sys.path.append('..')  # Adjust based on your directory structure\n",
    "\n",
    "# Import the Trades class\n",
    "from pycgapi.onchain.trades import Trades\n",
    "\n",
    "# Fetch the API key securely using keyring\n",
    "api_key = keyring.get_password('coingecko', 'analyst_api_key')\n",
    "\n",
    "# Initialize the Trades class with the fetched API key\n",
    "trades = Trades(api_key, pro_api=True)"
   ]
  },
  {
   "cell_type": "markdown",
   "id": "e318866c-8244-4afb-ae4b-ddb0398a41a1",
   "metadata": {},
   "source": [
    "## onchain/networks/{network}/pools/{pool_address}/trades\n",
    "https://docs.coingecko.com/reference/pool-trades-contract-address"
   ]
  },
  {
   "cell_type": "code",
   "execution_count": 2,
   "id": "10b290bf-bad5-4943-a83f-cc7281318773",
   "metadata": {},
   "outputs": [
    {
     "name": "stdout",
     "output_type": "stream",
     "text": [
      "Available Fields: ['block_number', 'block_timestamp', 'from_token_address', 'from_token_amount', 'kind', 'price_from_in_currency_token', 'price_from_in_usd', 'price_to_in_currency_token', 'price_to_in_usd', 'to_token_address', 'to_token_amount', 'tx_from_address', 'tx_hash', 'type', 'volume_in_usd']\n"
     ]
    }
   ],
   "source": [
    "# Define network and pool address\n",
    "network = 'eth'\n",
    "pool_address = '0x06da0fd433c1a5d7a4faa01111c044910a184553'\n",
    "\n",
    "# Fetch past 24-hour trades for a specific pool address\n",
    "past_trades = trades.past_24h_trades_by_pool_address(\n",
    "    network,\n",
    "    pool_address,\n",
    "    trade_volume_in_usd_greater_than=500\n",
    ")\n",
    "\n",
    "# Print the result\n",
    "print('Available Fields: {}'.format(sorted(past_trades.columns)))"
   ]
  },
  {
   "cell_type": "markdown",
   "id": "318a44c6-c49f-44e3-a3e5-e80357fe79dd",
   "metadata": {},
   "source": [
    "## Close Session"
   ]
  },
  {
   "cell_type": "code",
   "execution_count": 3,
   "id": "829af48e-519d-4a7f-9062-a5c0911f555e",
   "metadata": {
    "tags": []
   },
   "outputs": [
    {
     "data": {
      "text/plain": [
       "'Session closed successfully.'"
      ]
     },
     "execution_count": 3,
     "metadata": {},
     "output_type": "execute_result"
    }
   ],
   "source": [
    "trades.end_session()"
   ]
  },
  {
   "cell_type": "code",
   "execution_count": null,
   "id": "d6258408-1a42-4ace-93f9-091249c501d6",
   "metadata": {},
   "outputs": [],
   "source": []
  }
 ],
 "metadata": {
  "kernelspec": {
   "display_name": "Python 3 (ipykernel)",
   "language": "python",
   "name": "python3"
  },
  "language_info": {
   "codemirror_mode": {
    "name": "ipython",
    "version": 3
   },
   "file_extension": ".py",
   "mimetype": "text/x-python",
   "name": "python",
   "nbconvert_exporter": "python",
   "pygments_lexer": "ipython3",
   "version": "3.11.3"
  }
 },
 "nbformat": 4,
 "nbformat_minor": 5
}
