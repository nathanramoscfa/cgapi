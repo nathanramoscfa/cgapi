{
 "cells": [
  {
   "cell_type": "markdown",
   "id": "41720f57-8c2f-45f0-9352-774af3233073",
   "metadata": {},
   "source": [
    "# Tokens"
   ]
  },
  {
   "cell_type": "code",
   "execution_count": 1,
   "id": "93b98716-2cf2-4d40-996f-29c9d366d65e",
   "metadata": {},
   "outputs": [],
   "source": [
    "import sys\n",
    "import keyring\n",
    "\n",
    "# Adjust the Python path to include the directory where the modules are located\n",
    "sys.path.append('..')  # Adjust based on your directory structure\n",
    "\n",
    "# Import the Tokens class\n",
    "from pycgapi.onchain.tokens import Tokens\n",
    "\n",
    "# Fetch the API key securely using keyring\n",
    "api_key = keyring.get_password('coingecko', 'analyst_api_key')\n",
    "\n",
    "# Initialize the Tokens class with the fetched API key\n",
    "tokens = Tokens(api_key, pro_api=True)"
   ]
  },
  {
   "cell_type": "markdown",
   "id": "21c2248b-80fc-4a7d-8a5c-0ebbb74e383f",
   "metadata": {},
   "source": [
    "## onchain/networks/{network}/tokens/{token_address}/pools\n",
    "https://docs.coingecko.com/reference/top-pools-contract-address"
   ]
  },
  {
   "cell_type": "code",
   "execution_count": 2,
   "id": "bc587fcb-c36e-4a0b-97f8-e8db4b1556a1",
   "metadata": {},
   "outputs": [
    {
     "name": "stdout",
     "output_type": "stream",
     "text": [
      "Available Fields: ['address', 'base_token_address', 'base_token_coingecko_coin_id', 'base_token_image_url', 'base_token_name', 'base_token_price_native_currency', 'base_token_price_quote_token', 'base_token_price_usd', 'base_token_symbol', 'fdv_usd', 'market_cap_usd', 'name', 'pool_created_at', 'price_change_percentage', 'quote_token_address', 'quote_token_coingecko_coin_id', 'quote_token_image_url', 'quote_token_name', 'quote_token_price_base_token', 'quote_token_price_native_currency', 'quote_token_price_usd', 'quote_token_symbol', 'reserve_in_usd', 'token_price_usd', 'transactions', 'volume_usd']\n"
     ]
    }
   ],
   "source": [
    "# Example usage to fetch top pools by token address\n",
    "top_pools = tokens.top_pools_by_token_address(\n",
    "    network='eth',\n",
    "    token_address='0xc02aaa39b223fe8d0a0e5c4f27ead9083c756cc2',\n",
    "    include='base_token,quote_token',\n",
    "    page=1\n",
    ")\n",
    "print('Available Fields: {}'.format(sorted(top_pools.columns)))"
   ]
  },
  {
   "cell_type": "markdown",
   "id": "10c3bc1b-03af-49ce-afe3-7a759622338f",
   "metadata": {},
   "source": [
    "## onchain/networks/{network}/tokens/{address}\n",
    "https://docs.coingecko.com/reference/token-data-contract-address"
   ]
  },
  {
   "cell_type": "code",
   "execution_count": 3,
   "id": "621c6ebf-4afd-4385-9825-0fa327bab346",
   "metadata": {},
   "outputs": [
    {
     "name": "stdout",
     "output_type": "stream",
     "text": [
      "                                                                      0\n",
      "address                      0xdac17f958d2ee523a2206206994597c13d831ec7\n",
      "name                                                         Tether USD\n",
      "symbol                                                             USDT\n",
      "image_url             https://assets.coingecko.com/coins/images/325/...\n",
      "coingecko_coin_id                                                tether\n",
      "decimals                                                              6\n",
      "total_supply                                        49999156520373530.0\n",
      "price_usd                                                    1.00293331\n",
      "fdv_usd                                                     50145805708\n",
      "total_reserve_in_usd                    337137538.624473578169243321256\n",
      "market_cap_usd                                         109436443239.632\n",
      "volume_usd.h24                                         352983539.517811\n",
      "top_pools_data        [{'id': 'eth_0x52ea46506b9cc5ef470c5bf89f17dc2...\n"
     ]
    }
   ],
   "source": [
    "# Fetch specific token data by network and address, including top pools\n",
    "token_data_by_address = tokens.token_data_by_address(\n",
    "    network='eth', \n",
    "    address='0xdac17f958d2ee523a2206206994597c13d831ec7', \n",
    "    include='top_pools'\n",
    ")\n",
    "print(token_data_by_address)"
   ]
  },
  {
   "cell_type": "markdown",
   "id": "761bf621-5d07-4986-8ad0-b48e983adee0",
   "metadata": {},
   "source": [
    "## onchain/networks/{network}/tokens/multi/{addresses_str}\n",
    "https://docs.coingecko.com/reference/tokens-data-contract-addresses"
   ]
  },
  {
   "cell_type": "code",
   "execution_count": 4,
   "id": "ec9f12af-b799-437e-9668-703fd351625b",
   "metadata": {},
   "outputs": [
    {
     "name": "stdout",
     "output_type": "stream",
     "text": [
      "Available Fields: ['address', 'coingecko_coin_id', 'decimals', 'fdv_usd', 'id', 'image_url', 'market_cap_usd', 'name', 'price_usd', 'symbol', 'top_pools_address', 'top_pools_base_token_price_native_currency', 'top_pools_base_token_price_quote_token', 'top_pools_base_token_price_usd', 'top_pools_fdv_usd', 'top_pools_market_cap_usd', 'top_pools_name', 'top_pools_pool_created_at', 'top_pools_price_change_percentage', 'top_pools_quote_token_price_base_token', 'top_pools_quote_token_price_native_currency', 'top_pools_quote_token_price_usd', 'top_pools_reserve_in_usd', 'top_pools_transactions', 'top_pools_volume_usd', 'total_reserve_in_usd', 'total_supply', 'volume_usd']\n"
     ]
    }
   ],
   "source": [
    "addresses = [\n",
    "    '0xc02aaa39b223fe8d0a0e5c4f27ead9083c756cc2',  # WETH\n",
    "    '0x6b175474e89094c44da98b954eedeac495271d0f'   # DAI\n",
    "]\n",
    "\n",
    "# Fetch data for multiple tokens by addresses\n",
    "tokens_data_by_addresses = tokens.tokens_data_by_addresses(network='eth', addresses=addresses, include='top_pools')\n",
    "print('Available Fields: {}'.format(sorted(tokens_data_by_addresses.columns)))"
   ]
  },
  {
   "cell_type": "markdown",
   "id": "222310cd-8791-4e1d-9339-23199d49fb5a",
   "metadata": {},
   "source": [
    "## onchain/networks/{network}/tokens/{address}/info\n",
    "https://docs.coingecko.com/reference/token-info-contract-address"
   ]
  },
  {
   "cell_type": "code",
   "execution_count": 5,
   "id": "5bfca561-78a1-4988-968a-3bf80342eb9e",
   "metadata": {},
   "outputs": [
    {
     "name": "stdout",
     "output_type": "stream",
     "text": [
      "                                                                   0\n",
      "address                   0xdac17f958d2ee523a2206206994597c13d831ec7\n",
      "name                                                      Tether USD\n",
      "symbol                                                          USDT\n",
      "image_url          https://assets.coingecko.com/coins/images/325/...\n",
      "coingecko_coin_id                                             tether\n",
      "websites                                        [https://tether.to/]\n",
      "description        Tether (USDT) is a cryptocurrency with a value...\n",
      "gt_score                                                   89.602385\n",
      "discord_url                                                     None\n",
      "telegram_handle                                                 None\n",
      "twitter_handle                                             Tether_to\n"
     ]
    }
   ],
   "source": [
    "# Fetch token information by address\n",
    "token_info_by_token_address = tokens.token_info_by_address(\n",
    "    network='eth',\n",
    "    address='0xdac17f958d2ee523a2206206994597c13d831ec7'\n",
    ")\n",
    "print(token_info_by_token_address)"
   ]
  },
  {
   "cell_type": "markdown",
   "id": "7b2e74c0-8901-4732-a88b-08bb351a8cce",
   "metadata": {},
   "source": [
    "## onchain/networks/{network}/pools/{pool_address}/info\n",
    "https://docs.coingecko.com/reference/pool-token-info-contract-address"
   ]
  },
  {
   "cell_type": "code",
   "execution_count": 6,
   "id": "80e848fd-7a0d-4296-b0bf-4f56ed034a36",
   "metadata": {},
   "outputs": [
    {
     "name": "stdout",
     "output_type": "stream",
     "text": [
      "Available Fields: ['attributes.address', 'attributes.coingecko_coin_id', 'attributes.description', 'attributes.discord_url', 'attributes.gt_score', 'attributes.image_url', 'attributes.name', 'attributes.symbol', 'attributes.telegram_handle', 'attributes.twitter_handle', 'attributes.websites', 'type']\n"
     ]
    }
   ],
   "source": [
    "# Fetch pool token information by pool address\n",
    "pool_info_by_pool_address = tokens.pool_tokens_info_by_pool_address(\n",
    "    network='eth',\n",
    "    pool_address='0x06da0fd433c1a5d7a4faa01111c044910a184553'\n",
    ")\n",
    "print('Available Fields: {}'.format(sorted(pool_info_by_pool_address.columns)))"
   ]
  },
  {
   "cell_type": "markdown",
   "id": "bdf4c16d-3d50-4dbf-bc3a-019130e168bb",
   "metadata": {},
   "source": [
    "## onchain/tokens/info_recently_updated\n",
    "https://docs.coingecko.com/reference/tokens-info-recent-updated"
   ]
  },
  {
   "cell_type": "code",
   "execution_count": 9,
   "id": "9846403e-48f8-44ae-89c8-4680160025cc",
   "metadata": {},
   "outputs": [
    {
     "name": "stdout",
     "output_type": "stream",
     "text": [
      "Available Fields: ['attributes.address', 'attributes.coingecko_coin_id', 'attributes.description', 'attributes.discord_url', 'attributes.gt_score', 'attributes.image_url', 'attributes.metadata_updated_at', 'attributes.name', 'attributes.symbol', 'attributes.telegram_handle', 'attributes.twitter_handle', 'attributes.websites', 'relationships.network.data.id', 'relationships.network.data.type', 'type']\n"
     ]
    }
   ],
   "source": [
    "# Fetch data for the 100 most recently updated tokens\n",
    "# Optionally include 'network' to get network information with each token\n",
    "updated_tokens_df = tokens.most_recently_updated_tokens_list(include='network')\n",
    "print('Available Fields: {}'.format(sorted(updated_tokens_df.columns)))"
   ]
  },
  {
   "cell_type": "markdown",
   "id": "965b7263-c078-405c-bcd5-62301ffdf4b9",
   "metadata": {},
   "source": [
    "## Close Session"
   ]
  },
  {
   "cell_type": "code",
   "execution_count": 10,
   "id": "b74063a6-207b-4965-a5e8-8d5c2577b532",
   "metadata": {},
   "outputs": [
    {
     "data": {
      "text/plain": [
       "'Session closed successfully.'"
      ]
     },
     "execution_count": 10,
     "metadata": {},
     "output_type": "execute_result"
    }
   ],
   "source": [
    "tokens.end_session()"
   ]
  },
  {
   "cell_type": "code",
   "execution_count": null,
   "id": "f7f99e25-402a-48ef-9243-a27b464e641a",
   "metadata": {},
   "outputs": [],
   "source": []
  }
 ],
 "metadata": {
  "kernelspec": {
   "display_name": "Python 3 (ipykernel)",
   "language": "python",
   "name": "python3"
  },
  "language_info": {
   "codemirror_mode": {
    "name": "ipython",
    "version": 3
   },
   "file_extension": ".py",
   "mimetype": "text/x-python",
   "name": "python",
   "nbconvert_exporter": "python",
   "pygments_lexer": "ipython3",
   "version": "3.11.3"
  }
 },
 "nbformat": 4,
 "nbformat_minor": 5
}
