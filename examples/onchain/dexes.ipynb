{
 "cells": [
  {
   "cell_type": "markdown",
   "id": "54a8b783-0e2e-4e68-ba2c-d86958e8faf3",
   "metadata": {},
   "source": [
    "# Dexes"
   ]
  },
  {
   "cell_type": "code",
   "execution_count": 1,
   "id": "93bbced5-5b53-4db3-b892-1b45de09c6d2",
   "metadata": {},
   "outputs": [],
   "source": [
    "import sys\n",
    "import keyring\n",
    "\n",
    "# Adjust the Python path to include the directory where the modules are located\n",
    "sys.path.append('../')  # Adjust based on your directory structure\n",
    "\n",
    "# Import the Dexes class\n",
    "from pycgapi.onchain.dexes import Dexes\n",
    "\n",
    "# Fetch the API key securely using keyring\n",
    "api_key = keyring.get_password('coingecko', 'analyst_api_key')\n",
    "\n",
    "# Initialize the Dexes class with the fetched API key\n",
    "dexes = Dexes(api_key, pro_api=True)"
   ]
  },
  {
   "cell_type": "markdown",
   "id": "80f50a4c-01e1-4cc7-8b01-8cedb0552356",
   "metadata": {},
   "source": [
    "## onchain/networks/{network}/dexes\n",
    "https://docs.coingecko.com/reference/dexes-list"
   ]
  },
  {
   "cell_type": "code",
   "execution_count": 2,
   "id": "691ff84e-33cb-4c2e-b2ee-98de5adae4ec",
   "metadata": {},
   "outputs": [
    {
     "name": "stdout",
     "output_type": "stream",
     "text": [
      "                            id type                                attributes\n",
      "0                   uniswap_v2  dex                    {'name': 'Uniswap V2'}\n",
      "1                    sushiswap  dex                     {'name': 'SushiSwap'}\n",
      "2                   uniswap_v3  dex                    {'name': 'Uniswap V3'}\n",
      "3                    shibaswap  dex                     {'name': 'Shibaswap'}\n",
      "4                    templedao  dex                     {'name': 'TempleDAO'}\n",
      "5            standard_ethereum  dex           {'name': 'Standard (Ethereum)'}\n",
      "6               swapr_ethereum  dex              {'name': 'Swapr (Ethereum)'}\n",
      "7                    degenswap  dex                     {'name': 'DegenSwap'}\n",
      "8                      concave  dex                       {'name': 'Concave'}\n",
      "9          radioshack_ethereum  dex         {'name': 'RadioShack (Ethereum)'}\n",
      "10        elk_finance_ethereum  dex        {'name': 'Elk Finance (Ethereum)'}\n",
      "11               integral_size  dex                 {'name': 'Integral SIZE'}\n",
      "12           kyberswap_elastic  dex             {'name': 'KyberSwap Elastic'}\n",
      "13           fraxswap_ethereum  dex           {'name': 'Fraxswap (Ethereum)'}\n",
      "14                   defi_swap  dex                     {'name': 'Defi Swap'}\n",
      "15                       curve  dex                         {'name': 'Curve'}\n",
      "16            apeswap_ethereum  dex            {'name': 'ApeSwap (Ethereum)'}\n",
      "17                    sakeswap  dex                      {'name': 'SakeSwap'}\n",
      "18              dooar_ethereum  dex              {'name': 'DOOAR (Ethereum)'}\n",
      "19        spice_trade_ethereum  dex        {'name': 'Spice Trade (Ethereum)'}\n",
      "20                      unicly  dex                        {'name': 'Unicly'}\n",
      "21                       verse  dex                         {'name': 'Verse'}\n",
      "22        pancakeswap_ethereum  dex        {'name': 'Pancakeswap (Ethereum)'}\n",
      "23  kyberswap_classic_ethereum  dex  {'name': 'Kyberswap Classic (Ethereum)'}\n",
      "24       safemoonswap_ethereum  dex       {'name': 'SafemoonSwap (Ethereum)'}\n",
      "25           balancer_ethereum  dex        {'name': 'Balancer V2 (Ethereum)'}\n",
      "26                  solidlydex  dex                       {'name': 'Solidly'}\n",
      "27            antfarm-ethereum  dex            {'name': 'Antfarm (Ethereum)'}\n",
      "28     pancakeswap-v3-ethereum  dex     {'name': 'Pancakeswap V3 (Ethereum)'}\n",
      "29            smardex-ethereum  dex            {'name': 'SmarDex (Ethereum)'}\n",
      "30                   whiteswap  dex                     {'name': 'Whiteswap'}\n",
      "31          saitaswap-ethereum  dex          {'name': 'Saitaswap (Ethereum)'}\n",
      "32          surge-protocol-eth  dex          {'name': 'Surge Protocol (ETH)'}\n",
      "33                 sashimiswap  dex                   {'name': 'Sashimiswap'}\n",
      "34                     pepedex  dex                       {'name': 'Pepedex'}\n",
      "35                  x7-finance  dex                    {'name': 'x7 Finance'}\n",
      "36     traderjoe-v2-1-ethereum  dex     {'name': 'TraderJoe V2.1 (Ethereum)'}\n",
      "37                    hopeswap  dex                      {'name': 'HopeSwap'}\n",
      "38      dex-on-crypto-ethereum  dex      {'name': 'Dex on Crypto (Ethereum)'}\n",
      "39       sushiswap-v3-ethereum  dex       {'name': 'SushiSwap V3 (Ethereum)'}\n",
      "40                  solidly-v3  dex                    {'name': 'Solidly V3'}\n",
      "41              9inch-ethereum  dex              {'name': '9inch (Ethereum)'}\n",
      "42          justmoney-ethereum  dex          {'name': 'JustMoney (Ethereum)'}\n",
      "43              wagmi-ethereum  dex              {'name': 'WAGMI (Ethereum)'}\n",
      "44               lif3-ethereum  dex               {'name': 'Lif3 (Ethereum)'}\n",
      "45                     bitswap  dex                       {'name': 'BitSwap'}\n",
      "46                   blueprint  dex                     {'name': 'Blueprint'}\n",
      "47              orion-ethereum  dex              {'name': 'Orion (Ethereum)'}\n",
      "48             vvs-v3-ethereum  dex             {'name': 'VVS V3 (Ethereum)'}\n",
      "49      convergence-finance-v2  dex        {'name': 'Convergence Finance V2'}\n"
     ]
    }
   ],
   "source": [
    "# Example usage to fetch supported dexes on the Ethereum network\n",
    "supported_dexes = dexes.supported_dexes_list(network)\n",
    "print(supported_dexes)"
   ]
  },
  {
   "cell_type": "markdown",
   "id": "fdaa0f65-33fa-4c8f-97d0-18a572346571",
   "metadata": {},
   "source": [
    "## Close Session"
   ]
  },
  {
   "cell_type": "code",
   "execution_count": 4,
   "id": "c7c3de13-03e5-446b-b663-49e605559825",
   "metadata": {},
   "outputs": [
    {
     "data": {
      "text/plain": [
       "'Session closed successfully.'"
      ]
     },
     "execution_count": 4,
     "metadata": {},
     "output_type": "execute_result"
    }
   ],
   "source": [
    "dexes.end_session()"
   ]
  },
  {
   "cell_type": "code",
   "execution_count": null,
   "id": "a9554814-886b-438d-aae6-c366ad59f95d",
   "metadata": {},
   "outputs": [],
   "source": []
  }
 ],
 "metadata": {
  "kernelspec": {
   "display_name": "Python 3 (ipykernel)",
   "language": "python",
   "name": "python3"
  },
  "language_info": {
   "codemirror_mode": {
    "name": "ipython",
    "version": 3
   },
   "file_extension": ".py",
   "mimetype": "text/x-python",
   "name": "python",
   "nbconvert_exporter": "python",
   "pygments_lexer": "ipython3",
   "version": "3.11.3"
  }
 },
 "nbformat": 4,
 "nbformat_minor": 5
}
