{
 "cells": [
  {
   "cell_type": "markdown",
   "id": "db5b4e96-f2cf-4b0c-9fbc-0fe339345316",
   "metadata": {},
   "source": [
    "# Networks"
   ]
  },
  {
   "cell_type": "code",
   "execution_count": 1,
   "id": "8914563f-d12d-40cd-8f64-aa1fd38c0580",
   "metadata": {},
   "outputs": [],
   "source": [
    "import sys\n",
    "import keyring\n",
    "\n",
    "# Adjust the Python path to include the directory where the modules are located\n",
    "sys.path.append('../')  # Adjust based on your directory structure\n",
    "\n",
    "# Import the Networks class\n",
    "from pycgapi.onchain.networks import Networks\n",
    "\n",
    "# Fetch the API key securely using keyring\n",
    "api_key = keyring.get_password('coingecko', 'analyst_api_key')\n",
    "\n",
    "# Initialize the Networks class with the fetched API key\n",
    "networks = Networks(api_key, pro_api=True)"
   ]
  },
  {
   "cell_type": "markdown",
   "id": "79d7f322-3895-43fd-a60b-c366af0770a0",
   "metadata": {},
   "source": [
    "## onchain/networks\n",
    "https://docs.coingecko.com/reference/networks-list"
   ]
  },
  {
   "cell_type": "code",
   "execution_count": 2,
   "id": "5660c56f-86a9-44a5-9b75-84b1fc99348e",
   "metadata": {},
   "outputs": [
    {
     "name": "stdout",
     "output_type": "stream",
     "text": [
      "                  id              name coingecko_asset_platform_id\n",
      "0                eth          Ethereum                    ethereum\n",
      "1                bsc         BNB Chain         binance-smart-chain\n",
      "2        polygon_pos       Polygon POS                 polygon-pos\n",
      "3               avax         Avalanche                   avalanche\n",
      "4               movr         Moonriver                   moonriver\n",
      "..               ...               ...                         ...\n",
      "95         shibarium         Shibarium                        None\n",
      "96     manta-pacific     Manta Pacific               manta-pacific\n",
      "97   sepolia-testnet   Sepolia Testnet                        None\n",
      "98  hedera-hashgraph  Hedera Hashgraph            hedera-hashgraph\n",
      "99        shimmerevm        ShimmerEVM                        None\n",
      "\n",
      "[100 rows x 3 columns]\n"
     ]
    }
   ],
   "source": [
    "# Fetch supported networks list\n",
    "supported_networks = networks.supported_networks_list()\n",
    "print(supported_networks)"
   ]
  },
  {
   "cell_type": "markdown",
   "id": "100259c2-0e65-44bf-af40-c821ca732b35",
   "metadata": {},
   "source": [
    "## Close Session"
   ]
  },
  {
   "cell_type": "code",
   "execution_count": 4,
   "id": "27c7117c-06c4-478b-a0a3-bff2bab99d5c",
   "metadata": {},
   "outputs": [
    {
     "data": {
      "text/plain": [
       "'Session closed successfully.'"
      ]
     },
     "execution_count": 4,
     "metadata": {},
     "output_type": "execute_result"
    }
   ],
   "source": [
    "networks.end_session()"
   ]
  },
  {
   "cell_type": "code",
   "execution_count": null,
   "id": "3d1465aa-71f1-49ff-a63d-7aebb7573fc3",
   "metadata": {},
   "outputs": [],
   "source": []
  }
 ],
 "metadata": {
  "kernelspec": {
   "display_name": "Python 3 (ipykernel)",
   "language": "python",
   "name": "python3"
  },
  "language_info": {
   "codemirror_mode": {
    "name": "ipython",
    "version": 3
   },
   "file_extension": ".py",
   "mimetype": "text/x-python",
   "name": "python",
   "nbconvert_exporter": "python",
   "pygments_lexer": "ipython3",
   "version": "3.11.3"
  }
 },
 "nbformat": 4,
 "nbformat_minor": 5
}
