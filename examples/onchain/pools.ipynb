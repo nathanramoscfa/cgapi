{
 "cells": [
  {
   "cell_type": "markdown",
   "id": "13b432ca-a867-4b55-ab1e-3851e9d55ca8",
   "metadata": {},
   "source": [
    "# Pools"
   ]
  },
  {
   "cell_type": "code",
   "execution_count": 1,
   "id": "addd1a60-ca14-45a2-af8e-35876d4e2050",
   "metadata": {},
   "outputs": [],
   "source": [
    "import sys\n",
    "import keyring\n",
    "\n",
    "# Adjust the Python path to include the directory where the modules are located\n",
    "sys.path.append('..')  # Adjust based on your directory structure\n",
    "\n",
    "# Import the Pools class\n",
    "from pycgapi.onchain.pools import Pools\n",
    "\n",
    "# Fetch the API key securely using keyring\n",
    "api_key = keyring.get_password('coingecko', 'analyst_api_key')\n",
    "\n",
    "# Initialize the Pools class with the fetched API key\n",
    "pools = Pools(api_key, pro_api=True)"
   ]
  },
  {
   "cell_type": "markdown",
   "id": "3b94f7ed-3cab-4a91-a064-36839c4b8ef8",
   "metadata": {},
   "source": [
    "## Parameters"
   ]
  },
  {
   "cell_type": "markdown",
   "id": "d4f23bc0-024b-4779-8377-320c2711b4ab",
   "metadata": {},
   "source": [
    "## onchain/networks/trending_pools\n",
    "https://docs.coingecko.com/reference/trending-pools-list"
   ]
  },
  {
   "cell_type": "code",
   "execution_count": 2,
   "id": "edab263f-6ad7-4fb6-b519-1f29e4a6e998",
   "metadata": {
    "tags": []
   },
   "outputs": [
    {
     "name": "stdout",
     "output_type": "stream",
     "text": [
      "Available Fields: ['address', 'base_token_price_native_currency', 'base_token_price_quote_token', 'base_token_price_usd', 'fdv_usd', 'market_cap_usd', 'name', 'pool_created_at', 'price_change_percentage', 'quote_token_price_base_token', 'quote_token_price_native_currency', 'quote_token_price_usd', 'reserve_in_usd', 'transactions', 'volume_usd']\n"
     ]
    }
   ],
   "source": [
    "# Fetching trending pools with default settings\n",
    "trending_pools = pools.trending_pools_list()\n",
    "print('Available Fields: {}'.format(sorted(trending_pools.columns)))"
   ]
  },
  {
   "cell_type": "markdown",
   "id": "2bb639a6-a326-4144-982a-c95c1764bb49",
   "metadata": {},
   "source": [
    "## onchain/networks/{network}/trending_pools\n",
    "https://docs.coingecko.com/reference/trending-pools-network"
   ]
  },
  {
   "cell_type": "code",
   "execution_count": 3,
   "id": "dfc0cefd-fbc0-45c4-9bbd-792778c9d56a",
   "metadata": {
    "tags": []
   },
   "outputs": [
    {
     "name": "stdout",
     "output_type": "stream",
     "text": [
      "Available Fields: ['address', 'base_token_address', 'base_token_coingecko_coin_id', 'base_token_image_url', 'base_token_name', 'base_token_price_native_currency', 'base_token_price_quote_token', 'base_token_price_usd', 'base_token_symbol', 'dex_name', 'fdv_usd', 'market_cap_usd', 'name', 'pool_created_at', 'price_change_percentage', 'quote_token_address', 'quote_token_coingecko_coin_id', 'quote_token_image_url', 'quote_token_name', 'quote_token_price_base_token', 'quote_token_price_native_currency', 'quote_token_price_usd', 'quote_token_symbol', 'reserve_in_usd', 'transactions', 'type', 'volume_usd']\n"
     ]
    }
   ],
   "source": [
    "# Example usage to fetch trending pools for Ethereum network\n",
    "trending_pools = pools.trending_pools_by_network(\n",
    "    network='eth',\n",
    "    include='base_token,quote_token,dex'\n",
    ")\n",
    "print('Available Fields: {}'.format(sorted(trending_pools.columns)))"
   ]
  },
  {
   "cell_type": "markdown",
   "id": "748c01f5-5ed7-4b71-944d-de198e784ad2",
   "metadata": {},
   "source": [
    "## onchain/networks/{network}/pools/{address}\n",
    "https://docs.coingecko.com/reference/pool-address"
   ]
  },
  {
   "cell_type": "code",
   "execution_count": 4,
   "id": "95dddbdb-0969-44e1-a9b8-262d1f9d43ce",
   "metadata": {},
   "outputs": [
    {
     "name": "stdout",
     "output_type": "stream",
     "text": [
      "id                                    eth_0x88e6a0c2ddd26feeb64f039a2c41296fcb3f5640\n",
      "base_token_price_usd                                                3056.78259026312\n",
      "base_token_price_native_currency                                                 1.0\n",
      "quote_token_price_usd                                               1.00041704903146\n",
      "quote_token_price_native_currency                               0.000327280611665223\n",
      "base_token_price_quote_token                                                 3055.48\n",
      "quote_token_price_base_token                                              0.00032728\n",
      "address                                   0x88e6a0c2ddd26feeb64f039a2c41296fcb3f5640\n",
      "name                                                               WETH / USDC 0.05%\n",
      "pool_created_at                                                 2021-12-29T12:35:14Z\n",
      "fdv_usd                                                                   9287969083\n",
      "market_cap_usd                                                                  None\n",
      "price_change_percentage            {'m5': '0', 'h1': '0.16', 'h6': '-1.07', 'h24'...\n",
      "transactions                       {'m5': {'buys': 3, 'sells': 2, 'buyers': 3, 's...\n",
      "volume_usd                         {'m5': '54410.214787398', 'h1': '4725124.45137...\n",
      "reserve_in_usd                                                        163529543.2735\n",
      "type                                                                            pool\n",
      "base_token_address                        0xc02aaa39b223fe8d0a0e5c4f27ead9083c756cc2\n",
      "base_token_name                                                        Wrapped Ether\n",
      "base_token_symbol                                                               WETH\n",
      "base_token_image_url               https://assets.coingecko.com/coins/images/2518...\n",
      "base_token_coingecko_coin_id                                                    weth\n",
      "quote_token_address                       0xa0b86991c6218b36c1d19d4a2e9eb0ce3606eb48\n",
      "quote_token_name                                                            USD Coin\n",
      "quote_token_symbol                                                              USDC\n",
      "quote_token_image_url              https://assets.coingecko.com/coins/images/6319...\n",
      "quote_token_coingecko_coin_id                                               usd-coin\n",
      "dex_name                                                                  Uniswap V3\n"
     ]
    }
   ],
   "source": [
    "# Fetch specific pool data by network and address\n",
    "pool_data_by_address = pools.specific_pool_data_by_address(\n",
    "    network='eth',\n",
    "    address='0x88e6a0c2ddd26feeb64f039a2c41296fcb3f5640',\n",
    "    include='base_token,quote_token,dex'\n",
    ")\n",
    "print(pool_data_by_address)"
   ]
  },
  {
   "cell_type": "markdown",
   "id": "8de23556-ab94-4a4c-b47e-69b4098a01ab",
   "metadata": {},
   "source": [
    "## onchain/networks/{network}/pools/multi/{addresses_str}\n",
    "https://docs.coingecko.com/reference/pools-addresses"
   ]
  },
  {
   "cell_type": "code",
   "execution_count": 5,
   "id": "0575295b-0444-43b8-ac87-1ca93252c5f8",
   "metadata": {},
   "outputs": [
    {
     "name": "stdout",
     "output_type": "stream",
     "text": [
      "Available Fields: ['address', 'base_token_address', 'base_token_coingecko_coin_id', 'base_token_image_url', 'base_token_name', 'base_token_price_native_currency', 'base_token_price_quote_token', 'base_token_price_usd', 'base_token_symbol', 'dex_name', 'fdv_usd', 'market_cap_usd', 'name', 'pool_created_at', 'price_change_percentage', 'quote_token_address', 'quote_token_coingecko_coin_id', 'quote_token_image_url', 'quote_token_name', 'quote_token_price_base_token', 'quote_token_price_native_currency', 'quote_token_price_usd', 'quote_token_symbol', 'reserve_in_usd', 'transactions', 'volume_usd']\n"
     ]
    }
   ],
   "source": [
    "pool_contract_addresses = [\n",
    "    '0x88e6a0c2ddd26feeb64f039a2c41296fcb3f5640',\n",
    "    '0x0d4a11d5eeaac28ec3f61d100daf4d40471f1852'\n",
    "]\n",
    "\n",
    "# Fetch data for multiple pools by network and addresses\n",
    "pool_data_by_addresses = pools.multiple_pools_data_by_addresses(\n",
    "    network='eth', \n",
    "    addresses=pool_contract_addresses,\n",
    "    include='base_token,quote_token,dex'\n",
    ")\n",
    "print('Available Fields: {}'.format(sorted(pool_data_by_addresses.columns)))"
   ]
  },
  {
   "cell_type": "markdown",
   "id": "3c650cfd-ddce-430e-a5b4-fd2593c1541e",
   "metadata": {},
   "source": [
    "## onchain/networks/{network}/pools\n",
    "https://docs.coingecko.com/reference/top-pools-network"
   ]
  },
  {
   "cell_type": "code",
   "execution_count": 6,
   "id": "1f877668-41d3-4fb3-998e-7c37807b20e6",
   "metadata": {
    "tags": []
   },
   "outputs": [
    {
     "name": "stdout",
     "output_type": "stream",
     "text": [
      "Available Fields: ['address', 'base_token_price_native_currency', 'base_token_price_quote_token', 'base_token_price_usd', 'fdv_usd', 'market_cap_usd', 'name', 'pool_created_at', 'price_change_percentage.h1', 'price_change_percentage.h24', 'price_change_percentage.h6', 'price_change_percentage.m5', 'quote_token_price_base_token', 'quote_token_price_native_currency', 'quote_token_price_usd', 'rel_base_token.data.id', 'rel_base_token.data.type', 'rel_dex.data.id', 'rel_dex.data.type', 'rel_quote_token.data.id', 'rel_quote_token.data.type', 'reserve_in_usd', 'transactions.h1.buyers', 'transactions.h1.buys', 'transactions.h1.sellers', 'transactions.h1.sells', 'transactions.h24.buyers', 'transactions.h24.buys', 'transactions.h24.sellers', 'transactions.h24.sells', 'transactions.m15.buyers', 'transactions.m15.buys', 'transactions.m15.sellers', 'transactions.m15.sells', 'transactions.m30.buyers', 'transactions.m30.buys', 'transactions.m30.sellers', 'transactions.m30.sells', 'transactions.m5.buyers', 'transactions.m5.buys', 'transactions.m5.sellers', 'transactions.m5.sells', 'type', 'volume_usd.h1', 'volume_usd.h24', 'volume_usd.h6', 'volume_usd.m5']\n"
     ]
    }
   ],
   "source": [
    "# Fetch data for top pools by network\n",
    "top_pools_by_network = pools.top_pools_by_network(\n",
    "    network='eth',\n",
    "    include='base_token,quote_token,dex',\n",
    "    page=1\n",
    ")\n",
    "print('Available Fields: {}'.format(sorted(top_pools_by_network.columns)))"
   ]
  },
  {
   "cell_type": "markdown",
   "id": "13a6cd19-35ea-4718-a8f8-ac0d506e9171",
   "metadata": {},
   "source": [
    "## onchain/networks/{network}/dexes/{dex}/pools\n",
    "https://docs.coingecko.com/reference/top-pools-dex"
   ]
  },
  {
   "cell_type": "code",
   "execution_count": 7,
   "id": "b8cce84f-408d-4b28-8042-2938a70183e2",
   "metadata": {
    "tags": []
   },
   "outputs": [
    {
     "name": "stdout",
     "output_type": "stream",
     "text": [
      "Available Fields: ['address', 'base_token_address', 'base_token_coingecko_coin_id', 'base_token_image_url', 'base_token_name', 'base_token_price_native_currency', 'base_token_price_quote_token', 'base_token_price_usd', 'base_token_symbol', 'dex_name', 'fdv_usd', 'market_cap_usd', 'name', 'pool_created_at', 'price_change_percentage', 'quote_token_address', 'quote_token_coingecko_coin_id', 'quote_token_image_url', 'quote_token_name', 'quote_token_price_base_token', 'quote_token_price_native_currency', 'quote_token_price_usd', 'quote_token_symbol', 'reserve_in_usd', 'transactions', 'volume_usd']\n"
     ]
    }
   ],
   "source": [
    "# Fetch top pools data for the specified dex on the network\n",
    "top_pools_by_dex = pools.top_pools_by_dex(\n",
    "    network='eth',\n",
    "    dex='sushiswap',\n",
    "    include='base_token,quote_token,dex',\n",
    "    page=1\n",
    ")\n",
    "print('Available Fields: {}'.format(sorted(top_pools_by_dex.columns)))"
   ]
  },
  {
   "cell_type": "markdown",
   "id": "fb371014-0d78-4484-800f-872a88145a79",
   "metadata": {},
   "source": [
    "## onchain/networks/{network}/new_pools\n",
    "https://docs.coingecko.com/reference/latest-pools-network"
   ]
  },
  {
   "cell_type": "code",
   "execution_count": 8,
   "id": "22955ad1-a550-42ee-a36c-9e855c00470c",
   "metadata": {
    "tags": []
   },
   "outputs": [
    {
     "name": "stdout",
     "output_type": "stream",
     "text": [
      "Available Fields: ['address', 'base_token_address', 'base_token_coingecko_coin_id', 'base_token_image_url', 'base_token_name', 'base_token_price_native_currency', 'base_token_price_quote_token', 'base_token_price_usd', 'base_token_symbol', 'dex_name', 'fdv_usd', 'market_cap_usd', 'name', 'pool_created_at', 'price_change_percentage', 'quote_token_address', 'quote_token_coingecko_coin_id', 'quote_token_image_url', 'quote_token_name', 'quote_token_price_base_token', 'quote_token_price_native_currency', 'quote_token_price_usd', 'quote_token_symbol', 'reserve_in_usd', 'transactions', 'volume_usd']\n"
     ]
    }
   ],
   "source": [
    "# Fetch and display new pools\n",
    "new_pools_by_network = pools.new_pools_by_network(\n",
    "    network='eth',\n",
    "    include='base_token,quote_token,dex',\n",
    "    page=1\n",
    ")\n",
    "print('Available Fields: {}'.format(sorted(new_pools_by_network.columns)))"
   ]
  },
  {
   "cell_type": "markdown",
   "id": "7025260f-02e6-474e-986a-c045154d81d6",
   "metadata": {},
   "source": [
    "## onchain/networks/new_pools\n",
    "https://docs.coingecko.com/reference/latest-pools-list"
   ]
  },
  {
   "cell_type": "code",
   "execution_count": 9,
   "id": "086477a4-55e7-4b85-adca-615bc515c8a6",
   "metadata": {
    "tags": []
   },
   "outputs": [
    {
     "name": "stdout",
     "output_type": "stream",
     "text": [
      "Available Fields: ['address', 'base_token_address', 'base_token_coingecko_coin_id', 'base_token_image_url', 'base_token_name', 'base_token_price_native_currency', 'base_token_price_quote_token', 'base_token_price_usd', 'base_token_symbol', 'dex_name', 'fdv_usd', 'market_cap_usd', 'name', 'pool_created_at', 'price_change_percentage', 'quote_token_address', 'quote_token_coingecko_coin_id', 'quote_token_image_url', 'quote_token_name', 'quote_token_price_base_token', 'quote_token_price_native_currency', 'quote_token_price_usd', 'quote_token_symbol', 'reserve_in_usd', 'transactions', 'volume_usd']\n"
     ]
    }
   ],
   "source": [
    "# Fetch new pools list\n",
    "new_pools_list = pools.new_pools_list(include='base_token,quote_token,dex', page=1)\n",
    "print('Available Fields: {}'.format(sorted(new_pools_list.columns)))"
   ]
  },
  {
   "cell_type": "markdown",
   "id": "cf82a86f-87a7-4788-a5c0-dbeabfaae51e",
   "metadata": {},
   "source": [
    "## onchain/search/pools\n",
    "https://docs.coingecko.com/reference/search-pools"
   ]
  },
  {
   "cell_type": "code",
   "execution_count": 10,
   "id": "60e46a2e-583b-4d27-ad2f-9376ff1f563b",
   "metadata": {},
   "outputs": [
    {
     "name": "stdout",
     "output_type": "stream",
     "text": [
      "Available Fields: ['address', 'base_token_address', 'base_token_coingecko_coin_id', 'base_token_image_url', 'base_token_name', 'base_token_price_native_currency', 'base_token_price_quote_token', 'base_token_price_usd', 'base_token_symbol', 'dex_name', 'fdv_usd', 'market_cap_usd', 'name', 'pool_created_at', 'price_change_percentage', 'quote_token_address', 'quote_token_coingecko_coin_id', 'quote_token_image_url', 'quote_token_name', 'quote_token_price_base_token', 'quote_token_price_native_currency', 'quote_token_price_usd', 'quote_token_symbol', 'reserve_in_usd', 'transactions', 'volume_usd']\n"
     ]
    }
   ],
   "source": [
    "# Example usage to search for pools\n",
    "query = 'weth'  # Example pool address\n",
    "network = 'eth'\n",
    "search_results = pools.search_pools(query, network, include='base_token,quote_token,dex', page=1)\n",
    "print('Available Fields: {}'.format(sorted(search_results.columns)))"
   ]
  },
  {
   "cell_type": "markdown",
   "id": "64271ec5-8537-4097-80f1-6fc6962e298d",
   "metadata": {},
   "source": [
    "## Close Session"
   ]
  },
  {
   "cell_type": "code",
   "execution_count": 11,
   "id": "0e06655c-b870-42fd-af8c-970c5757ed49",
   "metadata": {},
   "outputs": [
    {
     "data": {
      "text/plain": [
       "'Session closed successfully.'"
      ]
     },
     "execution_count": 11,
     "metadata": {},
     "output_type": "execute_result"
    }
   ],
   "source": [
    "pools.end_session()"
   ]
  },
  {
   "cell_type": "code",
   "execution_count": null,
   "id": "75808e82-87eb-4098-bfb4-87bda2636043",
   "metadata": {},
   "outputs": [],
   "source": []
  }
 ],
 "metadata": {
  "kernelspec": {
   "display_name": "Python 3 (ipykernel)",
   "language": "python",
   "name": "python3"
  },
  "language_info": {
   "codemirror_mode": {
    "name": "ipython",
    "version": 3
   },
   "file_extension": ".py",
   "mimetype": "text/x-python",
   "name": "python",
   "nbconvert_exporter": "python",
   "pygments_lexer": "ipython3",
   "version": "3.11.3"
  }
 },
 "nbformat": 4,
 "nbformat_minor": 5
}
