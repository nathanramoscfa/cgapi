{
 "cells": [
  {
   "cell_type": "markdown",
   "id": "7fc90588-fecb-4237-a56d-af4c0f59f3fb",
   "metadata": {},
   "source": [
    "# OHLCV"
   ]
  },
  {
   "cell_type": "code",
   "execution_count": 1,
   "id": "ed330c2f-5393-4d48-9cec-157acd755bc9",
   "metadata": {},
   "outputs": [],
   "source": [
    "import sys\n",
    "import keyring\n",
    "\n",
    "# Adjust the Python path to include the directory where the modules are located\n",
    "sys.path.append('..')  # Adjust based on your directory structure\n",
    "\n",
    "# Import the OHLCV class\n",
    "from pycgapi.onchain.ohlcv import OHLCV\n",
    "\n",
    "# Fetch the API key securely using keyring\n",
    "api_key = keyring.get_password('coingecko', 'analyst_api_key')\n",
    "\n",
    "# Initialize the OHLCV class with the fetched API key\n",
    "ohlcv = OHLCV(api_key, pro_api=True)"
   ]
  },
  {
   "cell_type": "markdown",
   "id": "28fc99ba-a96e-483f-a6a0-38d0b190d47b",
   "metadata": {},
   "source": [
    "## onchain/networks/{network}/pools/{pool_address}/ohlcv/{timeframe}\n",
    "https://docs.coingecko.com/reference/pool-ohlcv-contract-address"
   ]
  },
  {
   "cell_type": "code",
   "execution_count": 2,
   "id": "9b4daaa8-8fb3-4401-821d-5e7a4e1071a4",
   "metadata": {},
   "outputs": [
    {
     "name": "stdout",
     "output_type": "stream",
     "text": [
      "                   open         high          low        close        volume\n",
      "timestamp                                                                   \n",
      "04-20-2024  3062.953085  3156.123174  3029.985817  3155.008595  1.397653e+08\n",
      "04-19-2024  3070.649490  3117.151706  2875.028936  3062.953085  4.412701e+08\n",
      "04-18-2024  2987.294405  3085.401668  2963.567586  3070.649490  2.934207e+08\n",
      "04-17-2024  3088.288427  3114.141567  2924.926286  2987.294405  3.104274e+08\n",
      "04-16-2024  3100.954268  3116.167711  3005.822417  3088.288427  3.597858e+08\n",
      "04-15-2024  3162.131754  3267.947425  3034.910986  3100.954268  5.036521e+08\n",
      "04-14-2024  3012.176187  3164.557575  2921.536931  3162.131754  5.445851e+08\n",
      "04-13-2024  3237.367617  3290.616717  2824.349662  3012.176187  6.051403e+08\n",
      "04-12-2024  3502.028942  3541.871616  3143.759473  3237.367617  5.829832e+08\n",
      "04-11-2024  3543.629419  3606.483656  3486.226042  3502.028942  5.285510e+08\n"
     ]
    }
   ],
   "source": [
    "# Define the parameters for fetching the OHLCV data\n",
    "network = 'eth'  # Example network\n",
    "pool_address = '0x88e6a0c2ddd26feeb64f039a2c41296fcb3f5640'  # Example pool address\n",
    "timeframe = 'day'  # Timeframe for the OHLCV data\n",
    "aggregate = 1  # Aggregate by 1 day\n",
    "currency = 'usd'  # Currency in USD\n",
    "limit = 10  # Limit to 10 entries\n",
    "\n",
    "# Fetch OHLCV data by pool address\n",
    "ohlcv_data = ohlcv.pool_ohlcv_by_address(\n",
    "    network,\n",
    "    pool_address,\n",
    "    timeframe,\n",
    "    aggregate,\n",
    "    limit=limit,\n",
    "    currency=currency\n",
    ")\n",
    "print(ohlcv_data)"
   ]
  },
  {
   "cell_type": "markdown",
   "id": "a94ff550-3ed0-4e00-9466-b1e52e6fbbcc",
   "metadata": {},
   "source": [
    "## Close Session"
   ]
  },
  {
   "cell_type": "code",
   "execution_count": 3,
   "id": "18817cd2-f887-4e5b-af3a-1002180b9133",
   "metadata": {
    "tags": []
   },
   "outputs": [
    {
     "data": {
      "text/plain": [
       "'Session closed successfully.'"
      ]
     },
     "execution_count": 3,
     "metadata": {},
     "output_type": "execute_result"
    }
   ],
   "source": [
    "ohlcv.end_session()"
   ]
  },
  {
   "cell_type": "code",
   "execution_count": null,
   "id": "20adf3b9-08f2-48d2-a825-b6afe8c8276d",
   "metadata": {},
   "outputs": [],
   "source": []
  }
 ],
 "metadata": {
  "kernelspec": {
   "display_name": "Python 3 (ipykernel)",
   "language": "python",
   "name": "python3"
  },
  "language_info": {
   "codemirror_mode": {
    "name": "ipython",
    "version": 3
   },
   "file_extension": ".py",
   "mimetype": "text/x-python",
   "name": "python",
   "nbconvert_exporter": "python",
   "pygments_lexer": "ipython3",
   "version": "3.11.3"
  }
 },
 "nbformat": 4,
 "nbformat_minor": 5
}
