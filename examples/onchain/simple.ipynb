{
 "cells": [
  {
   "cell_type": "markdown",
   "id": "39ccc6e0-8d26-4348-8542-19ec7c634085",
   "metadata": {},
   "source": [
    "# Simple"
   ]
  },
  {
   "cell_type": "code",
   "execution_count": 1,
   "id": "56a967e5-8047-4744-a9a6-cc6540472c94",
   "metadata": {},
   "outputs": [],
   "source": [
    "import sys\n",
    "import keyring\n",
    "\n",
    "# Adjust the Python path to include the directory where the modules are located\n",
    "sys.path.append('..')  # Adjust based on your directory structure\n",
    "\n",
    "# Import the SimpleOnChainData class\n",
    "from pycgapi.onchain.simple import SimpleOnChain\n",
    "\n",
    "# Fetch the API key securely using keyring\n",
    "api_key = keyring.get_password('coingecko', 'analyst_api_key')\n",
    "\n",
    "# Initialize the SimpleOnChain class with the fetched API key\n",
    "simple_onchain = SimpleOnChain(api_key, pro_api=True)"
   ]
  },
  {
   "cell_type": "markdown",
   "id": "e4d7fb04-e5cd-47be-acd4-fab8722f807b",
   "metadata": {},
   "source": [
    "## onchain/simple/networks/{network}/token_price/{addresses_str}\n",
    "https://docs.coingecko.com/reference/onchain-simple-price"
   ]
  },
  {
   "cell_type": "code",
   "execution_count": 2,
   "id": "18999ea7-e7e7-4c1a-b73a-57a4903802c6",
   "metadata": {},
   "outputs": [
    {
     "name": "stdout",
     "output_type": "stream",
     "text": [
      "                                                   usd_price\n",
      "token_address                                               \n",
      "0xa0b86991c6218b36c1d19d4a2e9eb0ce3606eb48  1.00060614285347\n",
      "0xc02aaa39b223fe8d0a0e5c4f27ead9083c756cc2  3070.64565108298\n"
     ]
    }
   ],
   "source": [
    "# Example usage to fetch token prices\n",
    "network = 'eth'\n",
    "addresses = [\n",
    "    '0xc02aaa39b223fe8d0a0e5c4f27ead9083c756cc2',\n",
    "    '0xa0b86991c6218b36c1d19d4a2e9eb0ce3606eb48'\n",
    "]\n",
    "price_data = simple_onchain.token_price_by_addresses(network, addresses)\n",
    "print(price_data)"
   ]
  },
  {
   "cell_type": "markdown",
   "id": "af0829db-c855-46f9-a4ed-e4c0b95c61e0",
   "metadata": {},
   "source": [
    "## Close Session"
   ]
  },
  {
   "cell_type": "code",
   "execution_count": 3,
   "id": "33c0fb21-83ef-45e6-ab64-078c7bd56363",
   "metadata": {},
   "outputs": [
    {
     "data": {
      "text/plain": [
       "'Session closed successfully.'"
      ]
     },
     "execution_count": 3,
     "metadata": {},
     "output_type": "execute_result"
    }
   ],
   "source": [
    "simple_onchain.end_session()"
   ]
  },
  {
   "cell_type": "code",
   "execution_count": null,
   "id": "6d5a567b-3297-4212-821e-fcf513c73668",
   "metadata": {},
   "outputs": [],
   "source": []
  }
 ],
 "metadata": {
  "kernelspec": {
   "display_name": "Python 3 (ipykernel)",
   "language": "python",
   "name": "python3"
  },
  "language_info": {
   "codemirror_mode": {
    "name": "ipython",
    "version": 3
   },
   "file_extension": ".py",
   "mimetype": "text/x-python",
   "name": "python",
   "nbconvert_exporter": "python",
   "pygments_lexer": "ipython3",
   "version": "3.11.3"
  }
 },
 "nbformat": 4,
 "nbformat_minor": 5
}
