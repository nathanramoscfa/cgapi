{
 "cells": [
  {
   "cell_type": "markdown",
   "id": "8e6df64d-8a0e-4cc2-93e3-5dfe2d041c67",
   "metadata": {},
   "source": [
    "# Derivatives"
   ]
  },
  {
   "cell_type": "code",
   "execution_count": 1,
   "id": "a40b5992-b2dd-414b-9f64-28fe2f0075f7",
   "metadata": {},
   "outputs": [],
   "source": [
    "import sys\n",
    "from datetime import datetime, timedelta\n",
    "\n",
    "import keyring\n",
    "\n",
    "sys.path.append('../')\n",
    "\n",
    "from pycgapi import CoinGeckoAPI"
   ]
  },
  {
   "cell_type": "code",
   "execution_count": 2,
   "id": "3aba31d2-7f60-4b95-b1c1-ba20e1083436",
   "metadata": {},
   "outputs": [],
   "source": [
    "# Fetch the API key securely using keyring\n",
    "api_key = keyring.get_password('coingecko', 'analyst_api_key')\n",
    "\n",
    "# Initialize the ContractData class with the fetched API key\n",
    "cg = CoinGeckoAPI(api_key, pro_api=True)"
   ]
  },
  {
   "cell_type": "markdown",
   "id": "dbbfc6c6-1d37-43e9-ae15-01bcfb1f53bf",
   "metadata": {},
   "source": [
    "## derivatives/tickers\n",
    "https://docs.coingecko.com/reference/derivatives-tickers"
   ]
  },
  {
   "cell_type": "code",
   "execution_count": 3,
   "id": "3c804a25-369f-4151-afcc-41f067cfa564",
   "metadata": {},
   "outputs": [
    {
     "name": "stdout",
     "output_type": "stream",
     "text": [
      "                   market         symbol index_id     price  \\\n",
      "0  Deepcoin (Derivatives)        ETHUSDT      ETH   3148.86   \n",
      "1         BYDFi (Futures)   BTC-PERPUSDT      BTC   64882.9   \n",
      "2          Bitget Futures  BTCUSDT_UMCBL      BTC  64840.52   \n",
      "3       Binance (Futures)        BTCUSDT      BTC  64874.08   \n",
      "4         Bybit (Futures)        BTCUSDT      BTC  64867.38   \n",
      "\n",
      "   price_percentage_change_24h contract_type         index     basis  spread  \\\n",
      "0                     3.272040     perpetual   3148.397200  0.032955    0.01   \n",
      "1                     1.457956     perpetual  64962.400000  0.054985    0.01   \n",
      "2                     1.023016     perpetual  64875.942151  0.056358    0.01   \n",
      "3                     1.897843     perpetual  64873.314681  0.046597    0.01   \n",
      "4                     1.373560     perpetual  64872.300000  0.055370    0.01   \n",
      "\n",
      "   funding_rate  open_interest    volume_24h  last_traded_at  expired_at  \n",
      "0      0.005097   8.673596e+09  4.144030e+08      1713658906         NaN  \n",
      "1      0.006306   4.655375e+09  1.667829e+08      1713657572         NaN  \n",
      "2     -0.001900   4.564818e+09  1.265765e+10      1713658792         NaN  \n",
      "3      0.002783   4.362913e+09  1.250298e+10      1713658903         NaN  \n",
      "4     -0.001881   3.356627e+09  5.222745e+09      1713658893         NaN  \n"
     ]
    }
   ],
   "source": [
    "# Fetch a list of all derivative tickers\n",
    "derivatives_tickers = cg.derivatives.derivatives_market_tickers()\n",
    "print(derivatives_tickers.head())"
   ]
  },
  {
   "cell_type": "markdown",
   "id": "77d21a8e-3473-4e4f-817a-e59615996fb3",
   "metadata": {},
   "source": [
    "## derivatives/exchanges\n",
    "https://docs.coingecko.com/reference/derivatives-exchanges"
   ]
  },
  {
   "cell_type": "code",
   "execution_count": 4,
   "id": "cba38bf8-51eb-44ce-ad3c-28510c656629",
   "metadata": {},
   "outputs": [
    {
     "name": "stdout",
     "output_type": "stream",
     "text": [
      "                     name                    id  open_interest_btc  \\\n",
      "0       Binance (Futures)       binance_futures          220937.58   \n",
      "1         Bybit (Futures)                 bybit          138738.56   \n",
      "2  Deepcoin (Derivatives)  deepcoin_derivatives          133691.17   \n",
      "3          Bitget Futures        bitget_futures          104654.25   \n",
      "4         BYDFi (Futures)         bydfi-futures           97311.45   \n",
      "\n",
      "  trade_volume_24h_btc  number_of_perpetual_pairs  number_of_futures_pairs  \\\n",
      "0            681589.18                        339                       44   \n",
      "1             180974.7                        367                       70   \n",
      "2             79146.73                        107                        0   \n",
      "3            296086.18                        264                        0   \n",
      "4             10213.71                        210                        0   \n",
      "\n",
      "                                               image  year_established  \\\n",
      "0  https://assets.coingecko.com/markets/images/46...            2019.0   \n",
      "1  https://assets.coingecko.com/markets/images/46...            2018.0   \n",
      "2  https://assets.coingecko.com/markets/images/94...            2018.0   \n",
      "3  https://assets.coingecko.com/markets/images/59...               NaN   \n",
      "4  https://assets.coingecko.com/markets/images/14...            2020.0   \n",
      "\n",
      "     country                                        description  \\\n",
      "0       None                                                      \n",
      "1       None  Bybit is a cryptocurrency exchange that offers...   \n",
      "2  Singapore                                                      \n",
      "3       None                                                      \n",
      "4  Singapore  BYDFi is a leading blockchain centralized exch...   \n",
      "\n",
      "                          url  \n",
      "0    https://www.binance.com/  \n",
      "1       https://www.bybit.com  \n",
      "2   https://www.deepcoin.com/  \n",
      "3  https://www.bitget.com/en/  \n",
      "4           https://bydfi.com  \n"
     ]
    }
   ],
   "source": [
    "# Fetch a list of all derivative exchanges with custom sorting\n",
    "derivatives_exchanges = cg.derivatives.derivatives_exchanges_list(\n",
    "    order='open_interest_btc_desc',\n",
    "    per_page=50,  # Example to show fewer results per page\n",
    "    page=1\n",
    ")\n",
    "print(derivatives_exchanges.head())"
   ]
  },
  {
   "cell_type": "markdown",
   "id": "39cfe890-8ac6-47e8-a395-246ffd1903b6",
   "metadata": {},
   "source": [
    "## derivatives/exchanges/{id}\n",
    "https://docs.coingecko.com/reference/derivatives-exchanges-id"
   ]
  },
  {
   "cell_type": "code",
   "execution_count": 5,
   "id": "43362c21-06c1-443e-b718-074e3aa9fc45",
   "metadata": {},
   "outputs": [
    {
     "name": "stdout",
     "output_type": "stream",
     "text": [
      "                    Attribute  \\\n",
      "0                        name   \n",
      "1           open_interest_btc   \n",
      "2        trade_volume_24h_btc   \n",
      "3   number_of_perpetual_pairs   \n",
      "4     number_of_futures_pairs   \n",
      "5                       image   \n",
      "6            year_established   \n",
      "7                     country   \n",
      "8                 description   \n",
      "9                         url   \n",
      "10                    tickers   \n",
      "\n",
      "                                                Value  \n",
      "0                                   Binance (Futures)  \n",
      "1                                           220937.58  \n",
      "2                                           681589.18  \n",
      "3                                                 339  \n",
      "4                                                  44  \n",
      "5   https://assets.coingecko.com/markets/images/46...  \n",
      "6                                                2019  \n",
      "7                                                None  \n",
      "8                                                      \n",
      "9                            https://www.binance.com/  \n",
      "10  [{'symbol': '1000BONKUSDT', 'base': '1000BONK'...  \n"
     ]
    }
   ],
   "source": [
    "# Fetch detailed data for a specific derivative exchange\n",
    "exchange_info = cg.derivatives.derivatives_exchange_info(\n",
    "    exchange_id='binance_futures',\n",
    "    include_tickers='all'  # Include all tickers\n",
    ")\n",
    "print(exchange_info)"
   ]
  },
  {
   "cell_type": "markdown",
   "id": "968dc319-a4c4-4dc7-8f8d-8e7e88ae8687",
   "metadata": {},
   "source": [
    "## derivatives/exchanges/list\n",
    "https://docs.coingecko.com/reference/derivatives-exchanges-list"
   ]
  },
  {
   "cell_type": "code",
   "execution_count": 6,
   "id": "300c3e31-4226-4135-9ae8-08b66ace8d8d",
   "metadata": {
    "tags": []
   },
   "outputs": [
    {
     "name": "stdout",
     "output_type": "stream",
     "text": [
      "                     id                    name\n",
      "0       binance_futures       Binance (Futures)\n",
      "1                   ftx       FTX (Derivatives)\n",
      "2                 bybit         Bybit (Futures)\n",
      "3  deepcoin_derivatives  Deepcoin (Derivatives)\n",
      "4        bitget_futures          Bitget Futures\n"
     ]
    }
   ],
   "source": [
    "# Fetch a list of all derivative exchanges names and identifiers\n",
    "all_derivatives_exchanges = cg.derivatives.all_derivatives_exchanges_list()\n",
    "print(all_derivatives_exchanges.head())"
   ]
  },
  {
   "cell_type": "markdown",
   "id": "a405c23a-3d8b-4e30-bb82-330e2f4a6a55",
   "metadata": {},
   "source": [
    "## Close Session"
   ]
  },
  {
   "cell_type": "code",
   "execution_count": 7,
   "id": "7724730b-2b62-48d7-b62f-bc3de4786977",
   "metadata": {},
   "outputs": [
    {
     "data": {
      "text/plain": [
       "'Session closed successfully.'"
      ]
     },
     "execution_count": 7,
     "metadata": {},
     "output_type": "execute_result"
    }
   ],
   "source": [
    "cg.end_session()"
   ]
  },
  {
   "cell_type": "code",
   "execution_count": null,
   "id": "ff4c8c1c-1e8e-455e-9f94-02f445d16159",
   "metadata": {},
   "outputs": [],
   "source": []
  }
 ],
 "metadata": {
  "kernelspec": {
   "display_name": "Python 3 (ipykernel)",
   "language": "python",
   "name": "python3"
  },
  "language_info": {
   "codemirror_mode": {
    "name": "ipython",
    "version": 3
   },
   "file_extension": ".py",
   "mimetype": "text/x-python",
   "name": "python",
   "nbconvert_exporter": "python",
   "pygments_lexer": "ipython3",
   "version": "3.11.3"
  }
 },
 "nbformat": 4,
 "nbformat_minor": 5
}
