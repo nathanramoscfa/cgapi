{
 "cells": [
  {
   "cell_type": "markdown",
   "id": "ea6aee32-9e30-412d-9fa5-729880fcf028",
   "metadata": {},
   "source": [
    "# Companies"
   ]
  },
  {
   "cell_type": "code",
   "execution_count": 1,
   "id": "a1d8513e-9462-4d84-ad62-6af29cad1d8e",
   "metadata": {},
   "outputs": [],
   "source": [
    "import sys\n",
    "from datetime import datetime, timedelta\n",
    "\n",
    "import keyring\n",
    "\n",
    "sys.path.append('../')\n",
    "\n",
    "from pycgapi import CoinGeckoAPI"
   ]
  },
  {
   "cell_type": "code",
   "execution_count": 2,
   "id": "77b92848-1145-406b-aa10-b37de1f6059d",
   "metadata": {
    "tags": []
   },
   "outputs": [],
   "source": [
    "# Fetch the API key securely using keyring\n",
    "api_key = keyring.get_password('coingecko', 'analyst_api_key')\n",
    "\n",
    "# Initialize the CoinGeckoAPI class\n",
    "cg = CoinGeckoAPI(api_key, pro_api=True)"
   ]
  },
  {
   "cell_type": "markdown",
   "id": "63c93489-7265-4d65-ad17-d176550569b5",
   "metadata": {},
   "source": [
    "## /companies/public_treasury/{coin_id}\n",
    "https://docs.coingecko.com/reference/companies-public-treasury"
   ]
  },
  {
   "cell_type": "code",
   "execution_count": 3,
   "id": "3de7a5f9-7890-47d3-bb35-3f31a2871f94",
   "metadata": {},
   "outputs": [
    {
     "name": "stdout",
     "output_type": "stream",
     "text": [
      "Bitcoin Holdings:\n",
      "                        name       symbol country  total_holdings  \\\n",
      "0         MicroStrategy Inc.  NASDAQ:MSTR      US          174530   \n",
      "1    Galaxy Digital Holdings    TSE: GLXY      US           17518   \n",
      "2  Marathon Digital Holdings  NASDAQ:MARA      US           13716   \n",
      "3                Tesla, Inc.  NASDAQ:TSLA      US           10500   \n",
      "4          Hut 8 Mining Corp   NASDAQ:HUT      CA            9366   \n",
      "\n",
      "   total_entry_value_usd  total_current_value_usd  percentage_of_total_supply  \n",
      "0             4680000000              11292337100                       0.831  \n",
      "1                      0               1133439301                       0.083  \n",
      "2              189087000                887444540                       0.065  \n",
      "3              336000000                679364805                       0.050  \n",
      "4                      0                605993406                       0.045  \n"
     ]
    }
   ],
   "source": [
    "# Example to fetch Bitcoin holdings\n",
    "bitcoin_holdings = cg.companies.companies_holdings('bitcoin')\n",
    "print(\"Bitcoin Holdings:\")\n",
    "print(bitcoin_holdings.head())"
   ]
  },
  {
   "cell_type": "code",
   "execution_count": 4,
   "id": "12557c85-609c-423f-b0ed-c1ea04836596",
   "metadata": {},
   "outputs": [
    {
     "name": "stdout",
     "output_type": "stream",
     "text": [
      "\n",
      "Ethereum Holdings:\n",
      "        name       symbol country  total_holdings  total_entry_value_usd  \\\n",
      "0  Meitu Inc     HKG:1357      HK           31000               50500000   \n",
      "1  Mogo Inc.  NASDAQ:MOGO      CA             146                 405880   \n",
      "\n",
      "   total_current_value_usd  percentage_of_total_supply  \n",
      "0                 97703108                       0.026  \n",
      "1                   460150                       0.000  \n"
     ]
    }
   ],
   "source": [
    "# Example to fetch Ethereum holdings\n",
    "ethereum_holdings = cg.companies.companies_holdings('ethereum')\n",
    "print(\"\\nEthereum Holdings:\")\n",
    "print(ethereum_holdings.head())"
   ]
  },
  {
   "cell_type": "markdown",
   "id": "01a63271-fc19-4726-8749-09b9f5b02198",
   "metadata": {},
   "source": [
    "## Close Session"
   ]
  },
  {
   "cell_type": "code",
   "execution_count": 5,
   "id": "f83f3a3a-6c41-4f32-8059-f0ad81e998f3",
   "metadata": {
    "ExecuteTime": {
     "end_time": "2024-01-06T07:32:52.944344Z",
     "start_time": "2024-01-06T07:32:52.932167100Z"
    },
    "tags": []
   },
   "outputs": [
    {
     "data": {
      "text/plain": [
       "'Session closed successfully.'"
      ]
     },
     "execution_count": 5,
     "metadata": {},
     "output_type": "execute_result"
    }
   ],
   "source": [
    "cg.end_session()"
   ]
  },
  {
   "cell_type": "code",
   "execution_count": null,
   "id": "267d35e1-bdb4-4db3-9479-eea264aa76aa",
   "metadata": {},
   "outputs": [],
   "source": []
  }
 ],
 "metadata": {
  "kernelspec": {
   "display_name": "Python 3 (ipykernel)",
   "language": "python",
   "name": "python3"
  },
  "language_info": {
   "codemirror_mode": {
    "name": "ipython",
    "version": 3
   },
   "file_extension": ".py",
   "mimetype": "text/x-python",
   "name": "python",
   "nbconvert_exporter": "python",
   "pygments_lexer": "ipython3",
   "version": "3.11.3"
  }
 },
 "nbformat": 4,
 "nbformat_minor": 5
}
