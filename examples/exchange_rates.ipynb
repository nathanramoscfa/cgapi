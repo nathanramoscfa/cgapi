{
 "cells": [
  {
   "cell_type": "markdown",
   "id": "7c0d248b-893b-4458-b907-ae1925ad1c95",
   "metadata": {},
   "source": [
    "# contract"
   ]
  },
  {
   "cell_type": "code",
   "execution_count": 1,
   "id": "d4c4287d-2fc7-4e54-ad28-cf1250762175",
   "metadata": {
    "ExecuteTime": {
     "end_time": "2024-01-06T07:35:32.771982100Z",
     "start_time": "2024-01-06T07:35:32.769176900Z"
    },
    "tags": []
   },
   "outputs": [],
   "source": [
    "import sys\n",
    "sys.path.append('..')  # This adds the parent directory to the Python path"
   ]
  },
  {
   "cell_type": "code",
   "execution_count": 2,
   "id": "ae6b4676-88a0-429a-a530-9b37edd0870f",
   "metadata": {
    "ExecuteTime": {
     "end_time": "2024-01-06T07:35:33.331991800Z",
     "start_time": "2024-01-06T07:35:32.773985900Z"
    }
   },
   "outputs": [],
   "source": [
    "import keyring\n",
    "from pycgapi import CoinGeckoAPI"
   ]
  },
  {
   "cell_type": "code",
   "execution_count": 3,
   "id": "4c8b0594-2546-4757-af7b-8d809436335f",
   "metadata": {
    "ExecuteTime": {
     "end_time": "2024-01-06T07:35:35.517972500Z",
     "start_time": "2024-01-06T07:35:33.331991800Z"
    },
    "tags": []
   },
   "outputs": [],
   "source": [
    "api_key = keyring.get_password('coingecko', 'analyst_api_key')"
   ]
  },
  {
   "cell_type": "code",
   "execution_count": 4,
   "id": "6f6ce3f2-1a8e-44bb-b311-8caddaaf5cc6",
   "metadata": {
    "ExecuteTime": {
     "end_time": "2024-01-06T07:35:36.073147500Z",
     "start_time": "2024-01-06T07:35:35.518974300Z"
    },
    "tags": []
   },
   "outputs": [
    {
     "name": "stdout",
     "output_type": "stream",
     "text": [
      "API Server Status: {'gecko_says': '(V3) To the Moon!'}\n"
     ]
    }
   ],
   "source": [
    "api = CoinGeckoAPI(api_key, pro_api=True)\n",
    "status = api.status_check()\n",
    "print(\"API Server Status:\", status)"
   ]
  },
  {
   "cell_type": "markdown",
   "id": "5c451b97-bcc3-47ce-912e-d1af159f4b81",
   "metadata": {},
   "source": [
    "## /exchange_rates"
   ]
  },
  {
   "cell_type": "code",
   "execution_count": 5,
   "id": "3bd6be7a-57b4-41f5-916d-334aed534d45",
   "metadata": {
    "ExecuteTime": {
     "end_time": "2024-01-06T07:35:36.173056100Z",
     "start_time": "2024-01-06T07:35:36.074149100Z"
    }
   },
   "outputs": [
    {
     "data": {
      "text/html": [
       "<div>\n",
       "<style scoped>\n",
       "    .dataframe tbody tr th:only-of-type {\n",
       "        vertical-align: middle;\n",
       "    }\n",
       "\n",
       "    .dataframe tbody tr th {\n",
       "        vertical-align: top;\n",
       "    }\n",
       "\n",
       "    .dataframe thead th {\n",
       "        text-align: right;\n",
       "    }\n",
       "</style>\n",
       "<table border=\"1\" class=\"dataframe\">\n",
       "  <thead>\n",
       "    <tr style=\"text-align: right;\">\n",
       "      <th></th>\n",
       "      <th>name</th>\n",
       "      <th>unit</th>\n",
       "      <th>value</th>\n",
       "      <th>type</th>\n",
       "    </tr>\n",
       "  </thead>\n",
       "  <tbody>\n",
       "    <tr>\n",
       "      <th>btc</th>\n",
       "      <td>Bitcoin</td>\n",
       "      <td>BTC</td>\n",
       "      <td>1.000000e+00</td>\n",
       "      <td>crypto</td>\n",
       "    </tr>\n",
       "    <tr>\n",
       "      <th>eth</th>\n",
       "      <td>Ether</td>\n",
       "      <td>ETH</td>\n",
       "      <td>1.955500e+01</td>\n",
       "      <td>crypto</td>\n",
       "    </tr>\n",
       "    <tr>\n",
       "      <th>ltc</th>\n",
       "      <td>Litecoin</td>\n",
       "      <td>LTC</td>\n",
       "      <td>6.779370e+02</td>\n",
       "      <td>crypto</td>\n",
       "    </tr>\n",
       "    <tr>\n",
       "      <th>bch</th>\n",
       "      <td>Bitcoin Cash</td>\n",
       "      <td>BCH</td>\n",
       "      <td>1.863310e+02</td>\n",
       "      <td>crypto</td>\n",
       "    </tr>\n",
       "    <tr>\n",
       "      <th>bnb</th>\n",
       "      <td>Binance Coin</td>\n",
       "      <td>BNB</td>\n",
       "      <td>1.442130e+02</td>\n",
       "      <td>crypto</td>\n",
       "    </tr>\n",
       "    <tr>\n",
       "      <th>...</th>\n",
       "      <td>...</td>\n",
       "      <td>...</td>\n",
       "      <td>...</td>\n",
       "      <td>...</td>\n",
       "    </tr>\n",
       "    <tr>\n",
       "      <th>xdr</th>\n",
       "      <td>IMF Special Drawing Rights</td>\n",
       "      <td>XDR</td>\n",
       "      <td>3.250574e+04</td>\n",
       "      <td>fiat</td>\n",
       "    </tr>\n",
       "    <tr>\n",
       "      <th>xag</th>\n",
       "      <td>Silver - Troy Ounce</td>\n",
       "      <td>XAG</td>\n",
       "      <td>1.880575e+03</td>\n",
       "      <td>commodity</td>\n",
       "    </tr>\n",
       "    <tr>\n",
       "      <th>xau</th>\n",
       "      <td>Gold - Troy Ounce</td>\n",
       "      <td>XAU</td>\n",
       "      <td>2.132200e+01</td>\n",
       "      <td>commodity</td>\n",
       "    </tr>\n",
       "    <tr>\n",
       "      <th>bits</th>\n",
       "      <td>Bits</td>\n",
       "      <td>μBTC</td>\n",
       "      <td>1.000000e+06</td>\n",
       "      <td>crypto</td>\n",
       "    </tr>\n",
       "    <tr>\n",
       "      <th>sats</th>\n",
       "      <td>Satoshi</td>\n",
       "      <td>sats</td>\n",
       "      <td>1.000000e+08</td>\n",
       "      <td>crypto</td>\n",
       "    </tr>\n",
       "  </tbody>\n",
       "</table>\n",
       "<p>62 rows × 4 columns</p>\n",
       "</div>"
      ],
      "text/plain": [
       "                            name  unit         value       type\n",
       "btc                      Bitcoin   BTC  1.000000e+00     crypto\n",
       "eth                        Ether   ETH  1.955500e+01     crypto\n",
       "ltc                     Litecoin   LTC  6.779370e+02     crypto\n",
       "bch                 Bitcoin Cash   BCH  1.863310e+02     crypto\n",
       "bnb                 Binance Coin   BNB  1.442130e+02     crypto\n",
       "...                          ...   ...           ...        ...\n",
       "xdr   IMF Special Drawing Rights   XDR  3.250574e+04       fiat\n",
       "xag          Silver - Troy Ounce   XAG  1.880575e+03  commodity\n",
       "xau            Gold - Troy Ounce   XAU  2.132200e+01  commodity\n",
       "bits                        Bits  μBTC  1.000000e+06     crypto\n",
       "sats                     Satoshi  sats  1.000000e+08     crypto\n",
       "\n",
       "[62 rows x 4 columns]"
      ]
     },
     "execution_count": 5,
     "metadata": {},
     "output_type": "execute_result"
    }
   ],
   "source": [
    "btc_to_currency_exchange_rates = api.btc_exchange_rates()\n",
    "btc_to_currency_exchange_rates"
   ]
  },
  {
   "cell_type": "code",
   "execution_count": 6,
   "id": "07812be9-48a8-4469-b117-1ffd1c673898",
   "metadata": {
    "ExecuteTime": {
     "end_time": "2024-01-06T07:35:36.176202900Z",
     "start_time": "2024-01-06T07:35:36.173056100Z"
    },
    "tags": []
   },
   "outputs": [
    {
     "data": {
      "text/plain": [
       "'Session closed successfully.'"
      ]
     },
     "execution_count": 6,
     "metadata": {},
     "output_type": "execute_result"
    }
   ],
   "source": [
    "api.end_session()"
   ]
  },
  {
   "cell_type": "code",
   "execution_count": 6,
   "id": "86708846-3aee-4901-96d9-dd0bed85de79",
   "metadata": {
    "ExecuteTime": {
     "end_time": "2024-01-06T07:35:36.179704600Z",
     "start_time": "2024-01-06T07:35:36.177197400Z"
    }
   },
   "outputs": [],
   "source": []
  }
 ],
 "metadata": {
  "kernelspec": {
   "display_name": "Python 3 (ipykernel)",
   "language": "python",
   "name": "python3"
  },
  "language_info": {
   "codemirror_mode": {
    "name": "ipython",
    "version": 3
   },
   "file_extension": ".py",
   "mimetype": "text/x-python",
   "name": "python",
   "nbconvert_exporter": "python",
   "pygments_lexer": "ipython3",
   "version": "3.11.3"
  }
 },
 "nbformat": 4,
 "nbformat_minor": 5
}
